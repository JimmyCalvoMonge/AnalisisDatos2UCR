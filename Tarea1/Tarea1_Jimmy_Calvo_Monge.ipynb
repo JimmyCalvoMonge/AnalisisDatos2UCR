{
 "cells": [
  {
   "cell_type": "markdown",
   "id": "fd33b75b-24f2-427d-a7b2-66f4201e70c4",
   "metadata": {},
   "source": [
    "# Análisis de Datos II\n",
    "## Profesor: Oldemar Rodríguez \n",
    "### Estudiante: Jimmy Calvo Monge\n",
    "### Carné: B31281\n",
    "#### Fecha de entrega: 28 de Agosto de 2022\n",
    "-------------------------------------------------------------"
   ]
  },
  {
   "cell_type": "markdown",
   "id": "d287e6a4-124c-4cbb-80ac-c5861e4f03e2",
   "metadata": {},
   "source": [
    "Importamos los módulos necesarios para resolver esta tarea."
   ]
  },
  {
   "cell_type": "code",
   "execution_count": 18,
   "id": "816bdbad-6a42-42c8-9c87-e1b0e82a884d",
   "metadata": {},
   "outputs": [
    {
     "name": "stdout",
     "output_type": "stream",
     "text": [
      "3.9.8 (tags/v3.9.8:bb3fdcf, Nov  5 2021, 20:48:33) [MSC v.1929 64 bit (AMD64)]\n"
     ]
    }
   ],
   "source": [
    "import pandas as pd\n",
    "import numpy as np\n",
    "import math\n",
    "import sys\n",
    "print(sys.version)"
   ]
  },
  {
   "cell_type": "markdown",
   "id": "3d83b12f-1269-417b-9606-a908c91c357c",
   "metadata": {},
   "source": [
    "### Pregunta 1\n",
    "\n",
    "¿Cuál es el resultado?\n",
    "- a) s = $|(44^3 - 7!) \\cdot (25/88)|$\n",
    "- b) s = $\\sqrt{99} \\cdot \\pi^2$\n",
    "- c) s = $\\log_2(38)$\n",
    "- d) s = $\\sin(e)^{0.5}$"
   ]
  },
  {
   "cell_type": "code",
   "execution_count": 19,
   "id": "98daf0f9-21a0-4456-aa20-418a34e6a3bc",
   "metadata": {},
   "outputs": [
    {
     "data": {
      "text/plain": [
       "22768.18181818182"
      ]
     },
     "execution_count": 19,
     "metadata": {},
     "output_type": "execute_result"
    }
   ],
   "source": [
    "abs((44**3 - math.factorial(7)) * (25/88))"
   ]
  },
  {
   "cell_type": "code",
   "execution_count": 20,
   "id": "c2b78e36-1a9b-40d6-af09-86bb36653c93",
   "metadata": {},
   "outputs": [
    {
     "data": {
      "text/plain": [
       "98.20132388296118"
      ]
     },
     "execution_count": 20,
     "metadata": {},
     "output_type": "execute_result"
    }
   ],
   "source": [
    "math.sqrt(99)*(math.pi**2)"
   ]
  },
  {
   "cell_type": "code",
   "execution_count": 21,
   "id": "9ca7b0f0-6120-4d45-91bc-8a21e40b2a59",
   "metadata": {},
   "outputs": [
    {
     "data": {
      "text/plain": [
       "5.247927513443585"
      ]
     },
     "execution_count": 21,
     "metadata": {},
     "output_type": "execute_result"
    }
   ],
   "source": [
    "math.log2(38)"
   ]
  },
  {
   "cell_type": "code",
   "execution_count": 22,
   "id": "837a4a7c-6f23-4352-aa36-121c915d1aa1",
   "metadata": {},
   "outputs": [
    {
     "data": {
      "text/plain": [
       "0.640922218762081"
      ]
     },
     "execution_count": 22,
     "metadata": {},
     "output_type": "execute_result"
    }
   ],
   "source": [
    "math.sin(math.e)**(0.5)"
   ]
  },
  {
   "cell_type": "markdown",
   "id": "33a95d90-37b8-47db-b404-08e5af6ffecd",
   "metadata": {},
   "source": [
    "### Pregunta 2\n",
    "\n",
    "Dada una cadena de texto indique si la cantidad de caracteres en la cadena es un número par\n",
    "o impar. Realice una prueba para cada uno de los siguientes valores: \"abracadabra\", \"casa\",\n",
    "\"sol\"."
   ]
  },
  {
   "cell_type": "code",
   "execution_count": 187,
   "id": "c0d73f98-a446-4d0d-8bbd-1610e0a39f40",
   "metadata": {},
   "outputs": [],
   "source": [
    "def paridad_char(char):\n",
    "    if type(char)==str:\n",
    "        \n",
    "        n=len(char)\n",
    "        \n",
    "        if n%2==0:\n",
    "            return \"Tenemos un número par de caracteres\"\n",
    "        else:\n",
    "            return \"Tenemos un número impar de caracteres\"\n",
    "    else:\n",
    "        raise Exception(\"Por favor introduzca un caracter como input\")"
   ]
  },
  {
   "cell_type": "code",
   "execution_count": 24,
   "id": "72f2dd64-4677-485f-b340-82eb3971a990",
   "metadata": {},
   "outputs": [
    {
     "data": {
      "text/plain": [
       "'Tenemos un número impar de caracteres'"
      ]
     },
     "execution_count": 24,
     "metadata": {},
     "output_type": "execute_result"
    }
   ],
   "source": [
    "paridad_char(\"abracadabra\")"
   ]
  },
  {
   "cell_type": "code",
   "execution_count": 25,
   "id": "1a0e8af1-0876-4c8a-a53a-b56957f06f34",
   "metadata": {},
   "outputs": [
    {
     "data": {
      "text/plain": [
       "'Tenemos un número par de caracteres'"
      ]
     },
     "execution_count": 25,
     "metadata": {},
     "output_type": "execute_result"
    }
   ],
   "source": [
    "paridad_char(\"casa\")"
   ]
  },
  {
   "cell_type": "code",
   "execution_count": 26,
   "id": "329083c6-30ac-470e-9f5c-eb62c01255c2",
   "metadata": {},
   "outputs": [
    {
     "data": {
      "text/plain": [
       "'Tenemos un número impar de caracteres'"
      ]
     },
     "execution_count": 26,
     "metadata": {},
     "output_type": "execute_result"
    }
   ],
   "source": [
    "paridad_char(\"sol\")"
   ]
  },
  {
   "cell_type": "code",
   "execution_count": 188,
   "id": "39e335a6-5462-4096-8ac1-f066363c36c4",
   "metadata": {},
   "outputs": [
    {
     "ename": "Exception",
     "evalue": "Por favor introduzca un caracter como input",
     "output_type": "error",
     "traceback": [
      "\u001b[1;31m---------------------------------------------------------------------------\u001b[0m",
      "\u001b[1;31mException\u001b[0m                                 Traceback (most recent call last)",
      "\u001b[1;32m~\\AppData\\Local\\Temp/ipykernel_16576/16324021.py\u001b[0m in \u001b[0;36m<module>\u001b[1;34m\u001b[0m\n\u001b[1;32m----> 1\u001b[1;33m \u001b[0mparidad_char\u001b[0m\u001b[1;33m(\u001b[0m\u001b[1;36m5\u001b[0m\u001b[1;33m)\u001b[0m\u001b[1;33m\u001b[0m\u001b[1;33m\u001b[0m\u001b[0m\n\u001b[0m",
      "\u001b[1;32m~\\AppData\\Local\\Temp/ipykernel_16576/1187075812.py\u001b[0m in \u001b[0;36mparidad_char\u001b[1;34m(char)\u001b[0m\n\u001b[0;32m      9\u001b[0m             \u001b[1;32mreturn\u001b[0m \u001b[1;34m\"Tenemos un número impar de caracteres\"\u001b[0m\u001b[1;33m\u001b[0m\u001b[1;33m\u001b[0m\u001b[0m\n\u001b[0;32m     10\u001b[0m     \u001b[1;32melse\u001b[0m\u001b[1;33m:\u001b[0m\u001b[1;33m\u001b[0m\u001b[1;33m\u001b[0m\u001b[0m\n\u001b[1;32m---> 11\u001b[1;33m         \u001b[1;32mraise\u001b[0m \u001b[0mException\u001b[0m\u001b[1;33m(\u001b[0m\u001b[1;34m\"Por favor introduzca un caracter como input\"\u001b[0m\u001b[1;33m)\u001b[0m\u001b[1;33m\u001b[0m\u001b[1;33m\u001b[0m\u001b[0m\n\u001b[0m",
      "\u001b[1;31mException\u001b[0m: Por favor introduzca un caracter como input"
     ]
    }
   ],
   "source": [
    "paridad_char(5)"
   ]
  },
  {
   "cell_type": "markdown",
   "id": "d08761a8-57d2-4fd4-8da6-29585ec0761d",
   "metadata": {},
   "source": [
    "### Pregunta 3\n",
    "\n",
    "Dado un valor numérico indique a que día de la semana pertenece, siendo 1 = domingo y 7\n",
    "= sábado. En caso que se digite un número fuera del rango imprima un mensaje indicando el\n",
    "error. Realice una prueba para cada uno de los siguientes valores: 4, 2, 9."
   ]
  },
  {
   "cell_type": "code",
   "execution_count": 28,
   "id": "5c6dc97b-172c-4585-918b-2aaae5985d6c",
   "metadata": {},
   "outputs": [],
   "source": [
    "def dia_semana(num):\n",
    "    \n",
    "    if type(num)== int and num in range(1,8):\n",
    "        \n",
    "        day_list=[\"domingo\",\"lunes\",\"martes\",\"miércoles\",\"jueves\",\"viernes\",\"sábado\"]\n",
    "        return day_list[num-1]\n",
    "        \n",
    "    else:\n",
    "        raise Exception(\"Por favor introduzca un número entero entre 1 y 7.\")    "
   ]
  },
  {
   "cell_type": "code",
   "execution_count": 29,
   "id": "eeb19a6f-62ea-4ea8-90ca-b59efec734e5",
   "metadata": {},
   "outputs": [
    {
     "data": {
      "text/plain": [
       "'miércoles'"
      ]
     },
     "execution_count": 29,
     "metadata": {},
     "output_type": "execute_result"
    }
   ],
   "source": [
    "dia_semana(4)"
   ]
  },
  {
   "cell_type": "code",
   "execution_count": 30,
   "id": "801bc78f-98ea-4f4b-a54f-383754d88ddf",
   "metadata": {},
   "outputs": [
    {
     "data": {
      "text/plain": [
       "'lunes'"
      ]
     },
     "execution_count": 30,
     "metadata": {},
     "output_type": "execute_result"
    }
   ],
   "source": [
    "dia_semana(2)"
   ]
  },
  {
   "cell_type": "code",
   "execution_count": 31,
   "id": "06b08739-80d1-4faa-b597-60dfec5c8133",
   "metadata": {},
   "outputs": [
    {
     "ename": "Exception",
     "evalue": "Por favor introduzca un número entero entre 1 y 7.",
     "output_type": "error",
     "traceback": [
      "\u001b[1;31m---------------------------------------------------------------------------\u001b[0m",
      "\u001b[1;31mException\u001b[0m                                 Traceback (most recent call last)",
      "\u001b[1;32m~\\AppData\\Local\\Temp/ipykernel_16576/787778343.py\u001b[0m in \u001b[0;36m<module>\u001b[1;34m\u001b[0m\n\u001b[1;32m----> 1\u001b[1;33m \u001b[0mdia_semana\u001b[0m\u001b[1;33m(\u001b[0m\u001b[1;36m9\u001b[0m\u001b[1;33m)\u001b[0m\u001b[1;33m\u001b[0m\u001b[1;33m\u001b[0m\u001b[0m\n\u001b[0m",
      "\u001b[1;32m~\\AppData\\Local\\Temp/ipykernel_16576/33960083.py\u001b[0m in \u001b[0;36mdia_semana\u001b[1;34m(num)\u001b[0m\n\u001b[0;32m      7\u001b[0m \u001b[1;33m\u001b[0m\u001b[0m\n\u001b[0;32m      8\u001b[0m     \u001b[1;32melse\u001b[0m\u001b[1;33m:\u001b[0m\u001b[1;33m\u001b[0m\u001b[1;33m\u001b[0m\u001b[0m\n\u001b[1;32m----> 9\u001b[1;33m         \u001b[1;32mraise\u001b[0m \u001b[0mException\u001b[0m\u001b[1;33m(\u001b[0m\u001b[1;34m\"Por favor introduzca un número entero entre 1 y 7.\"\u001b[0m\u001b[1;33m)\u001b[0m\u001b[1;33m\u001b[0m\u001b[1;33m\u001b[0m\u001b[0m\n\u001b[0m",
      "\u001b[1;31mException\u001b[0m: Por favor introduzca un número entero entre 1 y 7."
     ]
    }
   ],
   "source": [
    "dia_semana(9)"
   ]
  },
  {
   "cell_type": "markdown",
   "id": "0a3565f9-2f66-4a1f-b44d-61d4de122857",
   "metadata": {},
   "source": [
    "### Pregunta 4\n",
    "\n",
    "Suponga que tienen los valores a, b y c de una ecuación cuadrática $ax^2 +bx+c = 0$. Determine\n",
    "si la ecuación es degenerada (a = 0) o en caso contrario determine cuántas soluciones tiene (si\n",
    "el discriminante es mayor a cero tiene 2 soluciones, si es igual a cero tiene 1 solución, y si es\n",
    "menor a cero tiene 0 soluciones reales). Debe imprimir la cantidad de soluciones. Realice una\n",
    "prueba para cada uno de los siguientes casos: (a = 9, b = 0, c = 2), (a = 0, b = -2, c = 3),\n",
    "(a = 2, b = -4, c = 2)."
   ]
  },
  {
   "cell_type": "code",
   "execution_count": 32,
   "id": "548054d3-0ecb-4235-8fa0-45cd7955a6a6",
   "metadata": {},
   "outputs": [],
   "source": [
    "def analisis_cuadratica(a,b,c):\n",
    "    \n",
    "    if a==0:\n",
    "        return \"Ecuación cuadrática es degenerada.\"\n",
    "    else:\n",
    "        try:\n",
    "            \n",
    "            disc_sqrt = math.sqrt( b**2 -4*a*c )\n",
    "            if disc_sqrt==0:\n",
    "                sol= [-1*b/(2*a)]\n",
    "            else:\n",
    "                sol = [ (-1*b + disc_sqrt)/(2*a) , (-1*b - disc_sqrt)/(2*a) ]\n",
    "            \n",
    "            sol=\", \".join(str(s) for s in sol) \n",
    "            \n",
    "            print(f\" Número de soluciones: {len(sol)}\")\n",
    "            print(f\" Éste es el conjunto solución: {{ {sol} }}. \")\n",
    "            \n",
    "        except Exception as e:\n",
    "            raise Exception(f\"Error: {e}\")"
   ]
  },
  {
   "cell_type": "code",
   "execution_count": 33,
   "id": "98ebab63-dff1-43f0-9d01-390fce0dcc22",
   "metadata": {},
   "outputs": [
    {
     "ename": "Exception",
     "evalue": "Error: math domain error",
     "output_type": "error",
     "traceback": [
      "\u001b[1;31m---------------------------------------------------------------------------\u001b[0m",
      "\u001b[1;31mValueError\u001b[0m                                Traceback (most recent call last)",
      "\u001b[1;32m~\\AppData\\Local\\Temp/ipykernel_16576/1977999158.py\u001b[0m in \u001b[0;36manalisis_cuadratica\u001b[1;34m(a, b, c)\u001b[0m\n\u001b[0;32m      7\u001b[0m \u001b[1;33m\u001b[0m\u001b[0m\n\u001b[1;32m----> 8\u001b[1;33m             \u001b[0mdisc_sqrt\u001b[0m \u001b[1;33m=\u001b[0m \u001b[0mmath\u001b[0m\u001b[1;33m.\u001b[0m\u001b[0msqrt\u001b[0m\u001b[1;33m(\u001b[0m \u001b[0mb\u001b[0m\u001b[1;33m**\u001b[0m\u001b[1;36m2\u001b[0m \u001b[1;33m-\u001b[0m\u001b[1;36m4\u001b[0m\u001b[1;33m*\u001b[0m\u001b[0ma\u001b[0m\u001b[1;33m*\u001b[0m\u001b[0mc\u001b[0m \u001b[1;33m)\u001b[0m\u001b[1;33m\u001b[0m\u001b[1;33m\u001b[0m\u001b[0m\n\u001b[0m\u001b[0;32m      9\u001b[0m             \u001b[1;32mif\u001b[0m \u001b[0mdisc_sqrt\u001b[0m\u001b[1;33m==\u001b[0m\u001b[1;36m0\u001b[0m\u001b[1;33m:\u001b[0m\u001b[1;33m\u001b[0m\u001b[1;33m\u001b[0m\u001b[0m\n",
      "\u001b[1;31mValueError\u001b[0m: math domain error",
      "\nDuring handling of the above exception, another exception occurred:\n",
      "\u001b[1;31mException\u001b[0m                                 Traceback (most recent call last)",
      "\u001b[1;32m~\\AppData\\Local\\Temp/ipykernel_16576/136621347.py\u001b[0m in \u001b[0;36m<module>\u001b[1;34m\u001b[0m\n\u001b[1;32m----> 1\u001b[1;33m \u001b[0manalisis_cuadratica\u001b[0m\u001b[1;33m(\u001b[0m\u001b[1;36m9\u001b[0m\u001b[1;33m,\u001b[0m\u001b[1;36m0\u001b[0m\u001b[1;33m,\u001b[0m\u001b[1;36m2\u001b[0m\u001b[1;33m)\u001b[0m\u001b[1;33m\u001b[0m\u001b[1;33m\u001b[0m\u001b[0m\n\u001b[0m",
      "\u001b[1;32m~\\AppData\\Local\\Temp/ipykernel_16576/1977999158.py\u001b[0m in \u001b[0;36manalisis_cuadratica\u001b[1;34m(a, b, c)\u001b[0m\n\u001b[0;32m     18\u001b[0m \u001b[1;33m\u001b[0m\u001b[0m\n\u001b[0;32m     19\u001b[0m         \u001b[1;32mexcept\u001b[0m \u001b[0mException\u001b[0m \u001b[1;32mas\u001b[0m \u001b[0me\u001b[0m\u001b[1;33m:\u001b[0m\u001b[1;33m\u001b[0m\u001b[1;33m\u001b[0m\u001b[0m\n\u001b[1;32m---> 20\u001b[1;33m             \u001b[1;32mraise\u001b[0m \u001b[0mException\u001b[0m\u001b[1;33m(\u001b[0m\u001b[1;34mf\"Error: {e}\"\u001b[0m\u001b[1;33m)\u001b[0m\u001b[1;33m\u001b[0m\u001b[1;33m\u001b[0m\u001b[0m\n\u001b[0m",
      "\u001b[1;31mException\u001b[0m: Error: math domain error"
     ]
    }
   ],
   "source": [
    "analisis_cuadratica(9,0,2)"
   ]
  },
  {
   "cell_type": "code",
   "execution_count": 34,
   "id": "0918ee56-f666-478b-b1b0-899aab121ac1",
   "metadata": {},
   "outputs": [
    {
     "data": {
      "text/plain": [
       "'Ecuación cuadrática es degenerada.'"
      ]
     },
     "execution_count": 34,
     "metadata": {},
     "output_type": "execute_result"
    }
   ],
   "source": [
    "analisis_cuadratica(0,-2,3)"
   ]
  },
  {
   "cell_type": "code",
   "execution_count": 35,
   "id": "666790c8-c1d7-44ab-8764-0362c3d862b1",
   "metadata": {},
   "outputs": [
    {
     "name": "stdout",
     "output_type": "stream",
     "text": [
      " Número de soluciones: 3\n",
      " Éste es el conjunto solución: { 1.0 }. \n"
     ]
    }
   ],
   "source": [
    "analisis_cuadratica(2,-4,2)"
   ]
  },
  {
   "cell_type": "markdown",
   "id": "d8031c4b-081d-49a2-b0c9-ca24b307e168",
   "metadata": {},
   "source": [
    "### Pregunta 5\n",
    "\n",
    "Dado x = (15, 34, 72, 23, 91, 4, 201, 68, 56, 78) realice lo siguiente:\n",
    "\n",
    "- Calcule la media, la varianza y la desviación estándar.\n",
    "- Extraiga los primeros 3 valores.\n",
    "- Indique el valor más pequeño del vector.\n",
    "- Obtenga la sumatoria de todos los valores del vector.\n",
    "- Obtenga la lista x invertida."
   ]
  },
  {
   "cell_type": "code",
   "execution_count": 36,
   "id": "75784e6b-b174-475b-b381-f571579639fd",
   "metadata": {},
   "outputs": [],
   "source": [
    "x = [15, 34, 72, 23, 91, 4, 201, 68, 56, 78]"
   ]
  },
  {
   "cell_type": "code",
   "execution_count": 37,
   "id": "9cf6f807-e73e-4d60-ae59-8e666e9a806b",
   "metadata": {},
   "outputs": [
    {
     "name": "stdout",
     "output_type": "stream",
     "text": [
      "\n",
      "media: 64.2\n",
      "varianza: 2841.96\n",
      "desviación estándar: 53.310036578490546\n",
      "\n"
     ]
    }
   ],
   "source": [
    "print(f\"\"\"\n",
    "media: {np.mean(x)}\n",
    "varianza: {np.var(x)}\n",
    "desviación estándar: {np.std(x)}\n",
    "\"\"\")"
   ]
  },
  {
   "cell_type": "code",
   "execution_count": 38,
   "id": "4410de93-0769-48dc-9e8b-5fac3469a58a",
   "metadata": {},
   "outputs": [
    {
     "data": {
      "text/plain": [
       "[15, 34, 72]"
      ]
     },
     "execution_count": 38,
     "metadata": {},
     "output_type": "execute_result"
    }
   ],
   "source": [
    "x[0:3] ### Primeros tres valores"
   ]
  },
  {
   "cell_type": "code",
   "execution_count": 39,
   "id": "99779a9a-a23d-465a-81cf-d42197f7f8ee",
   "metadata": {},
   "outputs": [
    {
     "data": {
      "text/plain": [
       "4"
      ]
     },
     "execution_count": 39,
     "metadata": {},
     "output_type": "execute_result"
    }
   ],
   "source": [
    "min(x) ### Valor más pequeño"
   ]
  },
  {
   "cell_type": "code",
   "execution_count": 40,
   "id": "fcf372cf-d232-41cb-91df-4af2443a1eb2",
   "metadata": {},
   "outputs": [
    {
     "data": {
      "text/plain": [
       "642"
      ]
     },
     "execution_count": 40,
     "metadata": {},
     "output_type": "execute_result"
    }
   ],
   "source": [
    "sum(x) ### Sumatoria de los elementos del vector"
   ]
  },
  {
   "cell_type": "code",
   "execution_count": 41,
   "id": "a2df8930-f872-4ee3-8c6f-94a8a7f20c5f",
   "metadata": {},
   "outputs": [
    {
     "data": {
      "text/plain": [
       "[78, 56, 68, 201, 4, 91, 23, 72, 34, 15]"
      ]
     },
     "execution_count": 41,
     "metadata": {},
     "output_type": "execute_result"
    }
   ],
   "source": [
    "x_reversed=x[::-1]\n",
    "x_reversed"
   ]
  },
  {
   "cell_type": "code",
   "execution_count": 72,
   "id": "8f48a163-d33b-4029-81f0-4a0bacae0747",
   "metadata": {},
   "outputs": [
    {
     "data": {
      "text/plain": [
       "[78, 56, 68, 201, 4, 91, 23, 72, 34, 15]"
      ]
     },
     "execution_count": 72,
     "metadata": {},
     "output_type": "execute_result"
    }
   ],
   "source": [
    "### Note que el metodo .reversed() hace el cambio sobre el objeto\n",
    "x.reverse()\n",
    "x"
   ]
  },
  {
   "cell_type": "markdown",
   "id": "972e334a-274a-4c16-8569-d09105c821b0",
   "metadata": {},
   "source": [
    "### Pregunta 6\n",
    "\n",
    "Realice la siguiente operación entre matrices:\n",
    "\n",
    "$$\n",
    "A= \\begin{pmatrix}\n",
    "-17 & 11 & 61 \\\\\n",
    "4 & 29 & 33\n",
    "\\end{pmatrix} -12 \\cdot \\begin{pmatrix}\n",
    "-8 & 6  \\\\\n",
    "-15 & 25  \\\\\n",
    "5 & -13\n",
    "\\end{pmatrix} ^t\n",
    "$$"
   ]
  },
  {
   "cell_type": "code",
   "execution_count": 77,
   "id": "486e4e96-fbe1-4b32-8d04-5d796f323a7e",
   "metadata": {},
   "outputs": [
    {
     "data": {
      "text/plain": [
       "array([[  79,  191,    1],\n",
       "       [ -68, -271,  189]])"
      ]
     },
     "execution_count": 77,
     "metadata": {},
     "output_type": "execute_result"
    }
   ],
   "source": [
    "A1 = np.array([\n",
    "    [-17,11,61],\n",
    "    [4,29,33]\n",
    "])\n",
    "A2 = np.array([\n",
    "    [-8,6],\n",
    "    [-15,25],\n",
    "    [5,-13]\n",
    "]).transpose()\n",
    "\n",
    "A= A1 - 12*A2\n",
    "A"
   ]
  },
  {
   "cell_type": "markdown",
   "id": "c0ea7441-fe31-4ea6-a3c0-7c299262d6e2",
   "metadata": {},
   "source": [
    "Esto quiere decir que el resultado es\n",
    "\n",
    "$$\n",
    "A= \\begin{pmatrix}\n",
    "79 & 191 & 1 \\\\\n",
    "-68 & -271 & 189\n",
    "\\end{pmatrix}.\n",
    "$$"
   ]
  },
  {
   "cell_type": "markdown",
   "id": "4bd91a87-6b25-47c1-bb91-aadbb07fc27c",
   "metadata": {},
   "source": [
    "### Pregunta 7\n",
    "\n",
    "Dada la matriz cuadrada A que se presenta abajo, calcule, la suma de los elementos que\n",
    "conforman la diagonal. Es decir, $6 + (-8) + 4 = 2$.\n",
    "\n",
    "$$\n",
    "A= \\begin{pmatrix}\n",
    "6 & 7 & -5 \\\\\n",
    "1 & -8 & -6 \\\\\n",
    "10 & 13 & 4\n",
    "\\end{pmatrix}\n",
    "$$"
   ]
  },
  {
   "cell_type": "code",
   "execution_count": 79,
   "id": "c49fffe3-6244-4f33-87e6-abd60e62bf96",
   "metadata": {},
   "outputs": [
    {
     "data": {
      "text/plain": [
       "2"
      ]
     },
     "execution_count": 79,
     "metadata": {},
     "output_type": "execute_result"
    }
   ],
   "source": [
    "A=np.array([\n",
    "    [6,7,-5],\n",
    "    [1,-8,-6],\n",
    "    [10,13,4]\n",
    "])\n",
    "traza = sum([ A[i][i] for i in range(0,3)])\n",
    "traza"
   ]
  },
  {
   "cell_type": "markdown",
   "id": "e4309394-3fde-4282-b5b5-de38b287247f",
   "metadata": {},
   "source": [
    "### Pregunta 8\n",
    "\n",
    "Genere, sin utilizar archivos, un DataFrame de la siguiente tabla de datos:\n",
    "\n",
    "| Nombre | Matematicas | Ciencias | Español | Historia | EdFisica | Genero |\n",
    "| ---    | ---         | ---      | ---     | ---      | ---      | ---    |        \n",
    "| Lucia  | 7.0         | 6.5      | 9.2     | 8.6      | 8.0      | F      |\n",
    "| Pedro  | 7.5         | 9.4      | 7.3     | 7.0      | 7.0      | M      |\n",
    "| Ines   | 7.6         | 9.2      | 8.0     | 8.0      | 7.5      | F      |\n",
    "| Luis   | 5.0         | 6.5      | 6.5     | 7.0      | 9.0      | M      |\n",
    "| Andres | 6.0         | 6.0      | 7.8     | 8.9      | 7.3      | M      |\n",
    "| Ana    | 7.8         | 9.6      | 7.7     | 8.0      | 6.5      | F      |"
   ]
  },
  {
   "cell_type": "code",
   "execution_count": 152,
   "id": "3016a7fa-c1db-474b-98ce-8db7f776fab2",
   "metadata": {},
   "outputs": [
    {
     "data": {
      "text/html": [
       "<div>\n",
       "<style scoped>\n",
       "    .dataframe tbody tr th:only-of-type {\n",
       "        vertical-align: middle;\n",
       "    }\n",
       "\n",
       "    .dataframe tbody tr th {\n",
       "        vertical-align: top;\n",
       "    }\n",
       "\n",
       "    .dataframe thead th {\n",
       "        text-align: right;\n",
       "    }\n",
       "</style>\n",
       "<table border=\"1\" class=\"dataframe\">\n",
       "  <thead>\n",
       "    <tr style=\"text-align: right;\">\n",
       "      <th></th>\n",
       "      <th>Matematicas</th>\n",
       "      <th>Ciencias</th>\n",
       "      <th>Español</th>\n",
       "      <th>Historia</th>\n",
       "      <th>EdFisica</th>\n",
       "      <th>Genero</th>\n",
       "    </tr>\n",
       "  </thead>\n",
       "  <tbody>\n",
       "    <tr>\n",
       "      <th>Lucia</th>\n",
       "      <td>7.0</td>\n",
       "      <td>6.5</td>\n",
       "      <td>9.2</td>\n",
       "      <td>8.6</td>\n",
       "      <td>8.0</td>\n",
       "      <td>F</td>\n",
       "    </tr>\n",
       "    <tr>\n",
       "      <th>Pedro</th>\n",
       "      <td>7.5</td>\n",
       "      <td>9.4</td>\n",
       "      <td>7.3</td>\n",
       "      <td>7.0</td>\n",
       "      <td>7.0</td>\n",
       "      <td>M</td>\n",
       "    </tr>\n",
       "    <tr>\n",
       "      <th>Ines</th>\n",
       "      <td>7.6</td>\n",
       "      <td>9.2</td>\n",
       "      <td>8.0</td>\n",
       "      <td>8.0</td>\n",
       "      <td>7.5</td>\n",
       "      <td>F</td>\n",
       "    </tr>\n",
       "    <tr>\n",
       "      <th>Luis</th>\n",
       "      <td>5.0</td>\n",
       "      <td>6.5</td>\n",
       "      <td>6.5</td>\n",
       "      <td>7.0</td>\n",
       "      <td>9.0</td>\n",
       "      <td>M</td>\n",
       "    </tr>\n",
       "    <tr>\n",
       "      <th>Andres</th>\n",
       "      <td>6.0</td>\n",
       "      <td>6.0</td>\n",
       "      <td>7.8</td>\n",
       "      <td>8.9</td>\n",
       "      <td>7.3</td>\n",
       "      <td>M</td>\n",
       "    </tr>\n",
       "    <tr>\n",
       "      <th>Ana</th>\n",
       "      <td>7.8</td>\n",
       "      <td>9.6</td>\n",
       "      <td>7.7</td>\n",
       "      <td>8.0</td>\n",
       "      <td>6.5</td>\n",
       "      <td>F</td>\n",
       "    </tr>\n",
       "  </tbody>\n",
       "</table>\n",
       "</div>"
      ],
      "text/plain": [
       "        Matematicas  Ciencias  Español  Historia  EdFisica Genero\n",
       "Lucia           7.0       6.5      9.2       8.6       8.0      F\n",
       "Pedro           7.5       9.4      7.3       7.0       7.0      M\n",
       "Ines            7.6       9.2      8.0       8.0       7.5      F\n",
       "Luis            5.0       6.5      6.5       7.0       9.0      M\n",
       "Andres          6.0       6.0      7.8       8.9       7.3      M\n",
       "Ana             7.8       9.6      7.7       8.0       6.5      F"
      ]
     },
     "execution_count": 152,
     "metadata": {},
     "output_type": "execute_result"
    }
   ],
   "source": [
    "estudiantes = pd.DataFrame({\n",
    "    \"Matematicas\": [7.0,7.5,7.6,5.0,6.0,7.8],\n",
    "    \"Ciencias\" : [6.5,9.4,9.2,6.5,6.0,9.6],\n",
    "    \"Español\" : [9.2,7.3,8.0,6.5,7.8,7.7],\n",
    "    \"Historia\" : [8.6,7.0,8.0,7.0,8.9,8.0],\n",
    "    \"EdFisica\" : [8.0,7.0,7.5,9.0,7.3,6.5],\n",
    "    \"Genero\" : [\"F\",\"M\",\"F\",\"M\",\"M\",\"F\"]\n",
    "})\n",
    "\n",
    "estudiantes.index= [\"Lucia\",\"Pedro\",\"Ines\",\"Luis\",\"Andres\",\"Ana\"]\n",
    "estudiantes"
   ]
  },
  {
   "cell_type": "markdown",
   "id": "60f3d001-ac87-435f-92b5-85e3def5e1ea",
   "metadata": {},
   "source": [
    "### Pregunta 9\n",
    "\n",
    "Utilizando la tabla creada en el punto anterior realice lo siguiente:\n",
    "- Ejecute un `info()` de los datos.\n",
    "- Muestre el resumen estadístico básico, uno incluyendo solo los tipos \"numéricos\" y otro excluyendo los tipos numéricos.\n",
    "- Despliegue las primeras 3 columnas de la tabla de datos (Usando solamente []).\n",
    "- Despliegue las primeras 3 columnas de la tabla de datos (Usando solamente `iloc`).\n",
    "- Despliegue las primeras 3 columnas de la tabla de datos (Usando solamente `loc`).\n",
    "- Calcule la correlación entre Historia y Matematicas con la función `corrcoef()` de la biblioteca `numpy`.\n",
    "- Construya un diccionario llamado `resumen` que tenga 4 campos Media, Mediana, Máximo y mínimo que tienen la media, la mediana, el máximo y el mínimo respectivamente de la variable `Ciencias`."
   ]
  },
  {
   "cell_type": "code",
   "execution_count": 84,
   "id": "25ef8072-9e76-44a4-842f-4db22ac0aebd",
   "metadata": {},
   "outputs": [
    {
     "name": "stdout",
     "output_type": "stream",
     "text": [
      "<class 'pandas.core.frame.DataFrame'>\n",
      "Index: 6 entries, Lucia to Ana\n",
      "Data columns (total 6 columns):\n",
      " #   Column       Non-Null Count  Dtype  \n",
      "---  ------       --------------  -----  \n",
      " 0   Matematicas  6 non-null      float64\n",
      " 1   Ciencias     6 non-null      float64\n",
      " 2   Español      6 non-null      float64\n",
      " 3   Historia     6 non-null      float64\n",
      " 4   EdFisica     6 non-null      float64\n",
      " 5   Genero       6 non-null      object \n",
      "dtypes: float64(5), object(1)\n",
      "memory usage: 336.0+ bytes\n"
     ]
    }
   ],
   "source": [
    "### Ejecutamos un info\n",
    "estudiantes.info()"
   ]
  },
  {
   "cell_type": "code",
   "execution_count": 85,
   "id": "e1609d94-5fb2-4d64-b62d-a1354fa645c7",
   "metadata": {},
   "outputs": [
    {
     "data": {
      "text/html": [
       "<div>\n",
       "<style scoped>\n",
       "    .dataframe tbody tr th:only-of-type {\n",
       "        vertical-align: middle;\n",
       "    }\n",
       "\n",
       "    .dataframe tbody tr th {\n",
       "        vertical-align: top;\n",
       "    }\n",
       "\n",
       "    .dataframe thead th {\n",
       "        text-align: right;\n",
       "    }\n",
       "</style>\n",
       "<table border=\"1\" class=\"dataframe\">\n",
       "  <thead>\n",
       "    <tr style=\"text-align: right;\">\n",
       "      <th></th>\n",
       "      <th>Matematicas</th>\n",
       "      <th>Ciencias</th>\n",
       "      <th>Español</th>\n",
       "      <th>Historia</th>\n",
       "      <th>EdFisica</th>\n",
       "    </tr>\n",
       "  </thead>\n",
       "  <tbody>\n",
       "    <tr>\n",
       "      <th>Lucia</th>\n",
       "      <td>7.0</td>\n",
       "      <td>6.5</td>\n",
       "      <td>9.2</td>\n",
       "      <td>8.6</td>\n",
       "      <td>8.0</td>\n",
       "    </tr>\n",
       "    <tr>\n",
       "      <th>Pedro</th>\n",
       "      <td>7.5</td>\n",
       "      <td>9.4</td>\n",
       "      <td>7.3</td>\n",
       "      <td>7.0</td>\n",
       "      <td>7.0</td>\n",
       "    </tr>\n",
       "    <tr>\n",
       "      <th>Ines</th>\n",
       "      <td>7.6</td>\n",
       "      <td>9.2</td>\n",
       "      <td>8.0</td>\n",
       "      <td>8.0</td>\n",
       "      <td>7.5</td>\n",
       "    </tr>\n",
       "    <tr>\n",
       "      <th>Luis</th>\n",
       "      <td>5.0</td>\n",
       "      <td>6.5</td>\n",
       "      <td>6.5</td>\n",
       "      <td>7.0</td>\n",
       "      <td>9.0</td>\n",
       "    </tr>\n",
       "    <tr>\n",
       "      <th>Andres</th>\n",
       "      <td>6.0</td>\n",
       "      <td>6.0</td>\n",
       "      <td>7.8</td>\n",
       "      <td>8.9</td>\n",
       "      <td>7.3</td>\n",
       "    </tr>\n",
       "    <tr>\n",
       "      <th>Ana</th>\n",
       "      <td>7.8</td>\n",
       "      <td>9.6</td>\n",
       "      <td>7.7</td>\n",
       "      <td>8.0</td>\n",
       "      <td>6.5</td>\n",
       "    </tr>\n",
       "  </tbody>\n",
       "</table>\n",
       "</div>"
      ],
      "text/plain": [
       "        Matematicas  Ciencias  Español  Historia  EdFisica\n",
       "Lucia           7.0       6.5      9.2       8.6       8.0\n",
       "Pedro           7.5       9.4      7.3       7.0       7.0\n",
       "Ines            7.6       9.2      8.0       8.0       7.5\n",
       "Luis            5.0       6.5      6.5       7.0       9.0\n",
       "Andres          6.0       6.0      7.8       8.9       7.3\n",
       "Ana             7.8       9.6      7.7       8.0       6.5"
      ]
     },
     "execution_count": 85,
     "metadata": {},
     "output_type": "execute_result"
    }
   ],
   "source": [
    "### Estadisticas sobre los numericos ###\n",
    "estudiantes_numerico = estudiantes.select_dtypes(include=np.number)\n",
    "estudiantes_numerico "
   ]
  },
  {
   "cell_type": "code",
   "execution_count": 86,
   "id": "38d92c79-83d8-4ebd-a6a9-2d07cf1916bb",
   "metadata": {},
   "outputs": [
    {
     "data": {
      "text/html": [
       "<div>\n",
       "<style scoped>\n",
       "    .dataframe tbody tr th:only-of-type {\n",
       "        vertical-align: middle;\n",
       "    }\n",
       "\n",
       "    .dataframe tbody tr th {\n",
       "        vertical-align: top;\n",
       "    }\n",
       "\n",
       "    .dataframe thead th {\n",
       "        text-align: right;\n",
       "    }\n",
       "</style>\n",
       "<table border=\"1\" class=\"dataframe\">\n",
       "  <thead>\n",
       "    <tr style=\"text-align: right;\">\n",
       "      <th></th>\n",
       "      <th>Matematicas</th>\n",
       "      <th>Ciencias</th>\n",
       "      <th>Español</th>\n",
       "      <th>Historia</th>\n",
       "      <th>EdFisica</th>\n",
       "    </tr>\n",
       "  </thead>\n",
       "  <tbody>\n",
       "    <tr>\n",
       "      <th>count</th>\n",
       "      <td>6.000000</td>\n",
       "      <td>6.000000</td>\n",
       "      <td>6.00000</td>\n",
       "      <td>6.000000</td>\n",
       "      <td>6.000000</td>\n",
       "    </tr>\n",
       "    <tr>\n",
       "      <th>mean</th>\n",
       "      <td>6.816667</td>\n",
       "      <td>7.866667</td>\n",
       "      <td>7.75000</td>\n",
       "      <td>7.916667</td>\n",
       "      <td>7.550000</td>\n",
       "    </tr>\n",
       "    <tr>\n",
       "      <th>std</th>\n",
       "      <td>1.099848</td>\n",
       "      <td>1.694304</td>\n",
       "      <td>0.88713</td>\n",
       "      <td>0.790991</td>\n",
       "      <td>0.868907</td>\n",
       "    </tr>\n",
       "    <tr>\n",
       "      <th>min</th>\n",
       "      <td>5.000000</td>\n",
       "      <td>6.000000</td>\n",
       "      <td>6.50000</td>\n",
       "      <td>7.000000</td>\n",
       "      <td>6.500000</td>\n",
       "    </tr>\n",
       "    <tr>\n",
       "      <th>25%</th>\n",
       "      <td>6.250000</td>\n",
       "      <td>6.500000</td>\n",
       "      <td>7.40000</td>\n",
       "      <td>7.250000</td>\n",
       "      <td>7.075000</td>\n",
       "    </tr>\n",
       "    <tr>\n",
       "      <th>50%</th>\n",
       "      <td>7.250000</td>\n",
       "      <td>7.850000</td>\n",
       "      <td>7.75000</td>\n",
       "      <td>8.000000</td>\n",
       "      <td>7.400000</td>\n",
       "    </tr>\n",
       "    <tr>\n",
       "      <th>75%</th>\n",
       "      <td>7.575000</td>\n",
       "      <td>9.350000</td>\n",
       "      <td>7.95000</td>\n",
       "      <td>8.450000</td>\n",
       "      <td>7.875000</td>\n",
       "    </tr>\n",
       "    <tr>\n",
       "      <th>max</th>\n",
       "      <td>7.800000</td>\n",
       "      <td>9.600000</td>\n",
       "      <td>9.20000</td>\n",
       "      <td>8.900000</td>\n",
       "      <td>9.000000</td>\n",
       "    </tr>\n",
       "  </tbody>\n",
       "</table>\n",
       "</div>"
      ],
      "text/plain": [
       "       Matematicas  Ciencias  Español  Historia  EdFisica\n",
       "count     6.000000  6.000000  6.00000  6.000000  6.000000\n",
       "mean      6.816667  7.866667  7.75000  7.916667  7.550000\n",
       "std       1.099848  1.694304  0.88713  0.790991  0.868907\n",
       "min       5.000000  6.000000  6.50000  7.000000  6.500000\n",
       "25%       6.250000  6.500000  7.40000  7.250000  7.075000\n",
       "50%       7.250000  7.850000  7.75000  8.000000  7.400000\n",
       "75%       7.575000  9.350000  7.95000  8.450000  7.875000\n",
       "max       7.800000  9.600000  9.20000  8.900000  9.000000"
      ]
     },
     "execution_count": 86,
     "metadata": {},
     "output_type": "execute_result"
    }
   ],
   "source": [
    "estudiantes_numerico.describe()"
   ]
  },
  {
   "cell_type": "code",
   "execution_count": 94,
   "id": "00ef766b-0fc0-4527-9afc-9f1300f8ea3f",
   "metadata": {},
   "outputs": [
    {
     "data": {
      "text/html": [
       "<div>\n",
       "<style scoped>\n",
       "    .dataframe tbody tr th:only-of-type {\n",
       "        vertical-align: middle;\n",
       "    }\n",
       "\n",
       "    .dataframe tbody tr th {\n",
       "        vertical-align: top;\n",
       "    }\n",
       "\n",
       "    .dataframe thead th {\n",
       "        text-align: right;\n",
       "    }\n",
       "</style>\n",
       "<table border=\"1\" class=\"dataframe\">\n",
       "  <thead>\n",
       "    <tr style=\"text-align: right;\">\n",
       "      <th></th>\n",
       "      <th>Genero</th>\n",
       "    </tr>\n",
       "  </thead>\n",
       "  <tbody>\n",
       "    <tr>\n",
       "      <th>Lucia</th>\n",
       "      <td>F</td>\n",
       "    </tr>\n",
       "    <tr>\n",
       "      <th>Pedro</th>\n",
       "      <td>M</td>\n",
       "    </tr>\n",
       "    <tr>\n",
       "      <th>Ines</th>\n",
       "      <td>F</td>\n",
       "    </tr>\n",
       "    <tr>\n",
       "      <th>Luis</th>\n",
       "      <td>M</td>\n",
       "    </tr>\n",
       "    <tr>\n",
       "      <th>Andres</th>\n",
       "      <td>M</td>\n",
       "    </tr>\n",
       "    <tr>\n",
       "      <th>Ana</th>\n",
       "      <td>F</td>\n",
       "    </tr>\n",
       "  </tbody>\n",
       "</table>\n",
       "</div>"
      ],
      "text/plain": [
       "       Genero\n",
       "Lucia       F\n",
       "Pedro       M\n",
       "Ines        F\n",
       "Luis        M\n",
       "Andres      M\n",
       "Ana         F"
      ]
     },
     "execution_count": 94,
     "metadata": {},
     "output_type": "execute_result"
    }
   ],
   "source": [
    "estudiantes_char=estudiantes.select_dtypes(exclude=np.number)\n",
    "estudiantes_char"
   ]
  },
  {
   "cell_type": "code",
   "execution_count": 95,
   "id": "f19d8484-c260-4ba7-bec7-f240c8250e30",
   "metadata": {},
   "outputs": [
    {
     "data": {
      "text/html": [
       "<div>\n",
       "<style scoped>\n",
       "    .dataframe tbody tr th:only-of-type {\n",
       "        vertical-align: middle;\n",
       "    }\n",
       "\n",
       "    .dataframe tbody tr th {\n",
       "        vertical-align: top;\n",
       "    }\n",
       "\n",
       "    .dataframe thead th {\n",
       "        text-align: right;\n",
       "    }\n",
       "</style>\n",
       "<table border=\"1\" class=\"dataframe\">\n",
       "  <thead>\n",
       "    <tr style=\"text-align: right;\">\n",
       "      <th></th>\n",
       "      <th>Genero</th>\n",
       "    </tr>\n",
       "  </thead>\n",
       "  <tbody>\n",
       "    <tr>\n",
       "      <th>count</th>\n",
       "      <td>6</td>\n",
       "    </tr>\n",
       "    <tr>\n",
       "      <th>unique</th>\n",
       "      <td>2</td>\n",
       "    </tr>\n",
       "    <tr>\n",
       "      <th>top</th>\n",
       "      <td>F</td>\n",
       "    </tr>\n",
       "    <tr>\n",
       "      <th>freq</th>\n",
       "      <td>3</td>\n",
       "    </tr>\n",
       "  </tbody>\n",
       "</table>\n",
       "</div>"
      ],
      "text/plain": [
       "       Genero\n",
       "count       6\n",
       "unique      2\n",
       "top         F\n",
       "freq        3"
      ]
     },
     "execution_count": 95,
     "metadata": {},
     "output_type": "execute_result"
    }
   ],
   "source": [
    "estudiantes_char.describe()"
   ]
  },
  {
   "cell_type": "code",
   "execution_count": 104,
   "id": "094cc183-0676-4268-969e-b2f5a8b7edc2",
   "metadata": {},
   "outputs": [
    {
     "data": {
      "text/html": [
       "<div>\n",
       "<style scoped>\n",
       "    .dataframe tbody tr th:only-of-type {\n",
       "        vertical-align: middle;\n",
       "    }\n",
       "\n",
       "    .dataframe tbody tr th {\n",
       "        vertical-align: top;\n",
       "    }\n",
       "\n",
       "    .dataframe thead th {\n",
       "        text-align: right;\n",
       "    }\n",
       "</style>\n",
       "<table border=\"1\" class=\"dataframe\">\n",
       "  <thead>\n",
       "    <tr style=\"text-align: right;\">\n",
       "      <th></th>\n",
       "      <th>Matematicas</th>\n",
       "      <th>Ciencias</th>\n",
       "      <th>Español</th>\n",
       "    </tr>\n",
       "  </thead>\n",
       "  <tbody>\n",
       "    <tr>\n",
       "      <th>Lucia</th>\n",
       "      <td>7.0</td>\n",
       "      <td>6.5</td>\n",
       "      <td>9.2</td>\n",
       "    </tr>\n",
       "    <tr>\n",
       "      <th>Pedro</th>\n",
       "      <td>7.5</td>\n",
       "      <td>9.4</td>\n",
       "      <td>7.3</td>\n",
       "    </tr>\n",
       "    <tr>\n",
       "      <th>Ines</th>\n",
       "      <td>7.6</td>\n",
       "      <td>9.2</td>\n",
       "      <td>8.0</td>\n",
       "    </tr>\n",
       "    <tr>\n",
       "      <th>Luis</th>\n",
       "      <td>5.0</td>\n",
       "      <td>6.5</td>\n",
       "      <td>6.5</td>\n",
       "    </tr>\n",
       "    <tr>\n",
       "      <th>Andres</th>\n",
       "      <td>6.0</td>\n",
       "      <td>6.0</td>\n",
       "      <td>7.8</td>\n",
       "    </tr>\n",
       "    <tr>\n",
       "      <th>Ana</th>\n",
       "      <td>7.8</td>\n",
       "      <td>9.6</td>\n",
       "      <td>7.7</td>\n",
       "    </tr>\n",
       "  </tbody>\n",
       "</table>\n",
       "</div>"
      ],
      "text/plain": [
       "        Matematicas  Ciencias  Español\n",
       "Lucia           7.0       6.5      9.2\n",
       "Pedro           7.5       9.4      7.3\n",
       "Ines            7.6       9.2      8.0\n",
       "Luis            5.0       6.5      6.5\n",
       "Andres          6.0       6.0      7.8\n",
       "Ana             7.8       9.6      7.7"
      ]
     },
     "execution_count": 104,
     "metadata": {},
     "output_type": "execute_result"
    }
   ],
   "source": [
    "### Primeras 3 columnas usando []\n",
    "### Se me ocurrió hacerlo con .columns\n",
    "estudiantes[[col for col in estudiantes.columns[0:3]]]"
   ]
  },
  {
   "cell_type": "code",
   "execution_count": 105,
   "id": "429f4e42-deb2-4265-a507-244746bbb0f3",
   "metadata": {},
   "outputs": [
    {
     "data": {
      "text/html": [
       "<div>\n",
       "<style scoped>\n",
       "    .dataframe tbody tr th:only-of-type {\n",
       "        vertical-align: middle;\n",
       "    }\n",
       "\n",
       "    .dataframe tbody tr th {\n",
       "        vertical-align: top;\n",
       "    }\n",
       "\n",
       "    .dataframe thead th {\n",
       "        text-align: right;\n",
       "    }\n",
       "</style>\n",
       "<table border=\"1\" class=\"dataframe\">\n",
       "  <thead>\n",
       "    <tr style=\"text-align: right;\">\n",
       "      <th></th>\n",
       "      <th>Matematicas</th>\n",
       "      <th>Ciencias</th>\n",
       "      <th>Español</th>\n",
       "    </tr>\n",
       "  </thead>\n",
       "  <tbody>\n",
       "    <tr>\n",
       "      <th>Lucia</th>\n",
       "      <td>7.0</td>\n",
       "      <td>6.5</td>\n",
       "      <td>9.2</td>\n",
       "    </tr>\n",
       "    <tr>\n",
       "      <th>Pedro</th>\n",
       "      <td>7.5</td>\n",
       "      <td>9.4</td>\n",
       "      <td>7.3</td>\n",
       "    </tr>\n",
       "    <tr>\n",
       "      <th>Ines</th>\n",
       "      <td>7.6</td>\n",
       "      <td>9.2</td>\n",
       "      <td>8.0</td>\n",
       "    </tr>\n",
       "    <tr>\n",
       "      <th>Luis</th>\n",
       "      <td>5.0</td>\n",
       "      <td>6.5</td>\n",
       "      <td>6.5</td>\n",
       "    </tr>\n",
       "    <tr>\n",
       "      <th>Andres</th>\n",
       "      <td>6.0</td>\n",
       "      <td>6.0</td>\n",
       "      <td>7.8</td>\n",
       "    </tr>\n",
       "    <tr>\n",
       "      <th>Ana</th>\n",
       "      <td>7.8</td>\n",
       "      <td>9.6</td>\n",
       "      <td>7.7</td>\n",
       "    </tr>\n",
       "  </tbody>\n",
       "</table>\n",
       "</div>"
      ],
      "text/plain": [
       "        Matematicas  Ciencias  Español\n",
       "Lucia           7.0       6.5      9.2\n",
       "Pedro           7.5       9.4      7.3\n",
       "Ines            7.6       9.2      8.0\n",
       "Luis            5.0       6.5      6.5\n",
       "Andres          6.0       6.0      7.8\n",
       "Ana             7.8       9.6      7.7"
      ]
     },
     "execution_count": 105,
     "metadata": {},
     "output_type": "execute_result"
    }
   ],
   "source": [
    "### Primeras 3 columnas usando iloc\n",
    "estudiantes.iloc[:,[0,1,2]]"
   ]
  },
  {
   "cell_type": "code",
   "execution_count": 107,
   "id": "1d77cb6b-4b0f-48ba-bfd7-207a08280f53",
   "metadata": {},
   "outputs": [
    {
     "data": {
      "text/html": [
       "<div>\n",
       "<style scoped>\n",
       "    .dataframe tbody tr th:only-of-type {\n",
       "        vertical-align: middle;\n",
       "    }\n",
       "\n",
       "    .dataframe tbody tr th {\n",
       "        vertical-align: top;\n",
       "    }\n",
       "\n",
       "    .dataframe thead th {\n",
       "        text-align: right;\n",
       "    }\n",
       "</style>\n",
       "<table border=\"1\" class=\"dataframe\">\n",
       "  <thead>\n",
       "    <tr style=\"text-align: right;\">\n",
       "      <th></th>\n",
       "      <th>Matematicas</th>\n",
       "      <th>Ciencias</th>\n",
       "      <th>Español</th>\n",
       "    </tr>\n",
       "  </thead>\n",
       "  <tbody>\n",
       "    <tr>\n",
       "      <th>Lucia</th>\n",
       "      <td>7.0</td>\n",
       "      <td>6.5</td>\n",
       "      <td>9.2</td>\n",
       "    </tr>\n",
       "    <tr>\n",
       "      <th>Pedro</th>\n",
       "      <td>7.5</td>\n",
       "      <td>9.4</td>\n",
       "      <td>7.3</td>\n",
       "    </tr>\n",
       "    <tr>\n",
       "      <th>Ines</th>\n",
       "      <td>7.6</td>\n",
       "      <td>9.2</td>\n",
       "      <td>8.0</td>\n",
       "    </tr>\n",
       "    <tr>\n",
       "      <th>Luis</th>\n",
       "      <td>5.0</td>\n",
       "      <td>6.5</td>\n",
       "      <td>6.5</td>\n",
       "    </tr>\n",
       "    <tr>\n",
       "      <th>Andres</th>\n",
       "      <td>6.0</td>\n",
       "      <td>6.0</td>\n",
       "      <td>7.8</td>\n",
       "    </tr>\n",
       "    <tr>\n",
       "      <th>Ana</th>\n",
       "      <td>7.8</td>\n",
       "      <td>9.6</td>\n",
       "      <td>7.7</td>\n",
       "    </tr>\n",
       "  </tbody>\n",
       "</table>\n",
       "</div>"
      ],
      "text/plain": [
       "        Matematicas  Ciencias  Español\n",
       "Lucia           7.0       6.5      9.2\n",
       "Pedro           7.5       9.4      7.3\n",
       "Ines            7.6       9.2      8.0\n",
       "Luis            5.0       6.5      6.5\n",
       "Andres          6.0       6.0      7.8\n",
       "Ana             7.8       9.6      7.7"
      ]
     },
     "execution_count": 107,
     "metadata": {},
     "output_type": "execute_result"
    }
   ],
   "source": [
    "### Primeras 3 columnas usando loc\n",
    "### También con .columns\n",
    "estudiantes.loc[:,[col for col in estudiantes.columns[0:3]]]"
   ]
  },
  {
   "cell_type": "code",
   "execution_count": 179,
   "id": "0fcbc967-260f-4eee-abbe-ea5fdb67d2e1",
   "metadata": {},
   "outputs": [
    {
     "data": {
      "text/plain": [
       "0.8106705691146753"
      ]
     },
     "execution_count": 179,
     "metadata": {},
     "output_type": "execute_result"
    }
   ],
   "source": [
    "np.corrcoef(estudiantes[\"Matematicas\"],estudiantes[\"Ciencias\"])[1][0] ### Correlacion matematica y ciencias"
   ]
  },
  {
   "cell_type": "code",
   "execution_count": 180,
   "id": "f96fbec3-ab1c-4ce0-b5f7-7735caad9da0",
   "metadata": {},
   "outputs": [
    {
     "data": {
      "text/plain": [
       "{'Media': 7.866666666666667, 'Mediana': 7.85, 'Máximo': 9.6, 'Mínimo': 6.0}"
      ]
     },
     "execution_count": 180,
     "metadata": {},
     "output_type": "execute_result"
    }
   ],
   "source": [
    "### Diccionario resumen para ciencias:\n",
    "\n",
    "resumen={\n",
    "    \"Media\" : np.mean(estudiantes[\"Ciencias\"]),\n",
    "    \"Mediana\" : np.median(estudiantes[\"Ciencias\"]),\n",
    "    \"Máximo\" : max(estudiantes[\"Ciencias\"]),\n",
    "    \"Mínimo\" : min(estudiantes[\"Ciencias\"])\n",
    "}\n",
    "resumen"
   ]
  },
  {
   "cell_type": "markdown",
   "id": "46db5798-cdad-4000-953f-65829d7b1a5b",
   "metadata": {},
   "source": [
    "### Pregunta 10\n",
    "\n",
    "Cargue la tabla de datos que está en el archivo students.csv haga lo siguiente:\n",
    "- Calcule la dimensión de la Tabla de Datos.\n",
    "- Calcule el resumen numérico de la tabla.\n",
    "- Calcule la suma de las columnas con variables cuantitativas (numéricas).\n",
    "- Calcule la moda de las columnas con variables cualitativas (categóricas)."
   ]
  },
  {
   "cell_type": "code",
   "execution_count": 112,
   "id": "9b1f2678-4014-4b05-9708-6481ea15498f",
   "metadata": {},
   "outputs": [
    {
     "data": {
      "text/html": [
       "<div>\n",
       "<style scoped>\n",
       "    .dataframe tbody tr th:only-of-type {\n",
       "        vertical-align: middle;\n",
       "    }\n",
       "\n",
       "    .dataframe tbody tr th {\n",
       "        vertical-align: top;\n",
       "    }\n",
       "\n",
       "    .dataframe thead th {\n",
       "        text-align: right;\n",
       "    }\n",
       "</style>\n",
       "<table border=\"1\" class=\"dataframe\">\n",
       "  <thead>\n",
       "    <tr style=\"text-align: right;\">\n",
       "      <th></th>\n",
       "      <th>age</th>\n",
       "      <th>internet</th>\n",
       "      <th>absences</th>\n",
       "      <th>guardian</th>\n",
       "      <th>studytime</th>\n",
       "      <th>failures</th>\n",
       "      <th>schoolsup</th>\n",
       "      <th>paid</th>\n",
       "      <th>romantic</th>\n",
       "      <th>freetime</th>\n",
       "      <th>activities</th>\n",
       "      <th>Grade</th>\n",
       "    </tr>\n",
       "    <tr>\n",
       "      <th>sex</th>\n",
       "      <th></th>\n",
       "      <th></th>\n",
       "      <th></th>\n",
       "      <th></th>\n",
       "      <th></th>\n",
       "      <th></th>\n",
       "      <th></th>\n",
       "      <th></th>\n",
       "      <th></th>\n",
       "      <th></th>\n",
       "      <th></th>\n",
       "      <th></th>\n",
       "    </tr>\n",
       "  </thead>\n",
       "  <tbody>\n",
       "    <tr>\n",
       "      <th>F</th>\n",
       "      <td>18</td>\n",
       "      <td>no</td>\n",
       "      <td>6</td>\n",
       "      <td>mother</td>\n",
       "      <td>2</td>\n",
       "      <td>0</td>\n",
       "      <td>yes</td>\n",
       "      <td>no</td>\n",
       "      <td>no</td>\n",
       "      <td>3</td>\n",
       "      <td>no</td>\n",
       "      <td>5.666667</td>\n",
       "    </tr>\n",
       "    <tr>\n",
       "      <th>F</th>\n",
       "      <td>17</td>\n",
       "      <td>yes</td>\n",
       "      <td>4</td>\n",
       "      <td>father</td>\n",
       "      <td>2</td>\n",
       "      <td>0</td>\n",
       "      <td>no</td>\n",
       "      <td>no</td>\n",
       "      <td>no</td>\n",
       "      <td>3</td>\n",
       "      <td>no</td>\n",
       "      <td>5.333333</td>\n",
       "    </tr>\n",
       "    <tr>\n",
       "      <th>F</th>\n",
       "      <td>15</td>\n",
       "      <td>yes</td>\n",
       "      <td>10</td>\n",
       "      <td>mother</td>\n",
       "      <td>2</td>\n",
       "      <td>3</td>\n",
       "      <td>yes</td>\n",
       "      <td>yes</td>\n",
       "      <td>no</td>\n",
       "      <td>3</td>\n",
       "      <td>no</td>\n",
       "      <td>8.333333</td>\n",
       "    </tr>\n",
       "    <tr>\n",
       "      <th>F</th>\n",
       "      <td>15</td>\n",
       "      <td>yes</td>\n",
       "      <td>2</td>\n",
       "      <td>mother</td>\n",
       "      <td>3</td>\n",
       "      <td>0</td>\n",
       "      <td>no</td>\n",
       "      <td>yes</td>\n",
       "      <td>yes</td>\n",
       "      <td>2</td>\n",
       "      <td>yes</td>\n",
       "      <td>14.666667</td>\n",
       "    </tr>\n",
       "    <tr>\n",
       "      <th>F</th>\n",
       "      <td>16</td>\n",
       "      <td>no</td>\n",
       "      <td>4</td>\n",
       "      <td>father</td>\n",
       "      <td>2</td>\n",
       "      <td>0</td>\n",
       "      <td>no</td>\n",
       "      <td>yes</td>\n",
       "      <td>no</td>\n",
       "      <td>3</td>\n",
       "      <td>no</td>\n",
       "      <td>8.666667</td>\n",
       "    </tr>\n",
       "    <tr>\n",
       "      <th>...</th>\n",
       "      <td>...</td>\n",
       "      <td>...</td>\n",
       "      <td>...</td>\n",
       "      <td>...</td>\n",
       "      <td>...</td>\n",
       "      <td>...</td>\n",
       "      <td>...</td>\n",
       "      <td>...</td>\n",
       "      <td>...</td>\n",
       "      <td>...</td>\n",
       "      <td>...</td>\n",
       "      <td>...</td>\n",
       "    </tr>\n",
       "    <tr>\n",
       "      <th>M</th>\n",
       "      <td>20</td>\n",
       "      <td>no</td>\n",
       "      <td>11</td>\n",
       "      <td>other</td>\n",
       "      <td>2</td>\n",
       "      <td>2</td>\n",
       "      <td>no</td>\n",
       "      <td>yes</td>\n",
       "      <td>no</td>\n",
       "      <td>5</td>\n",
       "      <td>no</td>\n",
       "      <td>9.000000</td>\n",
       "    </tr>\n",
       "    <tr>\n",
       "      <th>M</th>\n",
       "      <td>17</td>\n",
       "      <td>yes</td>\n",
       "      <td>3</td>\n",
       "      <td>mother</td>\n",
       "      <td>1</td>\n",
       "      <td>0</td>\n",
       "      <td>no</td>\n",
       "      <td>no</td>\n",
       "      <td>no</td>\n",
       "      <td>4</td>\n",
       "      <td>no</td>\n",
       "      <td>15.333333</td>\n",
       "    </tr>\n",
       "    <tr>\n",
       "      <th>M</th>\n",
       "      <td>21</td>\n",
       "      <td>no</td>\n",
       "      <td>3</td>\n",
       "      <td>other</td>\n",
       "      <td>1</td>\n",
       "      <td>3</td>\n",
       "      <td>no</td>\n",
       "      <td>no</td>\n",
       "      <td>no</td>\n",
       "      <td>5</td>\n",
       "      <td>no</td>\n",
       "      <td>8.333333</td>\n",
       "    </tr>\n",
       "    <tr>\n",
       "      <th>M</th>\n",
       "      <td>18</td>\n",
       "      <td>yes</td>\n",
       "      <td>0</td>\n",
       "      <td>mother</td>\n",
       "      <td>1</td>\n",
       "      <td>0</td>\n",
       "      <td>no</td>\n",
       "      <td>no</td>\n",
       "      <td>no</td>\n",
       "      <td>4</td>\n",
       "      <td>no</td>\n",
       "      <td>11.000000</td>\n",
       "    </tr>\n",
       "    <tr>\n",
       "      <th>M</th>\n",
       "      <td>19</td>\n",
       "      <td>yes</td>\n",
       "      <td>5</td>\n",
       "      <td>father</td>\n",
       "      <td>1</td>\n",
       "      <td>0</td>\n",
       "      <td>no</td>\n",
       "      <td>no</td>\n",
       "      <td>no</td>\n",
       "      <td>2</td>\n",
       "      <td>no</td>\n",
       "      <td>8.666667</td>\n",
       "    </tr>\n",
       "  </tbody>\n",
       "</table>\n",
       "<p>395 rows × 12 columns</p>\n",
       "</div>"
      ],
      "text/plain": [
       "     age internet  absences guardian  studytime  failures schoolsup paid  \\\n",
       "sex                                                                        \n",
       "F     18       no         6   mother          2         0       yes   no   \n",
       "F     17      yes         4   father          2         0        no   no   \n",
       "F     15      yes        10   mother          2         3       yes  yes   \n",
       "F     15      yes         2   mother          3         0        no  yes   \n",
       "F     16       no         4   father          2         0        no  yes   \n",
       "..   ...      ...       ...      ...        ...       ...       ...  ...   \n",
       "M     20       no        11    other          2         2        no  yes   \n",
       "M     17      yes         3   mother          1         0        no   no   \n",
       "M     21       no         3    other          1         3        no   no   \n",
       "M     18      yes         0   mother          1         0        no   no   \n",
       "M     19      yes         5   father          1         0        no   no   \n",
       "\n",
       "    romantic  freetime activities      Grade  \n",
       "sex                                           \n",
       "F         no         3         no   5.666667  \n",
       "F         no         3         no   5.333333  \n",
       "F         no         3         no   8.333333  \n",
       "F        yes         2        yes  14.666667  \n",
       "F         no         3         no   8.666667  \n",
       "..       ...       ...        ...        ...  \n",
       "M         no         5         no   9.000000  \n",
       "M         no         4         no  15.333333  \n",
       "M         no         5         no   8.333333  \n",
       "M         no         4         no  11.000000  \n",
       "M         no         2         no   8.666667  \n",
       "\n",
       "[395 rows x 12 columns]"
      ]
     },
     "execution_count": 112,
     "metadata": {},
     "output_type": "execute_result"
    }
   ],
   "source": [
    "students=pd.read_csv(\"students.csv\", delimiter = ';', decimal = \",\", header = 0, index_col = 0)\n",
    "students"
   ]
  },
  {
   "cell_type": "code",
   "execution_count": 113,
   "id": "20e2730f-1d0a-4b7f-8023-49536d867e2f",
   "metadata": {},
   "outputs": [
    {
     "data": {
      "text/plain": [
       "(395, 12)"
      ]
     },
     "execution_count": 113,
     "metadata": {},
     "output_type": "execute_result"
    }
   ],
   "source": [
    "### Dimensión Tabla de Datos\n",
    "students.shape"
   ]
  },
  {
   "cell_type": "code",
   "execution_count": 116,
   "id": "5e040c49-6d68-49f8-8376-ce561ed5e8f5",
   "metadata": {},
   "outputs": [
    {
     "data": {
      "text/html": [
       "<div>\n",
       "<style scoped>\n",
       "    .dataframe tbody tr th:only-of-type {\n",
       "        vertical-align: middle;\n",
       "    }\n",
       "\n",
       "    .dataframe tbody tr th {\n",
       "        vertical-align: top;\n",
       "    }\n",
       "\n",
       "    .dataframe thead th {\n",
       "        text-align: right;\n",
       "    }\n",
       "</style>\n",
       "<table border=\"1\" class=\"dataframe\">\n",
       "  <thead>\n",
       "    <tr style=\"text-align: right;\">\n",
       "      <th></th>\n",
       "      <th>age</th>\n",
       "      <th>absences</th>\n",
       "      <th>studytime</th>\n",
       "      <th>failures</th>\n",
       "      <th>freetime</th>\n",
       "      <th>Grade</th>\n",
       "    </tr>\n",
       "  </thead>\n",
       "  <tbody>\n",
       "    <tr>\n",
       "      <th>count</th>\n",
       "      <td>395.000000</td>\n",
       "      <td>395.000000</td>\n",
       "      <td>395.000000</td>\n",
       "      <td>395.000000</td>\n",
       "      <td>395.000000</td>\n",
       "      <td>395.000000</td>\n",
       "    </tr>\n",
       "    <tr>\n",
       "      <th>mean</th>\n",
       "      <td>16.696203</td>\n",
       "      <td>5.708861</td>\n",
       "      <td>2.035443</td>\n",
       "      <td>0.334177</td>\n",
       "      <td>3.235443</td>\n",
       "      <td>10.679325</td>\n",
       "    </tr>\n",
       "    <tr>\n",
       "      <th>std</th>\n",
       "      <td>1.276043</td>\n",
       "      <td>8.003096</td>\n",
       "      <td>0.839240</td>\n",
       "      <td>0.743651</td>\n",
       "      <td>0.998862</td>\n",
       "      <td>3.696786</td>\n",
       "    </tr>\n",
       "    <tr>\n",
       "      <th>min</th>\n",
       "      <td>15.000000</td>\n",
       "      <td>0.000000</td>\n",
       "      <td>1.000000</td>\n",
       "      <td>0.000000</td>\n",
       "      <td>1.000000</td>\n",
       "      <td>1.333333</td>\n",
       "    </tr>\n",
       "    <tr>\n",
       "      <th>25%</th>\n",
       "      <td>16.000000</td>\n",
       "      <td>0.000000</td>\n",
       "      <td>1.000000</td>\n",
       "      <td>0.000000</td>\n",
       "      <td>3.000000</td>\n",
       "      <td>8.333333</td>\n",
       "    </tr>\n",
       "    <tr>\n",
       "      <th>50%</th>\n",
       "      <td>17.000000</td>\n",
       "      <td>4.000000</td>\n",
       "      <td>2.000000</td>\n",
       "      <td>0.000000</td>\n",
       "      <td>3.000000</td>\n",
       "      <td>10.666667</td>\n",
       "    </tr>\n",
       "    <tr>\n",
       "      <th>75%</th>\n",
       "      <td>18.000000</td>\n",
       "      <td>8.000000</td>\n",
       "      <td>2.000000</td>\n",
       "      <td>0.000000</td>\n",
       "      <td>4.000000</td>\n",
       "      <td>13.333333</td>\n",
       "    </tr>\n",
       "    <tr>\n",
       "      <th>max</th>\n",
       "      <td>22.000000</td>\n",
       "      <td>75.000000</td>\n",
       "      <td>4.000000</td>\n",
       "      <td>3.000000</td>\n",
       "      <td>5.000000</td>\n",
       "      <td>19.333333</td>\n",
       "    </tr>\n",
       "  </tbody>\n",
       "</table>\n",
       "</div>"
      ],
      "text/plain": [
       "              age    absences   studytime    failures    freetime       Grade\n",
       "count  395.000000  395.000000  395.000000  395.000000  395.000000  395.000000\n",
       "mean    16.696203    5.708861    2.035443    0.334177    3.235443   10.679325\n",
       "std      1.276043    8.003096    0.839240    0.743651    0.998862    3.696786\n",
       "min     15.000000    0.000000    1.000000    0.000000    1.000000    1.333333\n",
       "25%     16.000000    0.000000    1.000000    0.000000    3.000000    8.333333\n",
       "50%     17.000000    4.000000    2.000000    0.000000    3.000000   10.666667\n",
       "75%     18.000000    8.000000    2.000000    0.000000    4.000000   13.333333\n",
       "max     22.000000   75.000000    4.000000    3.000000    5.000000   19.333333"
      ]
     },
     "execution_count": 116,
     "metadata": {},
     "output_type": "execute_result"
    }
   ],
   "source": [
    "students.describe() ### Resumen numerico de la tabla"
   ]
  },
  {
   "cell_type": "code",
   "execution_count": 121,
   "id": "780b713d-3886-4f48-9513-2fa1fd671a83",
   "metadata": {},
   "outputs": [
    {
     "data": {
      "text/plain": [
       "age          6595.000000\n",
       "absences     2255.000000\n",
       "studytime     804.000000\n",
       "failures      132.000000\n",
       "freetime     1278.000000\n",
       "Grade        4218.333333\n",
       "dtype: float64"
      ]
     },
     "execution_count": 121,
     "metadata": {},
     "output_type": "execute_result"
    }
   ],
   "source": [
    "students_numerico = students.select_dtypes(include=np.number)\n",
    "students_numerico.sum(axis=0) ### Suma de cada una de las columnas numéricas del dataframe."
   ]
  },
  {
   "cell_type": "code",
   "execution_count": 122,
   "id": "ac1413e0-0f29-4d42-8966-e5edfbf91a27",
   "metadata": {},
   "outputs": [
    {
     "data": {
      "text/html": [
       "<div>\n",
       "<style scoped>\n",
       "    .dataframe tbody tr th:only-of-type {\n",
       "        vertical-align: middle;\n",
       "    }\n",
       "\n",
       "    .dataframe tbody tr th {\n",
       "        vertical-align: top;\n",
       "    }\n",
       "\n",
       "    .dataframe thead th {\n",
       "        text-align: right;\n",
       "    }\n",
       "</style>\n",
       "<table border=\"1\" class=\"dataframe\">\n",
       "  <thead>\n",
       "    <tr style=\"text-align: right;\">\n",
       "      <th></th>\n",
       "      <th>internet</th>\n",
       "      <th>guardian</th>\n",
       "      <th>schoolsup</th>\n",
       "      <th>paid</th>\n",
       "      <th>romantic</th>\n",
       "      <th>activities</th>\n",
       "    </tr>\n",
       "  </thead>\n",
       "  <tbody>\n",
       "    <tr>\n",
       "      <th>0</th>\n",
       "      <td>yes</td>\n",
       "      <td>mother</td>\n",
       "      <td>no</td>\n",
       "      <td>no</td>\n",
       "      <td>no</td>\n",
       "      <td>yes</td>\n",
       "    </tr>\n",
       "  </tbody>\n",
       "</table>\n",
       "</div>"
      ],
      "text/plain": [
       "  internet guardian schoolsup paid romantic activities\n",
       "0      yes   mother        no   no       no        yes"
      ]
     },
     "execution_count": 122,
     "metadata": {},
     "output_type": "execute_result"
    }
   ],
   "source": [
    "students_no_numerico = students.select_dtypes(exclude=np.number)\n",
    "students_no_numerico.mode(axis=0) ### Moda de cada una de las columnas categóricas del dataframe."
   ]
  },
  {
   "cell_type": "code",
   "execution_count": 125,
   "id": "b2125e1b-fd15-4558-9cd4-71f896b92c42",
   "metadata": {},
   "outputs": [
    {
     "data": {
      "text/plain": [
       "'mother'"
      ]
     },
     "execution_count": 125,
     "metadata": {},
     "output_type": "execute_result"
    }
   ],
   "source": [
    "#### Verificamos para una columna.\n",
    "from statistics import mode\n",
    "mode(students[\"guardian\"])"
   ]
  },
  {
   "cell_type": "markdown",
   "id": "77fbaaef-d08e-41e5-bf77-63550e296598",
   "metadata": {},
   "source": [
    "### Pregunta 11\n",
    "\n",
    "Usando `for(...)` en Python muestre los números del 1 al 100 que terminan en 8, debe mostrarlos\n",
    "en orden inverso, es decir, de mayor a menor."
   ]
  },
  {
   "cell_type": "code",
   "execution_count": 128,
   "id": "aaf5ab28-864d-470e-93a4-fce32b2569ee",
   "metadata": {},
   "outputs": [
    {
     "name": "stdout",
     "output_type": "stream",
     "text": [
      "98\n",
      "88\n",
      "78\n",
      "68\n",
      "58\n",
      "48\n",
      "38\n",
      "28\n",
      "18\n",
      "8\n"
     ]
    }
   ],
   "source": [
    "for i in range(100,0,-1):\n",
    "    if str(i).endswith(\"8\"):\n",
    "        print(i)"
   ]
  },
  {
   "cell_type": "markdown",
   "id": "0111521a-6206-4d79-9f76-a1a259d8a429",
   "metadata": {},
   "source": [
    "### Pregunta 12\n",
    "\n",
    "Mediante un ciclo, calcule la sumatoria de los números enteros múltiplos de 17, comprendidos\n",
    "entre el 1 y el 300."
   ]
  },
  {
   "cell_type": "code",
   "execution_count": 133,
   "id": "5706d0d2-95b1-40f6-b884-57012379fb68",
   "metadata": {},
   "outputs": [
    {
     "data": {
      "text/plain": [
       "2601"
      ]
     },
     "execution_count": 133,
     "metadata": {},
     "output_type": "execute_result"
    }
   ],
   "source": [
    "sum_d17=0\n",
    "for i in range(1,301):\n",
    "    if i%17==0:\n",
    "        sum_d17=sum_d17+i\n",
    "sum_d17"
   ]
  },
  {
   "cell_type": "code",
   "execution_count": 134,
   "id": "25b874f7-f1ce-41fa-b018-3d17a0ce226e",
   "metadata": {},
   "outputs": [
    {
     "data": {
      "text/plain": [
       "2601"
      ]
     },
     "execution_count": 134,
     "metadata": {},
     "output_type": "execute_result"
    }
   ],
   "source": [
    "### En una sola línea:\n",
    "sum_d17= sum([ i for i in range(1,301) if i%17==0])\n",
    "sum_d17"
   ]
  },
  {
   "cell_type": "markdown",
   "id": "035fa159-1431-4b5a-b04a-e52759283a46",
   "metadata": {},
   "source": [
    "### Pregunta 13\n",
    "\n",
    "Mediante un ciclo, guarde en una lista todos los números pares desde 10 hasta el 25."
   ]
  },
  {
   "cell_type": "code",
   "execution_count": 135,
   "id": "82369891-8983-4dfb-ac5a-3504b0308a04",
   "metadata": {},
   "outputs": [
    {
     "data": {
      "text/plain": [
       "[10, 12, 14, 16, 18, 20, 22, 24]"
      ]
     },
     "execution_count": 135,
     "metadata": {},
     "output_type": "execute_result"
    }
   ],
   "source": [
    "lista_pares=[]\n",
    "for i in range(10,26):\n",
    "    if i%2==0:\n",
    "        lista_pares.append(i)\n",
    "lista_pares"
   ]
  },
  {
   "cell_type": "code",
   "execution_count": 136,
   "id": "e3b6a5e9-1eed-4154-9c7d-a40897a2f274",
   "metadata": {},
   "outputs": [
    {
     "data": {
      "text/plain": [
       "[10, 12, 14, 16, 18, 20, 22, 24]"
      ]
     },
     "execution_count": 136,
     "metadata": {},
     "output_type": "execute_result"
    }
   ],
   "source": [
    "### En una sola línea:\n",
    "lista_pares=[i for i in range(10,26) if i%2==0]\n",
    "lista_pares"
   ]
  },
  {
   "cell_type": "markdown",
   "id": "c374651b-1904-4e64-8166-11a971c1277b",
   "metadata": {},
   "source": [
    "### Pregunta 14\n",
    "\n",
    "Programe una función que recibe tres objetos A, B, y C, si el tipo de dichos objetos es `str`\n",
    "retorna la unión de dichos caracteres separados por un espacio. En caso de que alguno de los\n",
    "tres objetos no sea str retorna `None`, use `isinstance` para determinar si el objeto es de tipo\n",
    "`str`."
   ]
  },
  {
   "cell_type": "code",
   "execution_count": 141,
   "id": "4bb99d65-321a-47fe-970d-0510dfdd6abf",
   "metadata": {},
   "outputs": [],
   "source": [
    "def preg_14(A,B,C):\n",
    "    tipos=[isinstance(A,str),isinstance(B,str),isinstance(C,str)]\n",
    "    if False in tipos:\n",
    "        print(\"Alguno no es str\")\n",
    "        return None\n",
    "    else:\n",
    "        return \" \".join([A,B,C])"
   ]
  },
  {
   "cell_type": "code",
   "execution_count": 138,
   "id": "7702f613-cdf8-4fcf-90df-03b253ac4776",
   "metadata": {},
   "outputs": [
    {
     "data": {
      "text/plain": [
       "'la pregunta catorce'"
      ]
     },
     "execution_count": 138,
     "metadata": {},
     "output_type": "execute_result"
    }
   ],
   "source": [
    "preg_14(\"la\",\"pregunta\",\"catorce\")"
   ]
  },
  {
   "cell_type": "code",
   "execution_count": 142,
   "id": "d4a356c7-1e71-4851-92ed-cfa507918aee",
   "metadata": {},
   "outputs": [
    {
     "name": "stdout",
     "output_type": "stream",
     "text": [
      "Alguno no es str\n"
     ]
    }
   ],
   "source": [
    "preg_14(\"a\",5,\"b\")"
   ]
  },
  {
   "cell_type": "markdown",
   "id": "f2f925b0-9732-4dfd-be54-74b59eea99df",
   "metadata": {},
   "source": [
    "### Pregunta 15\n",
    "\n",
    "Programe una función que reciba un número y retorne `True` en caso de ser un número primo,\n",
    "de lo contrario retorna `False`. La definición de **número primo** dice que *Un número entero\n",
    "mayor que 1 se denomina número primo si y sólo si tiene como divisores positivos (factores)\n",
    "únicamente a sí mismo y a la unidad 1*. Por ejemplo, son números primos: 2, 3, 5, 7, 11, 13,\n",
    "17."
   ]
  },
  {
   "cell_type": "code",
   "execution_count": 68,
   "id": "3a3ba35e-4775-47b4-89d3-48afdd2c3f63",
   "metadata": {},
   "outputs": [],
   "source": [
    "def es_primo(n):\n",
    "    \"\"\"\n",
    "    Una proposición de teoría de números dice que un número n es primo si y sólo si\n",
    "    ningún entero menor que la raíz cuadrada de n divide a n.\n",
    "    Esto es más eficiente que verificar todos los números antes que n.\n",
    "    \"\"\"\n",
    "    sqrt_n_ent=math.floor(math.sqrt(n))\n",
    "    resp=True\n",
    "    \n",
    "    for i in range(2,sqrt_n_ent+1):\n",
    "        if n%i==0:\n",
    "            resp=False\n",
    "            break\n",
    "    return resp"
   ]
  },
  {
   "cell_type": "code",
   "execution_count": 69,
   "id": "48b60b5c-0ef1-45fb-8ae4-7b1b35ec2023",
   "metadata": {},
   "outputs": [
    {
     "data": {
      "text/plain": [
       "True"
      ]
     },
     "execution_count": 69,
     "metadata": {},
     "output_type": "execute_result"
    }
   ],
   "source": [
    "es_primo(13)"
   ]
  },
  {
   "cell_type": "code",
   "execution_count": 70,
   "id": "504cb4ff-012e-4913-b146-99ddff90c361",
   "metadata": {},
   "outputs": [
    {
     "data": {
      "text/plain": [
       "True"
      ]
     },
     "execution_count": 70,
     "metadata": {},
     "output_type": "execute_result"
    }
   ],
   "source": [
    "es_primo(19)"
   ]
  },
  {
   "cell_type": "code",
   "execution_count": 71,
   "id": "e1764074-1407-4796-af02-6f8b96771873",
   "metadata": {},
   "outputs": [
    {
     "data": {
      "text/plain": [
       "False"
      ]
     },
     "execution_count": 71,
     "metadata": {},
     "output_type": "execute_result"
    }
   ],
   "source": [
    "es_primo(20)"
   ]
  },
  {
   "cell_type": "code",
   "execution_count": 72,
   "id": "44514354-1030-4eb4-8e0c-6ab5d58b276c",
   "metadata": {},
   "outputs": [
    {
     "data": {
      "text/plain": [
       "False"
      ]
     },
     "execution_count": 72,
     "metadata": {},
     "output_type": "execute_result"
    }
   ],
   "source": [
    "es_primo(49)"
   ]
  },
  {
   "cell_type": "code",
   "execution_count": 73,
   "id": "e5013895-00d0-4c6e-bcf6-43b6e5fa6697",
   "metadata": {},
   "outputs": [
    {
     "data": {
      "text/plain": [
       "104729"
      ]
     },
     "execution_count": 73,
     "metadata": {},
     "output_type": "execute_result"
    }
   ],
   "source": [
    "import primesieve  ### Ejemplo para el diez-milésimo primo :)\n",
    "primo_muy_grande= primesieve.nth_prime(10000)\n",
    "primo_muy_grande"
   ]
  },
  {
   "cell_type": "code",
   "execution_count": 55,
   "id": "c915af3e-da22-4d82-bb93-cf3eb0d15bca",
   "metadata": {},
   "outputs": [
    {
     "data": {
      "text/plain": [
       "True"
      ]
     },
     "execution_count": 55,
     "metadata": {},
     "output_type": "execute_result"
    }
   ],
   "source": [
    "es_primo(primo_muy_grande)"
   ]
  },
  {
   "cell_type": "markdown",
   "id": "493120a4-e766-4dfa-b419-4e6bcfa10626",
   "metadata": {},
   "source": [
    "### Pregunta 16\n",
    "\n",
    "Programe una función que recibe una lista numérica y retorna el número primo más pequeño\n",
    "que está en la lista. Puede utilizar la función creada en el punto anterior."
   ]
  },
  {
   "cell_type": "code",
   "execution_count": 52,
   "id": "ce95348c-2640-4019-af66-97efab6908e2",
   "metadata": {},
   "outputs": [],
   "source": [
    "def primo_mas_pequeno(lista):\n",
    "    primos_en_lista=[i for i in lista if es_primo(i)]\n",
    "    \n",
    "    if len(primos_en_lista)>0:\n",
    "        return min(primos_en_lista)\n",
    "    else:\n",
    "        print(\"No hay primos en esta lista\")"
   ]
  },
  {
   "cell_type": "code",
   "execution_count": 75,
   "id": "344aead3-d247-48ea-8fe5-575d8ccac5a6",
   "metadata": {},
   "outputs": [
    {
     "data": {
      "text/plain": [
       "19"
      ]
     },
     "execution_count": 75,
     "metadata": {},
     "output_type": "execute_result"
    }
   ],
   "source": [
    "primo_mas_pequeno([32,19,22,193,1163])"
   ]
  },
  {
   "cell_type": "code",
   "execution_count": 74,
   "id": "42eedbfe-3f9f-4380-be4a-7cb972b70f07",
   "metadata": {},
   "outputs": [
    {
     "name": "stdout",
     "output_type": "stream",
     "text": [
      "No hay primos en esta lista\n"
     ]
    }
   ],
   "source": [
    "primo_mas_pequeno([10,4,6,9])"
   ]
  },
  {
   "cell_type": "markdown",
   "id": "235cacae-2af3-4038-be91-2401de8396cd",
   "metadata": {},
   "source": [
    "### Pregunta 17\n",
    "\n",
    "Programe una función que reciba un objeto C tipo `str` (cadena de caracteres) y retorne la\n",
    "cantidad de vocales que posee la cadena de caracteres C. Por ejemplo: `\"Hola Mundo\"` $\\rightarrow$ `4`."
   ]
  },
  {
   "cell_type": "code",
   "execution_count": 78,
   "id": "7cda35a4-d912-4c6c-96ab-6719292197bb",
   "metadata": {},
   "outputs": [],
   "source": [
    "def cantidad_vocales(C):\n",
    "    if isinstance(C,str):\n",
    "        vocales=[\"a\",\"e\",\"i\",\"o\",\"u\"]\n",
    "        c_lower=C.lower()\n",
    "        cant_vocales= len([a for a in c_lower if a in vocales])\n",
    "        return cant_vocales\n",
    "    else:\n",
    "        raise Exception(\"No es una cadena de caracteres!\")"
   ]
  },
  {
   "cell_type": "code",
   "execution_count": 79,
   "id": "b7bef6f8-9a03-4ebb-9275-c8149c807715",
   "metadata": {},
   "outputs": [
    {
     "data": {
      "text/plain": [
       "4"
      ]
     },
     "execution_count": 79,
     "metadata": {},
     "output_type": "execute_result"
    }
   ],
   "source": [
    "cantidad_vocales(\"Hola Mundo\")"
   ]
  },
  {
   "cell_type": "markdown",
   "id": "661ccd60-e8bc-4929-8e65-8bd46e3735fc",
   "metadata": {},
   "source": [
    "### Pregunta 18\n",
    "\n",
    "Programe una función que reciba un objeto C tipo `str` (cadena de caracteres) y una letra l\n",
    "y retorne la cantidad de veces que aparece la letra dentro de la cadena de caracteres C. Por\n",
    "ejemplo: `\"abracadabra\"` y `\"a\"` $\\rightarrow$ `5`."
   ]
  },
  {
   "cell_type": "code",
   "execution_count": 82,
   "id": "1a95b06b-d05d-4e98-8ebc-ae1edfe0d9a2",
   "metadata": {},
   "outputs": [],
   "source": [
    "def cantidad_veces(C,l):\n",
    "    if isinstance(C,str) and isinstance(l,str):\n",
    "        cant_veces= len([a for a in C if a == l])\n",
    "        return cant_veces\n",
    "    else:\n",
    "        raise Exception(\"No es una cadena de caracteres!\")"
   ]
  },
  {
   "cell_type": "code",
   "execution_count": 83,
   "id": "27eb3776-ae95-401e-a26f-80d54de3684f",
   "metadata": {},
   "outputs": [
    {
     "data": {
      "text/plain": [
       "5"
      ]
     },
     "execution_count": 83,
     "metadata": {},
     "output_type": "execute_result"
    }
   ],
   "source": [
    "cantidad_veces(\"abracadabra\",\"a\")"
   ]
  },
  {
   "cell_type": "markdown",
   "id": "de11f4f8-f793-45ee-baff-c0206fe654e5",
   "metadata": {},
   "source": [
    "### Pregunta 19\n",
    "\n",
    "Programe en Python una función que recibe tres valores A, B, y C y retorna el menor."
   ]
  },
  {
   "cell_type": "code",
   "execution_count": 84,
   "id": "c0148ce0-062d-4e7d-ba4d-3b2a1993d5f9",
   "metadata": {},
   "outputs": [
    {
     "data": {
      "text/plain": [
       "18"
      ]
     },
     "execution_count": 84,
     "metadata": {},
     "output_type": "execute_result"
    }
   ],
   "source": [
    "def el_menor(A,B,C):\n",
    "    try:\n",
    "        return min([A,B,C])\n",
    "    except:\n",
    "        print(\"Introduzca tres valores numéricos\")\n",
    "\n",
    "el_menor(98,87,18)"
   ]
  },
  {
   "cell_type": "markdown",
   "id": "1cfe78e4-e9db-4671-8ca3-f0880c61002e",
   "metadata": {},
   "source": [
    "### Pregunta 20\n",
    "\n",
    "Programe en Python una función que recibe un número n y retorna la sumatoria de los números\n",
    "enteros comprendidos entre el 1 y el n."
   ]
  },
  {
   "cell_type": "code",
   "execution_count": 86,
   "id": "626c0958-43df-4699-be96-94ed0da3239b",
   "metadata": {},
   "outputs": [],
   "source": [
    "def sumatoria(n):\n",
    "    try:\n",
    "        parte_entera=math.floor(n)\n",
    "        return sum([i for i in range(1,parte_entera+1)])\n",
    "    except:\n",
    "        print(\"Introduzca un numero positivo\")"
   ]
  },
  {
   "cell_type": "code",
   "execution_count": 87,
   "id": "298b8798-4739-4949-90b5-4c1bf5314ba5",
   "metadata": {},
   "outputs": [
    {
     "data": {
      "text/plain": [
       "1275"
      ]
     },
     "execution_count": 87,
     "metadata": {},
     "output_type": "execute_result"
    }
   ],
   "source": [
    "sumatoria(50)"
   ]
  },
  {
   "cell_type": "code",
   "execution_count": 89,
   "id": "b566539b-8cc8-4534-92b9-6bba5e3656d0",
   "metadata": {},
   "outputs": [
    {
     "data": {
      "text/plain": [
       "5050"
      ]
     },
     "execution_count": 89,
     "metadata": {},
     "output_type": "execute_result"
    }
   ],
   "source": [
    "sumatoria(100.22)"
   ]
  },
  {
   "cell_type": "markdown",
   "id": "3bc955e4-7bba-4364-8e41-6b1e11b4ae02",
   "metadata": {},
   "source": [
    "### Pregunta 21\n",
    "\n",
    "Programe una función en Python que recibe un número n y realice la sumatoria de los números\n",
    "enteros múltiplos de 5, comprendidos entre el 1 y el n."
   ]
  },
  {
   "cell_type": "code",
   "execution_count": 90,
   "id": "87b5d594-b987-45c3-8033-47f934a89009",
   "metadata": {},
   "outputs": [],
   "source": [
    "def sumatoria_mult5(n):\n",
    "    try:\n",
    "        parte_entera=math.floor(n)\n",
    "        return sum([i for i in range(1,parte_entera+1) if i%5==0])\n",
    "    except:\n",
    "        print(\"Introduzca un numero positivo\")"
   ]
  },
  {
   "cell_type": "code",
   "execution_count": 96,
   "id": "08f20187-2449-4d5b-9a5a-9b976600a703",
   "metadata": {},
   "outputs": [
    {
     "data": {
      "text/plain": [
       "75"
      ]
     },
     "execution_count": 96,
     "metadata": {},
     "output_type": "execute_result"
    }
   ],
   "source": [
    "sumatoria_mult5(27.45)"
   ]
  },
  {
   "cell_type": "code",
   "execution_count": 97,
   "id": "527fc0e6-d4c6-4095-87ae-18359a5b5118",
   "metadata": {},
   "outputs": [
    {
     "data": {
      "text/plain": [
       "75"
      ]
     },
     "execution_count": 97,
     "metadata": {},
     "output_type": "execute_result"
    }
   ],
   "source": [
    "5+10+15+20+25"
   ]
  },
  {
   "cell_type": "markdown",
   "id": "9e65a05a-0a72-45f0-8fe1-a399b413c384",
   "metadata": {},
   "source": [
    "### Pregunta 22\n",
    "\n",
    "Programe en Python una función que genera 50 números al azar entre 1 y 400. Luego de esos\n",
    "50 números la función calcula y retorna qué porcentaje son pares."
   ]
  },
  {
   "cell_type": "code",
   "execution_count": 107,
   "id": "1a100466-8aff-44b4-8376-8c8c9c218eed",
   "metadata": {},
   "outputs": [],
   "source": [
    "def preg_22():\n",
    "    enteros_random=np.random.randint(size=50, low=10, high=401)\n",
    "    cantidad_pares=len([i for i in enteros_random if i%2==0])\n",
    "    return cantidad_pares/50*100"
   ]
  },
  {
   "cell_type": "code",
   "execution_count": 111,
   "id": "92941332-8159-4a34-9bd0-96fe71fb9798",
   "metadata": {},
   "outputs": [
    {
     "name": "stdout",
     "output_type": "stream",
     "text": [
      "34%\n",
      "57%\n",
      "48%\n",
      "52%\n",
      "54%\n",
      "57%\n",
      "52%\n",
      "50%\n",
      "36%\n",
      "48%\n"
     ]
    }
   ],
   "source": [
    "### Varias simulaciones\n",
    "for i in range(10):\n",
    "    print(f\"{int(preg_22())}%\")"
   ]
  },
  {
   "cell_type": "markdown",
   "id": "1c7014b4-1f38-4cde-859e-5c5dddb2dc4e",
   "metadata": {},
   "source": [
    "### Pregunta 23\n",
    "\n",
    "Programe en Python una función que genera 100 números al azar entre 1 y 500 y luego calcula\n",
    "cuántos están entre el 50 y 450, ambos inclusive."
   ]
  },
  {
   "cell_type": "code",
   "execution_count": 113,
   "id": "4d8d76ca-9b91-4bd1-b684-14da2eae0b40",
   "metadata": {},
   "outputs": [],
   "source": [
    "def preg_23():\n",
    "    enteros_random=np.random.randint(size=100, low=1, high=501)\n",
    "    cantidad_rango=len([i for i in enteros_random if i>=50 and i<=450])\n",
    "    return cantidad_rango"
   ]
  },
  {
   "cell_type": "code",
   "execution_count": 114,
   "id": "3030b2a7-44c5-4f60-9864-4fcaec6e1b79",
   "metadata": {},
   "outputs": [
    {
     "name": "stdout",
     "output_type": "stream",
     "text": [
      "76 enteros en [50,450]\n",
      "81 enteros en [50,450]\n",
      "72 enteros en [50,450]\n",
      "80 enteros en [50,450]\n",
      "87 enteros en [50,450]\n",
      "84 enteros en [50,450]\n",
      "78 enteros en [50,450]\n",
      "82 enteros en [50,450]\n",
      "82 enteros en [50,450]\n",
      "83 enteros en [50,450]\n"
     ]
    }
   ],
   "source": [
    "### Varias simulaciones\n",
    "for i in range(10):\n",
    "    print(f\"{int(preg_23())} enteros en [50,450]\")"
   ]
  },
  {
   "cell_type": "markdown",
   "id": "ce909202-e20f-428b-89a1-53000f1276f4",
   "metadata": {},
   "source": [
    "### Pregunta 24\n",
    "\n",
    "Desarrolle una función en Python que calcula el costo de una llamada telefónica que ha durado $t$\n",
    "minutos sabiendo que si $t < 1$ el costo es de $0.4$ dólares, mientras que para duraciones superiores\n",
    "el costo es de $0.4 + (t - 1)/4$ dólares, la función debe recibir el valor de $t$."
   ]
  },
  {
   "cell_type": "code",
   "execution_count": 115,
   "id": "403f2ea6-4710-4a91-be34-136261358d3d",
   "metadata": {},
   "outputs": [],
   "source": [
    "def precio_llamada(t):\n",
    "    if t<1:\n",
    "        costo=0.4\n",
    "    elif t>0:\n",
    "        costo = 0.4 + (t-1)/4\n",
    "    return costo"
   ]
  },
  {
   "cell_type": "code",
   "execution_count": 116,
   "id": "c1dbc96f-ed9d-4fb1-8f18-764c03634e0e",
   "metadata": {},
   "outputs": [
    {
     "data": {
      "text/plain": [
       "0.4"
      ]
     },
     "execution_count": 116,
     "metadata": {},
     "output_type": "execute_result"
    }
   ],
   "source": [
    "precio_llamada(0.56)"
   ]
  },
  {
   "cell_type": "code",
   "execution_count": 117,
   "id": "bd555edb-f7bb-4e51-8d83-053c93d8139d",
   "metadata": {},
   "outputs": [
    {
     "data": {
      "text/plain": [
       "0.625"
      ]
     },
     "execution_count": 117,
     "metadata": {},
     "output_type": "execute_result"
    }
   ],
   "source": [
    "precio_llamada(t=1.9)"
   ]
  },
  {
   "cell_type": "markdown",
   "id": "4f4b86ed-0321-463c-8465-aede1c11fa89",
   "metadata": {},
   "source": [
    "### Pregunta 25\n",
    "\n",
    "Desarrolle una función en Python que reciba un vector de números reales y un número real x,\n",
    "tal que retorne el porcentaje de elementos menores o iguales a un valor x."
   ]
  },
  {
   "cell_type": "code",
   "execution_count": 118,
   "id": "3a90ec2b-913c-47ba-98ad-0921286e9688",
   "metadata": {},
   "outputs": [],
   "source": [
    "def preg_25(vector,x):\n",
    "    if len(vector)>0:\n",
    "        num_menor_x = [i for i in vector if i<x]\n",
    "        return len(num_menor_x)/len(vector)*100"
   ]
  },
  {
   "cell_type": "code",
   "execution_count": 119,
   "id": "04c258be-05da-4efb-b1d5-72f363405005",
   "metadata": {},
   "outputs": [
    {
     "data": {
      "text/plain": [
       "25.0"
      ]
     },
     "execution_count": 119,
     "metadata": {},
     "output_type": "execute_result"
    }
   ],
   "source": [
    "preg_25(vector=[23,288,245,199,12,890,1220,223,900,17,14,290,1000,1001,1002,1003],x=56)"
   ]
  },
  {
   "cell_type": "markdown",
   "id": "11fd916d-d39a-4ca0-8a4e-e8d85ae92b60",
   "metadata": {},
   "source": [
    "### Pregunta 26\n",
    "\n",
    "Desarrolle una función en Python que recibe 4 números `(x1, x2, y1, y2)`. La función debe calcular\n",
    "la distancia entre dos puntos y mostrar mediante texto el resultado, para ello use la fórmula:\n",
    "$$d = \\sqrt{(x_2 - x_1)^2 + (y_2 - y_1)^2}.$$"
   ]
  },
  {
   "cell_type": "code",
   "execution_count": 122,
   "id": "9ceb639c-3d28-40db-80df-5893bbc26b47",
   "metadata": {},
   "outputs": [
    {
     "data": {
      "text/plain": [
       "1.4142135623730951"
      ]
     },
     "execution_count": 122,
     "metadata": {},
     "output_type": "execute_result"
    }
   ],
   "source": [
    "def distancia_euclidea(x1,x2,y1,y2):\n",
    "    return math.sqrt( (x2-x1)**2 + (y2-y1)**2 )\n",
    "\n",
    "distancia_euclidea(2,3,4,5)"
   ]
  },
  {
   "cell_type": "markdown",
   "id": "96caff3b-f10b-4518-9114-b701ac43c26d",
   "metadata": {},
   "source": [
    "### Pregunta 27\n",
    "\n",
    "Desarrolle una función que recibe la cantidad de entradas que una persona desea comprar\n",
    "para un espectáculo y el precio de las mismas (todas valen igual), luego debe calcular el pago\n",
    "a realizar por la(s) entrada(s) tomando en cuenta que se pueden comprar sólo hasta cuatro\n",
    "entradas, que al costo de dos entradas se les descuenta el 15%, que al de tres entrada el 20%\n",
    "y que a la compra de cuatro entradas se le descuenta el 25%. Realice además una función de\n",
    "validación que evite que una persona compre más de cuatro entradas."
   ]
  },
  {
   "cell_type": "code",
   "execution_count": 138,
   "id": "c8d3b5f8-e390-4202-abdb-f0e33e36440d",
   "metadata": {},
   "outputs": [],
   "source": [
    "def preg_27(cant_entradas,precio):\n",
    "    \n",
    "    if cant_entradas>4:\n",
    "        raise Exception(\"Se pueden comprar solo hasta cuatro entradas\")\n",
    "    else:\n",
    "        costo_total= cant_entradas*precio\n",
    "        \n",
    "        if cant_entradas==2:\n",
    "            costo_total= costo_total*0.85\n",
    "        elif cant_entradas==3:\n",
    "            costo_total= costo_total*0.8\n",
    "        elif cant_entradas==4:\n",
    "            costo_total= costo_total*0.75\n",
    "        return costo_total"
   ]
  },
  {
   "cell_type": "code",
   "execution_count": 140,
   "id": "b74d47bd-7208-4726-b1c0-5c5375498d25",
   "metadata": {},
   "outputs": [
    {
     "data": {
      "text/plain": [
       "237.60000000000002"
      ]
     },
     "execution_count": 140,
     "metadata": {},
     "output_type": "execute_result"
    }
   ],
   "source": [
    "preg_27(3,99)"
   ]
  },
  {
   "cell_type": "code",
   "execution_count": 141,
   "id": "0e0e6281-0994-45fa-aa5f-6ff1c7b8aa30",
   "metadata": {},
   "outputs": [
    {
     "data": {
      "text/plain": [
       "99"
      ]
     },
     "execution_count": 141,
     "metadata": {},
     "output_type": "execute_result"
    }
   ],
   "source": [
    "preg_27(1,99)"
   ]
  },
  {
   "cell_type": "code",
   "execution_count": 142,
   "id": "962d36f0-e740-40c7-8d7b-acaf428afddf",
   "metadata": {},
   "outputs": [
    {
     "ename": "Exception",
     "evalue": "Se pueden comprar solo hasta cuatro entradas",
     "output_type": "error",
     "traceback": [
      "\u001b[1;31m---------------------------------------------------------------------------\u001b[0m",
      "\u001b[1;31mException\u001b[0m                                 Traceback (most recent call last)",
      "\u001b[1;32m~\\AppData\\Local\\Temp/ipykernel_16576/761372331.py\u001b[0m in \u001b[0;36m<module>\u001b[1;34m\u001b[0m\n\u001b[1;32m----> 1\u001b[1;33m \u001b[0mpreg_27\u001b[0m\u001b[1;33m(\u001b[0m\u001b[1;36m5\u001b[0m\u001b[1;33m,\u001b[0m\u001b[1;36m99\u001b[0m\u001b[1;33m)\u001b[0m\u001b[1;33m\u001b[0m\u001b[1;33m\u001b[0m\u001b[0m\n\u001b[0m",
      "\u001b[1;32m~\\AppData\\Local\\Temp/ipykernel_16576/3039594914.py\u001b[0m in \u001b[0;36mpreg_27\u001b[1;34m(cant_entradas, precio)\u001b[0m\n\u001b[0;32m      2\u001b[0m \u001b[1;33m\u001b[0m\u001b[0m\n\u001b[0;32m      3\u001b[0m     \u001b[1;32mif\u001b[0m \u001b[0mcant_entradas\u001b[0m\u001b[1;33m>\u001b[0m\u001b[1;36m4\u001b[0m\u001b[1;33m:\u001b[0m\u001b[1;33m\u001b[0m\u001b[1;33m\u001b[0m\u001b[0m\n\u001b[1;32m----> 4\u001b[1;33m         \u001b[1;32mraise\u001b[0m \u001b[0mException\u001b[0m\u001b[1;33m(\u001b[0m\u001b[1;34m\"Se pueden comprar solo hasta cuatro entradas\"\u001b[0m\u001b[1;33m)\u001b[0m\u001b[1;33m\u001b[0m\u001b[1;33m\u001b[0m\u001b[0m\n\u001b[0m\u001b[0;32m      5\u001b[0m     \u001b[1;32melse\u001b[0m\u001b[1;33m:\u001b[0m\u001b[1;33m\u001b[0m\u001b[1;33m\u001b[0m\u001b[0m\n\u001b[0;32m      6\u001b[0m         \u001b[0mcosto_total\u001b[0m\u001b[1;33m=\u001b[0m \u001b[0mcant_entradas\u001b[0m\u001b[1;33m*\u001b[0m\u001b[0mprecio\u001b[0m\u001b[1;33m\u001b[0m\u001b[1;33m\u001b[0m\u001b[0m\n",
      "\u001b[1;31mException\u001b[0m: Se pueden comprar solo hasta cuatro entradas"
     ]
    }
   ],
   "source": [
    "preg_27(5,99)"
   ]
  },
  {
   "cell_type": "markdown",
   "id": "b9291a85-552a-447f-becb-97d175dbb421",
   "metadata": {},
   "source": [
    "### Pregunta 28\n",
    "\n",
    "Desarrolle una función que reciba un número natural $n$ (suponiendo que $n > 1$) y que construya\n",
    "y retorne un vector $v$ de tamaño $n$ tal que $v_k = v_{k-1}/3 + 0.5$ para $k = 1,\\cdots, n$ y siendo que\n",
    "$v_0 = 1$."
   ]
  },
  {
   "cell_type": "code",
   "execution_count": 128,
   "id": "1c1a7fc1-e19d-4752-b0c9-0cecd1c28964",
   "metadata": {},
   "outputs": [
    {
     "data": {
      "text/plain": [
       "[1,\n",
       " 0.8333333333333333,\n",
       " 0.7777777777777777,\n",
       " 0.7592592592592593,\n",
       " 0.7530864197530864,\n",
       " 0.7510288065843622,\n",
       " 0.7503429355281208,\n",
       " 0.7501143118427069,\n",
       " 0.750038103947569,\n",
       " 0.7500127013158564,\n",
       " 0.7500042337719521]"
      ]
     },
     "execution_count": 128,
     "metadata": {},
     "output_type": "execute_result"
    }
   ],
   "source": [
    "def preg_28(n):\n",
    "    v=[1]\n",
    "    vk_1=1\n",
    "    for i in range(1,n+1):\n",
    "        vk=vk_1/3 + 0.5\n",
    "        v.append(vk)\n",
    "        vk_1=vk\n",
    "    return v\n",
    "preg_28(10)"
   ]
  },
  {
   "cell_type": "markdown",
   "id": "78383271-ddc7-4d33-950e-d66965505052",
   "metadata": {},
   "source": [
    "### Pregunta 29\n",
    "\n",
    "Desarrolle una función que construye y retorna una matriz $A$ de tamaño $m \\times n$ cuya entrada\n",
    "génerica es $i^2 - j$, es decir $a_{ij} = i^2 - j$."
   ]
  },
  {
   "cell_type": "code",
   "execution_count": 135,
   "id": "1cbdbe74-6a66-4f6b-b6d3-4ce60e5fa8b2",
   "metadata": {},
   "outputs": [
    {
     "data": {
      "text/plain": [
       "array([[  0,  -3,  -8, -15],\n",
       "       [  3,   0,  -5, -12],\n",
       "       [  8,   5,   0,  -7]])"
      ]
     },
     "execution_count": 135,
     "metadata": {},
     "output_type": "execute_result"
    }
   ],
   "source": [
    "def preg_29(m,n):\n",
    "    lista_filas=[]\n",
    "    for i in range(m):\n",
    "        lista_filas.append([(i+1)**2-(j+1)**2 for j in range(n)])\n",
    "    return np.array(lista_filas)\n",
    "preg_29(3,4)"
   ]
  },
  {
   "cell_type": "markdown",
   "id": "afcb8600-ee96-470c-9910-6da4d0968f70",
   "metadata": {},
   "source": [
    "### Pregunta 30\n",
    "\n",
    "Desarrolle una función que recibe una matriz cuadrada $A$ de tamaño $n \\times n$ y calcula su traza\n",
    "(utilizando `for`), es decir, la suma de los elementos de la diagonal. Por ejemplo, la traza de la\n",
    "siguiente matriz:\n",
    "$$\n",
    "B=\\begin{pmatrix}\n",
    "8 & 3 & 24 \\\\\n",
    "12 & 13 & -11 \\\\\n",
    "14 & 12 & -6\n",
    "\\end{pmatrix}\n",
    "$$\n",
    "es $15$."
   ]
  },
  {
   "cell_type": "code",
   "execution_count": 125,
   "id": "aaa68233-d46d-484a-a2e1-03af211d55ec",
   "metadata": {},
   "outputs": [],
   "source": [
    "def traza(A):\n",
    "    try:\n",
    "        \n",
    "        ### Se supone que la matriz será cuadrada.\n",
    "        n=len(A)\n",
    "        m=len(A[0])\n",
    "        \n",
    "        if n==m:\n",
    "            traza= sum([A[i][i] for i in range(n)])\n",
    "            return traza\n",
    "        else:\n",
    "            raise Exception(\"La matriz no es cuadrada\")\n",
    "        \n",
    "    except Exception as e:\n",
    "        print(f\"Error: {e}\")"
   ]
  },
  {
   "cell_type": "code",
   "execution_count": 126,
   "id": "17a700f7-2d36-4db9-9b76-7a625d7eb169",
   "metadata": {},
   "outputs": [
    {
     "data": {
      "text/plain": [
       "15"
      ]
     },
     "execution_count": 126,
     "metadata": {},
     "output_type": "execute_result"
    }
   ],
   "source": [
    "B=np.array([\n",
    "    [8,3,24],\n",
    "    [12,13,-11],\n",
    "    [14,12,-6]\n",
    "])\n",
    "\n",
    "traza(B)"
   ]
  },
  {
   "cell_type": "markdown",
   "id": "09c97b16-c0a9-471c-8054-da721a544e84",
   "metadata": {},
   "source": [
    "### Pregunta 31\n",
    "\n",
    "Desarrolle una función que reciba dos números enteros a y b, tal que, en un diccionario retorne\n",
    "el Máximo Común Divisor (MCD) y el mínimo común múltiplo (mcm). Para calcular el MCD\n",
    "puede utilizar la función `gcd` del paquete `math`. La fórmula para calcular el mcm es la siguiente:\n",
    "$$mcm(a, b) = \\frac{a \\cdot b}{MCD(a, b)}$$"
   ]
  },
  {
   "cell_type": "code",
   "execution_count": 124,
   "id": "696106c0-f647-4b0d-a4de-179950a49479",
   "metadata": {},
   "outputs": [
    {
     "data": {
      "text/plain": [
       "{'mcd': 4, 'mcm': 12539072}"
      ]
     },
     "execution_count": 124,
     "metadata": {},
     "output_type": "execute_result"
    }
   ],
   "source": [
    "def mcd_mcm(a,b):\n",
    "    try:\n",
    "        \n",
    "        mcd=math.gcd(a,b)\n",
    "        mcm= int((a*b)/mcd)\n",
    "        \n",
    "        return {\n",
    "            \"mcd\":mcd,\n",
    "            \"mcm\":mcm\n",
    "        }\n",
    "        \n",
    "    except Exception as e:\n",
    "        print(f\"Error: {e}\")\n",
    "        \n",
    "mcd_mcm(5824,8612)"
   ]
  },
  {
   "cell_type": "markdown",
   "id": "3a620144-401c-4c07-83c6-6577d600299d",
   "metadata": {},
   "source": [
    "### Pregunta 32\n",
    "\n",
    "Desarrolle una función que recibe una matriz cuadrada $A$ de tamaño $n \\times n$ y retorna su\n",
    "transpuesta (utilizando for). Por ejemplo, la transpuesta de la matriz $A$:\n",
    "\n",
    "$$\n",
    "A= \\begin{pmatrix}\n",
    "46 & 30 & 6 \\\\\n",
    "4 & 2 & 54 \\\\\n",
    "-7 & -5 & -11\n",
    "\\end{pmatrix}\n",
    "$$\n",
    "\n",
    "es la siguiente matriz $A^t$:\n",
    "\n",
    "$$\n",
    "A^t= \\begin{pmatrix}\n",
    "46 & 4 & -7 \\\\\n",
    "30 & 2 & -5 \\\\\n",
    "6 & 54 & -11\n",
    "\\end{pmatrix}\n",
    "$$\n"
   ]
  },
  {
   "cell_type": "code",
   "execution_count": 150,
   "id": "bcac62e9-7caf-4ae6-b812-aec7c7e35d7e",
   "metadata": {},
   "outputs": [
    {
     "data": {
      "text/plain": [
       "array([[ 46,   4,  -7],\n",
       "       [ 30,   2,  -5],\n",
       "       [  6,  54, -11]])"
      ]
     },
     "execution_count": 150,
     "metadata": {},
     "output_type": "execute_result"
    }
   ],
   "source": [
    "def transpuesta(A):\n",
    "    \n",
    "    ### Recibe y regresa un objeto de numpy\n",
    "    n=len(A)\n",
    "    m=len(A[0])\n",
    "    \n",
    "    At=[]\n",
    "    \n",
    "    for j in range(n):\n",
    "        \n",
    "        ### Obtenemos la columna j esima\n",
    "        col = [A[i][j] for i in range(m)]\n",
    "        ### La agregamos como fila\n",
    "        At.append(col)\n",
    "        \n",
    "    At=np.array(At)\n",
    "    return At\n",
    "\n",
    "A=np.array([\n",
    "    [46,30,6],\n",
    "    [4,2,54],\n",
    "    [-7,-5,-11]\n",
    "])    \n",
    "\n",
    "transpuesta(A)"
   ]
  },
  {
   "cell_type": "markdown",
   "id": "dc207618-8f46-483d-a4bb-035f5d7fedcb",
   "metadata": {},
   "source": [
    "### Pregunta 33\n",
    "\n",
    "Desarrolle una función en Python que recibe una lista de edades y retorna que porcentaje son\n",
    "mayores de 18 años y que porcentaje tienen 18 o menos años."
   ]
  },
  {
   "cell_type": "code",
   "execution_count": 148,
   "id": "9055e341-ce55-48e9-b3e0-66ed0790c5c0",
   "metadata": {},
   "outputs": [],
   "source": [
    "def preg_33(lista_edades):\n",
    "    \n",
    "    ### Si la lista tiene elementos y todos son enteros.\n",
    "    if len(lista_edades)>0 and not False in [isinstance(i,int) for i in lista_edades] and min(lista_edades)>0:\n",
    "        \n",
    "        porc_menor_18 = len([i for i in lista_edades if i<=18])/len(lista_edades)*100\n",
    "        porc_mayor_18 = 100 - porc_menor_18\n",
    "\n",
    "        return {\n",
    "            \"porcentaje mayor 18\" : porc_mayor_18,\n",
    "            \"porcentaje menor o igual a 18\" : porc_menor_18\n",
    "        }\n",
    "    else:\n",
    "        raise Exception(\"ingrese una lista de enteros positivos\")"
   ]
  },
  {
   "cell_type": "code",
   "execution_count": 149,
   "id": "7224f4dd-a885-42ca-ad59-17d972b531f3",
   "metadata": {},
   "outputs": [
    {
     "data": {
      "text/plain": [
       "{'porcentaje mayor 18': 45.45454545454546,\n",
       " 'porcentaje menor o igual a 18': 54.54545454545454}"
      ]
     },
     "execution_count": 149,
     "metadata": {},
     "output_type": "execute_result"
    }
   ],
   "source": [
    "preg_33(lista_edades=[18,19,20,13,12,90,67,12,3,5,56])"
   ]
  },
  {
   "cell_type": "markdown",
   "id": "5b4b2f83-a10c-404f-a47f-3a7b6ca7140e",
   "metadata": {},
   "source": [
    "### Pregunta 34\n",
    "\n",
    "Desarrolle una función que recibe un DataFrame y un nombre de columna y que retorne\n",
    "un diccionario con los valores de la media, mínimo, máximo y varianza de dicha columna del\n",
    "dataframe. Verifique la correctitud de esta función usando la tabla `celulares.csv` y la columna\n",
    "`battery_power`."
   ]
  },
  {
   "cell_type": "code",
   "execution_count": 172,
   "id": "d62e3dde-b275-49a8-bb62-fad95abfd146",
   "metadata": {},
   "outputs": [],
   "source": [
    "def preg_34(data,columna):\n",
    "    \n",
    "    if str(data.dtypes[columna])!='object':\n",
    "        ### si la columna no es de caracteres\n",
    "        \n",
    "        return {\n",
    "            \"media\": np.mean(data[columna]),\n",
    "            \"minimo\": min(data[columna]),\n",
    "            \"maximo\": max(data[columna]),\n",
    "            \"varianza\": np.var(data[columna])\n",
    "        }\n",
    "    \n",
    "    else:\n",
    "        raise Exception(\"La columna debe ser numerica\")"
   ]
  },
  {
   "cell_type": "code",
   "execution_count": 173,
   "id": "c4c941ec-ec31-4d2e-97bc-966fdb5167ab",
   "metadata": {},
   "outputs": [
    {
     "data": {
      "text/html": [
       "<div>\n",
       "<style scoped>\n",
       "    .dataframe tbody tr th:only-of-type {\n",
       "        vertical-align: middle;\n",
       "    }\n",
       "\n",
       "    .dataframe tbody tr th {\n",
       "        vertical-align: top;\n",
       "    }\n",
       "\n",
       "    .dataframe thead th {\n",
       "        text-align: right;\n",
       "    }\n",
       "</style>\n",
       "<table border=\"1\" class=\"dataframe\">\n",
       "  <thead>\n",
       "    <tr style=\"text-align: right;\">\n",
       "      <th></th>\n",
       "      <th>battery_power</th>\n",
       "      <th>blue</th>\n",
       "      <th>clock_speed</th>\n",
       "      <th>dual_sim</th>\n",
       "      <th>fc</th>\n",
       "      <th>four_g</th>\n",
       "      <th>int_memory</th>\n",
       "      <th>m_dep</th>\n",
       "      <th>mobile_wt</th>\n",
       "      <th>n_cores</th>\n",
       "      <th>pc</th>\n",
       "      <th>px_height</th>\n",
       "      <th>px_width</th>\n",
       "      <th>ram</th>\n",
       "      <th>sc_h</th>\n",
       "      <th>sc_w</th>\n",
       "      <th>talk_time</th>\n",
       "      <th>three_g</th>\n",
       "      <th>touch_screen</th>\n",
       "      <th>wifi</th>\n",
       "    </tr>\n",
       "  </thead>\n",
       "  <tbody>\n",
       "    <tr>\n",
       "      <th>0</th>\n",
       "      <td>1043</td>\n",
       "      <td>1</td>\n",
       "      <td>1.8</td>\n",
       "      <td>1</td>\n",
       "      <td>14</td>\n",
       "      <td>0</td>\n",
       "      <td>5</td>\n",
       "      <td>0.1</td>\n",
       "      <td>193</td>\n",
       "      <td>3</td>\n",
       "      <td>16</td>\n",
       "      <td>226</td>\n",
       "      <td>1412</td>\n",
       "      <td>3476</td>\n",
       "      <td>12</td>\n",
       "      <td>7</td>\n",
       "      <td>2</td>\n",
       "      <td>0</td>\n",
       "      <td>1</td>\n",
       "      <td>0</td>\n",
       "    </tr>\n",
       "    <tr>\n",
       "      <th>1</th>\n",
       "      <td>841</td>\n",
       "      <td>1</td>\n",
       "      <td>0.5</td>\n",
       "      <td>1</td>\n",
       "      <td>4</td>\n",
       "      <td>1</td>\n",
       "      <td>61</td>\n",
       "      <td>0.8</td>\n",
       "      <td>191</td>\n",
       "      <td>5</td>\n",
       "      <td>12</td>\n",
       "      <td>746</td>\n",
       "      <td>857</td>\n",
       "      <td>3895</td>\n",
       "      <td>6</td>\n",
       "      <td>0</td>\n",
       "      <td>7</td>\n",
       "      <td>1</td>\n",
       "      <td>0</td>\n",
       "      <td>0</td>\n",
       "    </tr>\n",
       "    <tr>\n",
       "      <th>2</th>\n",
       "      <td>1807</td>\n",
       "      <td>1</td>\n",
       "      <td>2.8</td>\n",
       "      <td>0</td>\n",
       "      <td>1</td>\n",
       "      <td>0</td>\n",
       "      <td>27</td>\n",
       "      <td>0.9</td>\n",
       "      <td>186</td>\n",
       "      <td>3</td>\n",
       "      <td>4</td>\n",
       "      <td>1270</td>\n",
       "      <td>1366</td>\n",
       "      <td>2396</td>\n",
       "      <td>17</td>\n",
       "      <td>10</td>\n",
       "      <td>10</td>\n",
       "      <td>0</td>\n",
       "      <td>1</td>\n",
       "      <td>1</td>\n",
       "    </tr>\n",
       "    <tr>\n",
       "      <th>3</th>\n",
       "      <td>1546</td>\n",
       "      <td>0</td>\n",
       "      <td>0.5</td>\n",
       "      <td>1</td>\n",
       "      <td>18</td>\n",
       "      <td>1</td>\n",
       "      <td>25</td>\n",
       "      <td>0.5</td>\n",
       "      <td>96</td>\n",
       "      <td>8</td>\n",
       "      <td>20</td>\n",
       "      <td>295</td>\n",
       "      <td>1752</td>\n",
       "      <td>3893</td>\n",
       "      <td>10</td>\n",
       "      <td>0</td>\n",
       "      <td>7</td>\n",
       "      <td>1</td>\n",
       "      <td>1</td>\n",
       "      <td>0</td>\n",
       "    </tr>\n",
       "    <tr>\n",
       "      <th>4</th>\n",
       "      <td>1434</td>\n",
       "      <td>0</td>\n",
       "      <td>1.4</td>\n",
       "      <td>0</td>\n",
       "      <td>11</td>\n",
       "      <td>1</td>\n",
       "      <td>49</td>\n",
       "      <td>0.5</td>\n",
       "      <td>108</td>\n",
       "      <td>6</td>\n",
       "      <td>18</td>\n",
       "      <td>749</td>\n",
       "      <td>810</td>\n",
       "      <td>1773</td>\n",
       "      <td>15</td>\n",
       "      <td>8</td>\n",
       "      <td>7</td>\n",
       "      <td>1</td>\n",
       "      <td>0</td>\n",
       "      <td>1</td>\n",
       "    </tr>\n",
       "    <tr>\n",
       "      <th>...</th>\n",
       "      <td>...</td>\n",
       "      <td>...</td>\n",
       "      <td>...</td>\n",
       "      <td>...</td>\n",
       "      <td>...</td>\n",
       "      <td>...</td>\n",
       "      <td>...</td>\n",
       "      <td>...</td>\n",
       "      <td>...</td>\n",
       "      <td>...</td>\n",
       "      <td>...</td>\n",
       "      <td>...</td>\n",
       "      <td>...</td>\n",
       "      <td>...</td>\n",
       "      <td>...</td>\n",
       "      <td>...</td>\n",
       "      <td>...</td>\n",
       "      <td>...</td>\n",
       "      <td>...</td>\n",
       "      <td>...</td>\n",
       "    </tr>\n",
       "    <tr>\n",
       "      <th>195</th>\n",
       "      <td>1202</td>\n",
       "      <td>0</td>\n",
       "      <td>0.8</td>\n",
       "      <td>0</td>\n",
       "      <td>2</td>\n",
       "      <td>0</td>\n",
       "      <td>49</td>\n",
       "      <td>0.5</td>\n",
       "      <td>131</td>\n",
       "      <td>1</td>\n",
       "      <td>8</td>\n",
       "      <td>197</td>\n",
       "      <td>1435</td>\n",
       "      <td>1177</td>\n",
       "      <td>15</td>\n",
       "      <td>13</td>\n",
       "      <td>7</td>\n",
       "      <td>1</td>\n",
       "      <td>1</td>\n",
       "      <td>1</td>\n",
       "    </tr>\n",
       "    <tr>\n",
       "      <th>196</th>\n",
       "      <td>885</td>\n",
       "      <td>0</td>\n",
       "      <td>0.5</td>\n",
       "      <td>1</td>\n",
       "      <td>2</td>\n",
       "      <td>0</td>\n",
       "      <td>3</td>\n",
       "      <td>0.5</td>\n",
       "      <td>163</td>\n",
       "      <td>7</td>\n",
       "      <td>8</td>\n",
       "      <td>813</td>\n",
       "      <td>1666</td>\n",
       "      <td>2887</td>\n",
       "      <td>5</td>\n",
       "      <td>1</td>\n",
       "      <td>13</td>\n",
       "      <td>0</td>\n",
       "      <td>0</td>\n",
       "      <td>1</td>\n",
       "    </tr>\n",
       "    <tr>\n",
       "      <th>197</th>\n",
       "      <td>1629</td>\n",
       "      <td>1</td>\n",
       "      <td>2.3</td>\n",
       "      <td>0</td>\n",
       "      <td>2</td>\n",
       "      <td>1</td>\n",
       "      <td>2</td>\n",
       "      <td>0.8</td>\n",
       "      <td>86</td>\n",
       "      <td>6</td>\n",
       "      <td>19</td>\n",
       "      <td>1055</td>\n",
       "      <td>1200</td>\n",
       "      <td>2178</td>\n",
       "      <td>19</td>\n",
       "      <td>10</td>\n",
       "      <td>18</td>\n",
       "      <td>1</td>\n",
       "      <td>1</td>\n",
       "      <td>0</td>\n",
       "    </tr>\n",
       "    <tr>\n",
       "      <th>198</th>\n",
       "      <td>1072</td>\n",
       "      <td>1</td>\n",
       "      <td>0.5</td>\n",
       "      <td>1</td>\n",
       "      <td>6</td>\n",
       "      <td>1</td>\n",
       "      <td>4</td>\n",
       "      <td>0.5</td>\n",
       "      <td>92</td>\n",
       "      <td>1</td>\n",
       "      <td>12</td>\n",
       "      <td>1019</td>\n",
       "      <td>1640</td>\n",
       "      <td>2878</td>\n",
       "      <td>7</td>\n",
       "      <td>5</td>\n",
       "      <td>13</td>\n",
       "      <td>1</td>\n",
       "      <td>0</td>\n",
       "      <td>1</td>\n",
       "    </tr>\n",
       "    <tr>\n",
       "      <th>199</th>\n",
       "      <td>1863</td>\n",
       "      <td>1</td>\n",
       "      <td>2.5</td>\n",
       "      <td>1</td>\n",
       "      <td>0</td>\n",
       "      <td>0</td>\n",
       "      <td>64</td>\n",
       "      <td>0.7</td>\n",
       "      <td>89</td>\n",
       "      <td>5</td>\n",
       "      <td>1</td>\n",
       "      <td>159</td>\n",
       "      <td>618</td>\n",
       "      <td>3201</td>\n",
       "      <td>5</td>\n",
       "      <td>4</td>\n",
       "      <td>19</td>\n",
       "      <td>1</td>\n",
       "      <td>1</td>\n",
       "      <td>0</td>\n",
       "    </tr>\n",
       "  </tbody>\n",
       "</table>\n",
       "<p>200 rows × 20 columns</p>\n",
       "</div>"
      ],
      "text/plain": [
       "     battery_power  blue  clock_speed  dual_sim  fc  four_g  int_memory  \\\n",
       "0             1043     1          1.8         1  14       0           5   \n",
       "1              841     1          0.5         1   4       1          61   \n",
       "2             1807     1          2.8         0   1       0          27   \n",
       "3             1546     0          0.5         1  18       1          25   \n",
       "4             1434     0          1.4         0  11       1          49   \n",
       "..             ...   ...          ...       ...  ..     ...         ...   \n",
       "195           1202     0          0.8         0   2       0          49   \n",
       "196            885     0          0.5         1   2       0           3   \n",
       "197           1629     1          2.3         0   2       1           2   \n",
       "198           1072     1          0.5         1   6       1           4   \n",
       "199           1863     1          2.5         1   0       0          64   \n",
       "\n",
       "     m_dep  mobile_wt  n_cores  pc  px_height  px_width   ram  sc_h  sc_w  \\\n",
       "0      0.1        193        3  16        226      1412  3476    12     7   \n",
       "1      0.8        191        5  12        746       857  3895     6     0   \n",
       "2      0.9        186        3   4       1270      1366  2396    17    10   \n",
       "3      0.5         96        8  20        295      1752  3893    10     0   \n",
       "4      0.5        108        6  18        749       810  1773    15     8   \n",
       "..     ...        ...      ...  ..        ...       ...   ...   ...   ...   \n",
       "195    0.5        131        1   8        197      1435  1177    15    13   \n",
       "196    0.5        163        7   8        813      1666  2887     5     1   \n",
       "197    0.8         86        6  19       1055      1200  2178    19    10   \n",
       "198    0.5         92        1  12       1019      1640  2878     7     5   \n",
       "199    0.7         89        5   1        159       618  3201     5     4   \n",
       "\n",
       "     talk_time  three_g  touch_screen  wifi  \n",
       "0            2        0             1     0  \n",
       "1            7        1             0     0  \n",
       "2           10        0             1     1  \n",
       "3            7        1             1     0  \n",
       "4            7        1             0     1  \n",
       "..         ...      ...           ...   ...  \n",
       "195          7        1             1     1  \n",
       "196         13        0             0     1  \n",
       "197         18        1             1     0  \n",
       "198         13        1             0     1  \n",
       "199         19        1             1     0  \n",
       "\n",
       "[200 rows x 20 columns]"
      ]
     },
     "execution_count": 173,
     "metadata": {},
     "output_type": "execute_result"
    }
   ],
   "source": [
    "celulares= pd.read_csv(\"celulares.csv\", delimiter = ',', decimal = \".\", header = 0)\n",
    "celulares"
   ]
  },
  {
   "cell_type": "code",
   "execution_count": 174,
   "id": "0db25ef5-c8ef-4897-9051-15f4b113b82b",
   "metadata": {},
   "outputs": [
    {
     "data": {
      "text/plain": [
       "{'media': 1264.875, 'minimo': 504, 'maximo': 1999, 'varianza': 189854.119375}"
      ]
     },
     "execution_count": 174,
     "metadata": {},
     "output_type": "execute_result"
    }
   ],
   "source": [
    "preg_34(data=celulares,columna=\"battery_power\")"
   ]
  },
  {
   "cell_type": "markdown",
   "id": "9cd8a70a-8ca1-4b55-8198-6df33bad57d1",
   "metadata": {},
   "source": [
    "### Pregunta 35\n",
    "\n",
    "Desarrolle una función que recibe un DataFrame y dos números de columna y que retorna\n",
    "la correlación entre esas dos variables. Verifique la correctitud de esta función usando la tabla\n",
    "`celulares.csv` y las columnas 5 y 6, que hacen referencia a las variables `four_g` y `int_memory`."
   ]
  },
  {
   "cell_type": "code",
   "execution_count": 184,
   "id": "68c8d31a-b32c-4df2-b49e-71206a2258a0",
   "metadata": {},
   "outputs": [],
   "source": [
    "def preg_35(data,num1,num2):\n",
    "    try:\n",
    "        corr= np.corrcoef(data.iloc[:,num1],data.iloc[:,num2])[1][0]\n",
    "        return corr\n",
    "    except:\n",
    "        print(\"Error\")"
   ]
  },
  {
   "cell_type": "code",
   "execution_count": 186,
   "id": "f5ca358c-4e48-4f0b-ba6b-729413573a26",
   "metadata": {},
   "outputs": [
    {
     "data": {
      "text/plain": [
       "0.04186883188175349"
      ]
     },
     "execution_count": 186,
     "metadata": {},
     "output_type": "execute_result"
    }
   ],
   "source": [
    "### Para aplicarla, encontramos los indices de esas dos columnas \n",
    "num1=celulares.columns.tolist().index(\"four_g\")\n",
    "num2=celulares.columns.tolist().index(\"int_memory\")\n",
    "\n",
    "preg_35(celulares,num1,num2)"
   ]
  }
 ],
 "metadata": {
  "kernelspec": {
   "display_name": "Python 3 (ipykernel)",
   "language": "python",
   "name": "python3"
  },
  "language_info": {
   "codemirror_mode": {
    "name": "ipython",
    "version": 3
   },
   "file_extension": ".py",
   "mimetype": "text/x-python",
   "name": "python",
   "nbconvert_exporter": "python",
   "pygments_lexer": "ipython3",
   "version": "3.9.8"
  }
 },
 "nbformat": 4,
 "nbformat_minor": 5
}

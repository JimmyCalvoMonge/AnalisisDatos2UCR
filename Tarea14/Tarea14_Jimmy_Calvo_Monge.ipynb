{
 "cells": [
  {
   "cell_type": "markdown",
   "id": "fd33b75b-24f2-427d-a7b2-66f4201e70c4",
   "metadata": {},
   "source": [
    "<style>\n",
    "    .title_container {\n",
    "        margin: auto;\n",
    "        background: rgb(81,92,103);\n",
    "        background: linear-gradient(90deg, rgba(81,92,103,1) 36%, rgba(12,35,66,1) 62%);\n",
    "        border-radius: 7px;\n",
    "        color: white;\n",
    "        text-align:center;\n",
    "        width:75%;\n",
    "        padding-top:2%;\n",
    "        padding-bottom:2%;\n",
    "    }\n",
    "    \n",
    "    .question_container {\n",
    "        margin: auto;\n",
    "        background: rgb(84,138,142);\n",
    "        background: linear-gradient(90deg, rgba(84,138,142,1) 41%, rgba(145,201,73,1) 81%);\n",
    "        border-radius: 7px;\n",
    "        color: white;\n",
    "        text-align:left;\n",
    "        width:75%;\n",
    "        padding-top:1%;\n",
    "        padding-bottom:1%;\n",
    "        padding-left: 2%;\n",
    "        margin-top:2%;\n",
    "    }\n",
    "    \n",
    "    .question_container p {\n",
    "        font-size: 16px;\n",
    "    }\n",
    "    \n",
    "    .alert_container {\n",
    "        margin: auto;\n",
    "        background: rgb(142,94,84);\n",
    "        background: linear-gradient(128deg, rgba(142,94,84,1) 13%, rgba(201,103,73,1) 69%);\n",
    "        border-radius: 7px;\n",
    "        color: white;\n",
    "        text-align:left;\n",
    "        width:75%;\n",
    "        padding-top:1%;\n",
    "        padding-bottom:1%;\n",
    "        padding-left: 2%;\n",
    "        margin-top:2%;\n",
    "    }\n",
    "    \n",
    "    .alert_container p {\n",
    "        font-size: 16px;\n",
    "    }\n",
    "    \n",
    "    .code_span {\n",
    "        background-color: #E2E7EC;\n",
    "        padding:2px;\n",
    "        border-radius:1px;\n",
    "        font-family: Consolas,monaco,monospace;\n",
    "        color:black;\n",
    "    }\n",
    "</style>"
   ]
  },
  {
   "cell_type": "markdown",
   "id": "814d925c-87b8-4e8f-86fd-db008e3e1e5d",
   "metadata": {},
   "source": [
    "<div class ='title_container'>\n",
    "    <h1> Análisis de Datos II </h1>\n",
    "    <h2> Profesor: Oldemar Rodríguez </h2>\n",
    "    <h3> Estudiante: Jimmy Calvo Monge </h3>\n",
    "    <h3> Carné: B31281 </h3>\n",
    "    <hr style='color:white; width:80%;'>\n",
    "    <h4> TAREA 14 </h4>\n",
    "    <h4> Fecha de entrega: 3 de Diciembre de 2022 </h4>\n",
    "</div>"
   ]
  },
  {
   "cell_type": "markdown",
   "id": "d287e6a4-124c-4cbb-80ac-c5861e4f03e2",
   "metadata": {},
   "source": [
    "Importamos los módulos necesarios para resolver esta tarea."
   ]
  },
  {
   "cell_type": "code",
   "execution_count": 1,
   "id": "816bdbad-6a42-42c8-9c87-e1b0e82a884d",
   "metadata": {},
   "outputs": [],
   "source": [
    "### Basicos\n",
    "import numpy as np\n",
    "import pandas as pd\n",
    "from pandas import DataFrame\n",
    "\n",
    "### Utilidades/Varios\n",
    "import matplotlib.pyplot as plt\n",
    "from matplotlib import colors as mcolors\n",
    "from matplotlib.patches import Circle\n",
    "from sklearn.tree import export_graphviz\n",
    "from sklearn import tree\n",
    "import seaborn as sns\n",
    "import time\n",
    "import graphviz\n",
    "import os\n",
    "\n",
    "### Training/Testing\n",
    "from sklearn.preprocessing import StandardScaler\n",
    "from sklearn.model_selection import train_test_split\n",
    "from sklearn.metrics import confusion_matrix\n",
    "\n",
    "#CV2\n",
    "import cv2\n",
    "\n",
    "import warnings\n",
    "warnings.filterwarnings('ignore')"
   ]
  },
  {
   "cell_type": "markdown",
   "id": "0a3565f9-2f66-4a1f-b44d-61d4de122857",
   "metadata": {},
   "source": [
    "<div class='question_container'>\n",
    "    <h2> Pregunta 1 </h2>\n",
    "    <p> Dada una Red Neuronal <code>RNNM</code> tipo <code>LTSM</code>, donde $\\tau(x)$ se define como sigue: </p>\n",
    "    $$\n",
    "    \\begin{align*}\n",
    "    \\tau(x) = \\begin{cases}\n",
    "    1 - \\frac{1}{1+x} & \\text{ si } x \\geq 0 \\\\\n",
    "    -1 + \\frac{-1}{1-x} & \\text{ si } x < 0. \n",
    "    \\end{cases}\n",
    "    \\end{align*}\n",
    "    $$\n",
    "    <p> Además </p>\n",
    "    $$\n",
    "    \\begin{align*}\n",
    "    &f_t = \\tau(W_{hf}h_{t-1} + W_{xf}x_t) \\\\\n",
    "    &i_t = \\tau(W_{hi}h_{t-1} + W_{xi}x_t) \\\\\n",
    "    &o_t = \\tau(W_{ho}h_{t-1} + W_{xo}x_t) \\\\\n",
    "    &g_t = \\tanh(W_{hg}h_{t-1} + W_{xg}x_t) \\\\\n",
    "    &h_0 = \\overrightarrow{0} \\\\\n",
    "    &c_t = f_t \\odot c_{t-1} + i_t \\odot g_t \\\\\n",
    "    &h_t = o_t \\odot \\tanh (c_t) \\\\\n",
    "    &c_0 = \\overrightarrow{0}\n",
    "    \\end{align*}\n",
    "    $$\n",
    "    <p>Además, se tiene que:</p>\n",
    "    $$\n",
    "    \\begin{align*}\n",
    "    &x_1 = \\begin{pmatrix}\n",
    "    2 \\\\\n",
    "    7 \\\\\n",
    "    3 \\\\\n",
    "    1 \\\\\n",
    "    1 \\\\\n",
    "    \\end{pmatrix}, \\quad x_2 = \\begin{pmatrix}\n",
    "    0 \\\\\n",
    "    1 \\\\\n",
    "    0 \\\\\n",
    "    1 \\\\\n",
    "    1 \\\\\n",
    "    \\end{pmatrix}, \\\\\n",
    "    &\n",
    "    W_{xf} = \\begin{pmatrix}\n",
    "    2&5&0&3 \\\\\n",
    "    0&3&8&2 \\\\\n",
    "    3&0&1&1 \\\\\n",
    "    0&1&2&0 \\\\\n",
    "    1&1&2&1 \\\\\n",
    "    \\end{pmatrix}, \\quad W_{hf} = \\begin{pmatrix}\n",
    "    1&0&1&1&2 \\\\\n",
    "    1&1&4&1&2 \\\\\n",
    "    3&0&1&1&1 \\\\\n",
    "    1&1&2&0&9 \\\\\n",
    "    1&1&1&1&1 \\\\\n",
    "    \\end{pmatrix}, \\\\\n",
    "    & W_{xi} = \\begin{pmatrix}\n",
    "    2&5&0&3 \\\\\n",
    "    0&3&8&2 \\\\\n",
    "    3&0&1&1 \\\\\n",
    "    0&1&2&0 \\\\\n",
    "    1&1&2&1 \\\\\n",
    "    \\end{pmatrix}, \\quad W_{hi} = \\begin{pmatrix}\n",
    "    1&0&1&1&2 \\\\\n",
    "    1&1&4&1&2 \\\\\n",
    "    3&0&1&1&1 \\\\\n",
    "    1&1&2&0&9 \\\\\n",
    "    1&1&1&1&1 \\\\\n",
    "    \\end{pmatrix}, \\\\\n",
    "    &W_{xo} = \\begin{pmatrix}\n",
    "    2&0&0&3 \\\\\n",
    "    0&3&0&2 \\\\\n",
    "    3&0&1&1 \\\\\n",
    "    0&1&0&0 \\\\\n",
    "    1&1&0&1 \\\\\n",
    "    \\end{pmatrix}, \\quad W_{ho} =\n",
    "    \\begin{pmatrix}\n",
    "    1&0&1&1&0 \\\\\n",
    "    1&1&0&1&2 \\\\\n",
    "    3&0&1&1&1 \\\\\n",
    "    1&1&0&0&9 \\\\\n",
    "    1&1&0&1&1 \\\\\n",
    "    \\end{pmatrix}, \\\\\n",
    "    & W_{xg} = \\begin{pmatrix}\n",
    "    2&0&0&0 \\\\\n",
    "    0&0&0&2 \\\\\n",
    "    0&0&1&1 \\\\\n",
    "    0&1&0&0 \\\\\n",
    "    1&1&0&1 \\\\\n",
    "    \\end{pmatrix}, \\quad W_{hg} = \\begin{pmatrix}\n",
    "    1&0&0&1&2 \\\\\n",
    "    1&1&0&1&2 \\\\\n",
    "    0&0&1&1&1 \\\\\n",
    "    1&1&0&0&0 \\\\\n",
    "    1&1&0&1&0 \\\\\n",
    "    \\end{pmatrix}.\n",
    "    \\end{align*}\n",
    "    $$\n",
    "    <ul>\n",
    "    <li> Calcule $h_1$ y $h_2$.</li>\n",
    "    <li> Prediga $y_2 = W_{hy}h_2$ para \n",
    "        $$\n",
    "        \\begin{align*}\n",
    "        W_{hy} = \\begin{pmatrix}\n",
    "        1&0&1&0&1 \\\\\n",
    "        0&1&0&1&1 \\\\\n",
    "        \\end{pmatrix}.\n",
    "        \\end{align*}\n",
    "        $$\n",
    "    </li>\n",
    "    </ul>\n",
    "</div>"
   ]
  },
  {
   "cell_type": "markdown",
   "id": "3f402c37-a590-4152-972e-0f08fbae7833",
   "metadata": {},
   "source": [
    "**Respuesta**\n",
    "\n",
    "1. En la primera iteración calculamos $f_1 = \\tau(W_{hf}h_{0} + W_{xf}x_1) = \\tau(W_{xf}x_1)$ ya que $h_0 = \\overrightarrow{0}$.\n",
    "\n",
    "Calculamos entonces $W_{xf}x_1$ que viene dado por\n",
    "\n",
    "$$\n",
    "\\begin{align*}\n",
    "W_{xf}x_1 = \\begin{pmatrix}\n",
    "    2&5&0&3 \\\\\n",
    "    0&3&8&2 \\\\\n",
    "    3&0&1&1 \\\\\n",
    "    0&1&2&0 \\\\\n",
    "    1&1&2&1\n",
    "    \\end{pmatrix}\\begin{pmatrix}\n",
    "    2 \\\\\n",
    "    7 \\\\\n",
    "    3 \\\\\n",
    "    1\n",
    "    \\end{pmatrix} = \\begin{pmatrix}42\\\\ 47\\\\ 10\\\\ 13\\\\ 16\\end{pmatrix}\n",
    "\\end{align*}\n",
    "$$\n",
    "Al aplicarle $\\tau$ tenemos que\n",
    "\n",
    "$$\n",
    "f_1 = \\tau \\begin{pmatrix}42\\\\ 47\\\\ 10\\\\ 13\\\\ 16\\end{pmatrix} = \\begin{pmatrix}0.9767\\\\ 0.9792\\\\ 0.9091\\\\ 0.9286\\\\ 0.9412 \\end{pmatrix}\n",
    "$$"
   ]
  },
  {
   "cell_type": "markdown",
   "id": "330f87b8-6f0c-4c81-adba-318e4aeb676d",
   "metadata": {},
   "source": [
    "Similarmente tenemos que $i_1$ viene dado por\n",
    "\n",
    "$$\n",
    "\\begin{align*}\n",
    " i_1 = \\tau(W_{hi}h_{0} + W_{xi}x_1) &= \\tau( W_{xi}x_1 ) \\\\\n",
    " &=\\tau \\left(\\begin{pmatrix}\n",
    "    2&5&0&3 \\\\\n",
    "    0&3&8&2 \\\\\n",
    "    3&0&1&1 \\\\\n",
    "    0&1&2&0 \\\\\n",
    "    1&1&2&1\n",
    "    \\end{pmatrix}\\begin{pmatrix}\n",
    "    2 \\\\\n",
    "    7 \\\\\n",
    "    3 \\\\\n",
    "    1\n",
    "    \\end{pmatrix} \\right)\\\\\n",
    "    &=\\tau \\begin{pmatrix}42\\\\ 47\\\\ 10\\\\ 13\\\\ 16\\end{pmatrix} \\\\\n",
    "    &=\\begin{pmatrix}0.9767\\\\ 0.9792\\\\ 0.9091\\\\ 0.9286\\\\ 0.9412 \\end{pmatrix}\n",
    "\\end{align*}\n",
    "$$\n",
    "El mismo resultado de arriba ya que $W_{xf} = W_{xi}$"
   ]
  },
  {
   "cell_type": "markdown",
   "id": "df1f30b2-31a5-4d8f-8399-1aaf17782950",
   "metadata": {},
   "source": [
    "Similarmente tenemos que $o_1$ viene dado por\n",
    "\n",
    "$$\n",
    "\\begin{align*}\n",
    " o_1 = \\tau(W_{ho}h_{0} + W_{xo}x_1) &= \\tau( W_{xo}x_1 ) \\\\\n",
    " &=\\tau \\left(\\begin{pmatrix}\n",
    "    2&0&0&3 \\\\\n",
    "    0&3&0&2 \\\\\n",
    "    3&0&1&1 \\\\\n",
    "    0&1&0&0 \\\\\n",
    "    1&1&0&1\n",
    "    \\end{pmatrix}\\begin{pmatrix}\n",
    "    2 \\\\\n",
    "    7 \\\\\n",
    "    3 \\\\\n",
    "    1\n",
    "    \\end{pmatrix} \\right)\\\\\n",
    "    &=\\tau \\begin{pmatrix}7\\\\ 23\\\\ 10\\\\ 7\\\\ 10\\end{pmatrix} \\\\\n",
    "    &=\\begin{pmatrix}0.8750 \\\\ 0.9583 \\\\ 0.9091 \\\\ 0.8750 \\\\ 0.9091 \\end{pmatrix}\n",
    "\\end{align*}\n",
    "$$"
   ]
  },
  {
   "cell_type": "markdown",
   "id": "d9c70a0c-cb21-4e5c-82b5-d8628555c9b8",
   "metadata": {},
   "source": [
    "Similarmente tenemos que $g_1$ viene dado por\n",
    "\n",
    "$$\n",
    "\\begin{align*}\n",
    " g_1 = \\tau(W_{hg}h_{0} + W_{xg}x_1) &= \\tau( W_{xg}x_1 ) \\\\\n",
    " &=\\tau \\left(\\begin{pmatrix}\n",
    "    2&0&0&0 \\\\\n",
    "    0&0&0&2 \\\\\n",
    "    0&0&1&1 \\\\\n",
    "    0&1&0&0 \\\\\n",
    "    1&1&0&1\n",
    "    \\end{pmatrix}\\begin{pmatrix}\n",
    "    2 \\\\\n",
    "    7 \\\\\n",
    "    3 \\\\\n",
    "    1\n",
    "    \\end{pmatrix} \\right)\\\\\n",
    "    &=\\tau \\begin{pmatrix}4\\\\ 2\\\\ 4\\\\ 7\\\\ 10\\end{pmatrix} \\\\\n",
    "    &=\\begin{pmatrix}0.8\\\\ 0.6667\\\\ 0.8 \\\\0.8750\\\\ 0.9091 \\end{pmatrix}\n",
    "\\end{align*}\n",
    "$$"
   ]
  },
  {
   "cell_type": "markdown",
   "id": "8479eba0-f34a-4b09-b7b0-1ed19a6ead8d",
   "metadata": {},
   "source": [
    "Luego usamos que \n",
    "\n",
    "$$\n",
    "\\begin{align*}\n",
    "c_1 = f_1 \\odot c_{0} + i_1 \\odot g_1 &= i_1 \\odot g_1 = \\begin{pmatrix}0.9767\\\\ 0.9792\\\\ 0.9091\\\\ 0.9286\\\\ 0.9412 \\end{pmatrix} \\odot \\begin{pmatrix}0.8\\\\ 0.6667\\\\ 0.8 \\\\0.8750\\\\ 0.9091 \\end{pmatrix} = \\begin{pmatrix} 0.78139 \\\\ 0.65278 \\\\ 0.72727 \\\\0.8125\\\\ 0.85561\\end{pmatrix}.\n",
    "\\end{align*}\n",
    "$$\n",
    "\n",
    "Hemos truncado los números decimales. Los cálculos están abajo, se hicieron con `numpy`. Por otro lado:\n",
    "\n",
    "$$\n",
    "\\begin{align*}\n",
    "h_1 = o_1 \\odot \\tanh (c_1) = \\begin{pmatrix}0.8750 \\\\ 0.9583 \\\\ 0.9091 \\\\ 0.8750 \\\\ 0.9091 \\end{pmatrix} \\odot \\tanh \\begin{pmatrix} 0.78139 \\\\ 0.65278 \\\\ 0.72727 \\\\0.8125\\\\ 0.85561\\end{pmatrix} = \\begin{pmatrix}0.5718\\\\ 0.5496\\\\ 0.5649\\\\ 0.5871\\\\ 0.6309\\end{pmatrix}\n",
    "\\end{align*}\n",
    "$$"
   ]
  },
  {
   "cell_type": "code",
   "execution_count": 3,
   "id": "5cbcca28-8362-46cc-9792-88ac8d9a747a",
   "metadata": {},
   "outputs": [],
   "source": [
    "def tau(x):\n",
    "    if x>=0:\n",
    "        return 1 - 1/(1+x)\n",
    "    else:\n",
    "        return -1 -1/(1-x)\n",
    "    \n",
    "tau_vect = np.vectorize(tau)"
   ]
  },
  {
   "cell_type": "code",
   "execution_count": 11,
   "id": "b8f911cd-00d0-49e0-a68b-707ca16ff238",
   "metadata": {},
   "outputs": [
    {
     "data": {
      "text/plain": [
       "array([0.97674419, 0.97916667, 0.90909091, 0.92857143, 0.94117647])"
      ]
     },
     "execution_count": 11,
     "metadata": {},
     "output_type": "execute_result"
    }
   ],
   "source": [
    "f_1 = tau_vect(np.array([42,47,10,13,16])) # = i_1\n",
    "i_1 = f_1\n",
    "f_1"
   ]
  },
  {
   "cell_type": "code",
   "execution_count": 9,
   "id": "803d0a4c-6018-4b47-bdbe-b57b4f51a47f",
   "metadata": {},
   "outputs": [
    {
     "data": {
      "text/plain": [
       "array([0.875     , 0.95833333, 0.90909091, 0.875     , 0.90909091])"
      ]
     },
     "execution_count": 9,
     "metadata": {},
     "output_type": "execute_result"
    }
   ],
   "source": [
    "o_1 = tau_vect(np.array([7,23,10,7,10]))\n",
    "o_1"
   ]
  },
  {
   "cell_type": "code",
   "execution_count": 10,
   "id": "1cbab0fb-a7e2-4c6b-9080-adc432db6c0d",
   "metadata": {},
   "outputs": [
    {
     "data": {
      "text/plain": [
       "array([0.8       , 0.66666667, 0.8       , 0.875     , 0.90909091])"
      ]
     },
     "execution_count": 10,
     "metadata": {},
     "output_type": "execute_result"
    }
   ],
   "source": [
    "g_1 = tau_vect(np.array([4,2,4,7,10]))\n",
    "g_1"
   ]
  },
  {
   "cell_type": "code",
   "execution_count": 12,
   "id": "208bad9f-cbbd-40d7-b438-cd04aab2e934",
   "metadata": {},
   "outputs": [
    {
     "data": {
      "text/plain": [
       "array([0.78139535, 0.65277778, 0.72727273, 0.8125    , 0.85561497])"
      ]
     },
     "execution_count": 12,
     "metadata": {},
     "output_type": "execute_result"
    }
   ],
   "source": [
    "c_1 = np.multiply(np.array([0.97674419, 0.97916667, 0.90909091, 0.92857143, 0.94117647]),\n",
    "            np.array([0.8       , 0.66666667, 0.8       , 0.875     , 0.90909091]))\n",
    "c_1"
   ]
  },
  {
   "cell_type": "code",
   "execution_count": 13,
   "id": "adce4c00-f601-4839-a4a5-ea66597a3201",
   "metadata": {},
   "outputs": [
    {
     "data": {
      "text/plain": [
       "array([0.78139535, 0.65277778, 0.72727273, 0.8125    , 0.85561497])"
      ]
     },
     "execution_count": 13,
     "metadata": {},
     "output_type": "execute_result"
    }
   ],
   "source": [
    "np.multiply(i_1, g_1)"
   ]
  },
  {
   "cell_type": "code",
   "execution_count": 18,
   "id": "1786b355-b1dc-4525-9cda-e1719165b265",
   "metadata": {},
   "outputs": [
    {
     "data": {
      "text/plain": [
       "array([0.57181851, 0.54963961, 0.56490363, 0.58709619, 0.63090136])"
      ]
     },
     "execution_count": 18,
     "metadata": {},
     "output_type": "execute_result"
    }
   ],
   "source": [
    "h_1 = np.multiply(o_1, np.tanh(c_1))\n",
    "h_1"
   ]
  },
  {
   "cell_type": "markdown",
   "id": "4b43d50e-5b33-46b1-8c04-5ec8705306dc",
   "metadata": {},
   "source": [
    "Esto es el valor de $h_1$. Ahora calculamos $h_2$. Lo haremos con `python` por comodidad."
   ]
  },
  {
   "cell_type": "code",
   "execution_count": 37,
   "id": "3c8125f8-e094-496c-ab64-8e2bcaa0a934",
   "metadata": {},
   "outputs": [],
   "source": [
    "x_1 = np.array([2,7,3,1])\n",
    "x_2 = np.array([0,1,0,1])\n",
    "W_xf = np.array([\n",
    "[2,5,0,3 ],\n",
    "[0,3,8,2 ],\n",
    "[3,0,1,1 ],\n",
    "[0,1,2,0 ],\n",
    "[1,1,2,1 ]\n",
    "])\n",
    "W_hf = np.array([\n",
    "[1,0,1,1,2 ],\n",
    "[1,1,4,1,2 ],\n",
    "[3,0,1,1,1 ],\n",
    "[1,1,2,0,9 ],\n",
    "[1,1,1,1,1 ]\n",
    "])\n",
    "W_xi = np.array([\n",
    "[2,5,0,3 ],\n",
    "[0,3,8,2 ],\n",
    "[3,0,1,1 ],\n",
    "[0,1,2,0 ],\n",
    "[1,1,2,1 ]\n",
    "])\n",
    "W_hi = np.array([\n",
    "[1,0,1,1,2 ],\n",
    "[1,1,4,1,2 ],\n",
    "[3,0,1,1,1 ],\n",
    "[1,1,2,0,9 ],\n",
    "[1,1,1,1,1 ]\n",
    "])\n",
    "W_xo = np.array([\n",
    "[2,0,0,3 ],\n",
    "[0,3,0,2 ],\n",
    "[3,0,1,1 ],\n",
    "[0,1,0,0 ],\n",
    "[1,1,0,1 ]\n",
    "])\n",
    "W_ho = np.array([\n",
    "[1,0,1,1,0 ],\n",
    "[1,1,0,1,2 ],\n",
    "[3,0,1,1,1 ],\n",
    "[1,1,0,0,9 ],\n",
    "[1,1,0,1,1 ]\n",
    "])\n",
    "W_xg = np.array([\n",
    "[2,0,0,0 ],\n",
    "[0,0,0,2 ],\n",
    "[0,0,1,1 ],\n",
    "[0,1,0,0 ],\n",
    "[1,1,0,1 ]\n",
    "])\n",
    "W_hg = np.array([\n",
    "[1,0,0,1,2 ],\n",
    "[1,1,0,1,2 ],\n",
    "[0,0,1,1,1 ],\n",
    "[1,1,0,0,0 ],\n",
    "[1,1,0,1,0 ]\n",
    "])"
   ]
  },
  {
   "cell_type": "code",
   "execution_count": 38,
   "id": "8eef7c80-394b-4e26-b8b5-4d3ce2c6aef1",
   "metadata": {},
   "outputs": [
    {
     "data": {
      "text/plain": [
       "array([0.91656669, 0.91095258, 0.81812748, 0.89928875, 0.83063361])"
      ]
     },
     "execution_count": 38,
     "metadata": {},
     "output_type": "execute_result"
    }
   ],
   "source": [
    "f_2 = tau_vect(np.matmul(W_hf,h_1) + np.matmul(W_xf,x_2))\n",
    "f_2"
   ]
  },
  {
   "cell_type": "code",
   "execution_count": 39,
   "id": "23bf0f4d-765b-45e9-bdad-4182f13edd79",
   "metadata": {},
   "outputs": [
    {
     "data": {
      "text/plain": [
       "array([0.91656669, 0.91095258, 0.81812748, 0.89928875, 0.83063361])"
      ]
     },
     "execution_count": 39,
     "metadata": {},
     "output_type": "execute_result"
    }
   ],
   "source": [
    "i_2 = tau_vect(np.matmul(W_hi,h_1) + np.matmul(W_xi,x_2))\n",
    "i_2"
   ]
  },
  {
   "cell_type": "code",
   "execution_count": 40,
   "id": "c7e65bcd-eeb8-4fbf-b4a9-43b7affb1533",
   "metadata": {},
   "outputs": [
    {
     "data": {
      "text/plain": [
       "array([0.82529145, 0.88852172, 0.81812748, 0.88635809, 0.81271499])"
      ]
     },
     "execution_count": 40,
     "metadata": {},
     "output_type": "execute_result"
    }
   ],
   "source": [
    "o_2 = tau_vect(np.matmul(W_ho,h_1) + np.matmul(W_xo,x_2))\n",
    "o_2"
   ]
  },
  {
   "cell_type": "code",
   "execution_count": 41,
   "id": "01daa966-5e4e-4dc4-b75d-8303e9075385",
   "metadata": {},
   "outputs": [
    {
     "data": {
      "text/plain": [
       "array([0.70766366, 0.83250583, 0.73565262, 0.6796369 , 0.78762059])"
      ]
     },
     "execution_count": 41,
     "metadata": {},
     "output_type": "execute_result"
    }
   ],
   "source": [
    "g_2 = tau_vect(np.matmul(W_hg,h_1) + np.matmul(W_xg,x_2))\n",
    "g_2"
   ]
  },
  {
   "cell_type": "code",
   "execution_count": 42,
   "id": "3df2e4d2-2cf9-4997-8cb4-3605722bc5ad",
   "metadata": {},
   "outputs": [
    {
     "data": {
      "text/plain": [
       "array([0.64862094, 0.75837333, 0.60185763, 0.61118982, 0.65422413])"
      ]
     },
     "execution_count": 42,
     "metadata": {},
     "output_type": "execute_result"
    }
   ],
   "source": [
    "c_2 = np.multiply(i_2, g_2)\n",
    "c_2"
   ]
  },
  {
   "cell_type": "code",
   "execution_count": 43,
   "id": "fc56f13f-3d91-4b0f-b6bc-3b74f413cd93",
   "metadata": {},
   "outputs": [
    {
     "data": {
      "text/plain": [
       "array([0.47102755, 0.56875859, 0.44045537, 0.48303334, 0.46691026])"
      ]
     },
     "execution_count": 43,
     "metadata": {},
     "output_type": "execute_result"
    }
   ],
   "source": [
    "h_2 = np.multiply(o_2, np.tanh(c_2))\n",
    "h_2"
   ]
  },
  {
   "cell_type": "markdown",
   "id": "2631fe3b-3e86-48c5-bd45-aae394b767f7",
   "metadata": {},
   "source": [
    "Aquí entonces tenemos el valor de $h_2$. Finalmente, nuestra predicción para $y_2 = W_{hy}y_2$ viene dada por lo siguiente:"
   ]
  },
  {
   "cell_type": "code",
   "execution_count": 44,
   "id": "b407f3c6-b878-41b4-9e6a-a7631eea30fd",
   "metadata": {},
   "outputs": [
    {
     "data": {
      "text/plain": [
       "array([1.37839318, 1.51870218])"
      ]
     },
     "execution_count": 44,
     "metadata": {},
     "output_type": "execute_result"
    }
   ],
   "source": [
    "W_hy = np.array([[1,0,1,0,1],[0,1,0,1,1]])\n",
    "y_2 = np.matmul(W_hy, h_2)\n",
    "y_2"
   ]
  },
  {
   "cell_type": "markdown",
   "id": "4942264c-e495-4b98-bdbc-ea1b34a4640f",
   "metadata": {},
   "source": [
    "<div class='question_container'>\n",
    "    <h2> Pregunta 2 </h2>\n",
    "    <p> Descomprima el archivo <code>emociones.zip</code>. Este conjunto de audios tiene 7 clases: <code>Disgustado, Enojado, Feliz, Neutral, Sorprendido, Temeroso</code> y <code>Triste</code>. El objetivo de este ejercicio es identificar la emoción que expresa la persona cuando habla. Con la tabla de datos realice lo siguiente: </p>\n",
    "    <ul>\n",
    "        <li> Cargue los audios contenidos en el archivo <code>emociones.zip</code> y obtenga la etiqueta correspondiente para cada audio. </li>\n",
    "        <li> Realice un preprocesamiento de los datos con ayuda de la técnica de <code>MFCC</code>. </li>\n",
    "        <li> Divida la tabla utilizando un 90% para entrenamiento y un 10% para pruebas. Aplique el one-hot-encoding a las etiquetas. </li>\n",
    "        <li> Genere una estructura de Redes Neuronales <code>LSTM</code>. La estructura puede definirla a su conveniencia.</li>\n",
    "    <li> Configure el modelo con la función de costo <code>categorical_crossentropy</code>, la función de optimización <code>adam</code> y la métrica <code>accuracy</code>.</li>\n",
    "        <li> Entrene el modelo con los siguientes parámetros <code>epochs=100</code> y <code>batch_size=32</code>. Esto puede tardar un rato. Establezca el valor de 0 para el parámetro <code>verbose</code> para omitir la salida en consola.</li>\n",
    "        <li> Utilice el método <code>evaluate()</code> para evaluar la precisión del modelo. </li>\n",
    "        <li> Obtenga y cargue 10 audios de una persona hablando, pueden ser de personas conocidas o tomados de internet. Luego con ayuda del modelo realice una predicción de esos 10 audios. Muestre y comente los resultados.</li>\n",
    "    </ul>\n",
    "</div>"
   ]
  },
  {
   "cell_type": "code",
   "execution_count": 143,
   "id": "6e6faf97-d50f-4c66-b5e7-a22e1b3824d2",
   "metadata": {},
   "outputs": [
    {
     "name": "stdout",
     "output_type": "stream",
     "text": [
      "Leyendo Disgustado...\n"
     ]
    },
    {
     "name": "stderr",
     "output_type": "stream",
     "text": [
      "100%|████████████████████████████████████████████████████████████████████████████████| 193/193 [00:28<00:00,  6.76it/s]\n"
     ]
    },
    {
     "name": "stdout",
     "output_type": "stream",
     "text": [
      "Leyendo Enojado...\n"
     ]
    },
    {
     "name": "stderr",
     "output_type": "stream",
     "text": [
      "100%|████████████████████████████████████████████████████████████████████████████████| 377/377 [00:52<00:00,  7.24it/s]\n"
     ]
    },
    {
     "name": "stdout",
     "output_type": "stream",
     "text": [
      "Leyendo Feliz...\n"
     ]
    },
    {
     "name": "stderr",
     "output_type": "stream",
     "text": [
      "100%|████████████████████████████████████████████████████████████████████████████████| 377/377 [00:50<00:00,  7.48it/s]\n"
     ]
    },
    {
     "name": "stdout",
     "output_type": "stream",
     "text": [
      "Leyendo Neutral...\n"
     ]
    },
    {
     "name": "stderr",
     "output_type": "stream",
     "text": [
      "100%|████████████████████████████████████████████████████████████████████████████████| 189/189 [00:25<00:00,  7.48it/s]\n"
     ]
    },
    {
     "name": "stdout",
     "output_type": "stream",
     "text": [
      "Leyendo Sorprendido...\n"
     ]
    },
    {
     "name": "stderr",
     "output_type": "stream",
     "text": [
      "100%|████████████████████████████████████████████████████████████████████████████████| 193/193 [00:22<00:00,  8.60it/s]\n"
     ]
    },
    {
     "name": "stdout",
     "output_type": "stream",
     "text": [
      "Leyendo Temeroso...\n"
     ]
    },
    {
     "name": "stderr",
     "output_type": "stream",
     "text": [
      "100%|████████████████████████████████████████████████████████████████████████████████| 377/377 [00:49<00:00,  7.58it/s]\n"
     ]
    },
    {
     "name": "stdout",
     "output_type": "stream",
     "text": [
      "Leyendo Triste...\n"
     ]
    },
    {
     "name": "stderr",
     "output_type": "stream",
     "text": [
      "100%|████████████████████████████████████████████████████████████████████████████████| 377/377 [00:53<00:00,  7.02it/s]\n"
     ]
    }
   ],
   "source": [
    "import re\n",
    "import librosa\n",
    "from tqdm import tqdm\n",
    "labels = []\n",
    "audios = []\n",
    "\n",
    "for carpeta in next(os.walk('./emociones/emociones'))[1]:\n",
    "    print(\"Leyendo \"+ carpeta +\"...\")\n",
    "    for nombrearchivo in tqdm(next(os.walk('./emociones/emociones' + '/' + carpeta))[2]):\n",
    "        if re.search(\"\\\\.(mp3|wav|m4a|wma|aiff)$\", nombrearchivo):\n",
    "            try:\n",
    "                audio, sample_rate = librosa.load('./emociones/emociones' + '/' + carpeta + '/' + nombrearchivo, sr = 1600)\n",
    "                audio = librosa.feature.mfcc(y = audio, sr = sample_rate, n_mfcc = 128)\n",
    "                audio = np.mean(audio.T, axis=0)\n",
    "                audios.append(audio)\n",
    "                labels.append(carpeta)\n",
    "            except Exception as e:\n",
    "                print(e)\n",
    "                print(\"No se pudo cargar el audio: \" + nombrearchivo + \" en la carpeta: \" + carpeta)"
   ]
  },
  {
   "cell_type": "code",
   "execution_count": 144,
   "id": "6241b56a-a1c1-4f1a-b629-b13d7dc23c8c",
   "metadata": {},
   "outputs": [],
   "source": [
    "X = np.array(audios, dtype = np.float32)\n",
    "y = np.array(labels)"
   ]
  },
  {
   "cell_type": "code",
   "execution_count": 145,
   "id": "3829198f-6868-4093-90f9-d6cbd985b613",
   "metadata": {},
   "outputs": [
    {
     "name": "stdout",
     "output_type": "stream",
     "text": [
      "Total de individuos:  2076 \n",
      "Número total de salidas:  7 \n",
      "Clases de salida:  ['Disgustado' 'Enojado' 'Feliz' 'Neutral' 'Sorprendido' 'Temeroso'\n",
      " 'Triste']\n"
     ]
    }
   ],
   "source": [
    "print(\n",
    "  'Total de individuos: ', len(X),\n",
    "  '\\nNúmero total de salidas: ', len(np.unique(y)), \n",
    "  '\\nClases de salida: ', np.unique(y))"
   ]
  },
  {
   "cell_type": "markdown",
   "id": "60e9297d-ac14-47eb-90cc-2b62ad5b0ce6",
   "metadata": {},
   "source": [
    "##### Preparamos los datos:"
   ]
  },
  {
   "cell_type": "code",
   "execution_count": 146,
   "id": "eea385d4-e32a-4ab6-a60c-05ee2a4d84f2",
   "metadata": {},
   "outputs": [],
   "source": [
    "# Dividir en train y test\n",
    "train_X, test_X, train_Y, test_Y = train_test_split(X, y, test_size = 0.1)\n",
    "\n",
    "# Normalizar\n",
    "scaler = StandardScaler()\n",
    "sc_training = scaler.fit_transform(train_X)\n",
    "sc_testing  = scaler.fit_transform(test_X)\n",
    "\n",
    "# Cambiamos las etiquetas de categoricas a one-hot encoding\n",
    "train_Y_one_hot_pd = pd.get_dummies(train_Y)\n",
    "train_Y_one_hot = train_Y_one_hot_pd.to_numpy()\n",
    "\n",
    "test_Y_one_hot_pd = pd.get_dummies(test_Y)\n",
    "test_Y_one_hot = test_Y_one_hot_pd.to_numpy()"
   ]
  },
  {
   "cell_type": "code",
   "execution_count": 147,
   "id": "e35c3ddb-a6e5-43f5-9f2e-9ba576507d7e",
   "metadata": {},
   "outputs": [
    {
     "data": {
      "text/html": [
       "<div>\n",
       "<style scoped>\n",
       "    .dataframe tbody tr th:only-of-type {\n",
       "        vertical-align: middle;\n",
       "    }\n",
       "\n",
       "    .dataframe tbody tr th {\n",
       "        vertical-align: top;\n",
       "    }\n",
       "\n",
       "    .dataframe thead th {\n",
       "        text-align: right;\n",
       "    }\n",
       "</style>\n",
       "<table border=\"1\" class=\"dataframe\">\n",
       "  <thead>\n",
       "    <tr style=\"text-align: right;\">\n",
       "      <th></th>\n",
       "      <th>Disgustado</th>\n",
       "      <th>Enojado</th>\n",
       "      <th>Feliz</th>\n",
       "      <th>Neutral</th>\n",
       "      <th>Sorprendido</th>\n",
       "      <th>Temeroso</th>\n",
       "      <th>Triste</th>\n",
       "    </tr>\n",
       "  </thead>\n",
       "  <tbody>\n",
       "    <tr>\n",
       "      <th>0</th>\n",
       "      <td>1</td>\n",
       "      <td>0</td>\n",
       "      <td>0</td>\n",
       "      <td>0</td>\n",
       "      <td>0</td>\n",
       "      <td>0</td>\n",
       "      <td>0</td>\n",
       "    </tr>\n",
       "    <tr>\n",
       "      <th>1</th>\n",
       "      <td>0</td>\n",
       "      <td>0</td>\n",
       "      <td>1</td>\n",
       "      <td>0</td>\n",
       "      <td>0</td>\n",
       "      <td>0</td>\n",
       "      <td>0</td>\n",
       "    </tr>\n",
       "    <tr>\n",
       "      <th>2</th>\n",
       "      <td>1</td>\n",
       "      <td>0</td>\n",
       "      <td>0</td>\n",
       "      <td>0</td>\n",
       "      <td>0</td>\n",
       "      <td>0</td>\n",
       "      <td>0</td>\n",
       "    </tr>\n",
       "    <tr>\n",
       "      <th>3</th>\n",
       "      <td>0</td>\n",
       "      <td>0</td>\n",
       "      <td>1</td>\n",
       "      <td>0</td>\n",
       "      <td>0</td>\n",
       "      <td>0</td>\n",
       "      <td>0</td>\n",
       "    </tr>\n",
       "    <tr>\n",
       "      <th>4</th>\n",
       "      <td>0</td>\n",
       "      <td>0</td>\n",
       "      <td>0</td>\n",
       "      <td>0</td>\n",
       "      <td>0</td>\n",
       "      <td>0</td>\n",
       "      <td>1</td>\n",
       "    </tr>\n",
       "    <tr>\n",
       "      <th>...</th>\n",
       "      <td>...</td>\n",
       "      <td>...</td>\n",
       "      <td>...</td>\n",
       "      <td>...</td>\n",
       "      <td>...</td>\n",
       "      <td>...</td>\n",
       "      <td>...</td>\n",
       "    </tr>\n",
       "    <tr>\n",
       "      <th>1863</th>\n",
       "      <td>0</td>\n",
       "      <td>0</td>\n",
       "      <td>1</td>\n",
       "      <td>0</td>\n",
       "      <td>0</td>\n",
       "      <td>0</td>\n",
       "      <td>0</td>\n",
       "    </tr>\n",
       "    <tr>\n",
       "      <th>1864</th>\n",
       "      <td>0</td>\n",
       "      <td>0</td>\n",
       "      <td>0</td>\n",
       "      <td>0</td>\n",
       "      <td>1</td>\n",
       "      <td>0</td>\n",
       "      <td>0</td>\n",
       "    </tr>\n",
       "    <tr>\n",
       "      <th>1865</th>\n",
       "      <td>0</td>\n",
       "      <td>0</td>\n",
       "      <td>0</td>\n",
       "      <td>0</td>\n",
       "      <td>0</td>\n",
       "      <td>0</td>\n",
       "      <td>1</td>\n",
       "    </tr>\n",
       "    <tr>\n",
       "      <th>1866</th>\n",
       "      <td>0</td>\n",
       "      <td>1</td>\n",
       "      <td>0</td>\n",
       "      <td>0</td>\n",
       "      <td>0</td>\n",
       "      <td>0</td>\n",
       "      <td>0</td>\n",
       "    </tr>\n",
       "    <tr>\n",
       "      <th>1867</th>\n",
       "      <td>0</td>\n",
       "      <td>0</td>\n",
       "      <td>0</td>\n",
       "      <td>0</td>\n",
       "      <td>0</td>\n",
       "      <td>1</td>\n",
       "      <td>0</td>\n",
       "    </tr>\n",
       "  </tbody>\n",
       "</table>\n",
       "<p>1868 rows × 7 columns</p>\n",
       "</div>"
      ],
      "text/plain": [
       "      Disgustado  Enojado  Feliz  Neutral  Sorprendido  Temeroso  Triste\n",
       "0              1        0      0        0            0         0       0\n",
       "1              0        0      1        0            0         0       0\n",
       "2              1        0      0        0            0         0       0\n",
       "3              0        0      1        0            0         0       0\n",
       "4              0        0      0        0            0         0       1\n",
       "...          ...      ...    ...      ...          ...       ...     ...\n",
       "1863           0        0      1        0            0         0       0\n",
       "1864           0        0      0        0            1         0       0\n",
       "1865           0        0      0        0            0         0       1\n",
       "1866           0        1      0        0            0         0       0\n",
       "1867           0        0      0        0            0         1       0\n",
       "\n",
       "[1868 rows x 7 columns]"
      ]
     },
     "execution_count": 147,
     "metadata": {},
     "output_type": "execute_result"
    }
   ],
   "source": [
    "train_Y_one_hot_pd"
   ]
  },
  {
   "cell_type": "code",
   "execution_count": 178,
   "id": "b358671c-ca19-486a-9fc1-19e7359f2faf",
   "metadata": {},
   "outputs": [
    {
     "data": {
      "text/plain": [
       "(208, 128)"
      ]
     },
     "execution_count": 178,
     "metadata": {},
     "output_type": "execute_result"
    }
   ],
   "source": [
    "test_X.shape"
   ]
  },
  {
   "cell_type": "markdown",
   "id": "0f0805ef-9574-46e3-8d9b-2c1d9901b281",
   "metadata": {},
   "source": [
    "Creamos la arquitectura del modelo de RNN a utilizar:"
   ]
  },
  {
   "cell_type": "code",
   "execution_count": 149,
   "id": "c89a3490-6d4d-4af2-b90d-dbe07fea3349",
   "metadata": {},
   "outputs": [],
   "source": [
    "from tensorflow.keras.models import Sequential\n",
    "from tensorflow.keras.layers import Dense, LSTM, SimpleRNN\n",
    "from tensorflow.keras.utils import to_categorical, plot_model"
   ]
  },
  {
   "cell_type": "code",
   "execution_count": 150,
   "id": "cc6f5340-988a-4354-911d-eff6e7125455",
   "metadata": {},
   "outputs": [
    {
     "name": "stdout",
     "output_type": "stream",
     "text": [
      "Model: \"sequential_25\"\n",
      "_________________________________________________________________\n",
      " Layer (type)                Output Shape              Param #   \n",
      "=================================================================\n",
      " lstm_27 (LSTM)              (None, 32)                4352      \n",
      "                                                                 \n",
      " dense_51 (Dense)            (None, 15)                495       \n",
      "                                                                 \n",
      " dense_52 (Dense)            (None, 128)               2048      \n",
      "                                                                 \n",
      " dense_53 (Dense)            (None, 64)                8256      \n",
      "                                                                 \n",
      " dense_54 (Dense)            (None, 7)                 455       \n",
      "                                                                 \n",
      "=================================================================\n",
      "Total params: 15,606\n",
      "Trainable params: 15,606\n",
      "Non-trainable params: 0\n",
      "_________________________________________________________________\n"
     ]
    }
   ],
   "source": [
    "modelo_emociones = Sequential()\n",
    "modelo_emociones.add(LSTM(units = 32, input_shape = (128, 1)))\n",
    "modelo_emociones.add(Dense(15, activation = \"relu\"))\n",
    "modelo_emociones.add(Dense(128, activation = \"relu\"))\n",
    "modelo_emociones.add(Dense(64, activation = \"relu\"))\n",
    "modelo_emociones.add(Dense(7, activation = \"softmax\"))\n",
    "modelo_emociones.compile(loss='categorical_crossentropy', optimizer='adam', metrics=['accuracy'])\n",
    "modelo_emociones.summary()"
   ]
  },
  {
   "cell_type": "code",
   "execution_count": 180,
   "id": "53477282-50ed-4625-8d8d-15fcf0be1fbf",
   "metadata": {},
   "outputs": [
    {
     "name": "stdout",
     "output_type": "stream",
     "text": [
      "Entrenar el modelo tomó 5.356158181031545 minutos.\n"
     ]
    }
   ],
   "source": [
    "import time\n",
    "start = time.time()\n",
    "modelo_emociones.fit(train_X, train_Y_one_hot, epochs=100, batch_size=32, verbose=0)\n",
    "end = time.time()\n",
    "print(f\"Entrenar el modelo tomó {(end-start)/60} minutos.\")"
   ]
  },
  {
   "cell_type": "code",
   "execution_count": 181,
   "id": "d3ba5b05-1507-4db2-8355-bf1d4b5e31ed",
   "metadata": {},
   "outputs": [
    {
     "name": "stderr",
     "output_type": "stream",
     "text": [
      "WARNING:absl:Found untraced functions such as lstm_cell_27_layer_call_fn, lstm_cell_27_layer_call_and_return_conditional_losses while saving (showing 2 of 2). These functions will not be directly callable after loading.\n"
     ]
    },
    {
     "name": "stdout",
     "output_type": "stream",
     "text": [
      "INFO:tensorflow:Assets written to: lstm_emociones.h5py\\assets\n"
     ]
    },
    {
     "name": "stderr",
     "output_type": "stream",
     "text": [
      "INFO:tensorflow:Assets written to: lstm_emociones.h5py\\assets\n"
     ]
    }
   ],
   "source": [
    "modelo_emociones.save(\"lstm_emociones.h5py\")"
   ]
  },
  {
   "cell_type": "code",
   "execution_count": 182,
   "id": "c4232e38-8f86-4a55-b14e-26139d3f27aa",
   "metadata": {},
   "outputs": [
    {
     "name": "stdout",
     "output_type": "stream",
     "text": [
      "0.26442307233810425\n"
     ]
    }
   ],
   "source": [
    "precision = modelo_emociones.evaluate(test_X, test_Y_one_hot, verbose=0)\n",
    "print(precision[1])"
   ]
  },
  {
   "cell_type": "markdown",
   "id": "a0147c31-d06e-4ed9-8a44-9a3143417dec",
   "metadata": {},
   "source": [
    "He intentado con varias arquitecturas, pero no logro obtener una precisión más alta. Lamentablemente cada modelo dura algunos minutos en entrenar."
   ]
  },
  {
   "cell_type": "markdown",
   "id": "2ff4013d-6dba-44d1-a3e0-f71489d2641e",
   "metadata": {},
   "source": [
    "El siguiente código fue tomado de este repositorio de github: [alexmuhr/Voice_Emotion](https://github.com/alexmuhr/Voice_Emotion)\n",
    "en donde se entrenan CNNs con audios obtenidos con webscraping a partir de ciertas librerías públicas de audio."
   ]
  },
  {
   "cell_type": "code",
   "execution_count": 155,
   "id": "58b9b733-01e3-4b6d-8b72-7a0e88a1b9b4",
   "metadata": {},
   "outputs": [],
   "source": [
    "import requests\n",
    "from bs4 import BeautifulSoup"
   ]
  },
  {
   "cell_type": "code",
   "execution_count": 156,
   "id": "0f019151-b544-4506-95f3-8180cc84c756",
   "metadata": {},
   "outputs": [
    {
     "data": {
      "text/plain": [
       "200"
      ]
     },
     "execution_count": 156,
     "metadata": {},
     "output_type": "execute_result"
    }
   ],
   "source": [
    "url = \"https://tspace.library.utoronto.ca/handle/1807/24487\"\n",
    "response = requests.get(url)\n",
    "response.status_code"
   ]
  },
  {
   "cell_type": "code",
   "execution_count": 157,
   "id": "fc488561-f2d4-4453-a540-b5fabc64e5c2",
   "metadata": {},
   "outputs": [],
   "source": [
    "def make_soup(url):\n",
    "    response = requests.get(url)\n",
    "    code = response.status_code\n",
    "    assert ((code >= 200) & (code < 300))\n",
    "    page = response.text\n",
    "    soup = BeautifulSoup(page, 'lxml')\n",
    "    return soup"
   ]
  },
  {
   "cell_type": "code",
   "execution_count": null,
   "id": "4679fc27-1725-4c7c-9acc-b4224103955b",
   "metadata": {},
   "outputs": [],
   "source": [
    "soup = make_soup(url)\n",
    "strongs = soup.find_all('strong')[1:]\n",
    "hrefs = [x.find('a', href = True)['href'] for x in strongs]"
   ]
  },
  {
   "cell_type": "code",
   "execution_count": 161,
   "id": "ca3fd214-8203-419d-bb41-6883fb3fd788",
   "metadata": {},
   "outputs": [
    {
     "data": {
      "text/plain": [
       "['/bitstream/1807/24501/1/OAF_youth_happy.wav',\n",
       " '/bitstream/1807/24501/2/OAF_young_happy.wav',\n",
       " '/bitstream/1807/24501/3/OAF_yes_happy.wav',\n",
       " '/bitstream/1807/24501/4/OAF_yearn_happy.wav',\n",
       " '/bitstream/1807/24501/5/OAF_witch_happy.wav']"
      ]
     },
     "execution_count": 161,
     "metadata": {},
     "output_type": "execute_result"
    }
   ],
   "source": [
    "link_list = []\n",
    "for href in hrefs:\n",
    "    url = \"https://tspace.library.utoronto.ca\" + href\n",
    "    soup = make_soup(url)\n",
    "    div = soup.find('div', {'class': 'item-files'})\n",
    "    a_tags = div.find_all('a')\n",
    "    links = [x['href'] for x in a_tags]\n",
    "    link_list += links\n",
    "link_list[0:5]"
   ]
  },
  {
   "cell_type": "code",
   "execution_count": 162,
   "id": "8a09f413-b8ff-41d3-8622-c2d42c1a93e6",
   "metadata": {},
   "outputs": [],
   "source": [
    "url_list = ['https://tspace.library.utoronto.ca' + x for x in link_list]\n",
    "with open('url_list.txt', 'w') as file:\n",
    "    for url in url_list:\n",
    "        file.write(url + '\\n')\n",
    "    file.close()"
   ]
  },
  {
   "cell_type": "markdown",
   "id": "3fa0ab40-65c2-4f83-a1b2-d82b2b6a3b8f",
   "metadata": {},
   "source": [
    "El archivo `url_list.txt` tiene una lista de direcciones web con los archivos `.wav` de la biblioteca TESS, de la Universidad de Toronto. Hemos descargado 10 archivos de esta biblioteca que utilizaremos como prueba."
   ]
  },
  {
   "cell_type": "code",
   "execution_count": 168,
   "id": "2a88d18e-cd28-4f60-9909-0ac4cc10636e",
   "metadata": {},
   "outputs": [
    {
     "name": "stderr",
     "output_type": "stream",
     "text": [
      "100%|██████████████████████████████████████████████████████████████████████████████████| 10/10 [00:01<00:00,  7.96it/s]\n"
     ]
    }
   ],
   "source": [
    "labels_nuevos = []\n",
    "audios_nuevos = []\n",
    "\n",
    "for nombrearchivo in tqdm(next(os.walk('./emociones_nuevas'))[2]):\n",
    "    if re.search(\"\\\\.(mp3|wav|m4a|wma|aiff)$\", nombrearchivo):\n",
    "        try:\n",
    "            audio, sample_rate = librosa.load('./emociones_nuevas/' + nombrearchivo, sr = 1600)\n",
    "            audio = librosa.feature.mfcc(y = audio, sr = sample_rate, n_mfcc = 128)\n",
    "            audio = np.mean(audio.T, axis=0)\n",
    "            audios_nuevos.append(audio)\n",
    "            labels_nuevos.append(nombrearchivo.split('_')[2].replace('.wav',''))\n",
    "        except Exception as e:\n",
    "            print(e)\n",
    "            print(\"No se pudo cargar el audio: \" + nombrearchivo)"
   ]
  },
  {
   "cell_type": "code",
   "execution_count": 169,
   "id": "b0f3b359-6ca4-49f4-9cfc-3656742be1db",
   "metadata": {},
   "outputs": [
    {
     "data": {
      "text/plain": [
       "['neutral',\n",
       " 'neutral',\n",
       " 'sad',\n",
       " 'fear',\n",
       " 'sad',\n",
       " 'fear',\n",
       " 'happy',\n",
       " 'happy',\n",
       " 'angry',\n",
       " 'angry']"
      ]
     },
     "execution_count": 169,
     "metadata": {},
     "output_type": "execute_result"
    }
   ],
   "source": [
    "labels_nuevos"
   ]
  },
  {
   "cell_type": "code",
   "execution_count": null,
   "id": "44834ed3-312b-48c8-9365-7028fb848a66",
   "metadata": {},
   "outputs": [],
   "source": []
  },
  {
   "cell_type": "code",
   "execution_count": 177,
   "id": "1cfe2cc4-9dc0-4fdd-95a7-ce715d1f40a1",
   "metadata": {},
   "outputs": [
    {
     "data": {
      "text/plain": [
       "(10, 128)"
      ]
     },
     "execution_count": 177,
     "metadata": {},
     "output_type": "execute_result"
    }
   ],
   "source": [
    "audios_validar = np.array(audios_nuevos)\n",
    "audios_validar.shape"
   ]
  },
  {
   "cell_type": "code",
   "execution_count": 183,
   "id": "dfb02a63-80fe-4b42-9c54-41738947e207",
   "metadata": {},
   "outputs": [
    {
     "name": "stdout",
     "output_type": "stream",
     "text": [
      "1/1 [==============================] - 1s 1s/step\n"
     ]
    },
    {
     "data": {
      "text/plain": [
       "array([[3.95227689e-03, 9.29203257e-03, 5.92545606e-04, 1.73858285e-01,\n",
       "        9.79016768e-04, 8.76349360e-02, 7.23690867e-01],\n",
       "       [2.90846619e-05, 7.71294708e-06, 6.50066941e-05, 4.40752320e-03,\n",
       "        8.65846669e-05, 4.01142567e-01, 5.94261467e-01],\n",
       "       [1.65052395e-02, 9.36205965e-03, 8.31216991e-01, 1.57008017e-03,\n",
       "        6.70862049e-02, 5.21718562e-02, 2.20875721e-02],\n",
       "       [9.11927607e-04, 4.39686573e-06, 3.68751138e-01, 7.54248686e-05,\n",
       "        4.03453177e-03, 5.41769266e-01, 8.44533369e-02],\n",
       "       [6.12478405e-02, 8.90759587e-01, 3.11480481e-02, 2.04693218e-09,\n",
       "        7.25287886e-04, 1.59245320e-02, 1.94707318e-04],\n",
       "       [5.90411255e-05, 1.82462274e-04, 7.44153606e-03, 1.61422100e-02,\n",
       "        3.51558882e-03, 4.18645218e-02, 9.30794656e-01],\n",
       "       [2.61641783e-03, 9.92887001e-03, 8.96954656e-01, 3.89996072e-04,\n",
       "        3.25050023e-05, 1.20081655e-04, 8.99574310e-02],\n",
       "       [8.08387995e-06, 2.14362323e-01, 3.06918938e-02, 2.33656424e-03,\n",
       "        4.81255294e-04, 8.75415280e-03, 7.43365705e-01],\n",
       "       [5.87735232e-03, 4.44316082e-02, 6.91334248e-01, 1.96079060e-01,\n",
       "        4.54269844e-04, 5.27128670e-03, 5.65522574e-02],\n",
       "       [9.41903353e-01, 2.79395955e-08, 1.87706355e-05, 4.72261127e-05,\n",
       "        2.78172623e-02, 3.02102026e-02, 3.22889787e-06]], dtype=float32)"
      ]
     },
     "execution_count": 183,
     "metadata": {},
     "output_type": "execute_result"
    }
   ],
   "source": [
    "pred = modelo_emociones.predict(audios_validar)\n",
    "pred"
   ]
  },
  {
   "cell_type": "code",
   "execution_count": 186,
   "id": "178d79d6-dee5-45a0-b59d-49e20a0fefa0",
   "metadata": {},
   "outputs": [
    {
     "data": {
      "text/plain": [
       "['Triste',\n",
       " 'Triste',\n",
       " 'Feliz',\n",
       " 'Temeroso',\n",
       " 'Enojado',\n",
       " 'Triste',\n",
       " 'Feliz',\n",
       " 'Triste',\n",
       " 'Feliz',\n",
       " 'Disgustado']"
      ]
     },
     "execution_count": 186,
     "metadata": {},
     "output_type": "execute_result"
    }
   ],
   "source": [
    "preds_vals = np.argmax(pred, axis = 1)\n",
    "[train_Y_one_hot_pd.columns[pred_val] for pred_val in preds_vals]"
   ]
  },
  {
   "cell_type": "markdown",
   "id": "abbfd366-4583-4e01-935e-8311aa8d718b",
   "metadata": {},
   "source": [
    "Repito que nuestra arquitectura no tiene una precisión muy alta."
   ]
  },
  {
   "cell_type": "markdown",
   "id": "a0916f21-6a90-4a08-8fb7-c06a9e576c91",
   "metadata": {},
   "source": [
    "<div class='question_container'>\n",
    "    <h2> Pregunta 3 </h2>\n",
    "    <p> En este ejercicio vamos a intentar predecir la letra que sigue del alfabeto griego. Cabe resaltar que no existe un mapeo exacto del abecedario al nuestro y que el número de letras es inferior al nuestro también. Copie y pegue el siguiente código y utilicelo cómo set de datos.</p>\n",
    "    <code>alfabetoGriego</code> = $\\alpha\\beta\\gamma\\delta\\epsilon\\zeta\\eta\\theta\\iota\\kappa\\lambda\\mu\\nu\\xi\\phi\\pi\\rho\\sigma\\tau\\upsilon\\chi\\psi\\omega$\n",
    "    <p>Para esto realice lo siguiente:</p>\n",
    "    <ol>\n",
    "    <li>Defina un conjunto con los diferentes caracteres que conforman el set.</li>\n",
    "    <li>Cree un diccionario que permita definir la equivalencia entre caracter e índice, así como su inverso.</li>\n",
    "    <li>Haga los pares de entrada y salida para entrenar el modelo y transforme al formato esperado por la red.</li>\n",
    "    <li>Normalice los datos y trasforme la variable a predecir a formato One-Hot.</li>\n",
    "    <li>Haga el modelo usando la función de activación <code>softmax</code> y con las capas que considere necesarias. Utilice la función de optimización <code>RMSProp</code>, la función de costo <code>categorical_crossentropy</code> y las métricas <code>accuracy</code>.</li>\n",
    "    <li>Haga un resumen del modelo.</li>\n",
    "    <li>Haga una predicción entrenando el modelo con 500 epochs y un tamaño de lote igual a 1.</li>\n",
    "    <li>Genere la matriz de confusión.</li>\n",
    "    <li>Calcule la precisión global. Interprete la calidad de los resultados.</li>\n",
    "    <li>Repita el ejercicio 5 pero esta vez utilice como optimizador la función <code>adam</code>. Compare resultados.</li>\n",
    "    </ol>\n",
    "</div>"
   ]
  },
  {
   "cell_type": "markdown",
   "id": "ddf9e890-24a4-4abe-b022-c3a724d4bb51",
   "metadata": {},
   "source": [
    "Tomamos los caracteres unicode para las letras griegas de [Unicode characters for engineers in Python](https://pythonforundergradengineers.com/unicode-characters-in-python.html)."
   ]
  },
  {
   "cell_type": "code",
   "execution_count": 187,
   "id": "99597609-f7ce-4a45-bb13-a7c055f1cc4f",
   "metadata": {},
   "outputs": [
    {
     "name": "stdout",
     "output_type": "stream",
     "text": [
      "char_to_int:\n",
      " {'α': 0, 'β': 1, 'γ': 2, 'δ': 3, 'ε': 4, 'ζ': 5, 'η': 6, 'θ': 7, 'ι': 8, 'κ': 9, 'λ': 10, 'μ': 11, 'ν': 12, 'ξ': 13, 'ο': 14, 'π': 15, 'ρ': 16, 'ς': 17, 'σ': 18, 'τ': 19, 'υ': 20, 'φ': 21, 'χ': 22, 'ψ': 23, 'ω': 24} \n",
      "\n",
      "int_to_char:\n",
      " {0: 'α', 1: 'β', 2: 'γ', 3: 'δ', 4: 'ε', 5: 'ζ', 6: 'η', 7: 'θ', 8: 'ι', 9: 'κ', 10: 'λ', 11: 'μ', 12: 'ν', 13: 'ξ', 14: 'ο', 15: 'π', 16: 'ρ', 17: 'ς', 18: 'σ', 19: 'τ', 20: 'υ', 21: 'φ', 22: 'χ', 23: 'ψ', 24: 'ω'}\n"
     ]
    }
   ],
   "source": [
    "alfabeto = [\"\\u03B1\",\"\\u03B2\",\"\\u03B3\",\"\\u03B4\",\"\\u03B5\",\"\\u03B6\",\n",
    "            \"\\u03B7\",\"\\u03B8\",\"\\u03B9\",\"\\u03BA\",\"\\u03BB\",\n",
    "            \"\\u03BC\",\"\\u03BD\",\"\\u03BE\",\"\\u03BF\",\"\\u03C0\",\n",
    "            \"\\u03C1\",\"\\u03C2\",\"\\u03C3\",\"\\u03C4\",\"\\u03C5\",\n",
    "            \"\\u03C6\",\"\\u03C7\",\"\\u03C8\",\"\\u03C9\"]\n",
    "# crear mapeo de caracteres a números enteros (0-25) y viceversa\n",
    "char_to_int = dict((c, i) for i, c in enumerate(alfabeto))\n",
    "int_to_char = dict((i, c) for i, c in enumerate(alfabeto))\n",
    "\n",
    "print(\"char_to_int:\\n\",char_to_int,\"\\n\")\n",
    "print(\"int_to_char:\\n\",int_to_char)"
   ]
  },
  {
   "cell_type": "markdown",
   "id": "8a4692e1-8874-493f-8836-50ab6eeafca9",
   "metadata": {},
   "source": [
    "#### Creamos los datos de entrada"
   ]
  },
  {
   "cell_type": "code",
   "execution_count": 188,
   "id": "2c6888ae-538f-4ad8-8d3f-0ca489eb56c0",
   "metadata": {},
   "outputs": [
    {
     "name": "stdout",
     "output_type": "stream",
     "text": [
      "['α'] -> β\n",
      "['β'] -> γ\n",
      "['γ'] -> δ\n",
      "['δ'] -> ε\n",
      "['ε'] -> ζ\n",
      "['ζ'] -> η\n",
      "['η'] -> θ\n",
      "['θ'] -> ι\n",
      "['ι'] -> κ\n",
      "['κ'] -> λ\n",
      "['λ'] -> μ\n",
      "['μ'] -> ν\n",
      "['ν'] -> ξ\n",
      "['ξ'] -> ο\n",
      "['ο'] -> π\n",
      "['π'] -> ρ\n",
      "['ρ'] -> ς\n",
      "['ς'] -> σ\n",
      "['σ'] -> τ\n",
      "['τ'] -> υ\n",
      "['υ'] -> φ\n",
      "['φ'] -> χ\n",
      "['χ'] -> ψ\n",
      "['ψ'] -> ω\n"
     ]
    }
   ],
   "source": [
    "# creamos nuestros pares de entrada y salida para entrenar nuestra red neuronal\n",
    "#seq_length = 2\n",
    "seq_length = 1\n",
    "dataX = []\n",
    "dataY = []\n",
    "\n",
    "for i in range(0, len(alfabeto) - seq_length):\n",
    "    seq_in = alfabeto[i:i + seq_length]\n",
    "    seq_out = alfabeto[i + seq_length]\n",
    "    dataX.append([char_to_int[char] for char in seq_in])\n",
    "    dataY.append(char_to_int[seq_out])\n",
    "    print(seq_in, '->', seq_out)"
   ]
  },
  {
   "cell_type": "code",
   "execution_count": 189,
   "id": "3194b5c3-a0d5-4c5f-9f50-0e24512d81e3",
   "metadata": {},
   "outputs": [
    {
     "name": "stdout",
     "output_type": "stream",
     "text": [
      "Shape:  (24, 1, 1)\n"
     ]
    }
   ],
   "source": [
    "X = np.reshape(dataX, (len(dataX), seq_length, 1))\n",
    "X = X / float(len(alfabeto))\n",
    "print(\"Shape: \", X.shape)"
   ]
  },
  {
   "cell_type": "markdown",
   "id": "4bb10198-c18d-40a4-aae4-37767f9cb781",
   "metadata": {},
   "source": [
    "#### Pasamos a formato One-Hot los datos de salida"
   ]
  },
  {
   "cell_type": "code",
   "execution_count": 190,
   "id": "3a85f85b-1b7e-4431-8ada-95f80d9569bd",
   "metadata": {},
   "outputs": [
    {
     "name": "stdout",
     "output_type": "stream",
     "text": [
      "[[0. 1. 0. 0. 0. 0. 0. 0. 0. 0. 0. 0. 0. 0. 0. 0. 0. 0. 0. 0. 0. 0. 0. 0.\n",
      "  0.]\n",
      " [0. 0. 1. 0. 0. 0. 0. 0. 0. 0. 0. 0. 0. 0. 0. 0. 0. 0. 0. 0. 0. 0. 0. 0.\n",
      "  0.]\n",
      " [0. 0. 0. 1. 0. 0. 0. 0. 0. 0. 0. 0. 0. 0. 0. 0. 0. 0. 0. 0. 0. 0. 0. 0.\n",
      "  0.]\n",
      " [0. 0. 0. 0. 1. 0. 0. 0. 0. 0. 0. 0. 0. 0. 0. 0. 0. 0. 0. 0. 0. 0. 0. 0.\n",
      "  0.]\n",
      " [0. 0. 0. 0. 0. 1. 0. 0. 0. 0. 0. 0. 0. 0. 0. 0. 0. 0. 0. 0. 0. 0. 0. 0.\n",
      "  0.]]\n"
     ]
    }
   ],
   "source": [
    "y = to_categorical(dataY)\n",
    "print(y[0:5])"
   ]
  },
  {
   "cell_type": "markdown",
   "id": "af07a022-0f42-42f3-847b-ccaf4d85d2b4",
   "metadata": {},
   "source": [
    "#### Creación del modelo"
   ]
  },
  {
   "cell_type": "code",
   "execution_count": 191,
   "id": "a9fc1ae8-35c3-440c-9cd9-d97974f26741",
   "metadata": {},
   "outputs": [],
   "source": [
    "modelo = Sequential()\n",
    "modelo.add(LSTM(64, input_shape = (X.shape[1], X.shape[2])))\n",
    "modelo.add(Dense(15, activation = 'relu'))\n",
    "modelo.add(Dense(y.shape[1], activation = 'softmax'))\n",
    "modelo.compile(loss='categorical_crossentropy', optimizer='RMSProp', metrics=['accuracy'])"
   ]
  },
  {
   "cell_type": "markdown",
   "id": "2259f74c-8c83-4131-bd11-b896f2e1cc69",
   "metadata": {},
   "source": [
    "#### Resumen del modelo"
   ]
  },
  {
   "cell_type": "code",
   "execution_count": 192,
   "id": "528a4d2b-e0fc-4a16-90b2-5f0604e72221",
   "metadata": {},
   "outputs": [
    {
     "name": "stdout",
     "output_type": "stream",
     "text": [
      "Model: \"sequential_26\"\n",
      "_________________________________________________________________\n",
      " Layer (type)                Output Shape              Param #   \n",
      "=================================================================\n",
      " lstm_28 (LSTM)              (None, 64)                16896     \n",
      "                                                                 \n",
      " dense_55 (Dense)            (None, 15)                975       \n",
      "                                                                 \n",
      " dense_56 (Dense)            (None, 25)                400       \n",
      "                                                                 \n",
      "=================================================================\n",
      "Total params: 18,271\n",
      "Trainable params: 18,271\n",
      "Non-trainable params: 0\n",
      "_________________________________________________________________\n"
     ]
    }
   ],
   "source": [
    "modelo.summary()"
   ]
  },
  {
   "cell_type": "markdown",
   "id": "a207e065-72ac-4f60-9306-1b42de0bf161",
   "metadata": {},
   "source": [
    "#### Entrenamiento del modelo"
   ]
  },
  {
   "cell_type": "code",
   "execution_count": 193,
   "id": "da4f62c5-04e3-4025-810f-1b938fcd1d46",
   "metadata": {},
   "outputs": [
    {
     "name": "stdout",
     "output_type": "stream",
     "text": [
      "Entrenar este modelo tomó 0.6805217385292053 minutos.\n"
     ]
    }
   ],
   "source": [
    "start = time.time()\n",
    "modelo.fit(X, y, epochs=500, batch_size=1, verbose=0)\n",
    "end= time.time()\n",
    "print(f\"Entrenar este modelo tomó {(end-start)/60} minutos.\")"
   ]
  },
  {
   "cell_type": "markdown",
   "id": "92940a36-5bd5-4c1c-883f-52fb4a76550a",
   "metadata": {},
   "source": [
    "#### Predicción del modelo"
   ]
  },
  {
   "cell_type": "code",
   "execution_count": 194,
   "id": "48a91e44-38bb-43e5-9bdd-893e80b0dd0b",
   "metadata": {},
   "outputs": [
    {
     "data": {
      "text/plain": [
       "array([ 1,  2,  3,  4,  5,  6,  7,  8,  9, 10, 11, 12, 13, 14, 15, 16, 17,\n",
       "       18, 19, 20, 20, 23, 23, 24], dtype=int64)"
      ]
     },
     "execution_count": 194,
     "metadata": {},
     "output_type": "execute_result"
    }
   ],
   "source": [
    "modelo_pred = modelo.predict(X,verbose=0)\n",
    "rnn_modelo_predicted = np.argmax(modelo_pred, axis=1)\n",
    "rnn_modelo_predicted"
   ]
  },
  {
   "cell_type": "code",
   "execution_count": 195,
   "id": "4f8a4e01-15ff-47ca-872e-91b0aa2da852",
   "metadata": {},
   "outputs": [
    {
     "data": {
      "image/png": "[encoded data removed]",
      "text/plain": [
       "<Figure size 576x720 with 2 Axes>"
      ]
     },
     "metadata": {},
     "output_type": "display_data"
    }
   ],
   "source": [
    "rnn_modelo_cm = confusion_matrix(np.argmax(y, axis=1), rnn_modelo_predicted)\n",
    "\n",
    "# Visualizamos la matriz de confusión\n",
    "import seaborn as sn\n",
    "rnn_modelo_df_cm = pd.DataFrame(rnn_modelo_cm, range(len(rnn_modelo_predicted)), range(len(rnn_modelo_predicted)))  \n",
    "plt.figure(figsize = (8,10))  \n",
    "sn.set(font_scale=1.4) #for label size  \n",
    "sn.heatmap(rnn_modelo_df_cm, annot=True, annot_kws={\"size\": 12}) # font size  \n",
    "plt.show()"
   ]
  },
  {
   "cell_type": "code",
   "execution_count": 196,
   "id": "cfc5c387-d8fa-4bbb-891e-784643632ddf",
   "metadata": {},
   "outputs": [
    {
     "name": "stdout",
     "output_type": "stream",
     "text": [
      "['α'] -> β\n",
      "['β'] -> γ\n",
      "['γ'] -> δ\n",
      "['δ'] -> ε\n",
      "['ε'] -> ζ\n",
      "['ζ'] -> η\n",
      "['η'] -> θ\n",
      "['θ'] -> ι\n",
      "['ι'] -> κ\n",
      "['κ'] -> λ\n",
      "['λ'] -> μ\n",
      "['μ'] -> ν\n",
      "['ν'] -> ξ\n",
      "['ξ'] -> ο\n",
      "['ο'] -> π\n",
      "['π'] -> ρ\n",
      "['ρ'] -> ς\n",
      "['ς'] -> σ\n",
      "['σ'] -> τ\n",
      "['τ'] -> υ\n",
      "['υ'] -> υ\n",
      "['φ'] -> ψ\n",
      "['χ'] -> ψ\n",
      "['ψ'] -> ω\n"
     ]
    }
   ],
   "source": [
    "# demuestra la predicciones del modelo\n",
    "for pattern in dataX:\n",
    "    x = np.reshape(pattern, (1, len(pattern), 1))\n",
    "    x = x / float(len(alfabeto))\n",
    "    prediction = modelo.predict(x, verbose=0)\n",
    "    index = np.argmax(prediction)\n",
    "    result = int_to_char[index]\n",
    "    seq_in = [int_to_char[value] for value in pattern]\n",
    "    print(seq_in, \"->\", result)"
   ]
  },
  {
   "cell_type": "code",
   "execution_count": 197,
   "id": "0920e714-8af7-4f1e-af0b-8993c8fca1b5",
   "metadata": {},
   "outputs": [
    {
     "name": "stdout",
     "output_type": "stream",
     "text": [
      "Precisión del modelo: 91.67%\n"
     ]
    }
   ],
   "source": [
    "# sumariza el rendimiento del modelo\n",
    "scores = modelo.evaluate(X, y, verbose=0)\n",
    "print(\"Precisión del modelo: %.2f%%\" % (scores[1]*100))"
   ]
  },
  {
   "cell_type": "markdown",
   "id": "f8ac3331-f25f-4184-ab3e-04cda9091ed4",
   "metadata": {},
   "source": [
    "Obtuvimos una precisión moderadamente para este modelo, con la arquitectura que hemos utilizado. Podríamos buscar otra arquitectura para lograr mejorar la predicción. Ahora utilizamos el optimizador `adam` y comparamos."
   ]
  },
  {
   "cell_type": "code",
   "execution_count": 198,
   "id": "7f407548-5d8b-4595-815e-e951be71677f",
   "metadata": {},
   "outputs": [
    {
     "name": "stdout",
     "output_type": "stream",
     "text": [
      "Configurando modelo ...\n",
      "Entrenando modelo ...\n",
      "Entrenar este modelo tomó 0.7124378085136414 minutos.\n",
      "Efecuando predicciones...\n",
      "    0   1   2   3   4   5   6   7   8   9   ...  14  15  16  17  18  19  20  \\\n",
      "0    1   0   0   0   0   0   0   0   0   0  ...   0   0   0   0   0   0   0   \n",
      "1    0   1   0   0   0   0   0   0   0   0  ...   0   0   0   0   0   0   0   \n",
      "2    0   0   1   0   0   0   0   0   0   0  ...   0   0   0   0   0   0   0   \n",
      "3    0   0   0   1   0   0   0   0   0   0  ...   0   0   0   0   0   0   0   \n",
      "4    0   0   0   0   1   0   0   0   0   0  ...   0   0   0   0   0   0   0   \n",
      "5    0   0   0   0   0   1   0   0   0   0  ...   0   0   0   0   0   0   0   \n",
      "6    0   0   0   0   0   0   1   0   0   0  ...   0   0   0   0   0   0   0   \n",
      "7    0   0   0   0   0   0   0   1   0   0  ...   0   0   0   0   0   0   0   \n",
      "8    0   0   0   0   0   0   0   0   1   0  ...   0   0   0   0   0   0   0   \n",
      "9    0   0   0   0   0   0   0   0   0   1  ...   0   0   0   0   0   0   0   \n",
      "10   0   0   0   0   0   0   0   0   0   0  ...   0   0   0   0   0   0   0   \n",
      "11   0   0   0   0   0   0   0   0   0   0  ...   0   0   0   0   0   0   0   \n",
      "12   0   0   0   0   0   0   0   0   0   0  ...   0   0   0   0   0   0   0   \n",
      "13   0   0   0   0   0   0   0   0   0   0  ...   0   0   0   0   0   0   0   \n",
      "14   0   0   0   0   0   0   0   0   0   0  ...   1   0   0   0   0   0   0   \n",
      "15   0   0   0   0   0   0   0   0   0   0  ...   0   1   0   0   0   0   0   \n",
      "16   0   0   0   0   0   0   0   0   0   0  ...   0   0   1   0   0   0   0   \n",
      "17   0   0   0   0   0   0   0   0   0   0  ...   0   0   0   1   0   0   0   \n",
      "18   0   0   0   0   0   0   0   0   0   0  ...   0   0   0   0   1   0   0   \n",
      "19   0   0   0   0   0   0   0   0   0   0  ...   0   0   0   0   0   1   0   \n",
      "20   0   0   0   0   0   0   0   0   0   0  ...   0   0   0   0   0   1   0   \n",
      "21   0   0   0   0   0   0   0   0   0   0  ...   0   0   0   0   0   0   0   \n",
      "22   0   0   0   0   0   0   0   0   0   0  ...   0   0   0   0   0   0   0   \n",
      "23   0   0   0   0   0   0   0   0   0   0  ...   0   0   0   0   0   0   0   \n",
      "\n",
      "    21  22  23  \n",
      "0    0   0   0  \n",
      "1    0   0   0  \n",
      "2    0   0   0  \n",
      "3    0   0   0  \n",
      "4    0   0   0  \n",
      "5    0   0   0  \n",
      "6    0   0   0  \n",
      "7    0   0   0  \n",
      "8    0   0   0  \n",
      "9    0   0   0  \n",
      "10   0   0   0  \n",
      "11   0   0   0  \n",
      "12   0   0   0  \n",
      "13   0   0   0  \n",
      "14   0   0   0  \n",
      "15   0   0   0  \n",
      "16   0   0   0  \n",
      "17   0   0   0  \n",
      "18   0   0   0  \n",
      "19   0   0   0  \n",
      "20   0   0   0  \n",
      "21   0   1   0  \n",
      "22   0   1   0  \n",
      "23   0   0   1  \n",
      "\n",
      "[24 rows x 24 columns]\n",
      "Precisión...\n",
      "['α'] -> β\n",
      "['β'] -> γ\n",
      "['γ'] -> δ\n",
      "['δ'] -> ε\n",
      "['ε'] -> ζ\n",
      "['ζ'] -> η\n",
      "['η'] -> θ\n",
      "['θ'] -> ι\n",
      "['ι'] -> κ\n",
      "['κ'] -> λ\n",
      "['λ'] -> μ\n",
      "['μ'] -> ν\n",
      "['ν'] -> ξ\n",
      "['ξ'] -> ο\n",
      "['ο'] -> π\n",
      "['π'] -> ρ\n",
      "['ρ'] -> ς\n",
      "['ς'] -> τ\n",
      "['σ'] -> τ\n",
      "['τ'] -> υ\n",
      "['υ'] -> φ\n",
      "['φ'] -> χ\n",
      "['χ'] -> ψ\n",
      "['ψ'] -> ω\n",
      "Precisión del modelo: 95.83%\n"
     ]
    }
   ],
   "source": [
    "print(\"Configurando modelo ...\")\n",
    "modelo = Sequential()\n",
    "modelo.add(LSTM(64, input_shape = (X.shape[1], X.shape[2])))\n",
    "modelo.add(Dense(15, activation = 'relu'))\n",
    "modelo.add(Dense(y.shape[1], activation = 'softmax'))\n",
    "modelo.compile(loss='categorical_crossentropy', optimizer='adam', metrics=['accuracy'])\n",
    "\n",
    "print(\"Entrenando modelo ...\")\n",
    "start = time.time()\n",
    "modelo.fit(X, y, epochs=500, batch_size=1, verbose=0)\n",
    "end= time.time()\n",
    "print(f\"Entrenar este modelo tomó {(end-start)/60} minutos.\")\n",
    "\n",
    "print(\"Efecuando predicciones...\")\n",
    "modelo_pred = modelo.predict(X,verbose=0)\n",
    "rnn_modelo_predicted = np.argmax(modelo_pred, axis=1)\n",
    "rnn_modelo_df_cm = pd.DataFrame(rnn_modelo_cm, range(len(rnn_modelo_predicted)), range(len(rnn_modelo_predicted))) \n",
    "print(rnn_modelo_df_cm)\n",
    "\n",
    "print(\"Precisión...\")\n",
    "# demuestra la predicciones del modelo\n",
    "for pattern in dataX:\n",
    "    x = np.reshape(pattern, (1, len(pattern), 1))\n",
    "    x = x / float(len(alfabeto))\n",
    "    prediction = modelo.predict(x, verbose=0)\n",
    "    index = np.argmax(prediction)\n",
    "    result = int_to_char[index]\n",
    "    seq_in = [int_to_char[value] for value in pattern]\n",
    "    print(seq_in, \"->\", result)\n",
    "    \n",
    "# sumariza el rendimiento del modelo\n",
    "scores = modelo.evaluate(X, y, verbose=0)\n",
    "print(\"Precisión del modelo: %.2f%%\" % (scores[1]*100))"
   ]
  },
  {
   "cell_type": "markdown",
   "id": "9159bd16-5e57-40bf-ac96-c16209f46d5c",
   "metadata": {},
   "source": [
    "Con este optimizador logramos incrementar sustancialmente la precisión del modelo, utilizando la misma arquitectura."
   ]
  }
 ],
 "metadata": {
  "kernelspec": {
   "display_name": "Python 3 (ipykernel)",
   "language": "python",
   "name": "python3"
  },
  "language_info": {
   "codemirror_mode": {
    "name": "ipython",
    "version": 3
   },
   "file_extension": ".py",
   "mimetype": "text/x-python",
   "name": "python",
   "nbconvert_exporter": "python",
   "pygments_lexer": "ipython3",
   "version": "3.9.8"
  }
 },
 "nbformat": 4,
 "nbformat_minor": 5
}

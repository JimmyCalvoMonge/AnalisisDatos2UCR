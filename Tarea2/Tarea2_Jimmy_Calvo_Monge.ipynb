{
 "cells": [
  {
   "cell_type": "markdown",
   "id": "fd33b75b-24f2-427d-a7b2-66f4201e70c4",
   "metadata": {},
   "source": [
    "# Análisis de Datos II\n",
    "## Profesor: Oldemar Rodríguez \n",
    "### Estudiante: Jimmy Calvo Monge\n",
    "### Carné: B31281\n",
    "#### TAREA 2\n",
    "#### Fecha de entrega: 28 de Agosto de 2022\n",
    "-------------------------------------------------------------"
   ]
  },
  {
   "cell_type": "markdown",
   "id": "d287e6a4-124c-4cbb-80ac-c5861e4f03e2",
   "metadata": {},
   "source": [
    "Importamos los módulos necesarios para resolver esta tarea."
   ]
  },
  {
   "cell_type": "code",
   "execution_count": 115,
   "id": "816bdbad-6a42-42c8-9c87-e1b0e82a884d",
   "metadata": {},
   "outputs": [
    {
     "name": "stdout",
     "output_type": "stream",
     "text": [
      "3.9.8 (tags/v3.9.8:bb3fdcf, Nov  5 2021, 20:48:33) [MSC v.1929 64 bit (AMD64)]\n"
     ]
    }
   ],
   "source": [
    "import pandas as pd\n",
    "import numpy as np\n",
    "import math\n",
    "import statistics as stat\n",
    "import sys\n",
    "print(sys.version)"
   ]
  },
  {
   "cell_type": "markdown",
   "id": "3d83b12f-1269-417b-9606-a908c91c357c",
   "metadata": {},
   "source": [
    "### Pregunta 1\n",
    "\n",
    "Desarrolle en `Python` las clases `Triangulo` y `Rectangulo`, luego para cada una de ellas programe\n",
    "los métodos calcular area y calcular perimetro:\n",
    "1. Clase `Triangulo`: Tiene como atributos el lado, la base y altura del triángulo.\n",
    "2. Clase `Rectangulo`: Tiene como atributos la base y altura del rectángulo."
   ]
  },
  {
   "cell_type": "code",
   "execution_count": 337,
   "id": "98daf0f9-21a0-4456-aa20-418a34e6a3bc",
   "metadata": {},
   "outputs": [],
   "source": [
    "class Triangulo():\n",
    "    \n",
    "    def __init__(self,base,altura,lado):\n",
    "        \n",
    "        self.__base=base\n",
    "        self.__altura=altura\n",
    "        \n",
    "        ### Dada una base y una altura, no podemos poner cualesquiera valores de los lados.\n",
    "        ### Uno de los lados puede ser arbitrario, pero el otro está restringido por el valor de la base\n",
    "        ### y de la altura.\n",
    "        \n",
    "        ### Asumimos que lado es una lista de 3 lados.\n",
    "        \n",
    "        \n",
    "        if isinstance(lado, list) and len(lado)==3:\n",
    "            \n",
    "            if self.__base in lado:\n",
    "                ### La base deberia pertenecer a la lista de lados.\n",
    "                \n",
    "                \n",
    "                ### Lo siguiente verifica que los lados proporcionados, junto con la base y la altura\n",
    "                ### De verdad den un triangulo que exista.\n",
    "                \n",
    "                ### Si L1 Y L2 son los otros dos lados que no son la base b, entonces la base se puede \n",
    "                ### dividir en 2 partes b1 y b2 de manera que se cumplan 2 triangulos rectangulos:\n",
    "                ### b1^2 + h^2 = L1^2  y b2^2 + h^2 = L2^2. Si L2 no cumple esta segunda ecuacion\n",
    "                ### entonces las medidas proporcionadas no pueden ser las de un triángulo de verdad.\n",
    "                \n",
    "    \n",
    "                otros_lados = lado.copy()\n",
    "                otros_lados.remove(self.__base)\n",
    "                \n",
    "                l1 = otros_lados[0]\n",
    "                l2 = otros_lados[1]\n",
    "                \n",
    "                b1 = math.sqrt(l1**2 - self.__altura**2)\n",
    "                b2= self.__base - b1\n",
    "                \n",
    "                if l2**2 == b2**2 + self.__altura**2:\n",
    "                    print(\"Felicidades ha hecho un triangulo existosamente\")\n",
    "                    self.__lado = lado\n",
    "                else:\n",
    "                    raise Exception(\"Estas medidas NO son compatibles con la definición de un Triángulo.\")\n",
    "            \n",
    "            else:\n",
    "                raise Exception(\"Dimensiones invalidas para construir un triángulo\")\n",
    "                \n",
    "        else:\n",
    "            \n",
    "            raise Exception(\"Lado debe ser una lista de 3 medidas\")\n",
    "            \n",
    "        if self.__base in lado:\n",
    "            self.__lado = lado\n",
    "        \n",
    "    def set_area(self):\n",
    "        area = (self.__base * self.__altura)/2\n",
    "        self.__area = area\n",
    "    \n",
    "    def get_area(self):\n",
    "        if self.__area:\n",
    "            return self.__area\n",
    "        else:\n",
    "            print(\"Ejecute .set_area() primero\")\n",
    "            \n",
    "    def set_perimetro(self):\n",
    "        ### Asumimos que lado es una lista de tres lados\n",
    "        # Si no entonces es un solo lado y el triángulo es equilátero.\n",
    "        self.__perimetro = sum(self.__lado)\n",
    "            \n",
    "    def get_perimetro(self):\n",
    "        if self.__perimetro:\n",
    "            return self.__perimetro\n",
    "        else:\n",
    "            print(\"Ejecute .set_perimetro() primero\")\n",
    "    \n",
    "    def __str__(self):\n",
    "        return f\"Triángulo de lados {self.__lado}, altura {self.__altura} y base {self.__base}.\"\n",
    "    \n",
    "    \n",
    "class Rectangulo():\n",
    "    \n",
    "    def __init__(self,base, altura):\n",
    "        self.__base=base\n",
    "        self.__altura=altura\n",
    "        \n",
    "    def set_area(self):\n",
    "        area = (self.__base * self.__altura)\n",
    "        self.__area = area\n",
    "    \n",
    "    def get_area(self):\n",
    "        if self.__area:\n",
    "            return self.__area\n",
    "        else:\n",
    "            print(\"Ejecute .set_area() primero\")\n",
    "    \n",
    "    def set_perimetro(self):\n",
    "        \n",
    "        self.__perimetro = 2*self.__base + 2*self.__altura\n",
    "            \n",
    "    def get_perimetro(self):\n",
    "        if self.__perimetro:\n",
    "            return self.__perimetro\n",
    "        else:\n",
    "            print(\"Ejecute .set_perimetro() primero\")\n",
    "    \n",
    "    def __str__(self):\n",
    "        return f\"Rectángulo de altura {self.__altura} y base {self.__base}.\""
   ]
  },
  {
   "cell_type": "code",
   "execution_count": 338,
   "id": "831342e3-c07f-48ae-ab36-8c381c9a8974",
   "metadata": {},
   "outputs": [
    {
     "name": "stdout",
     "output_type": "stream",
     "text": [
      "Felicidades ha hecho un triangulo existosamente\n"
     ]
    }
   ],
   "source": [
    "nuevo_triangulo = Triangulo(4,3,[4,3,5])"
   ]
  },
  {
   "cell_type": "code",
   "execution_count": 339,
   "id": "f68480f5-9480-4de6-b765-a9485a6a3f7f",
   "metadata": {},
   "outputs": [
    {
     "data": {
      "text/plain": [
       "12"
      ]
     },
     "execution_count": 339,
     "metadata": {},
     "output_type": "execute_result"
    }
   ],
   "source": [
    "nuevo_triangulo.set_perimetro()\n",
    "nuevo_triangulo.get_perimetro()"
   ]
  },
  {
   "cell_type": "code",
   "execution_count": 340,
   "id": "853485ed-ac0f-42a8-b231-a7fa1bc9a83c",
   "metadata": {},
   "outputs": [
    {
     "data": {
      "text/plain": [
       "6.0"
      ]
     },
     "execution_count": 340,
     "metadata": {},
     "output_type": "execute_result"
    }
   ],
   "source": [
    "nuevo_triangulo.set_area()\n",
    "nuevo_triangulo.get_area()"
   ]
  },
  {
   "cell_type": "code",
   "execution_count": 341,
   "id": "f694c36e-90a3-4de8-b922-0a89dff4621b",
   "metadata": {},
   "outputs": [
    {
     "data": {
      "text/plain": [
       "'Triángulo de lados [4, 3, 5], altura 3 y base 4.'"
      ]
     },
     "execution_count": 341,
     "metadata": {},
     "output_type": "execute_result"
    }
   ],
   "source": [
    "nuevo_triangulo.__str__()"
   ]
  },
  {
   "cell_type": "code",
   "execution_count": 342,
   "id": "e3d829a0-c438-4dbd-9663-58a2e543d278",
   "metadata": {},
   "outputs": [
    {
     "ename": "Exception",
     "evalue": "Estas medidas NO son compatibles con la definición de un Triángulo.",
     "output_type": "error",
     "traceback": [
      "\u001b[1;31m---------------------------------------------------------------------------\u001b[0m",
      "\u001b[1;31mException\u001b[0m                                 Traceback (most recent call last)",
      "\u001b[1;32m~\\AppData\\Local\\Temp/ipykernel_9428/4161181818.py\u001b[0m in \u001b[0;36m<module>\u001b[1;34m\u001b[0m\n\u001b[1;32m----> 1\u001b[1;33m \u001b[0mnuevo_triangulo\u001b[0m \u001b[1;33m=\u001b[0m \u001b[0mTriangulo\u001b[0m\u001b[1;33m(\u001b[0m\u001b[1;36m4\u001b[0m\u001b[1;33m,\u001b[0m\u001b[1;36m3\u001b[0m\u001b[1;33m,\u001b[0m\u001b[1;33m[\u001b[0m\u001b[1;36m4\u001b[0m\u001b[1;33m,\u001b[0m\u001b[1;36m3\u001b[0m\u001b[1;33m,\u001b[0m\u001b[1;36m10\u001b[0m\u001b[1;33m]\u001b[0m\u001b[1;33m)\u001b[0m\u001b[1;33m\u001b[0m\u001b[1;33m\u001b[0m\u001b[0m\n\u001b[0m",
      "\u001b[1;32m~\\AppData\\Local\\Temp/ipykernel_9428/3700819469.py\u001b[0m in \u001b[0;36m__init__\u001b[1;34m(self, base, altura, lado)\u001b[0m\n\u001b[0;32m     41\u001b[0m                     \u001b[0mself\u001b[0m\u001b[1;33m.\u001b[0m\u001b[0m__lado\u001b[0m \u001b[1;33m=\u001b[0m \u001b[0mlado\u001b[0m\u001b[1;33m\u001b[0m\u001b[1;33m\u001b[0m\u001b[0m\n\u001b[0;32m     42\u001b[0m                 \u001b[1;32melse\u001b[0m\u001b[1;33m:\u001b[0m\u001b[1;33m\u001b[0m\u001b[1;33m\u001b[0m\u001b[0m\n\u001b[1;32m---> 43\u001b[1;33m                     \u001b[1;32mraise\u001b[0m \u001b[0mException\u001b[0m\u001b[1;33m(\u001b[0m\u001b[1;34m\"Estas medidas NO son compatibles con la definición de un Triángulo.\"\u001b[0m\u001b[1;33m)\u001b[0m\u001b[1;33m\u001b[0m\u001b[1;33m\u001b[0m\u001b[0m\n\u001b[0m\u001b[0;32m     44\u001b[0m \u001b[1;33m\u001b[0m\u001b[0m\n\u001b[0;32m     45\u001b[0m             \u001b[1;32melse\u001b[0m\u001b[1;33m:\u001b[0m\u001b[1;33m\u001b[0m\u001b[1;33m\u001b[0m\u001b[0m\n",
      "\u001b[1;31mException\u001b[0m: Estas medidas NO son compatibles con la definición de un Triángulo."
     ]
    }
   ],
   "source": [
    "nuevo_triangulo = Triangulo(4,3,[4,3,10])"
   ]
  },
  {
   "cell_type": "markdown",
   "id": "33a95d90-37b8-47db-b404-08e5af6ffecd",
   "metadata": {},
   "source": [
    "### Pregunta 2\n",
    "\n",
    "Desarrolle en `python` la clase `Operación`, que tiene como atributos dos vectores numéricos $U$ y $V$, luego programe los métodos:\n",
    "\n",
    "- Sumar: Suma ambos vectores y devuelve el resultado.\n",
    "- Restar: Resta al primer vector el segundo y devuelve el resultado.\n",
    "- Multiplicar: Calcula el producto punto entre ambos vectores y devuelve el resultado.\n",
    "- Correlacion: Devuelve la correlación entre los dos vectores.\n",
    "- Covarianza: Devuelve la covarianza entre los dos vectores."
   ]
  },
  {
   "cell_type": "code",
   "execution_count": 343,
   "id": "c0d73f98-a446-4d0d-8bbd-1610e0a39f40",
   "metadata": {},
   "outputs": [],
   "source": [
    "class Operacion():\n",
    "    \n",
    "    def __init__(self, U, V):\n",
    "        \n",
    "        if isinstance(U,np.ndarray) and isinstance(V,np.ndarray):\n",
    "            self.__U= U\n",
    "            self.__V= V\n",
    "            print(\"Iniciemos con las operaciones\")\n",
    "        else:\n",
    "            ### Asi iniciamos la clase con dos nmumpy array's y los metodos seran mas faciles.\n",
    "            raise Exception(\"Los atributos de inicialización deben ser dos numpy array's\")\n",
    "            \n",
    "    def sumar(self):\n",
    "        return self.__U + self.__V\n",
    "    \n",
    "    def restar(self):\n",
    "        return self.__U - self.__V\n",
    "    \n",
    "    def multiplicar(self):\n",
    "        return np.inner(self.__U,self.__V)\n",
    "    \n",
    "    def correlacion(self):\n",
    "        return np.corrcoef(self.__U,self.__V)[0][1]\n",
    "    \n",
    "    def covarianza(self):\n",
    "        return np.cov(self.__U,self.__V)[0][1] ### np.cov regresa una matriz de covarianza simetrica.\n",
    "    \n",
    "    def __str__(self):\n",
    "        return f\"\"\"\n",
    "        Esta es la clase Operacion con los siguientes vectores:\n",
    "        U: {list(self.__U)}\n",
    "        V: {list(self.__V)}\n",
    "        =====================================================================\"\"\""
   ]
  },
  {
   "cell_type": "code",
   "execution_count": 344,
   "id": "470119ce-6eea-489b-8f06-b66f0f08fabc",
   "metadata": {},
   "outputs": [
    {
     "name": "stdout",
     "output_type": "stream",
     "text": [
      "Iniciemos con las operaciones\n"
     ]
    }
   ],
   "source": [
    "nueva_op = Operacion(np.array([9,2,2]),np.array([1,1,2]))"
   ]
  },
  {
   "cell_type": "code",
   "execution_count": 345,
   "id": "bdc1ce42-5dd9-4de2-b16b-fe0c01f86120",
   "metadata": {},
   "outputs": [
    {
     "data": {
      "text/plain": [
       "array([10,  3,  4])"
      ]
     },
     "execution_count": 345,
     "metadata": {},
     "output_type": "execute_result"
    }
   ],
   "source": [
    "nueva_op.sumar()"
   ]
  },
  {
   "cell_type": "code",
   "execution_count": 346,
   "id": "7401dc7a-5424-48e1-8675-b51748c16b89",
   "metadata": {},
   "outputs": [
    {
     "data": {
      "text/plain": [
       "array([8, 1, 0])"
      ]
     },
     "execution_count": 346,
     "metadata": {},
     "output_type": "execute_result"
    }
   ],
   "source": [
    "nueva_op.restar()"
   ]
  },
  {
   "cell_type": "code",
   "execution_count": 347,
   "id": "72f2dd64-4677-485f-b340-82eb3971a990",
   "metadata": {},
   "outputs": [
    {
     "data": {
      "text/plain": [
       "15"
      ]
     },
     "execution_count": 347,
     "metadata": {},
     "output_type": "execute_result"
    }
   ],
   "source": [
    "nueva_op.multiplicar()"
   ]
  },
  {
   "cell_type": "code",
   "execution_count": 348,
   "id": "1a0e8af1-0876-4c8a-a53a-b56957f06f34",
   "metadata": {},
   "outputs": [
    {
     "data": {
      "text/plain": [
       "-0.5"
      ]
     },
     "execution_count": 348,
     "metadata": {},
     "output_type": "execute_result"
    }
   ],
   "source": [
    "nueva_op.correlacion()"
   ]
  },
  {
   "cell_type": "code",
   "execution_count": 349,
   "id": "329083c6-30ac-470e-9f5c-eb62c01255c2",
   "metadata": {},
   "outputs": [
    {
     "data": {
      "text/plain": [
       "-1.1666666666666667"
      ]
     },
     "execution_count": 349,
     "metadata": {},
     "output_type": "execute_result"
    }
   ],
   "source": [
    "nueva_op.covarianza()"
   ]
  },
  {
   "cell_type": "code",
   "execution_count": 350,
   "id": "46fbb9bd-4759-4dc1-84f3-18c2825ee55e",
   "metadata": {},
   "outputs": [
    {
     "name": "stdout",
     "output_type": "stream",
     "text": [
      "\n",
      "        Esta es la clase Operacion con los siguientes vectores:\n",
      "        U: [9, 2, 2]\n",
      "        V: [1, 1, 2]\n",
      "        =====================================================================\n"
     ]
    }
   ],
   "source": [
    "print(nueva_op.__str__())"
   ]
  },
  {
   "cell_type": "markdown",
   "id": "d08761a8-57d2-4fd4-8da6-29585ec0761d",
   "metadata": {},
   "source": [
    "### Pregunta 3\n",
    "\n",
    "Programe una clase en Python (estilo pythónico) denominada `Jugadores` que tiene como atributo un dataframe de pandas que permite almacenar una tabla de datos como la incluida en el archivo `Players1.csv`. Además, programe los siguientes métodos:\n",
    "\n",
    "- `actualizar_position`: Recibe el nombre del jugador y el nombre de la nueva posición, dicho método actualiza la posición del jugador y la muestra.\n",
    "- `resumen_jugador`: Recibe el nombre del jugador y retorna toda su información en formato de texto (str).\n",
    "- `resumen_columna`: Recibe el nombre de una columna y si es numérica retorna su promedio, en caso de ser categórica (object) retorna la moda.\n",
    "- `cantidad_equipos`: Retorna la cantidad de jugadores que existen en el dataframe por equipo, ejemplo Algeria: 10 jugadores.\n",
    "- `agregar_jugador`: Recibe el nombre del jugador y los valores de cada columna del dataframe, añade el jugador a la tabla de datos y retorna un mensaje donde se indica que se agregó correctamente. En el siguiente link se muestran algunas maneras de agregar filas a un dataframe: agregar filas.\n",
    "- `eliminar_jugador`: Recibe el nombre del jugador, lo elimina de la tabla de datos y retorna un mensaje donde se indica que se eliminó correctamente. Debe validar que el jugador exista dentro de la tabla de datos."
   ]
  },
  {
   "cell_type": "code",
   "execution_count": 351,
   "id": "205776b1-8875-45c8-b1ed-cffa4475481a",
   "metadata": {},
   "outputs": [],
   "source": [
    "class Jugadores():\n",
    "    \n",
    "    def __init__(self,df):\n",
    "        \n",
    "        if isinstance(df, pd.DataFrame):\n",
    "            ### El atributo de esta clase es un dataframe\n",
    "            self.__df = df\n",
    "        else:\n",
    "            raise Exception(\"El objeto para inicializar debe ser un DataFrame de pandas\")\n",
    "            \n",
    "    def actualizar_posicion(self,jugador,posicion):\n",
    "        \n",
    "        try:\n",
    "            self.__df.loc[self.__df[\"surname\"] == jugador, \"position\"] = posicion\n",
    "        except Exception as e:\n",
    "            raise Exception(f\"Error al actualizar el jugador: {e}.\")\n",
    "            \n",
    "    def resumen_jugador(self,jugador):\n",
    "        \n",
    "        jug = self.__df.loc[self.__df[\"surname\"]==jugador,:]\n",
    "        jug_dict = {}\n",
    "        for col in jug.columns:\n",
    "            jug_dict[col]= jug[col].tolist()[0]\n",
    "        return str(jug_dict)\n",
    "    \n",
    "    def resumen_columna(self,columna):\n",
    "        \n",
    "        if columna in self.__df.columns:\n",
    "            \n",
    "            if self.__df[columna].dtype.kind in 'biufc':\n",
    "                ### Columna es numerica\n",
    "                return {\n",
    "                    f\"media de {columna}\": np.mean(self.__df[columna])\n",
    "                }\n",
    "            else:\n",
    "                return {\n",
    "                    f\"moda de {columna}\": stat.mode(self.__df[columna])\n",
    "                }\n",
    "            \n",
    "        else:\n",
    "            raise Exception(\"La columna no pertenece al dataframe!\")\n",
    "            \n",
    "    def cantidad_equipos(self):\n",
    "        return self.__df[\"team\"].value_counts()\n",
    "    \n",
    "    def agregar_jugador(self, jugador, equipo, posicion, minutos, shots, passes, tackles, saves):\n",
    "        \n",
    "        df_agregar= pd.DataFrame({\n",
    "            \"surname\":[jugador],\n",
    "            \"team\": [equipo],\n",
    "            \"position\": [posicion],\n",
    "            \"minutes\": [minutos],\n",
    "            \"shots\":[shots],\n",
    "            \"passes\":[passes],\n",
    "            \"tackles\":[tackles],\n",
    "            \"saves\":[saves]\n",
    "        })\n",
    "        self.__df = self.__df.append(df_agregar, ignore_index = True)\n",
    "        \n",
    "    def eliminar_jugador(self,jugador):\n",
    "        \n",
    "        if jugador in self.__df[\"surname\"].tolist():\n",
    "            self.__df = self.__df[self.__df[\"surname\"]!=jugador]\n",
    "            print(f\"El jugador {jugador} fue eliminado exitosamente de la tabla de datos.\")\n",
    "        else:\n",
    "            raise Exception(\"El jugador NO está en la tabla de datos\")\n",
    "\n",
    "    def get_df(self):\n",
    "        return self.__df\n",
    "    \n",
    "    def __str__(self):\n",
    "        return f\"\"\"\n",
    "        Esta es la clase Jugadores.\n",
    "        - El dataframe tiene las siguientes columnas:\n",
    "        {self.__df.columns.tolist()}\n",
    "        - Hay {self.__df.shape[0]} jugadores de {len(self.__df['team'].unique().tolist())} paises.\n",
    "        - Así se ven las primeras filas del dataframe de Jugadores:\n",
    "        \n",
    "        {self.__df.head(5)}\n",
    "          \n",
    "        ~~~~~~~~~~~~~~~~~~~~~~~~~~~~~~~~~~\n",
    "        \"\"\"\n",
    "        "
   ]
  },
  {
   "cell_type": "code",
   "execution_count": 352,
   "id": "817efc24-664a-43a1-9449-0506f34a9b81",
   "metadata": {},
   "outputs": [
    {
     "data": {
      "text/html": [
       "<div>\n",
       "<style scoped>\n",
       "    .dataframe tbody tr th:only-of-type {\n",
       "        vertical-align: middle;\n",
       "    }\n",
       "\n",
       "    .dataframe tbody tr th {\n",
       "        vertical-align: top;\n",
       "    }\n",
       "\n",
       "    .dataframe thead th {\n",
       "        text-align: right;\n",
       "    }\n",
       "</style>\n",
       "<table border=\"1\" class=\"dataframe\">\n",
       "  <thead>\n",
       "    <tr style=\"text-align: right;\">\n",
       "      <th></th>\n",
       "      <th>surname</th>\n",
       "      <th>team</th>\n",
       "      <th>position</th>\n",
       "      <th>minutes</th>\n",
       "      <th>shots</th>\n",
       "      <th>passes</th>\n",
       "      <th>tackles</th>\n",
       "      <th>saves</th>\n",
       "    </tr>\n",
       "  </thead>\n",
       "  <tbody>\n",
       "    <tr>\n",
       "      <th>0</th>\n",
       "      <td>Abdoun</td>\n",
       "      <td>Algeria</td>\n",
       "      <td>midfielder</td>\n",
       "      <td>16</td>\n",
       "      <td>0</td>\n",
       "      <td>6</td>\n",
       "      <td>0</td>\n",
       "      <td>0</td>\n",
       "    </tr>\n",
       "    <tr>\n",
       "      <th>1</th>\n",
       "      <td>Belhadj</td>\n",
       "      <td>Algeria</td>\n",
       "      <td>defender</td>\n",
       "      <td>270</td>\n",
       "      <td>1</td>\n",
       "      <td>146</td>\n",
       "      <td>8</td>\n",
       "      <td>0</td>\n",
       "    </tr>\n",
       "    <tr>\n",
       "      <th>2</th>\n",
       "      <td>Boudebouz</td>\n",
       "      <td>Algeria</td>\n",
       "      <td>midfielder</td>\n",
       "      <td>74</td>\n",
       "      <td>3</td>\n",
       "      <td>28</td>\n",
       "      <td>1</td>\n",
       "      <td>0</td>\n",
       "    </tr>\n",
       "    <tr>\n",
       "      <th>3</th>\n",
       "      <td>Bougherra</td>\n",
       "      <td>Algeria</td>\n",
       "      <td>defender</td>\n",
       "      <td>270</td>\n",
       "      <td>1</td>\n",
       "      <td>89</td>\n",
       "      <td>11</td>\n",
       "      <td>0</td>\n",
       "    </tr>\n",
       "    <tr>\n",
       "      <th>4</th>\n",
       "      <td>Chaouchi</td>\n",
       "      <td>Algeria</td>\n",
       "      <td>goalkeeper</td>\n",
       "      <td>90</td>\n",
       "      <td>0</td>\n",
       "      <td>17</td>\n",
       "      <td>0</td>\n",
       "      <td>2</td>\n",
       "    </tr>\n",
       "  </tbody>\n",
       "</table>\n",
       "</div>"
      ],
      "text/plain": [
       "     surname     team    position  minutes  shots  passes  tackles  saves\n",
       "0     Abdoun  Algeria  midfielder       16      0       6        0      0\n",
       "1    Belhadj  Algeria    defender      270      1     146        8      0\n",
       "2  Boudebouz  Algeria  midfielder       74      3      28        1      0\n",
       "3  Bougherra  Algeria    defender      270      1      89       11      0\n",
       "4   Chaouchi  Algeria  goalkeeper       90      0      17        0      2"
      ]
     },
     "execution_count": 352,
     "metadata": {},
     "output_type": "execute_result"
    }
   ],
   "source": [
    "data = pd.read_csv(\"Players1.csv\")\n",
    "data.head(5)"
   ]
  },
  {
   "cell_type": "code",
   "execution_count": 353,
   "id": "eeb19a6f-62ea-4ea8-90ca-b59efec734e5",
   "metadata": {},
   "outputs": [],
   "source": [
    "jugadores = Jugadores(data)"
   ]
  },
  {
   "cell_type": "code",
   "execution_count": 354,
   "id": "801bc78f-98ea-4f4b-a54f-383754d88ddf",
   "metadata": {},
   "outputs": [],
   "source": [
    "jugadores.actualizar_posicion(jugador=\"Belhadj\",posicion=\"midfielder\")"
   ]
  },
  {
   "cell_type": "code",
   "execution_count": 355,
   "id": "06b08739-80d1-4faa-b597-60dfec5c8133",
   "metadata": {},
   "outputs": [
    {
     "data": {
      "text/html": [
       "<div>\n",
       "<style scoped>\n",
       "    .dataframe tbody tr th:only-of-type {\n",
       "        vertical-align: middle;\n",
       "    }\n",
       "\n",
       "    .dataframe tbody tr th {\n",
       "        vertical-align: top;\n",
       "    }\n",
       "\n",
       "    .dataframe thead th {\n",
       "        text-align: right;\n",
       "    }\n",
       "</style>\n",
       "<table border=\"1\" class=\"dataframe\">\n",
       "  <thead>\n",
       "    <tr style=\"text-align: right;\">\n",
       "      <th></th>\n",
       "      <th>surname</th>\n",
       "      <th>team</th>\n",
       "      <th>position</th>\n",
       "      <th>minutes</th>\n",
       "      <th>shots</th>\n",
       "      <th>passes</th>\n",
       "      <th>tackles</th>\n",
       "      <th>saves</th>\n",
       "    </tr>\n",
       "  </thead>\n",
       "  <tbody>\n",
       "    <tr>\n",
       "      <th>0</th>\n",
       "      <td>Abdoun</td>\n",
       "      <td>Algeria</td>\n",
       "      <td>midfielder</td>\n",
       "      <td>16</td>\n",
       "      <td>0</td>\n",
       "      <td>6</td>\n",
       "      <td>0</td>\n",
       "      <td>0</td>\n",
       "    </tr>\n",
       "    <tr>\n",
       "      <th>1</th>\n",
       "      <td>Belhadj</td>\n",
       "      <td>Algeria</td>\n",
       "      <td>midfielder</td>\n",
       "      <td>270</td>\n",
       "      <td>1</td>\n",
       "      <td>146</td>\n",
       "      <td>8</td>\n",
       "      <td>0</td>\n",
       "    </tr>\n",
       "    <tr>\n",
       "      <th>2</th>\n",
       "      <td>Boudebouz</td>\n",
       "      <td>Algeria</td>\n",
       "      <td>midfielder</td>\n",
       "      <td>74</td>\n",
       "      <td>3</td>\n",
       "      <td>28</td>\n",
       "      <td>1</td>\n",
       "      <td>0</td>\n",
       "    </tr>\n",
       "    <tr>\n",
       "      <th>3</th>\n",
       "      <td>Bougherra</td>\n",
       "      <td>Algeria</td>\n",
       "      <td>defender</td>\n",
       "      <td>270</td>\n",
       "      <td>1</td>\n",
       "      <td>89</td>\n",
       "      <td>11</td>\n",
       "      <td>0</td>\n",
       "    </tr>\n",
       "    <tr>\n",
       "      <th>4</th>\n",
       "      <td>Chaouchi</td>\n",
       "      <td>Algeria</td>\n",
       "      <td>goalkeeper</td>\n",
       "      <td>90</td>\n",
       "      <td>0</td>\n",
       "      <td>17</td>\n",
       "      <td>0</td>\n",
       "      <td>2</td>\n",
       "    </tr>\n",
       "  </tbody>\n",
       "</table>\n",
       "</div>"
      ],
      "text/plain": [
       "     surname     team    position  minutes  shots  passes  tackles  saves\n",
       "0     Abdoun  Algeria  midfielder       16      0       6        0      0\n",
       "1    Belhadj  Algeria  midfielder      270      1     146        8      0\n",
       "2  Boudebouz  Algeria  midfielder       74      3      28        1      0\n",
       "3  Bougherra  Algeria    defender      270      1      89       11      0\n",
       "4   Chaouchi  Algeria  goalkeeper       90      0      17        0      2"
      ]
     },
     "execution_count": 355,
     "metadata": {},
     "output_type": "execute_result"
    }
   ],
   "source": [
    "jugadores.get_df().head(5)"
   ]
  },
  {
   "cell_type": "code",
   "execution_count": 356,
   "id": "4ae8214d-a851-4f9c-95bf-328bc74a706f",
   "metadata": {},
   "outputs": [
    {
     "data": {
      "text/plain": [
       "\"{'surname': 'Chaouchi', 'team': 'Algeria', 'position': 'goalkeeper', 'minutes': 90, 'shots': 0, 'passes': 17, 'tackles': 0, 'saves': 2}\""
      ]
     },
     "execution_count": 356,
     "metadata": {},
     "output_type": "execute_result"
    }
   ],
   "source": [
    "jugadores.resumen_jugador(jugador=\"Chaouchi\")"
   ]
  },
  {
   "cell_type": "code",
   "execution_count": 357,
   "id": "053dc6d7-b87e-4069-a706-be5e1e5791d7",
   "metadata": {},
   "outputs": [
    {
     "data": {
      "text/plain": [
       "{'media de minutes': 208.86386554621848}"
      ]
     },
     "execution_count": 357,
     "metadata": {},
     "output_type": "execute_result"
    }
   ],
   "source": [
    "jugadores.resumen_columna(\"minutes\")"
   ]
  },
  {
   "cell_type": "code",
   "execution_count": 358,
   "id": "bb76e1a2-5fbc-4723-8c9c-1ccfb8fe3439",
   "metadata": {},
   "outputs": [
    {
     "data": {
      "text/plain": [
       "{'moda de team': 'Slovakia'}"
      ]
     },
     "execution_count": 358,
     "metadata": {},
     "output_type": "execute_result"
    }
   ],
   "source": [
    "jugadores.resumen_columna(\"team\")"
   ]
  },
  {
   "cell_type": "code",
   "execution_count": 359,
   "id": "40f9a246-aae2-46f6-a687-9224b12aa713",
   "metadata": {},
   "outputs": [
    {
     "data": {
      "text/plain": [
       "Slovakia        21\n",
       "Uruguay         21\n",
       "Paraguay        20\n",
       "Cameroon        20\n",
       "Chile           20\n",
       "Spain           20\n",
       "Argentina       20\n",
       "Portugal        20\n",
       "Honduras        19\n",
       "Serbia          19\n",
       "South Africa    19\n",
       "Italy           19\n",
       "USA             19\n",
       "Ghana           19\n",
       "Germany         19\n",
       "France          19\n",
       "England         19\n",
       "Denmark         19\n",
       "Brazil          19\n",
       "Australia       19\n",
       "Greece          19\n",
       "Switzerland     18\n",
       "Algeria         18\n",
       "Nigeria         18\n",
       "Netherlands     18\n",
       "Japan           18\n",
       "Mexico          18\n",
       "South Korea     17\n",
       "Ivory Coast     16\n",
       "North Korea     15\n",
       "Slovenia        15\n",
       "New Zealand     15\n",
       "Name: team, dtype: int64"
      ]
     },
     "execution_count": 359,
     "metadata": {},
     "output_type": "execute_result"
    }
   ],
   "source": [
    "jugadores.cantidad_equipos()"
   ]
  },
  {
   "cell_type": "code",
   "execution_count": 360,
   "id": "5398c95e-58c0-4476-9e58-6b954f58fcff",
   "metadata": {},
   "outputs": [],
   "source": [
    "jugadores.agregar_jugador(jugador=\"Jimmy\", equipo=\"CR\", posicion=\"defender\",\n",
    "                          minutos=0, shots=0, passes=0, tackles=0, saves=0)"
   ]
  },
  {
   "cell_type": "code",
   "execution_count": 361,
   "id": "a6aee18f-635c-4597-9b77-d50e119962ab",
   "metadata": {},
   "outputs": [
    {
     "data": {
      "text/html": [
       "<div>\n",
       "<style scoped>\n",
       "    .dataframe tbody tr th:only-of-type {\n",
       "        vertical-align: middle;\n",
       "    }\n",
       "\n",
       "    .dataframe tbody tr th {\n",
       "        vertical-align: top;\n",
       "    }\n",
       "\n",
       "    .dataframe thead th {\n",
       "        text-align: right;\n",
       "    }\n",
       "</style>\n",
       "<table border=\"1\" class=\"dataframe\">\n",
       "  <thead>\n",
       "    <tr style=\"text-align: right;\">\n",
       "      <th></th>\n",
       "      <th>surname</th>\n",
       "      <th>team</th>\n",
       "      <th>position</th>\n",
       "      <th>minutes</th>\n",
       "      <th>shots</th>\n",
       "      <th>passes</th>\n",
       "      <th>tackles</th>\n",
       "      <th>saves</th>\n",
       "    </tr>\n",
       "  </thead>\n",
       "  <tbody>\n",
       "    <tr>\n",
       "      <th>591</th>\n",
       "      <td>Howard</td>\n",
       "      <td>USA</td>\n",
       "      <td>goalkeeper</td>\n",
       "      <td>390</td>\n",
       "      <td>0</td>\n",
       "      <td>81</td>\n",
       "      <td>0</td>\n",
       "      <td>14</td>\n",
       "    </tr>\n",
       "    <tr>\n",
       "      <th>592</th>\n",
       "      <td>Jozy Altidore</td>\n",
       "      <td>USA</td>\n",
       "      <td>forward</td>\n",
       "      <td>356</td>\n",
       "      <td>8</td>\n",
       "      <td>84</td>\n",
       "      <td>2</td>\n",
       "      <td>0</td>\n",
       "    </tr>\n",
       "    <tr>\n",
       "      <th>593</th>\n",
       "      <td>Onyewu</td>\n",
       "      <td>USA</td>\n",
       "      <td>defender</td>\n",
       "      <td>170</td>\n",
       "      <td>1</td>\n",
       "      <td>69</td>\n",
       "      <td>2</td>\n",
       "      <td>0</td>\n",
       "    </tr>\n",
       "    <tr>\n",
       "      <th>594</th>\n",
       "      <td>Torres 2 3</td>\n",
       "      <td>USA</td>\n",
       "      <td>midfielder</td>\n",
       "      <td>45</td>\n",
       "      <td>1</td>\n",
       "      <td>32</td>\n",
       "      <td>0</td>\n",
       "      <td>0</td>\n",
       "    </tr>\n",
       "    <tr>\n",
       "      <th>595</th>\n",
       "      <td>Jimmy</td>\n",
       "      <td>CR</td>\n",
       "      <td>defender</td>\n",
       "      <td>0</td>\n",
       "      <td>0</td>\n",
       "      <td>0</td>\n",
       "      <td>0</td>\n",
       "      <td>0</td>\n",
       "    </tr>\n",
       "  </tbody>\n",
       "</table>\n",
       "</div>"
      ],
      "text/plain": [
       "           surname team    position  minutes  shots  passes  tackles  saves\n",
       "591         Howard  USA  goalkeeper      390      0      81        0     14\n",
       "592  Jozy Altidore  USA     forward      356      8      84        2      0\n",
       "593         Onyewu  USA    defender      170      1      69        2      0\n",
       "594     Torres 2 3  USA  midfielder       45      1      32        0      0\n",
       "595          Jimmy   CR    defender        0      0       0        0      0"
      ]
     },
     "execution_count": 361,
     "metadata": {},
     "output_type": "execute_result"
    }
   ],
   "source": [
    "jugadores.get_df().tail()"
   ]
  },
  {
   "cell_type": "code",
   "execution_count": 362,
   "id": "9bec6570-a78e-41c9-9520-c7fcaeff2ea4",
   "metadata": {},
   "outputs": [
    {
     "name": "stdout",
     "output_type": "stream",
     "text": [
      "El jugador Jimmy fue eliminado exitosamente de la tabla de datos.\n"
     ]
    }
   ],
   "source": [
    "jugadores.eliminar_jugador(\"Jimmy\")"
   ]
  },
  {
   "cell_type": "code",
   "execution_count": 363,
   "id": "f7dc2b0c-3b23-4d74-8b0f-7f659d431cd1",
   "metadata": {},
   "outputs": [
    {
     "data": {
      "text/html": [
       "<div>\n",
       "<style scoped>\n",
       "    .dataframe tbody tr th:only-of-type {\n",
       "        vertical-align: middle;\n",
       "    }\n",
       "\n",
       "    .dataframe tbody tr th {\n",
       "        vertical-align: top;\n",
       "    }\n",
       "\n",
       "    .dataframe thead th {\n",
       "        text-align: right;\n",
       "    }\n",
       "</style>\n",
       "<table border=\"1\" class=\"dataframe\">\n",
       "  <thead>\n",
       "    <tr style=\"text-align: right;\">\n",
       "      <th></th>\n",
       "      <th>surname</th>\n",
       "      <th>team</th>\n",
       "      <th>position</th>\n",
       "      <th>minutes</th>\n",
       "      <th>shots</th>\n",
       "      <th>passes</th>\n",
       "      <th>tackles</th>\n",
       "      <th>saves</th>\n",
       "    </tr>\n",
       "  </thead>\n",
       "  <tbody>\n",
       "    <tr>\n",
       "      <th>590</th>\n",
       "      <td>Holden</td>\n",
       "      <td>USA</td>\n",
       "      <td>midfielder</td>\n",
       "      <td>4</td>\n",
       "      <td>0</td>\n",
       "      <td>2</td>\n",
       "      <td>0</td>\n",
       "      <td>0</td>\n",
       "    </tr>\n",
       "    <tr>\n",
       "      <th>591</th>\n",
       "      <td>Howard</td>\n",
       "      <td>USA</td>\n",
       "      <td>goalkeeper</td>\n",
       "      <td>390</td>\n",
       "      <td>0</td>\n",
       "      <td>81</td>\n",
       "      <td>0</td>\n",
       "      <td>14</td>\n",
       "    </tr>\n",
       "    <tr>\n",
       "      <th>592</th>\n",
       "      <td>Jozy Altidore</td>\n",
       "      <td>USA</td>\n",
       "      <td>forward</td>\n",
       "      <td>356</td>\n",
       "      <td>8</td>\n",
       "      <td>84</td>\n",
       "      <td>2</td>\n",
       "      <td>0</td>\n",
       "    </tr>\n",
       "    <tr>\n",
       "      <th>593</th>\n",
       "      <td>Onyewu</td>\n",
       "      <td>USA</td>\n",
       "      <td>defender</td>\n",
       "      <td>170</td>\n",
       "      <td>1</td>\n",
       "      <td>69</td>\n",
       "      <td>2</td>\n",
       "      <td>0</td>\n",
       "    </tr>\n",
       "    <tr>\n",
       "      <th>594</th>\n",
       "      <td>Torres 2 3</td>\n",
       "      <td>USA</td>\n",
       "      <td>midfielder</td>\n",
       "      <td>45</td>\n",
       "      <td>1</td>\n",
       "      <td>32</td>\n",
       "      <td>0</td>\n",
       "      <td>0</td>\n",
       "    </tr>\n",
       "  </tbody>\n",
       "</table>\n",
       "</div>"
      ],
      "text/plain": [
       "           surname team    position  minutes  shots  passes  tackles  saves\n",
       "590         Holden  USA  midfielder        4      0       2        0      0\n",
       "591         Howard  USA  goalkeeper      390      0      81        0     14\n",
       "592  Jozy Altidore  USA     forward      356      8      84        2      0\n",
       "593         Onyewu  USA    defender      170      1      69        2      0\n",
       "594     Torres 2 3  USA  midfielder       45      1      32        0      0"
      ]
     },
     "execution_count": 363,
     "metadata": {},
     "output_type": "execute_result"
    }
   ],
   "source": [
    "jugadores.get_df().tail()"
   ]
  },
  {
   "cell_type": "code",
   "execution_count": 364,
   "id": "283c2082-9e54-40e4-a3f6-9879ecb23845",
   "metadata": {},
   "outputs": [
    {
     "name": "stdout",
     "output_type": "stream",
     "text": [
      "\n",
      "        Esta es la clase Jugadores.\n",
      "        - El dataframe tiene las siguientes columnas:\n",
      "        ['surname', 'team', 'position', 'minutes', 'shots', 'passes', 'tackles', 'saves']\n",
      "        - Hay 595 jugadores de 32 paises.\n",
      "        - Así se ven las primeras filas del dataframe de Jugadores:\n",
      "        \n",
      "             surname     team    position  minutes  shots  passes  tackles  saves\n",
      "0     Abdoun  Algeria  midfielder       16      0       6        0      0\n",
      "1    Belhadj  Algeria  midfielder      270      1     146        8      0\n",
      "2  Boudebouz  Algeria  midfielder       74      3      28        1      0\n",
      "3  Bougherra  Algeria    defender      270      1      89       11      0\n",
      "4   Chaouchi  Algeria  goalkeeper       90      0      17        0      2\n",
      "          \n",
      "        ~~~~~~~~~~~~~~~~~~~~~~~~~~~~~~~~~~\n",
      "        \n"
     ]
    }
   ],
   "source": [
    "print(jugadores.__str__())"
   ]
  },
  {
   "cell_type": "markdown",
   "id": "0a3565f9-2f66-4a1f-b44d-61d4de122857",
   "metadata": {},
   "source": [
    "### Pregunta 4\n",
    "\n",
    "Desarrolle una clase denominada `Análisis` que tiene como atributo una matriz numérica tipo `numpy` y defina los siguientes métodos: \n",
    "\n",
    "- `as_data_frame`: retorna la matriz convertida en DataFrame de pandas.\n",
    "- `desviacion_estandar`: retorna un diccionario con la Desviación Estándar de cada columna.\n",
    "- `varianza`: retorna un diccionario con la Varianza de cada columna.\n",
    "- `moda`: retorna un diccionario con la Moda de cada columna.\n",
    "- `maximo`: retorna el máximo de toda la matriz.\n",
    "- `buscar`: recibe un número y busca el valor en la matriz, retorna los índices del primer valor encontrado o `None` en caso de no encontrar el valor."
   ]
  },
  {
   "cell_type": "code",
   "execution_count": 365,
   "id": "548054d3-0ecb-4235-8fa0-45cd7955a6a6",
   "metadata": {},
   "outputs": [],
   "source": [
    "class Analsis():\n",
    "    \n",
    "    def __init__(self,matriz):\n",
    "        if isinstance(matriz,np.matrix):\n",
    "            self.__matriz = matriz\n",
    "        else:\n",
    "            raise Exception(\"Debe inicializar con una matriz de numpy\")\n",
    "            \n",
    "    def as_data_frame(self, **kwargs):\n",
    "        \n",
    "        ### Hacemos un dataframe y nombramos las columnas por defecto.\n",
    "        ### Podemos agregar la opcion de especificar columnas.\n",
    "        \n",
    "        nombres_columnas = [f'X{i}' for i in range(self.__matriz.shape[1])]\n",
    "        \n",
    "        if \"columns\" in list(kwargs.keys()) and isinstance(kwargs[\"columns\"], list):\n",
    "            ### Si hay columnas, son lista y tienen la longitud igual a la de las columnas de la matriz\n",
    "            ### Guardamos los nombres.\n",
    "            if len(kwargs[\"columns\"])==self.__matriz.shape[1]:\n",
    "                nombres_columnas = kwargs[\"columns\"]\n",
    "        \n",
    "        dataframe = pd.DataFrame(self.__matriz, columns = nombres_columnas)\n",
    "        \n",
    "        ### Al crear un dataframe de una matriz pueden haber problemas con los data types.\n",
    "        \n",
    "        \n",
    "        self.__dataframe = dataframe \n",
    "        \n",
    "        return dataframe\n",
    "    \n",
    "    ### El resto de metodos utilizan el dataframe almacenado como objeto de la clase. Por lo que hay que correr\n",
    "    ### as_data_frame() primero.\n",
    "    \n",
    "    def desviacion_estandar(self):\n",
    "        \n",
    "        desv_est_dict={}\n",
    "        \n",
    "        for col in self.__dataframe.columns.tolist():\n",
    "            try:\n",
    "                desv_est_dict[col] = np.std(self.__dataframe[col])\n",
    "            except:\n",
    "                continue\n",
    "                \n",
    "        return desv_est_dict\n",
    "    \n",
    "    def varianza(self):\n",
    "        \n",
    "        var_dict=self.desviacion_estandar()\n",
    "        for key in list(var_dict.keys()):\n",
    "            var_dict[key] = var_dict[key]**2\n",
    "        return var_dict\n",
    "    \n",
    "    def moda(self):\n",
    "        \n",
    "        moda_dict={}\n",
    "        \n",
    "        for col in self.__dataframe.columns.tolist():\n",
    "            try:\n",
    "                moda_dict[col] = stat.mode(self.__dataframe[col])\n",
    "            except:\n",
    "                continue\n",
    "                \n",
    "        return moda_dict\n",
    "    \n",
    "    def maximo(self):\n",
    "        ### una matriz tiene una lista de matrices de 1 fila.\n",
    "        ### Cada fila la convertimos a un array y le sacamos su maximo.\n",
    "        ### Luego sacamos el maximo de todo eso.\n",
    "        return max([max(np.array(A[i])[0]) for i in range(len(A))]) \n",
    "        \n",
    "    \n",
    "    def buscar(self,numero):\n",
    "        \n",
    "        indice= None\n",
    "        m= self.__matriz.shape[0] ## Numero de filas\n",
    "        n= self.__matriz.shape[1] ## Numero de columnas\n",
    "        \n",
    "        encontrado = False\n",
    "        for i in range(m):\n",
    "            for j in range(n):\n",
    "                if A[i,j]==numero and not encontrado:\n",
    "                    encontrado=True\n",
    "                    indice = (i,j)\n",
    "\n",
    "        return indice  ### Regresará None si no se encontró, y regresará el primer indice que encuentre.        \n",
    "    \n",
    "    def __str__(self):\n",
    "        print(f\"\"\"\n",
    "        Esta es la clase Analisis.\n",
    "        Con la siguiente matriz de numpy:\n",
    "        {self.__matriz}\n",
    "        >>>>>>>>>>>>>><<<<<<<<<<<<<<\n",
    "        \"\"\")"
   ]
  },
  {
   "cell_type": "code",
   "execution_count": 366,
   "id": "98ebab63-dff1-43f0-9d01-390fce0dcc22",
   "metadata": {},
   "outputs": [],
   "source": [
    "A=np.matrix([[2022, 1, 34.5, 42.23], \n",
    "             [2021, 2, 33.22, 39.78],\n",
    "             [2022, 3, 12.5, 22.90], \n",
    "             [2021, 4, 7.47, 12.5],\n",
    "            ])\n",
    "anali = Analsis(A)"
   ]
  },
  {
   "cell_type": "code",
   "execution_count": 367,
   "id": "6256e9bc-7077-4d1a-a9d4-efcf15f4e7ad",
   "metadata": {},
   "outputs": [
    {
     "data": {
      "text/plain": [
       "matrix([[2.022e+03, 1.000e+00, 3.450e+01, 4.223e+01],\n",
       "        [2.021e+03, 2.000e+00, 3.322e+01, 3.978e+01],\n",
       "        [2.022e+03, 3.000e+00, 1.250e+01, 2.290e+01],\n",
       "        [2.021e+03, 4.000e+00, 7.470e+00, 1.250e+01]])"
      ]
     },
     "execution_count": 367,
     "metadata": {},
     "output_type": "execute_result"
    }
   ],
   "source": [
    "A"
   ]
  },
  {
   "cell_type": "code",
   "execution_count": 368,
   "id": "53424558-6ae8-4235-bd7e-3f11763d65ca",
   "metadata": {},
   "outputs": [
    {
     "data": {
      "text/html": [
       "<div>\n",
       "<style scoped>\n",
       "    .dataframe tbody tr th:only-of-type {\n",
       "        vertical-align: middle;\n",
       "    }\n",
       "\n",
       "    .dataframe tbody tr th {\n",
       "        vertical-align: top;\n",
       "    }\n",
       "\n",
       "    .dataframe thead th {\n",
       "        text-align: right;\n",
       "    }\n",
       "</style>\n",
       "<table border=\"1\" class=\"dataframe\">\n",
       "  <thead>\n",
       "    <tr style=\"text-align: right;\">\n",
       "      <th></th>\n",
       "      <th>Year</th>\n",
       "      <th>Season</th>\n",
       "      <th>TempMin</th>\n",
       "      <th>TempMax</th>\n",
       "    </tr>\n",
       "  </thead>\n",
       "  <tbody>\n",
       "    <tr>\n",
       "      <th>0</th>\n",
       "      <td>2022.0</td>\n",
       "      <td>1.0</td>\n",
       "      <td>34.50</td>\n",
       "      <td>42.23</td>\n",
       "    </tr>\n",
       "    <tr>\n",
       "      <th>1</th>\n",
       "      <td>2021.0</td>\n",
       "      <td>2.0</td>\n",
       "      <td>33.22</td>\n",
       "      <td>39.78</td>\n",
       "    </tr>\n",
       "    <tr>\n",
       "      <th>2</th>\n",
       "      <td>2022.0</td>\n",
       "      <td>3.0</td>\n",
       "      <td>12.50</td>\n",
       "      <td>22.90</td>\n",
       "    </tr>\n",
       "    <tr>\n",
       "      <th>3</th>\n",
       "      <td>2021.0</td>\n",
       "      <td>4.0</td>\n",
       "      <td>7.47</td>\n",
       "      <td>12.50</td>\n",
       "    </tr>\n",
       "  </tbody>\n",
       "</table>\n",
       "</div>"
      ],
      "text/plain": [
       "     Year  Season  TempMin  TempMax\n",
       "0  2022.0     1.0    34.50    42.23\n",
       "1  2021.0     2.0    33.22    39.78\n",
       "2  2022.0     3.0    12.50    22.90\n",
       "3  2021.0     4.0     7.47    12.50"
      ]
     },
     "execution_count": 368,
     "metadata": {},
     "output_type": "execute_result"
    }
   ],
   "source": [
    "df=anali.as_data_frame(columns=[\"Year\",\"Season\",\"TempMin\",\"TempMax\"])\n",
    "df"
   ]
  },
  {
   "cell_type": "code",
   "execution_count": 369,
   "id": "7a191238-97d6-45c1-ac15-e25ef3ffb06a",
   "metadata": {},
   "outputs": [
    {
     "data": {
      "text/plain": [
       "{'Year': 0.5,\n",
       " 'Season': 1.118033988749895,\n",
       " 'TempMin': 12.077719931758644,\n",
       " 'TempMax': 12.249533409481359}"
      ]
     },
     "execution_count": 369,
     "metadata": {},
     "output_type": "execute_result"
    }
   ],
   "source": [
    "anali.desviacion_estandar()"
   ]
  },
  {
   "cell_type": "code",
   "execution_count": 370,
   "id": "5b383e77-2c2c-4cec-b443-e2f585beb583",
   "metadata": {},
   "outputs": [
    {
     "data": {
      "text/plain": [
       "{'Year': 0.25,\n",
       " 'Season': 1.2500000000000002,\n",
       " 'TempMin': 145.87131875000003,\n",
       " 'TempMax': 150.05106874999998}"
      ]
     },
     "execution_count": 370,
     "metadata": {},
     "output_type": "execute_result"
    }
   ],
   "source": [
    "anali.varianza()"
   ]
  },
  {
   "cell_type": "code",
   "execution_count": 371,
   "id": "0918ee56-f666-478b-b1b0-899aab121ac1",
   "metadata": {},
   "outputs": [
    {
     "data": {
      "text/plain": [
       "{'Year': 2022.0, 'Season': 1.0, 'TempMin': 34.5, 'TempMax': 42.23}"
      ]
     },
     "execution_count": 371,
     "metadata": {},
     "output_type": "execute_result"
    }
   ],
   "source": [
    "anali.moda()"
   ]
  },
  {
   "cell_type": "code",
   "execution_count": 372,
   "id": "666790c8-c1d7-44ab-8764-0362c3d862b1",
   "metadata": {},
   "outputs": [
    {
     "data": {
      "text/plain": [
       "2022.0"
      ]
     },
     "execution_count": 372,
     "metadata": {},
     "output_type": "execute_result"
    }
   ],
   "source": [
    "anali.maximo()"
   ]
  },
  {
   "cell_type": "code",
   "execution_count": 373,
   "id": "9d8b487e-9319-4935-b826-f09b5a24448b",
   "metadata": {},
   "outputs": [
    {
     "data": {
      "text/plain": [
       "(2, 2)"
      ]
     },
     "execution_count": 373,
     "metadata": {},
     "output_type": "execute_result"
    }
   ],
   "source": [
    "anali.buscar(12.5)"
   ]
  },
  {
   "cell_type": "code",
   "execution_count": 374,
   "id": "e916e9b9-d80a-49a6-b863-0b7856a73d37",
   "metadata": {},
   "outputs": [],
   "source": [
    "anali.buscar(2023)"
   ]
  },
  {
   "cell_type": "markdown",
   "id": "d8031c4b-081d-49a2-b0c9-ca24b307e168",
   "metadata": {},
   "source": [
    "### Pregunta 5\n",
    "\n",
    "Una Cadena de Cine desea implementar un sistema para emitir boletos de cine con los siguientes\n",
    "datos:\n",
    "\n",
    "- Los Boletos de Cine tienen: `NombreCliente`, `DirecciónCliente`, `TeléfonoCliente`, `ValorBoleto`, `ImpuestoVenta`, `PrecioPagar` = `ValorBoleto` + `ImpuestoVenta`, `asiento`, `hora`, `fecha`, además para cada uno se almacena también la información de la película: `título`, `duración` y `productor`.\n",
    "- Existen también Boletos de Cine para Clientes Frecuentes que tienen además un descuento, de modo tal que `PrecioPagar` = `ValorBoleto` + `ImpuestoVenta` - `descuento * ValorBoleto`.\n",
    "- Los Boletos de Cine para Ejecutivos tienen también una lista de Alimentos Extras, donde cada alimento extra tiene `Código`, `Descripción` y `Precio`, así para los Boletos de Cine para Ejecutivos se tiene que el `TotalAlimentos` = suma de cada uno de los precios de la lista de alimentos, y el precio a pagar del boleto se calcula como sigue: `PrecioPagar` = `ValorBoleto` + `ImpuestoVenta` + `TotalAlimentos`.\n",
    "\n",
    "El diseño UML del problema anterior se muestra en la figura siguiente. Programe en `Python` esta jerarquía de clases (diseño en documento de la tarea)."
   ]
  },
  {
   "cell_type": "code",
   "execution_count": 568,
   "id": "67abc94a-2e15-4f75-b7ce-6c63fc488bdd",
   "metadata": {},
   "outputs": [],
   "source": [
    "class BoletoCine():\n",
    "    \n",
    "    def __init__(self, cliente, pelicula, valorBoleto, impuestoVenta, asiento, hora, fecha):\n",
    "        \n",
    "        self.__cliente = cliente\n",
    "        self.__pelicula = pelicula\n",
    "        \n",
    "        self.__valorBoleto= valorBoleto \n",
    "        self.__impuestoVenta= impuestoVenta\n",
    "        self.__asiento= asiento \n",
    "        self.__hora= hora \n",
    "        self.__fecha= fecha\n",
    "        \n",
    "    def get_precioPagar(self):\n",
    "        return self.__valorBoleto + self.__impuestoVenta  ### Precio a Pagar por defecto.\n",
    "        \n",
    "    def __str__(self):\n",
    "        return f\"\"\"\n",
    "        === Boleto de Cine ===\n",
    "        \n",
    "        Cliente: {self.__cliente.__str__()}\n",
    "        Pelicula: {self.__pelicula.__str__()}\n",
    "        \n",
    "        Valor Boleto: {self.__valorBoleto}\n",
    "        ImpuestoVenta: {self.__impuestoVenta}\n",
    "        Asiento: {self.__asiento}\n",
    "        Hora: {self.__hora}\n",
    "        Fecha: {self.__fecha}\n",
    "        \n",
    "        ---- Boleto Base ----\n",
    "        \n",
    "        Total por Pagar: {self.get_precioPagar()}\n",
    "        \n",
    "        >>>>> Gracias por su compra! <<<<<\n",
    "        \"\"\"\n",
    "    \n",
    "class BoletoEjecutivo(BoletoCine):\n",
    "    \n",
    "    def __init__(self, cliente, pelicula, valorBoleto, impuestoVenta, asiento, hora, fecha):\n",
    "        super().__init__(cliente, pelicula, valorBoleto, impuestoVenta, asiento, hora, fecha)\n",
    "        self.__listaAlimentos =[]\n",
    "        \n",
    "    def agregar_alimento(self,alimento):\n",
    "        self.__listaAlimentos.append(alimento)\n",
    "        \n",
    "    def get_totalAlimento(self):\n",
    "        ### Cambié las referencias aquí para poder accesar a estos atributos con herencia.\n",
    "        return sum([alimento._AlimentoExtra__precio for alimento in self._BoletoEjecutivo__listaAlimentos])\n",
    "    \n",
    "    def get_precioPagar(self):\n",
    "        precioPagar_base = super().get_precioPagar()\n",
    "        return precioPagar_base + self.get_totalAlimento()\n",
    "    \n",
    "    def __str__(self):\n",
    "        \n",
    "        mensaje=super().__str__().split(\"---- Boleto Base ----\")[0]\n",
    "        \n",
    "        ### Quitamos la parte de Boleto Base para sustituirla con el nuevo precio por Pagar ###\n",
    "        \n",
    "        mensaje=mensaje+f\"\"\"\n",
    "        ---- Boleto Ejecutivo ----\n",
    "        Alimentos Extra adicionados:\"\"\"\n",
    "        \n",
    "        for al in self.__listaAlimentos:\n",
    "            mensaje=mensaje+f\"\"\"\n",
    "            - {al.__str__()}\"\"\"\n",
    "            \n",
    "        mensaje=mensaje+f\"\"\"\n",
    "        \n",
    "        Total por Pagar: {self.get_precioPagar()}\n",
    "        \n",
    "        >>>>> Gracias por su compra! <<<<<\n",
    "        \"\"\"\n",
    "        \n",
    "        return mensaje\n",
    "        \n",
    "class BoletoClienteFrecuente(BoletoCine):\n",
    "    \n",
    "    def __init__(self, cliente, pelicula, valorBoleto, impuestoVenta, asiento, hora, fecha, descuento):\n",
    "        super().__init__(cliente, pelicula, valorBoleto, impuestoVenta, asiento, hora, fecha)\n",
    "        self.__descuento= descuento\n",
    "        \n",
    "    def get_precioPagar(self):\n",
    "        precioPagar_base = super().get_precioPagar()\n",
    "        return precioPagar_base - self.__descuento*self._BoletoCine__valorBoleto ### Cambié esto para poder accesar a este atributo\n",
    "    \n",
    "    def __str__(self):\n",
    "        mensaje=super().__str__().split(\"---- Boleto Base ----\")[0]\n",
    "        \n",
    "        ### Quitamos la parte de Boleto Base para sustituirla con el nuevo precio por Pagar ###\n",
    "        \n",
    "        mensaje=mensaje+f\"\"\"\n",
    "        ---- Boleto Cliente Frecuente ----\n",
    "        Descuento: {self.__descuento*100} %\n",
    "        \n",
    "        Total por Pagar: {self.get_precioPagar()}\n",
    "        \n",
    "        >>>>> Gracias por su compra! <<<<<\n",
    "        \"\"\"\n",
    "        return mensaje\n",
    "        \n",
    "class AlimentoExtra():\n",
    "    \n",
    "    def __init__(self, codigo, descripcion, precio):\n",
    "        self.__codigo=codigo\n",
    "        self.__descripcion=descripcion\n",
    "        self.__precio=precio\n",
    "        \n",
    "    def __str__(self):\n",
    "        return f\"Alimento: código: {self.__codigo}, descripción: {self.__descripcion}, precio: {self.__precio}\"\n",
    "        \n",
    "class Cliente():\n",
    "    \n",
    "    def __init__(self, nombre, direccion, telefono):\n",
    "        self.__nombre = nombre\n",
    "        self.__direccion = direccion\n",
    "        self.__telefono = telefono\n",
    "        \n",
    "    def __str__(self):\n",
    "        return f\"{self.__nombre}, dirección: {self.__direccion}, teléfono: {self.__telefono}.\"\n",
    "        \n",
    "class Pelicula():\n",
    "    \n",
    "    def __init__(self, titulo, duracion, director):\n",
    "        self.__titulo= titulo\n",
    "        self.__duracion= duracion\n",
    "        self.__director= director\n",
    "        \n",
    "    def __str__(self):\n",
    "        return f\"{self.__titulo}, duración: {self.__duracion}, director: {self.__director}.\"\n",
    "        "
   ]
  },
  {
   "cell_type": "markdown",
   "id": "b26ba17c-7b9a-4517-a908-95541e3413ae",
   "metadata": {},
   "source": [
    "Fui al cine a ver 'The Shinning' con Maria y Juan.\n",
    "\n",
    "- Compré un tiquete simple.\n",
    "- María pidió unas papas tostadas.\n",
    "- Juan es cliente frecuente del cine."
   ]
  },
  {
   "cell_type": "code",
   "execution_count": 569,
   "id": "3acefa87-3cbd-467d-8070-ab778b75500b",
   "metadata": {},
   "outputs": [],
   "source": [
    "cliente1 = Cliente(\"Jimmy\",\"Costa Rica\",\"99999999\")\n",
    "cliente2 = Cliente(\"Maria\",\"Indonesia\",\"77777777\")\n",
    "cliente3 = Cliente(\"Juan\", \"Australia\",\"88888888\")\n",
    "shinning = Pelicula(\"The Shinning\",\"2h 26min\",\"Stanley Kubrick\")"
   ]
  },
  {
   "cell_type": "code",
   "execution_count": 570,
   "id": "6a73ab31-8dc9-49de-bd2b-6300cd902e36",
   "metadata": {},
   "outputs": [],
   "source": [
    "boleto_jimmy = BoletoCine(cliente=cliente1,\n",
    "                          pelicula=shinning,\n",
    "                          valorBoleto=3670,\n",
    "                          impuestoVenta=0.13,\n",
    "                          asiento=\"2D\",\n",
    "                          hora=\"8:00pm\",\n",
    "                          fecha=\"03/09/2022\")"
   ]
  },
  {
   "cell_type": "code",
   "execution_count": 571,
   "id": "842d909d-4004-4ce0-8c93-d49e3ad55f5e",
   "metadata": {},
   "outputs": [
    {
     "name": "stdout",
     "output_type": "stream",
     "text": [
      "\n",
      "        === Boleto de Cine ===\n",
      "        \n",
      "        Cliente: Jimmy, dirección: Costa Rica, teléfono: 99999999.\n",
      "        Pelicula: The Shinning, duración: 2h 26min, director: Stanley Kubrick.\n",
      "        \n",
      "        Valor Boleto: 3670\n",
      "        ImpuestoVenta: 0.13\n",
      "        Asiento: 2D\n",
      "        Hora: 8:00pm\n",
      "        Fecha: 03/09/2022\n",
      "        \n",
      "        ---- Boleto Base ----\n",
      "        \n",
      "        Total por Pagar: 3670.13\n",
      "        \n",
      "        >>>>> Gracias por su compra! <<<<<\n",
      "        \n"
     ]
    }
   ],
   "source": [
    "print(boleto_jimmy.__str__())"
   ]
  },
  {
   "cell_type": "code",
   "execution_count": 572,
   "id": "55931187-c0b8-4f8a-a152-855ba57bdb75",
   "metadata": {},
   "outputs": [],
   "source": [
    "alimento_maria = AlimentoExtra(codigo=\"AS234\", descripcion=\"papitas tostadas\", precio=700)"
   ]
  },
  {
   "cell_type": "code",
   "execution_count": 573,
   "id": "9a063b19-8bd0-4bc2-bd75-0716f13b1a88",
   "metadata": {},
   "outputs": [],
   "source": [
    "boleto_maria = BoletoEjecutivo(cliente=cliente2,\n",
    "                               pelicula=shinning,\n",
    "                               valorBoleto=3670,\n",
    "                               impuestoVenta=0.13,\n",
    "                               asiento=\"2E\",\n",
    "                               hora=\"8:00pm\",\n",
    "                               fecha=\"03/09/2022\")"
   ]
  },
  {
   "cell_type": "code",
   "execution_count": 574,
   "id": "d45c9ae7-2fd3-4207-8b77-5df281846045",
   "metadata": {},
   "outputs": [],
   "source": [
    "boleto_maria.agregar_alimento(alimento_maria)"
   ]
  },
  {
   "cell_type": "code",
   "execution_count": 575,
   "id": "02d12bfd-718c-4fe3-9d4c-143464ab98cf",
   "metadata": {},
   "outputs": [
    {
     "name": "stdout",
     "output_type": "stream",
     "text": [
      "\n",
      "        === Boleto de Cine ===\n",
      "        \n",
      "        Cliente: Maria, dirección: Indonesia, teléfono: 77777777.\n",
      "        Pelicula: The Shinning, duración: 2h 26min, director: Stanley Kubrick.\n",
      "        \n",
      "        Valor Boleto: 3670\n",
      "        ImpuestoVenta: 0.13\n",
      "        Asiento: 2E\n",
      "        Hora: 8:00pm\n",
      "        Fecha: 03/09/2022\n",
      "        \n",
      "        \n",
      "        ---- Boleto Ejecutivo ----\n",
      "        Alimentos Extra adicionados:\n",
      "            - Alimento: código: AS234, descripción: papitas tostadas, precio: 700\n",
      "        \n",
      "        Total por Pagar: 4370.13\n",
      "        \n",
      "        >>>>> Gracias por su compra! <<<<<\n",
      "        \n"
     ]
    }
   ],
   "source": [
    "print(boleto_maria.__str__())"
   ]
  },
  {
   "cell_type": "code",
   "execution_count": 576,
   "id": "6de9367b-a85c-4726-94d5-d0e7cf3fb73a",
   "metadata": {},
   "outputs": [
    {
     "data": {
      "text/plain": [
       "4370.13"
      ]
     },
     "execution_count": 576,
     "metadata": {},
     "output_type": "execute_result"
    }
   ],
   "source": [
    "3670+0.13+700"
   ]
  },
  {
   "cell_type": "code",
   "execution_count": 577,
   "id": "25498178-2ab4-4852-834e-a0830aac56cc",
   "metadata": {},
   "outputs": [],
   "source": [
    "boleto_juan = BoletoClienteFrecuente(cliente=cliente3,\n",
    "                                     pelicula=shinning,\n",
    "                                     valorBoleto=3670,\n",
    "                                     impuestoVenta=0.13,\n",
    "                                     asiento=\"2E\",\n",
    "                                     hora=\"8:00pm\",\n",
    "                                     fecha=\"03/09/2022\",\n",
    "                                     descuento=0.25)"
   ]
  },
  {
   "cell_type": "code",
   "execution_count": 578,
   "id": "7493d180-5d80-48f6-81ba-7898fe49986f",
   "metadata": {},
   "outputs": [
    {
     "name": "stdout",
     "output_type": "stream",
     "text": [
      "\n",
      "        === Boleto de Cine ===\n",
      "        \n",
      "        Cliente: Juan, dirección: Australia, teléfono: 88888888.\n",
      "        Pelicula: The Shinning, duración: 2h 26min, director: Stanley Kubrick.\n",
      "        \n",
      "        Valor Boleto: 3670\n",
      "        ImpuestoVenta: 0.13\n",
      "        Asiento: 2E\n",
      "        Hora: 8:00pm\n",
      "        Fecha: 03/09/2022\n",
      "        \n",
      "        \n",
      "        ---- Boleto Cliente Frecuente ----\n",
      "        Descuento: 25.0 %\n",
      "        \n",
      "        Total por Pagar: 2752.63\n",
      "        \n",
      "        >>>>> Gracias por su compra! <<<<<\n",
      "        \n"
     ]
    }
   ],
   "source": [
    "print(boleto_juan.__str__())"
   ]
  },
  {
   "cell_type": "code",
   "execution_count": 579,
   "id": "8e981b8a-1e84-460f-ac2d-47c588a1bf46",
   "metadata": {},
   "outputs": [
    {
     "data": {
      "text/plain": [
       "2752.63"
      ]
     },
     "execution_count": 579,
     "metadata": {},
     "output_type": "execute_result"
    }
   ],
   "source": [
    "3670+0.13 - 3670*0.25"
   ]
  },
  {
   "cell_type": "markdown",
   "id": "972e334a-274a-4c16-8569-d09105c821b0",
   "metadata": {},
   "source": [
    "### Pregunta 6\n",
    "\n",
    "Una mecánica desea implementar un sistema para gestionar sus repuestos con los siguientes\n",
    "datos:\n",
    "\n",
    "a) Se venden repuestos los cuales tienen al menos un código, un nombre y un precio base. Hay repuestos originales y no originales. Los repuestos originales tienen un plazo de garantía dado en años, una fecha de fabricación (día, mes y año) y su precio de venta se calcula sumando al precio base un 25% de utilidad. Mientras que los repuestos no originales tienen un precio de venta que se calcula sumando al precio base un 10% de utilidad.\n",
    "\n",
    "b) Los repuestos no originales se dividen en repuestos usados y repuestos nuevos. Los repuestos no originales nuevos tienen también un número de años de garantía, un fabricante y además su precio de venta se calcula sumando al precio un 5% de utilidad adicional por cada año de garantía.\n",
    "\n",
    "c) Los repuestos usados tienen una lista de proveedores, donde para cada proveedor se almacena el código, nombre, el país de origen y un índice que indica el nivel de calidad del repuesto, además los repuestos usados tienen una fecha de facturación, una fecha de test (en la cual se probó el repuesto que tiene además un plazo máximo dado de días que establece para el periodo de garantía).\n",
    "\n",
    "El diseño UML del problema anterior se muestra en la figura siguiente. Programe en Python\n",
    "esta jerarquía de clases. (Figura está en el enunciado de la Tarea)."
   ]
  },
  {
   "cell_type": "markdown",
   "id": "5c427860-6680-463f-a6f0-d9672a53fc44",
   "metadata": {},
   "source": [
    "*** Observaciones ***\n",
    "\n",
    "El diagrama presentado en la tarea no parece concordar con las instrucciones. Por ejemplo, en el mismo es imposible obtener un repuesto No original y nuevo. (La clase Nuevo debería heredar de la clase No_original para poder obtener esto, o en otras palabras la clase No_original debería tener dos subclases: Nuevo y Usado.\n",
    "\n",
    "Lo que hice fue programar el diagrama de clases tal y como se muestra en la figura de la tarea."
   ]
  },
  {
   "cell_type": "code",
   "execution_count": 696,
   "id": "b4fc6faa-d0b4-471d-96f0-c17e7a9f65cc",
   "metadata": {},
   "outputs": [],
   "source": [
    "class Repuesto():\n",
    "    \n",
    "    def __init__(self,codigo,nombre,precio):\n",
    "        self.__codigo= codigo\n",
    "        self.__nombre= nombre\n",
    "        self.__precio= precio\n",
    "        \n",
    "    def __str__(self):\n",
    "        return f\"\"\"\n",
    "        - Repuesto Base. Código: {self.__codigo}, Nombre: {self.__nombre}, Precio: {self.__precio}\n",
    "        =====================================================================================\n",
    "        \"\"\"\n",
    "    \n",
    "class No_Original(Repuesto):\n",
    "    \n",
    "    def __init__(self,codigo,nombre,precio,paisFabricacion):\n",
    "        super().__init__(codigo,nombre,precio)\n",
    "        self.__paisFabricacion = paisFabricacion\n",
    "        \n",
    "    def calcular_precio(self):\n",
    "        return self._Repuesto__precio + 0.10*self._Repuesto__precio ### Repuestos No originales suman un 10% de Utilidad\n",
    "    \n",
    "    def __str__(self):\n",
    "        return super().__str__() + f\"\"\"\n",
    "        - Repuesto No original: Pais Fabricacion: {self._No_Original__paisFabricacion}.\n",
    "        Precio: {self.calcular_precio()}.\n",
    "        =====================================================================================\n",
    "        \"\"\"\n",
    "    \n",
    "class Nuevo(Repuesto):\n",
    "    def __init__(self,codigo,nombre,precio,aniosGarantia):\n",
    "        super().__init__(codigo,nombre,precio)\n",
    "        self.__aniosGarantia = aniosGarantia\n",
    "        \n",
    "    def calcular_precio(self):\n",
    "        return self._Repuesto__precio\n",
    "        \n",
    "    def __str__(self):\n",
    "        return super().__str__()+f\"\"\"\n",
    "        - Repuesto Nuevo: \n",
    "        Años Garantía: {self._Nuevo__aniosGarantia}\n",
    "        Precio: {self.calcular_precio()}\n",
    "        ====================================================================================\n",
    "        \"\"\"\n",
    "class Usados(No_Original):\n",
    "    def __init__(self,codigo,nombre,precio,paisFabricacion,fecha,fechatest,lista_proovedores):\n",
    "        super().__init__(codigo,nombre,precio,paisFabricacion)\n",
    "        self.__fecha= fecha\n",
    "        self.__fechatest= fechatest\n",
    "        self.__listaProovedores = lista_proovedores\n",
    "        \n",
    "    def calcular_precio(self):\n",
    "        return super().calcular_precio() + 0.5*super().calcular_precio()\n",
    "    \n",
    "    ### Repuestos No originales usados suman un 5% de Utilidad\n",
    "    \"\"\"\n",
    "    En el enunciado dice que son los no originales nuevos, pero no es posible tener estos deacuerdo al diagrama \n",
    "    de clases UML dado en la tarea\n",
    "    \"\"\"\n",
    "    \n",
    "    def __str__(self):\n",
    "        mensaje =  super().__str__()+f\"\"\"\n",
    "        - Repuesto Usado: \n",
    "        Precio: {self.calcular_precio()}\n",
    "        Fecha: {self._Usados__fecha.__str__()}\n",
    "        FechaTest: {self._Usados__fechatest.__str__()}\n",
    "        Proovedores:\"\"\" \n",
    "        for proov in self._Usados__listaProovedores:\n",
    "            mensaje= mensaje+f\"\"\"\n",
    "            - {proov.__str__()}\"\"\"\n",
    "            \n",
    "        mensaje=mensaje+\"\"\"\n",
    "        =======================================================================================\n",
    "        \"\"\"\n",
    "        return mensaje\n",
    "    \n",
    "class No_Nuevo(No_Original):\n",
    "    \n",
    "    \"\"\"\n",
    "    El diagrama señala a No_Nuevo como subclase de Nuevo (????)\n",
    "    Solo lo hice como subclase de No_Original\n",
    "    \"\"\"\n",
    "    def __init__(self,codigo,nombre,precio, fabricante):\n",
    "        super().__init__(codigo,nombre,precio,paisFabricacion)\n",
    "        self.__Fabricante = fabricante\n",
    "        \n",
    "    def calcular_precio(self):\n",
    "        return super()._Repuesto__precio\n",
    "        \n",
    "    def __str__(self):\n",
    "        super().__str__()+f\"\"\"\n",
    "        - Repuesto No Nuevo: \n",
    "        Precio: {self._calcular_precio()}\n",
    "        Fabricante: {self._No_Nuevo__Fabricante.__str__()}\n",
    "        ===================================================\n",
    "        \"\"\"\n",
    "\n",
    "class Original(Nuevo):\n",
    "    def __init__(self,codigo,nombre,precio,aniosGarantia, fabricanteOriginal, fecha):\n",
    "        super().__init__(codigo,nombre,precio,aniosGarantia)\n",
    "        self.__fabricanteOriginal = fabricanteOriginal  ### Objeto de la clase FabricanteOriginal\n",
    "        self.__fecha = fecha\n",
    "        \n",
    "    def calcular_precio(self):\n",
    "        return super().calcular_precio() + 0.5*super().calcular_precio()\n",
    "    \n",
    "    ### Repuestos No originales usados suman un 5% de Utilidad\n",
    "    \"\"\"\n",
    "    En el enunciado dice que son los no originales nuevos, pero no es posible tener estos deacuerdo al diagrama \n",
    "    de clases UML dado en la tarea\n",
    "    \"\"\"\n",
    "    \n",
    "    def __str__(self):\n",
    "        return super().__str__()+f\"\"\"\n",
    "        - Repuesto Original: \n",
    "        Precio: {self.calcular_precio()}\n",
    "        Fabricante Original: {self._Original__fabricanteOriginal.__str__()}\n",
    "        Fecha: {self._Original__fecha.__str__()}\n",
    "        \"\"\"\n",
    "    \n",
    "class Fecha():\n",
    "    \n",
    "    def __init__(self,dia,mes,anno):\n",
    "        self.__dia=dia\n",
    "        self.__mes=mes\n",
    "        self.__anno=anno\n",
    "        \n",
    "    def __str__(self):\n",
    "        return f\"{self.__dia}/{self.__mes}/{self.__anno}\"\n",
    "    \n",
    "class FechaTest():\n",
    "    \n",
    "    def __init__(self,numerodias):\n",
    "        self.__numerodias=numerodias\n",
    "    \n",
    "    def __str__(self):\n",
    "        return f\"Número de días: {self.__numerodias}.\"\n",
    "    \n",
    "class Fabricante():\n",
    "    \n",
    "    def __init__(self,nombre,pais):\n",
    "        self.__nombre=nombre\n",
    "        self.__pais=pais\n",
    "        \n",
    "    def __str__(self):\n",
    "        return f\"Nombre fabricante: {self.__nombre}, país: {self.__pais}.\"\n",
    "    \n",
    "class Proveedor(Fabricante):\n",
    "    \n",
    "    def __init__(self,nombre,pais,codigo,indice):\n",
    "        super().__init__(nombre,pais)\n",
    "        self.__codigo=codigo\n",
    "        self.__indice=indice\n",
    "        \n",
    "    def __str__(self):\n",
    "        return super().__str__()+f\"\"\"\n",
    "        Proovedor: Código {self.__codigo}, Índice {self.__indice}\n",
    "        \"\"\"\n",
    "    \n",
    "class Fabricante_Original(Fabricante):\n",
    "    \n",
    "    def __init__(self,nombre,pais,direccion,telefono,email):\n",
    "        super().__init__(nombre,pais)\n",
    "        self.__direccion=direccion\n",
    "        self.__telefono=telefono\n",
    "        self.__email=email\n",
    "        \n",
    "    def __str__(self):\n",
    "        return super().__str__()+f\"\"\"\n",
    "        Fabricante Original: dirección: {self.__direccion}, teléfono: {self.__telefono} email: {self.__email}\n",
    "        \"\"\""
   ]
  },
  {
   "cell_type": "markdown",
   "id": "44da7538-3f97-44a9-a9f2-cf4bf18983c0",
   "metadata": {},
   "source": [
    "#### Ejemplo\n",
    "Creamos un repuesto No Original Usado"
   ]
  },
  {
   "cell_type": "code",
   "execution_count": 697,
   "id": "c3d70166-8751-4aa0-8382-7e307ac62718",
   "metadata": {},
   "outputs": [
    {
     "name": "stdout",
     "output_type": "stream",
     "text": [
      "\n",
      "        - Repuesto Base. Código: A123, Nombre: ValvulaA123, Precio: 200\n",
      "        =====================================================================================\n",
      "        \n"
     ]
    }
   ],
   "source": [
    "### Repuesto Base\n",
    "repuesto_base = Repuesto(codigo=\"A123\",nombre=\"ValvulaA123\",precio=200)\n",
    "print(repuesto_base.__str__())"
   ]
  },
  {
   "cell_type": "code",
   "execution_count": 698,
   "id": "6d96e75f-d6b8-4f3a-894b-37f426aba96e",
   "metadata": {},
   "outputs": [
    {
     "name": "stdout",
     "output_type": "stream",
     "text": [
      "\n",
      "        - Repuesto Base. Código: A123, Nombre: ValvulaA123, Precio: 200\n",
      "        =====================================================================================\n",
      "        \n",
      "        - Repuesto No original: Pais Fabricacion: China.\n",
      "        Precio: 220.0.\n",
      "        =====================================================================================\n",
      "        \n"
     ]
    }
   ],
   "source": [
    "### Repuesto No Original\n",
    "repuesto_no_original = No_Original(codigo=\"A123\",nombre=\"ValvulaA123\",precio=200,paisFabricacion=\"China\")\n",
    "print(repuesto_no_original.__str__())"
   ]
  },
  {
   "cell_type": "code",
   "execution_count": 699,
   "id": "df9332b1-b008-48aa-b8b9-582dc53d097a",
   "metadata": {},
   "outputs": [
    {
     "name": "stdout",
     "output_type": "stream",
     "text": [
      "\n",
      "        - Repuesto Base. Código: A123, Nombre: ValvulaA123, Precio: 200\n",
      "        =====================================================================================\n",
      "        \n",
      "        - Repuesto No original: Pais Fabricacion: China.\n",
      "        Precio: 330.0.\n",
      "        =====================================================================================\n",
      "        \n",
      "        - Repuesto Usado: \n",
      "        Precio: 330.0\n",
      "        Fecha: 12/12/1997\n",
      "        FechaTest: Número de días: 1900.\n",
      "        Proovedores:\n",
      "            - Nombre fabricante: JGH, país: Japón.\n",
      "        Proovedor: Código 1777, Índice A98\n",
      "        \n",
      "        =======================================================================================\n",
      "        \n"
     ]
    }
   ],
   "source": [
    "### Repuesto No Original Usado ###\n",
    "repuesto_no_original_usado= Usados(codigo=\"A123\",\n",
    "                           nombre=\"ValvulaA123\",\n",
    "                           precio=200,\n",
    "                           paisFabricacion=\"China\",\n",
    "                           fecha=Fecha(dia=\"12\",mes=\"12\",anno=\"1997\"),\n",
    "                           fechatest=FechaTest(numerodias=1900),\n",
    "                           lista_proovedores=[Proveedor(nombre=\"JGH\",pais=\"Japón\",codigo=\"1777\",indice=\"A98\")])\n",
    "print(repuesto_no_original_usado.__str__())"
   ]
  },
  {
   "cell_type": "markdown",
   "id": "513602b7-ff07-4aa6-a794-5d0fed7288f3",
   "metadata": {},
   "source": [
    "### Otro ejemplo: un repuesto Original y Nuevo"
   ]
  },
  {
   "cell_type": "code",
   "execution_count": 700,
   "id": "737448ff-0f65-4a26-95f4-c8a600272127",
   "metadata": {},
   "outputs": [],
   "source": [
    "repuesto_original_nuevo = Original(codigo=\"DF455\",\n",
    "                                   nombre=\"Tornillo\",\n",
    "                                   precio=15,\n",
    "                                   aniosGarantia=1,\n",
    "                                   fabricanteOriginal=Fabricante_Original(nombre=\"FFF\",\n",
    "                                                                          pais=\"Austria\",\n",
    "                                                                          direccion=\"123GeduldigkeitStrasse\",\n",
    "                                                                          telefono=29292929,\n",
    "                                                                          email=\"ichkommeausoesterreich@gmail.com\"),\n",
    "                                   fecha=Fecha(dia=\"12\",\n",
    "                                               mes=\"11\",\n",
    "                                               anno=\"2007\")\n",
    "                                  )"
   ]
  },
  {
   "cell_type": "code",
   "execution_count": 701,
   "id": "4546d87e-c801-4e86-bb0d-0426e4829b90",
   "metadata": {},
   "outputs": [
    {
     "name": "stdout",
     "output_type": "stream",
     "text": [
      "\n",
      "        - Repuesto Base. Código: DF455, Nombre: Tornillo, Precio: 15\n",
      "        =====================================================================================\n",
      "        \n",
      "        - Repuesto Nuevo: \n",
      "        Años Garantía: 1\n",
      "        Precio: 22.5\n",
      "        ====================================================================================\n",
      "        \n",
      "        - Repuesto Original: \n",
      "        Precio: 22.5\n",
      "        Fabricante Original: Nombre fabricante: FFF, país: Austria.\n",
      "        Fabricante Original: dirección: 123GeduldigkeitStrasse, teléfono: 29292929 email: ichkommeausoesterreich@gmail.com\n",
      "        \n",
      "        Fecha: 12/11/2007\n",
      "        \n"
     ]
    }
   ],
   "source": [
    "print(repuesto_original_nuevo.__str__())"
   ]
  },
  {
   "cell_type": "code",
   "execution_count": 695,
   "id": "6c212fc0-6b25-4ba4-826b-c6f21c47107f",
   "metadata": {},
   "outputs": [
    {
     "data": {
      "text/plain": [
       "22.5"
      ]
     },
     "execution_count": 695,
     "metadata": {},
     "output_type": "execute_result"
    }
   ],
   "source": [
    "15+15*0.5"
   ]
  }
 ],
 "metadata": {
  "kernelspec": {
   "display_name": "Python 3 (ipykernel)",
   "language": "python",
   "name": "python3"
  },
  "language_info": {
   "codemirror_mode": {
    "name": "ipython",
    "version": 3
   },
   "file_extension": ".py",
   "mimetype": "text/x-python",
   "name": "python",
   "nbconvert_exporter": "python",
   "pygments_lexer": "ipython3",
   "version": "3.9.8"
  }
 },
 "nbformat": 4,
 "nbformat_minor": 5
}

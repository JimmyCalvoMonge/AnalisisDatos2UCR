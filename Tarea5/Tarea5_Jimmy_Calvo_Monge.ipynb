{
 "cells": [
  {
   "cell_type": "markdown",
   "id": "fd33b75b-24f2-427d-a7b2-66f4201e70c4",
   "metadata": {},
   "source": [
    "<style>\n",
    "    .title_container {\n",
    "        margin: auto;\n",
    "        background: rgb(81,92,103);\n",
    "        background: linear-gradient(90deg, rgba(81,92,103,1) 36%, rgba(12,35,66,1) 62%);\n",
    "        border-radius: 7px;\n",
    "        color: white;\n",
    "        text-align:center;\n",
    "        width:75%;\n",
    "        padding-top:2%;\n",
    "        padding-bottom:2%;\n",
    "    }\n",
    "    \n",
    "    .question_container {\n",
    "        margin: auto;\n",
    "        background: rgb(84,138,142);\n",
    "        background: linear-gradient(90deg, rgba(84,138,142,1) 41%, rgba(145,201,73,1) 81%);\n",
    "        border-radius: 7px;\n",
    "        color: white;\n",
    "        text-align:left;\n",
    "        width:75%;\n",
    "        padding-top:1%;\n",
    "        padding-bottom:1%;\n",
    "        padding-left: 2%;\n",
    "        margin-top:2%;\n",
    "    }\n",
    "    \n",
    "    .question_container p {\n",
    "        font-size: 16px;\n",
    "    }\n",
    "    \n",
    "    .code_span {\n",
    "        background-color: #E2E7EC;\n",
    "        padding:2px;\n",
    "        border-radius:1px;\n",
    "        font-family: Consolas,monaco,monospace;\n",
    "        color:black;\n",
    "    }\n",
    "</style>"
   ]
  },
  {
   "cell_type": "markdown",
   "id": "814d925c-87b8-4e8f-86fd-db008e3e1e5d",
   "metadata": {},
   "source": [
    "<div class ='title_container'>\n",
    "    <h1> Análisis de Datos II </h1>\n",
    "    <h2> Profesor: Oldemar Rodríguez </h2>\n",
    "    <h3> Estudiante: Jimmy Calvo Monge </h3>\n",
    "    <h3> Carné: B31281 </h3>\n",
    "    <hr style='color:white; width:80%;'>\n",
    "    <h4> TAREA 5 </h4>\n",
    "    <h4> Fecha de entrega: 25 de Setiembre de 2022 </h4>\n",
    "</div>"
   ]
  },
  {
   "cell_type": "markdown",
   "id": "d287e6a4-124c-4cbb-80ac-c5861e4f03e2",
   "metadata": {},
   "source": [
    "Importamos los módulos necesarios para resolver esta tarea."
   ]
  },
  {
   "cell_type": "code",
   "execution_count": 46,
   "id": "816bdbad-6a42-42c8-9c87-e1b0e82a884d",
   "metadata": {},
   "outputs": [],
   "source": [
    "### Basicos\n",
    "import numpy as np\n",
    "import pandas as pd\n",
    "from pandas import DataFrame\n",
    "\n",
    "### Utilidades/Varios\n",
    "import matplotlib.pyplot as plt\n",
    "from matplotlib import colors as mcolors\n",
    "from sklearn.tree import export_graphviz\n",
    "from sklearn import tree\n",
    "import seaborn as sns\n",
    "import time\n",
    "import graphviz\n",
    "\n",
    "### Training/Testing\n",
    "from sklearn.preprocessing import StandardScaler\n",
    "from sklearn.model_selection import train_test_split\n",
    "from sklearn.metrics import confusion_matrix\n",
    "\n",
    "### predictPy\n",
    "from predictPy import Analisis_Predictivo\n",
    "\n",
    "### Modelos:\n",
    "from sklearn.neighbors import KNeighborsClassifier\n",
    "from sklearn.tree import DecisionTreeClassifier\n",
    "from sklearn.ensemble import GradientBoostingClassifier\n",
    "from sklearn.ensemble import AdaBoostClassifier\n",
    "from sklearn.ensemble import RandomForestClassifier"
   ]
  },
  {
   "cell_type": "code",
   "execution_count": 42,
   "id": "b6467d6b-1e9a-4fe6-9ea2-16181dbdb694",
   "metadata": {},
   "outputs": [],
   "source": [
    "def indices_general(MC, nombres = None):\n",
    "    precision_global = np.sum(MC.diagonal()) / np.sum(MC)\n",
    "    error_global     = 1 - precision_global\n",
    "    precision_categoria  = pd.DataFrame(MC.diagonal()/np.sum(MC,axis = 1)).T\n",
    "    if nombres!=None:\n",
    "        precision_categoria.columns = nombres\n",
    "    return {\"Matriz de Confusión\":MC, \n",
    "            \"Precisión Global\":   precision_global, \n",
    "            \"Error Global\":       error_global, \n",
    "            \"Precisión por categoría\":precision_categoria}\n",
    "\n",
    "### Clase MatConf de la Tarea 2\n",
    "\n",
    "class MatConf:\n",
    "    \n",
    "    def __init__(self,matriz):\n",
    "        \n",
    "        self.mat_conf = matriz\n",
    "        \n",
    "        VN = self.mat_conf[0,0]\n",
    "        VP = self.mat_conf[1,1]\n",
    "        FP = self.mat_conf[0,1]\n",
    "        FN = self.mat_conf[1,0]\n",
    "        \n",
    "        dict_medidas = {\n",
    "            'Precisión Global' : (VN+VP)/(VN+FP+FN+VP),\n",
    "            'Error Global' : (FN+FP)/(VN+FP+FN+VP),\n",
    "            'Precisión Positiva (PP)' : VP/(FN+VP),\n",
    "            'Precisión Negativa (PN)' : VN/(VN+FP),\n",
    "            'Proporción de Falsos Positivos (PFP)' : FP/(VN+FP),\n",
    "            'Proporción de Falsos Negativos (PFN)' : FN/(FN+VP),\n",
    "            'Asertividad Positiva (AP)' : VP/(FP+VP),\n",
    "            'Asertividad Negativa (AN)' : VN/(VN+FN)\n",
    "        }\n",
    "        self.dict_medidas = dict_medidas\n",
    "        \n",
    "    def __str__(self):\n",
    "        mensaje=\"Estos son los resultados para esta matriz de confusion:\"\n",
    "        for key in list(self.dict_medidas.keys()):\n",
    "            mensaje = mensaje + f\"\\n - {key}: {self.dict_medidas[key]}\"\n",
    "        return mensaje"
   ]
  },
  {
   "cell_type": "markdown",
   "id": "0a3565f9-2f66-4a1f-b44d-61d4de122857",
   "metadata": {},
   "source": [
    "<div class='question_container'>\n",
    "    <h2> Pregunta 1 </h2>\n",
    "    <p> En este ejercicio vamos a usar la tabla de datos <span class='code_span'>raisin.csv</span>, que contiene el resultado de un sistema de visión artificial para distinguir entre dos variedades diferentes de pasas (Kecimen y Besni) cultivadas en Turquía. Estas imágenes se sometieron a varios pasos de preprocesamiento y se realizaron 7 operaciones de extracción de características morfológicas utilizando técnicas de procesamiento de imágenes. </p>\n",
    "    <p>El conjunto de datos tiene 900 filas y 8 columnas las cuales se explican a continuación:</p>\n",
    "    <ul>\n",
    "        <li><span class='code_span'>Area</span> El número de píxeles dentro de los límites de la pasa. </li>\n",
    "        <li><span class='code_span'>MajorAxisLength</span> La longitud del eje principal, que es la línea más larga que se puede dibujar en la pasa. </li>\n",
    "        <li><span class='code_span'>MinorAxisLength</span> La longitud del eje pequeño, que es la línea más corta que se puededibujar en la pasa. </li>\n",
    "        <li><span class='code_span'>Eccentricity</span> Una medida de la excentricidad de la elipse, que tiene los mismos momentos que las pasas. </li>\n",
    "        <li><span class='code_span'>ConvexArea</span> El número de píxeles de la capa convexa más pequeña de la región formada por la pasa. </li>\n",
    "        <li><span class='code_span'>Extent</span> La proporción de la región formada por la pasa al total de píxeles en el cuadro delimitador. </li>\n",
    "        <li><span class='code_span'>Perimeter</span> Mide el entorno calculando la distancia entre los límites de la pasa y los píxeles que la rodean. </li>\n",
    "        <li><span class='code_span'>Class</span> Tipo de pasa Kecimen y Besni (Variable a predecir). </li>\n",
    "    </ul>\n",
    "    <p> Realice lo siguiente: </p>\n",
    "    <ol>\n",
    "        <li> Use Bosques Aleatorios, ADABoosting y XGBoosting en Python para generar un modelo predictivo para la tabla raisin.csv usando el 75% de los datos para la tabla aprendizaje y un 25% para la tabla testing. Use la configuración de parámetros que usted mejor considere o identifique.</li>\n",
    "        <li> Según los gráficos de importancia de variables, indique cuáles son las 4 variables más importantes para los modelos. </li>\n",
    "        <li> Construya un <span class='code_span'>DataFrame</span> que compare los modelos construidos arriba con los mejores modelos construidos en tareas anteriores para la tabla <span class='code_span'>raisin.csv</span>. Para esto en cada una de las filas debe aparecer un modelo predictivo y en las columnas aparezcan los índices Precisión Global, Error Global, Precisión Positiva (PP) y Precisión Negativa (PN). ¿Cuál de los modelos es mejor para estos datos? Guarde los datos de este DataFrame, ya que se irá modificando en próximas tareas.</li>\n",
    "    </ol>\n",
    "</div>"
   ]
  },
  {
   "cell_type": "code",
   "execution_count": 189,
   "id": "5d25533c-a945-4f0f-a70a-14f16cc75048",
   "metadata": {},
   "outputs": [],
   "source": [
    "### Leer datos\n",
    "df_raisin = pd.read_csv('raisin.csv')\n",
    "### Training-Testing\n",
    "\n",
    "# Variable a predecir\n",
    "y = df_raisin[\"Class\"].ravel()\n",
    "\n",
    "#Convertimos a Dummy algunas de las variables predictoras\n",
    "df_raisin_num = df_raisin.drop(['Class'],axis=1)\n",
    "X = df_raisin_num\n",
    "\n",
    "#Partimos los datos en training-testing\n",
    "X_train, X_test, y_train, y_test = train_test_split(X, y, train_size=0.75)"
   ]
  },
  {
   "cell_type": "markdown",
   "id": "2d082cf6-9c7d-49e2-97b2-49fc8a782191",
   "metadata": {},
   "source": [
    "Para identificar los mejores hiperparámetros a utilizar en cada modelo vamos a realizar una malla de hiperparámetros. En el caso de bosques aleatorios vamos a variar el número de árboles. Seleccionaremos el modelo con mejor precisión global."
   ]
  },
  {
   "cell_type": "code",
   "execution_count": 217,
   "id": "b49c028d-9d00-4d32-b053-7c5c64d82223",
   "metadata": {},
   "outputs": [
    {
     "name": "stdout",
     "output_type": "stream",
     "text": [
      "Esta búsqueda de hiperparámetros para bosques aleatorios tomó 63.78954887390137 segundos.\n"
     ]
    }
   ],
   "source": [
    "df_bosques=pd.DataFrame({})\n",
    "\n",
    "n_arboles=list(range(10,200,5))\n",
    "min_sample_splits=list(range(5,50,5))\n",
    "\n",
    "start=time.time()\n",
    "for n in n_arboles:\n",
    "    for m in min_sample_splits:\n",
    "        instancia_bosques = RandomForestClassifier(n_estimators = n, criterion = \"gini\", min_samples_split = m)\n",
    "        instancia_bosques.fit(X_train.values,y_train)\n",
    "        prediccion_bosques = instancia_bosques.predict(X_test.values)\n",
    "        MC_bosques = confusion_matrix(y_test, prediccion_bosques, labels=list(np.unique(y_train)))\n",
    "        medidas_este_bosque=MatConf(MC_bosques).dict_medidas\n",
    "        df_este_bosque=pd.DataFrame({'n_arboles':[n], 'min_samples_split':[m]})\n",
    "        for key in list(medidas_este_bosque.keys()):\n",
    "            df_este_bosque[key]=[medidas_este_bosque[key]]\n",
    "        df_bosques= df_bosques.append(df_este_bosque,ignore_index=True)\n",
    "end=time.time()\n",
    "print(f\"Esta búsqueda de hiperparámetros para bosques aleatorios tomó {end-start} segundos.\")"
   ]
  },
  {
   "cell_type": "code",
   "execution_count": 218,
   "id": "ca97bf46-d212-4eb6-8111-8494f5309827",
   "metadata": {},
   "outputs": [
    {
     "data": {
      "text/html": [
       "<div>\n",
       "<style scoped>\n",
       "    .dataframe tbody tr th:only-of-type {\n",
       "        vertical-align: middle;\n",
       "    }\n",
       "\n",
       "    .dataframe tbody tr th {\n",
       "        vertical-align: top;\n",
       "    }\n",
       "\n",
       "    .dataframe thead th {\n",
       "        text-align: right;\n",
       "    }\n",
       "</style>\n",
       "<table border=\"1\" class=\"dataframe\">\n",
       "  <thead>\n",
       "    <tr style=\"text-align: right;\">\n",
       "      <th></th>\n",
       "      <th>n_arboles</th>\n",
       "      <th>min_samples_split</th>\n",
       "      <th>Precisión Global</th>\n",
       "      <th>Error Global</th>\n",
       "      <th>Precisión Positiva (PP)</th>\n",
       "      <th>Precisión Negativa (PN)</th>\n",
       "      <th>Proporción de Falsos Positivos (PFP)</th>\n",
       "      <th>Proporción de Falsos Negativos (PFN)</th>\n",
       "      <th>Asertividad Positiva (AP)</th>\n",
       "      <th>Asertividad Negativa (AN)</th>\n",
       "    </tr>\n",
       "  </thead>\n",
       "  <tbody>\n",
       "    <tr>\n",
       "      <th>37</th>\n",
       "      <td>30</td>\n",
       "      <td>10</td>\n",
       "      <td>0.866667</td>\n",
       "      <td>0.133333</td>\n",
       "      <td>0.957265</td>\n",
       "      <td>0.768519</td>\n",
       "      <td>0.231481</td>\n",
       "      <td>0.042735</td>\n",
       "      <td>0.817518</td>\n",
       "      <td>0.943182</td>\n",
       "    </tr>\n",
       "  </tbody>\n",
       "</table>\n",
       "</div>"
      ],
      "text/plain": [
       "    n_arboles  min_samples_split  Precisión Global  Error Global  \\\n",
       "37         30                 10          0.866667      0.133333   \n",
       "\n",
       "    Precisión Positiva (PP)  Precisión Negativa (PN)  \\\n",
       "37                 0.957265                 0.768519   \n",
       "\n",
       "    Proporción de Falsos Positivos (PFP)  \\\n",
       "37                              0.231481   \n",
       "\n",
       "    Proporción de Falsos Negativos (PFN)  Asertividad Positiva (AP)  \\\n",
       "37                              0.042735                   0.817518   \n",
       "\n",
       "    Asertividad Negativa (AN)  \n",
       "37                   0.943182  "
      ]
     },
     "execution_count": 218,
     "metadata": {},
     "output_type": "execute_result"
    }
   ],
   "source": [
    "df_bosques=df_bosques.sort_values(by=['Precisión Global'],ascending=False)\n",
    "df_bosques.head(1)"
   ]
  },
  {
   "cell_type": "markdown",
   "id": "491a0793-b243-4016-8235-692986fbb1aa",
   "metadata": {},
   "source": [
    "El mejor modelo de árboles de decisión que obtuvimos fue usando 30 árboles y un mínimos de variables en splits en cada árbol de 10 variables. Hacemos lo mismo para los otros dos tipos de modelos."
   ]
  },
  {
   "cell_type": "code",
   "execution_count": 225,
   "id": "ec9fb377-6673-4923-a63e-f5cbd076ab42",
   "metadata": {},
   "outputs": [
    {
     "name": "stdout",
     "output_type": "stream",
     "text": [
      "Esta búsqueda de hiperparámetros para ADA Boost's tomó 0.3521878719329834 segundos.\n"
     ]
    }
   ],
   "source": [
    "df_ada=pd.DataFrame({})\n",
    "\n",
    "# Instancia Árboles de decisión\n",
    "instancia_tree = DecisionTreeClassifier(criterion=\"gini\")\n",
    "n_est=list(range(10,200,5))\n",
    "\n",
    "start=time.time()\n",
    "for n in n_est:\n",
    "    instancia_ada = AdaBoostClassifier(base_estimator=instancia_tree,n_estimators=n)\n",
    "    instancia_ada.fit(X_train.values,y_train)\n",
    "    prediccion_ada = instancia_ada.predict(X_test.values)\n",
    "    MC_ada = confusion_matrix(y_test, prediccion_ada, labels=list(np.unique(y_train)))\n",
    "    medidas_este_ada=MatConf(MC_ada).dict_medidas\n",
    "    df_este_ada=pd.DataFrame({'n_estimadores':[n]})\n",
    "    for key in list(medidas_este_ada.keys()):\n",
    "        df_este_ada[key]=[medidas_este_ada[key]]\n",
    "    df_ada= df_ada.append(df_este_ada,ignore_index=True)\n",
    "    \n",
    "end=time.time()\n",
    "print(f\"Esta búsqueda de hiperparámetros para ADA Boost's tomó {end-start} segundos.\")"
   ]
  },
  {
   "cell_type": "code",
   "execution_count": 226,
   "id": "c9f72697-4da6-4c88-bc08-d67dd59d357f",
   "metadata": {},
   "outputs": [
    {
     "data": {
      "text/html": [
       "<div>\n",
       "<style scoped>\n",
       "    .dataframe tbody tr th:only-of-type {\n",
       "        vertical-align: middle;\n",
       "    }\n",
       "\n",
       "    .dataframe tbody tr th {\n",
       "        vertical-align: top;\n",
       "    }\n",
       "\n",
       "    .dataframe thead th {\n",
       "        text-align: right;\n",
       "    }\n",
       "</style>\n",
       "<table border=\"1\" class=\"dataframe\">\n",
       "  <thead>\n",
       "    <tr style=\"text-align: right;\">\n",
       "      <th></th>\n",
       "      <th>n_estimadores</th>\n",
       "      <th>Precisión Global</th>\n",
       "      <th>Error Global</th>\n",
       "      <th>Precisión Positiva (PP)</th>\n",
       "      <th>Precisión Negativa (PN)</th>\n",
       "      <th>Proporción de Falsos Positivos (PFP)</th>\n",
       "      <th>Proporción de Falsos Negativos (PFN)</th>\n",
       "      <th>Asertividad Positiva (AP)</th>\n",
       "      <th>Asertividad Negativa (AN)</th>\n",
       "    </tr>\n",
       "  </thead>\n",
       "  <tbody>\n",
       "    <tr>\n",
       "      <th>37</th>\n",
       "      <td>195</td>\n",
       "      <td>0.84</td>\n",
       "      <td>0.16</td>\n",
       "      <td>0.888889</td>\n",
       "      <td>0.787037</td>\n",
       "      <td>0.212963</td>\n",
       "      <td>0.111111</td>\n",
       "      <td>0.818898</td>\n",
       "      <td>0.867347</td>\n",
       "    </tr>\n",
       "  </tbody>\n",
       "</table>\n",
       "</div>"
      ],
      "text/plain": [
       "    n_estimadores  Precisión Global  Error Global  Precisión Positiva (PP)  \\\n",
       "37            195              0.84          0.16                 0.888889   \n",
       "\n",
       "    Precisión Negativa (PN)  Proporción de Falsos Positivos (PFP)  \\\n",
       "37                 0.787037                              0.212963   \n",
       "\n",
       "    Proporción de Falsos Negativos (PFN)  Asertividad Positiva (AP)  \\\n",
       "37                              0.111111                   0.818898   \n",
       "\n",
       "    Asertividad Negativa (AN)  \n",
       "37                   0.867347  "
      ]
     },
     "execution_count": 226,
     "metadata": {},
     "output_type": "execute_result"
    }
   ],
   "source": [
    "df_ada=df_ada.sort_values(by=['Precisión Global'],ascending=False)\n",
    "df_ada.head(1)"
   ]
  },
  {
   "cell_type": "markdown",
   "id": "4c1fce14-8e2b-4104-975b-dfca3a853055",
   "metadata": {},
   "source": [
    "El mejor modelo de árboles de ADA Boost fue utilizando 145 estimadores."
   ]
  },
  {
   "cell_type": "code",
   "execution_count": 227,
   "id": "c999e2c8-6dda-4d71-8fe7-3a43a4e789ba",
   "metadata": {},
   "outputs": [
    {
     "name": "stdout",
     "output_type": "stream",
     "text": [
      "Esta búsqueda de hiperparámetros para XG Boost's tomó 56.97447919845581 segundos.\n"
     ]
    }
   ],
   "source": [
    "df_xgb=pd.DataFrame({})\n",
    "\n",
    "n_est=list(range(10,200,5))\n",
    "min_sample_splits=list(range(5,50,5))\n",
    "\n",
    "start=time.time()\n",
    "for n in n_est:\n",
    "    for m in min_sample_splits:\n",
    "        instancia_xgb = GradientBoostingClassifier(n_estimators=n, min_samples_split=m)\n",
    "        instancia_xgb.fit(X_train.values,y_train)\n",
    "        prediccion_xgb = instancia_xgb.predict(X_test.values)\n",
    "        MC_xgb = confusion_matrix(y_test, prediccion_xgb, labels=list(np.unique(y_train)))\n",
    "        medidas_este_xgb=MatConf(MC_xgb).dict_medidas\n",
    "        df_este_xgb=pd.DataFrame({'n_estimadores':[n], 'min_samples_split':[m]})\n",
    "        for key in list(medidas_este_xgb.keys()):\n",
    "            df_este_xgb[key]=[medidas_este_xgb[key]]\n",
    "        df_xgb= df_xgb.append(df_este_xgb,ignore_index=True)\n",
    "    \n",
    "end=time.time()\n",
    "print(f\"Esta búsqueda de hiperparámetros para XG Boost's tomó {end-start} segundos.\")"
   ]
  },
  {
   "cell_type": "code",
   "execution_count": 228,
   "id": "040ce458-b13b-4c1b-a59c-dbb2aeada304",
   "metadata": {},
   "outputs": [
    {
     "data": {
      "text/html": [
       "<div>\n",
       "<style scoped>\n",
       "    .dataframe tbody tr th:only-of-type {\n",
       "        vertical-align: middle;\n",
       "    }\n",
       "\n",
       "    .dataframe tbody tr th {\n",
       "        vertical-align: top;\n",
       "    }\n",
       "\n",
       "    .dataframe thead th {\n",
       "        text-align: right;\n",
       "    }\n",
       "</style>\n",
       "<table border=\"1\" class=\"dataframe\">\n",
       "  <thead>\n",
       "    <tr style=\"text-align: right;\">\n",
       "      <th></th>\n",
       "      <th>n_estimadores</th>\n",
       "      <th>min_samples_split</th>\n",
       "      <th>Precisión Global</th>\n",
       "      <th>Error Global</th>\n",
       "      <th>Precisión Positiva (PP)</th>\n",
       "      <th>Precisión Negativa (PN)</th>\n",
       "      <th>Proporción de Falsos Positivos (PFP)</th>\n",
       "      <th>Proporción de Falsos Negativos (PFN)</th>\n",
       "      <th>Asertividad Positiva (AP)</th>\n",
       "      <th>Asertividad Negativa (AN)</th>\n",
       "    </tr>\n",
       "  </thead>\n",
       "  <tbody>\n",
       "    <tr>\n",
       "      <th>83</th>\n",
       "      <td>55</td>\n",
       "      <td>15</td>\n",
       "      <td>0.888889</td>\n",
       "      <td>0.111111</td>\n",
       "      <td>0.948718</td>\n",
       "      <td>0.824074</td>\n",
       "      <td>0.175926</td>\n",
       "      <td>0.051282</td>\n",
       "      <td>0.853846</td>\n",
       "      <td>0.936842</td>\n",
       "    </tr>\n",
       "  </tbody>\n",
       "</table>\n",
       "</div>"
      ],
      "text/plain": [
       "    n_estimadores  min_samples_split  Precisión Global  Error Global  \\\n",
       "83             55                 15          0.888889      0.111111   \n",
       "\n",
       "    Precisión Positiva (PP)  Precisión Negativa (PN)  \\\n",
       "83                 0.948718                 0.824074   \n",
       "\n",
       "    Proporción de Falsos Positivos (PFP)  \\\n",
       "83                              0.175926   \n",
       "\n",
       "    Proporción de Falsos Negativos (PFN)  Asertividad Positiva (AP)  \\\n",
       "83                              0.051282                   0.853846   \n",
       "\n",
       "    Asertividad Negativa (AN)  \n",
       "83                   0.936842  "
      ]
     },
     "execution_count": 228,
     "metadata": {},
     "output_type": "execute_result"
    }
   ],
   "source": [
    "df_xgb=df_xgb.sort_values(by=['Precisión Global'],ascending=False)\n",
    "df_xgb.head(1)"
   ]
  },
  {
   "cell_type": "markdown",
   "id": "5f301c98-4b3e-4671-82a7-d04a71ddcd93",
   "metadata": {},
   "source": [
    "Comparemos los tres modelos anteriores en un solo DataFrame"
   ]
  },
  {
   "cell_type": "code",
   "execution_count": 233,
   "id": "195463b6-cfa7-44a0-92ff-aee39a142b20",
   "metadata": {},
   "outputs": [
    {
     "data": {
      "text/html": [
       "<div>\n",
       "<style scoped>\n",
       "    .dataframe tbody tr th:only-of-type {\n",
       "        vertical-align: middle;\n",
       "    }\n",
       "\n",
       "    .dataframe tbody tr th {\n",
       "        vertical-align: top;\n",
       "    }\n",
       "\n",
       "    .dataframe thead th {\n",
       "        text-align: right;\n",
       "    }\n",
       "</style>\n",
       "<table border=\"1\" class=\"dataframe\">\n",
       "  <thead>\n",
       "    <tr style=\"text-align: right;\">\n",
       "      <th></th>\n",
       "      <th>Precisión Global</th>\n",
       "      <th>Error Global</th>\n",
       "      <th>Precisión Positiva (PP)</th>\n",
       "      <th>Precisión Negativa (PN)</th>\n",
       "      <th>Proporción de Falsos Positivos (PFP)</th>\n",
       "      <th>Proporción de Falsos Negativos (PFN)</th>\n",
       "      <th>Asertividad Positiva (AP)</th>\n",
       "      <th>Asertividad Negativa (AN)</th>\n",
       "    </tr>\n",
       "  </thead>\n",
       "  <tbody>\n",
       "    <tr>\n",
       "      <th>Bosque Aleatorio</th>\n",
       "      <td>0.866667</td>\n",
       "      <td>0.133333</td>\n",
       "      <td>0.957265</td>\n",
       "      <td>0.768519</td>\n",
       "      <td>0.231481</td>\n",
       "      <td>0.042735</td>\n",
       "      <td>0.817518</td>\n",
       "      <td>0.943182</td>\n",
       "    </tr>\n",
       "    <tr>\n",
       "      <th>ADA Boost</th>\n",
       "      <td>0.840000</td>\n",
       "      <td>0.160000</td>\n",
       "      <td>0.888889</td>\n",
       "      <td>0.787037</td>\n",
       "      <td>0.212963</td>\n",
       "      <td>0.111111</td>\n",
       "      <td>0.818898</td>\n",
       "      <td>0.867347</td>\n",
       "    </tr>\n",
       "    <tr>\n",
       "      <th>XG Boost</th>\n",
       "      <td>0.888889</td>\n",
       "      <td>0.111111</td>\n",
       "      <td>0.948718</td>\n",
       "      <td>0.824074</td>\n",
       "      <td>0.175926</td>\n",
       "      <td>0.051282</td>\n",
       "      <td>0.853846</td>\n",
       "      <td>0.936842</td>\n",
       "    </tr>\n",
       "  </tbody>\n",
       "</table>\n",
       "</div>"
      ],
      "text/plain": [
       "                  Precisión Global  Error Global  Precisión Positiva (PP)  \\\n",
       "Bosque Aleatorio          0.866667      0.133333                 0.957265   \n",
       "ADA Boost                 0.840000      0.160000                 0.888889   \n",
       "XG Boost                  0.888889      0.111111                 0.948718   \n",
       "\n",
       "                  Precisión Negativa (PN)  \\\n",
       "Bosque Aleatorio                 0.768519   \n",
       "ADA Boost                        0.787037   \n",
       "XG Boost                         0.824074   \n",
       "\n",
       "                  Proporción de Falsos Positivos (PFP)  \\\n",
       "Bosque Aleatorio                              0.231481   \n",
       "ADA Boost                                     0.212963   \n",
       "XG Boost                                      0.175926   \n",
       "\n",
       "                  Proporción de Falsos Negativos (PFN)  \\\n",
       "Bosque Aleatorio                              0.042735   \n",
       "ADA Boost                                     0.111111   \n",
       "XG Boost                                      0.051282   \n",
       "\n",
       "                  Asertividad Positiva (AP)  Asertividad Negativa (AN)  \n",
       "Bosque Aleatorio                   0.817518                   0.943182  \n",
       "ADA Boost                          0.818898                   0.867347  \n",
       "XG Boost                           0.853846                   0.936842  "
      ]
     },
     "execution_count": 233,
     "metadata": {},
     "output_type": "execute_result"
    }
   ],
   "source": [
    "df_comparacion_p1=df_bosques.head(1).drop(['n_arboles','min_samples_split'],axis=1)\n",
    "df_comparacion_p1=df_comparacion_p1.append(df_ada.head(1).drop(['n_estimadores'],axis=1),ignore_index=True)\n",
    "df_comparacion_p1=df_comparacion_p1.append(df_xgb.head(1).drop(['n_estimadores','min_samples_split'],axis=1),ignore_index=True)\n",
    "df_comparacion_p1.index=['Bosque Aleatorio','ADA Boost','XG Boost']\n",
    "df_comparacion_p1"
   ]
  },
  {
   "cell_type": "markdown",
   "id": "a870ca94-c33b-41f1-a2c2-e6c53b477822",
   "metadata": {},
   "source": [
    "En la tarea pasada teníamos los siguientes resultados:"
   ]
  },
  {
   "cell_type": "code",
   "execution_count": 237,
   "id": "2a6ec5bf-d134-426b-8716-274aa0bc0f25",
   "metadata": {},
   "outputs": [
    {
     "name": "stdout",
     "output_type": "stream",
     "text": [
      "Los resultados finales de todos los modelos fueron: \n"
     ]
    },
    {
     "data": {
      "text/html": [
       "<div>\n",
       "<style scoped>\n",
       "    .dataframe tbody tr th:only-of-type {\n",
       "        vertical-align: middle;\n",
       "    }\n",
       "\n",
       "    .dataframe tbody tr th {\n",
       "        vertical-align: top;\n",
       "    }\n",
       "\n",
       "    .dataframe thead th {\n",
       "        text-align: right;\n",
       "    }\n",
       "</style>\n",
       "<table border=\"1\" class=\"dataframe\">\n",
       "  <thead>\n",
       "    <tr style=\"text-align: right;\">\n",
       "      <th></th>\n",
       "      <th>Precisión Global</th>\n",
       "      <th>Error Global</th>\n",
       "      <th>Precisión Positiva (PP)</th>\n",
       "      <th>Precisión Negativa (PN)</th>\n",
       "      <th>Proporción de Falsos Positivos (PFP)</th>\n",
       "      <th>Proporción de Falsos Negativos (PFN)</th>\n",
       "      <th>Asertividad Positiva (AP)</th>\n",
       "      <th>Asertividad Negativa (AN)</th>\n",
       "    </tr>\n",
       "  </thead>\n",
       "  <tbody>\n",
       "    <tr>\n",
       "      <th>KNN</th>\n",
       "      <td>0.875556</td>\n",
       "      <td>0.124444</td>\n",
       "      <td>0.842975</td>\n",
       "      <td>0.913462</td>\n",
       "      <td>0.086538</td>\n",
       "      <td>0.157025</td>\n",
       "      <td>0.918919</td>\n",
       "      <td>0.833333</td>\n",
       "    </tr>\n",
       "    <tr>\n",
       "      <th>Árbol Decisión</th>\n",
       "      <td>0.861111</td>\n",
       "      <td>0.138889</td>\n",
       "      <td>0.908163</td>\n",
       "      <td>0.804878</td>\n",
       "      <td>0.195122</td>\n",
       "      <td>0.091837</td>\n",
       "      <td>0.847619</td>\n",
       "      <td>0.880000</td>\n",
       "    </tr>\n",
       "    <tr>\n",
       "      <th>Bosque Aleatorio</th>\n",
       "      <td>0.866667</td>\n",
       "      <td>0.133333</td>\n",
       "      <td>0.957265</td>\n",
       "      <td>0.768519</td>\n",
       "      <td>0.231481</td>\n",
       "      <td>0.042735</td>\n",
       "      <td>0.817518</td>\n",
       "      <td>0.943182</td>\n",
       "    </tr>\n",
       "    <tr>\n",
       "      <th>ADA Boost</th>\n",
       "      <td>0.840000</td>\n",
       "      <td>0.160000</td>\n",
       "      <td>0.888889</td>\n",
       "      <td>0.787037</td>\n",
       "      <td>0.212963</td>\n",
       "      <td>0.111111</td>\n",
       "      <td>0.818898</td>\n",
       "      <td>0.867347</td>\n",
       "    </tr>\n",
       "    <tr>\n",
       "      <th>XG Boost</th>\n",
       "      <td>0.888889</td>\n",
       "      <td>0.111111</td>\n",
       "      <td>0.948718</td>\n",
       "      <td>0.824074</td>\n",
       "      <td>0.175926</td>\n",
       "      <td>0.051282</td>\n",
       "      <td>0.853846</td>\n",
       "      <td>0.936842</td>\n",
       "    </tr>\n",
       "  </tbody>\n",
       "</table>\n",
       "</div>"
      ],
      "text/plain": [
       "                  Precisión Global  Error Global  Precisión Positiva (PP)  \\\n",
       "KNN                       0.875556      0.124444                 0.842975   \n",
       "Árbol Decisión            0.861111      0.138889                 0.908163   \n",
       "Bosque Aleatorio          0.866667      0.133333                 0.957265   \n",
       "ADA Boost                 0.840000      0.160000                 0.888889   \n",
       "XG Boost                  0.888889      0.111111                 0.948718   \n",
       "\n",
       "                  Precisión Negativa (PN)  \\\n",
       "KNN                              0.913462   \n",
       "Árbol Decisión                   0.804878   \n",
       "Bosque Aleatorio                 0.768519   \n",
       "ADA Boost                        0.787037   \n",
       "XG Boost                         0.824074   \n",
       "\n",
       "                  Proporción de Falsos Positivos (PFP)  \\\n",
       "KNN                                           0.086538   \n",
       "Árbol Decisión                                0.195122   \n",
       "Bosque Aleatorio                              0.231481   \n",
       "ADA Boost                                     0.212963   \n",
       "XG Boost                                      0.175926   \n",
       "\n",
       "                  Proporción de Falsos Negativos (PFN)  \\\n",
       "KNN                                           0.157025   \n",
       "Árbol Decisión                                0.091837   \n",
       "Bosque Aleatorio                              0.042735   \n",
       "ADA Boost                                     0.111111   \n",
       "XG Boost                                      0.051282   \n",
       "\n",
       "                  Asertividad Positiva (AP)  Asertividad Negativa (AN)  \n",
       "KNN                                0.918919                   0.833333  \n",
       "Árbol Decisión                     0.847619                   0.880000  \n",
       "Bosque Aleatorio                   0.817518                   0.943182  \n",
       "ADA Boost                          0.818898                   0.867347  \n",
       "XG Boost                           0.853846                   0.936842  "
      ]
     },
     "execution_count": 237,
     "metadata": {},
     "output_type": "execute_result"
    }
   ],
   "source": [
    "comparacion_T4=pd.DataFrame({\n",
    "    'Precisión Global': [0.875556,0.861111],\n",
    "    'Error Global':[0.124444,0.138889],\n",
    "    'Precisión Positiva (PP)':[0.842975,0.908163],\n",
    "    'Precisión Negativa (PN)':[0.913462,0.804878],\n",
    "    'Proporción de Falsos Positivos (PFP)':[0.086538,0.195122],\n",
    "    'Proporción de Falsos Negativos (PFN)':[0.157025,0.091837],\n",
    "    'Asertividad Positiva (AP)':[0.918919,0.847619],\n",
    "    'Asertividad Negativa (AN)':[0.833333,0.880000]\n",
    "})\n",
    "comparacion_T4.index=['KNN','Árbol Decisión']\n",
    "print(\"Los resultados finales de todos los modelos fueron: \")\n",
    "comparacion_T4.append(df_comparacion_p1)"
   ]
  },
  {
   "cell_type": "markdown",
   "id": "f1347be6-51f6-439c-a35c-c897c212d8bc",
   "metadata": {},
   "source": [
    "En términos de precisión global el modelo de `XG Boost` se comportó de manera superior, sin embargo `KNN` nos da una mayor precisión negativa. Parece que `ADA Boost` es el que tiene el peor desempeño sobre estos datos."
   ]
  },
  {
   "cell_type": "markdown",
   "id": "0acef2f9-16f8-457d-8815-11912e12ddea",
   "metadata": {},
   "source": [
    "Finalmente, realizamos un gráfico de importancia de variables para cada uno de los tres modelos de este ejercicio. Note que he fijado el training testing en los tres para tener mejor control sobre la posible variación de los gráficos."
   ]
  },
  {
   "cell_type": "code",
   "execution_count": 265,
   "id": "e983d9b3-0700-4bd8-86b1-fa8a2975e111",
   "metadata": {},
   "outputs": [
    {
     "data": {
      "image/png": "[encoded data removed]",
      "text/plain": [
       "<Figure size 2400x1200 with 1 Axes>"
      ]
     },
     "metadata": {
      "needs_background": "light"
     },
     "output_type": "display_data"
    }
   ],
   "source": [
    "### Para Bosques Aleatorios ###\n",
    "etiquetas=np.array(['Eccentricity', 'Extent', 'MinorAxisLength', 'Area', 'ConvexArea', 'MajorAxisLength', 'Perimeter'])\n",
    "\n",
    "instancia_bosques = RandomForestClassifier(n_estimators = 30, criterion = \"gini\", min_samples_split = 10)\n",
    "instancia_bosques.fit(X_train.values,y_train)\n",
    "importancia_bosques = np.array(instancia_bosques.feature_importances_)\n",
    "\n",
    "orden = np.argsort(importancia_bosques)\n",
    "importancia_bosques = importancia_bosques[orden]\n",
    "etiquetas = etiquetas[orden]\n",
    "\n",
    "fig, ax = plt.subplots(1,1, figsize = (12,6), dpi = 200)\n",
    "ax.barh(etiquetas, importancia_bosques)\n",
    "plt.show()"
   ]
  },
  {
   "cell_type": "code",
   "execution_count": 266,
   "id": "b93efa35-5536-4265-ba8b-7fd96f3eb978",
   "metadata": {},
   "outputs": [
    {
     "data": {
      "image/png": "[encoded data removed]",
      "text/plain": [
       "<Figure size 2400x1200 with 1 Axes>"
      ]
     },
     "metadata": {
      "needs_background": "light"
     },
     "output_type": "display_data"
    }
   ],
   "source": [
    "### Para ADA Boost ###\n",
    "etiquetas=np.array(['Eccentricity', 'Extent', 'MinorAxisLength', 'Area', 'ConvexArea', 'MajorAxisLength', 'Perimeter'])\n",
    "\n",
    "instancia_tree = DecisionTreeClassifier(criterion=\"gini\")\n",
    "instancia_ada = AdaBoostClassifier(base_estimator=instancia_tree,n_estimators=195)\n",
    "instancia_ada.fit(X_train.values,y_train)\n",
    "importancia_ada = np.array(instancia_ada.feature_importances_)\n",
    "\n",
    "orden = np.argsort(importancia_ada)\n",
    "importancia_ada = importancia_ada[orden]\n",
    "etiquetas = etiquetas[orden]\n",
    "\n",
    "fig, ax = plt.subplots(1,1, figsize = (12,6), dpi = 200)\n",
    "ax.barh(etiquetas, importancia_ada)\n",
    "plt.show()"
   ]
  },
  {
   "cell_type": "code",
   "execution_count": 267,
   "id": "65a1684a-db87-466d-9dea-a1f190805727",
   "metadata": {},
   "outputs": [
    {
     "data": {
      "image/png": "[encoded data removed]",
      "text/plain": [
       "<Figure size 2400x1200 with 1 Axes>"
      ]
     },
     "metadata": {
      "needs_background": "light"
     },
     "output_type": "display_data"
    }
   ],
   "source": [
    "### Para XG Boost ###\n",
    "etiquetas=np.array(['Eccentricity', 'Extent', 'MinorAxisLength', 'Area', 'ConvexArea', 'MajorAxisLength', 'Perimeter'])\n",
    "\n",
    "instancia_xgb = GradientBoostingClassifier(n_estimators=55, min_samples_split=15)\n",
    "instancia_xgb.fit(X_train.values,y_train)\n",
    "importancia_xgb = np.array(instancia_xgb.feature_importances_)\n",
    "\n",
    "orden = np.argsort(importancia_xgb)\n",
    "importancia_xgb = importancia_xgb[orden]\n",
    "etiquetas = etiquetas[orden]\n",
    "\n",
    "fig, ax = plt.subplots(1,1, figsize = (12,6), dpi = 200)\n",
    "ax.barh(etiquetas, importancia_xgb)\n",
    "plt.show()"
   ]
  },
  {
   "cell_type": "markdown",
   "id": "ef9d6f60-3a3f-4d91-a607-a98152740e9c",
   "metadata": {},
   "source": [
    "**Observaciones:**\n",
    "\n",
    "- Logramos ver que la importancia de las variables es similar entre `XGBoost` y `ADABoost` para este conjunto de datos y este training-testing split en particular. Observamos que las variables más importantes para estos dos modelos son `Extent`,`Perimeter`,`MajorAxisLength` y `Eccentricity`. Para Bosques Aleatorios se da una situación diferente, en la que predominan `Perimeter`,`Extent`,`ConvexArea` y `Area`. Tanto en `XGBoost` como en `ADABoost` la variable `Extent` tiene una importancia mucho mayor que las demás. Vea que en Bosques Aleatorios no hay alguna variable con tanta importancia."
   ]
  },
  {
   "cell_type": "markdown",
   "id": "0f44c224-2e9b-469a-81fc-92b11b399a77",
   "metadata": {},
   "source": [
    "<div class='question_container'>\n",
    "    <h2> Pregunta 2 </h2>\n",
    "    <p> En este ejercicio usaremos la tabla de datos <code>abandono_clientes.csv</code>, que contiene los detalles de los clientes de un banco. </p>\n",
    "    <p> La tabla contiene 11 columnas (variables), las cuales se explican a continuación. </p>\n",
    "    <ul>\n",
    "        <li> <span class='code_span'> CreditScore </span>: Indica el puntaje de crédito. </li>\n",
    "        <li> <span class='code_span'>Geography</span>: País al que pertenece.</li>\n",
    "        <li> <span class='code_span'>Gender</span>: Género del empleado.</li>\n",
    "        <li> <span class='code_span'>Age</span>: Edad del empleado.</li>\n",
    "        <li> <span class='code_span'>Tenure</span>: El tiempo del vínculo con la empresa.</li>\n",
    "        <li> <span class='code_span'>Balance</span>: La cantidad que les queda.</li>\n",
    "        <li> <span class='code_span'>NumOfProducts</span>: Los productos que posee.</li>\n",
    "        <li> <span class='code_span'>HasCrCard</span>: Tienen tarjeta de crédito o no.</li>\n",
    "        <li> <span class='code_span'>IsActiveMember</span>: Es un miembro activo o no.</li>\n",
    "        <li> <span class='code_span'>EstimatedSalary</span>: Salario estimado.</li>\n",
    "        <li> <span class='code_span'>Exited</span>: Indica si el cliente se queda o se va.</li>\n",
    "    </ul>\n",
    "    <p> Realice lo siguiente: </p>\n",
    "    <ol>\n",
    "        <li> Cargue en <span class='code_span'>Python</span> la tabla de datos <span class='code_span'>abandono_clientes.csv</span>. </li>\n",
    "        <li> Use Bosques Aleatorios, ADABoosting y XGBoosting en Python para generar modelos predictivos para la tabla datos abandono clientes.csv usando el 75% de los datos para la tabla aprendizaje y un 25% para la tabla testing. Use la configuración de parámetros que usted mejor considere o identifique. Luego calcule para los datos de testing la matriz de confusión, la precisión global y la precisión para cada una de las dos categorías. ¿Son buenos los resultados? Explique. </li>\n",
    "        <li> Repita el ítem anterior, pero esta vez seleccione 6 variables predictoras. Para esto utilice el gráfico de importancia de variables del método Bosques Aleatorios. ¿Mejora la predicción?. </li>\n",
    "        <li> Construya un <span class='code_span'>DataFrame</span> que compare los mejores modelos construidos arriba con los mejores modelos generados en tareas anteriores para la tabla <span class='code_span'>abandono_clientes.csv</span>. Para esto en cada una de las filas debe aparecer un modelo predictivo y en las columnas aparezcan los índices Precisión Global, Error Global, Precisión Positiva (PP) y Precisión Negativa (PN). ¿Cuál de los modelos es mejor para estos datos? Guarde los datos de este DataFrame, ya que se irá modificando en próximas tareas. </li>\n",
    "    </ol>\n",
    "</div>"
   ]
  },
  {
   "cell_type": "code",
   "execution_count": 310,
   "id": "cf25ea7a-0212-4afd-a551-2db1f3bfa968",
   "metadata": {},
   "outputs": [
    {
     "data": {
      "text/html": [
       "<div>\n",
       "<style scoped>\n",
       "    .dataframe tbody tr th:only-of-type {\n",
       "        vertical-align: middle;\n",
       "    }\n",
       "\n",
       "    .dataframe tbody tr th {\n",
       "        vertical-align: top;\n",
       "    }\n",
       "\n",
       "    .dataframe thead th {\n",
       "        text-align: right;\n",
       "    }\n",
       "</style>\n",
       "<table border=\"1\" class=\"dataframe\">\n",
       "  <thead>\n",
       "    <tr style=\"text-align: right;\">\n",
       "      <th></th>\n",
       "      <th>CreditScore</th>\n",
       "      <th>Age</th>\n",
       "      <th>Tenure</th>\n",
       "      <th>Balance</th>\n",
       "      <th>NumOfProducts</th>\n",
       "      <th>EstimatedSalary</th>\n",
       "      <th>Geography_France</th>\n",
       "      <th>Geography_Germany</th>\n",
       "      <th>Geography_Spain</th>\n",
       "      <th>Gender_Female</th>\n",
       "      <th>Gender_Male</th>\n",
       "      <th>HasCrCard_No</th>\n",
       "      <th>HasCrCard_Si</th>\n",
       "      <th>IsActiveMember_No</th>\n",
       "      <th>IsActiveMember_Si</th>\n",
       "    </tr>\n",
       "  </thead>\n",
       "  <tbody>\n",
       "    <tr>\n",
       "      <th>0</th>\n",
       "      <td>619</td>\n",
       "      <td>42</td>\n",
       "      <td>2</td>\n",
       "      <td>0.00</td>\n",
       "      <td>1</td>\n",
       "      <td>101348.88</td>\n",
       "      <td>1</td>\n",
       "      <td>0</td>\n",
       "      <td>0</td>\n",
       "      <td>1</td>\n",
       "      <td>0</td>\n",
       "      <td>0</td>\n",
       "      <td>1</td>\n",
       "      <td>0</td>\n",
       "      <td>1</td>\n",
       "    </tr>\n",
       "    <tr>\n",
       "      <th>1</th>\n",
       "      <td>608</td>\n",
       "      <td>41</td>\n",
       "      <td>1</td>\n",
       "      <td>83807.86</td>\n",
       "      <td>1</td>\n",
       "      <td>112542.58</td>\n",
       "      <td>0</td>\n",
       "      <td>0</td>\n",
       "      <td>1</td>\n",
       "      <td>1</td>\n",
       "      <td>0</td>\n",
       "      <td>1</td>\n",
       "      <td>0</td>\n",
       "      <td>0</td>\n",
       "      <td>1</td>\n",
       "    </tr>\n",
       "    <tr>\n",
       "      <th>2</th>\n",
       "      <td>502</td>\n",
       "      <td>42</td>\n",
       "      <td>8</td>\n",
       "      <td>159660.80</td>\n",
       "      <td>3</td>\n",
       "      <td>113931.57</td>\n",
       "      <td>1</td>\n",
       "      <td>0</td>\n",
       "      <td>0</td>\n",
       "      <td>1</td>\n",
       "      <td>0</td>\n",
       "      <td>0</td>\n",
       "      <td>1</td>\n",
       "      <td>1</td>\n",
       "      <td>0</td>\n",
       "    </tr>\n",
       "    <tr>\n",
       "      <th>3</th>\n",
       "      <td>699</td>\n",
       "      <td>39</td>\n",
       "      <td>1</td>\n",
       "      <td>0.00</td>\n",
       "      <td>2</td>\n",
       "      <td>93826.63</td>\n",
       "      <td>1</td>\n",
       "      <td>0</td>\n",
       "      <td>0</td>\n",
       "      <td>1</td>\n",
       "      <td>0</td>\n",
       "      <td>1</td>\n",
       "      <td>0</td>\n",
       "      <td>1</td>\n",
       "      <td>0</td>\n",
       "    </tr>\n",
       "    <tr>\n",
       "      <th>4</th>\n",
       "      <td>850</td>\n",
       "      <td>43</td>\n",
       "      <td>2</td>\n",
       "      <td>125510.82</td>\n",
       "      <td>1</td>\n",
       "      <td>79084.10</td>\n",
       "      <td>0</td>\n",
       "      <td>0</td>\n",
       "      <td>1</td>\n",
       "      <td>1</td>\n",
       "      <td>0</td>\n",
       "      <td>0</td>\n",
       "      <td>1</td>\n",
       "      <td>0</td>\n",
       "      <td>1</td>\n",
       "    </tr>\n",
       "  </tbody>\n",
       "</table>\n",
       "</div>"
      ],
      "text/plain": [
       "   CreditScore  Age  Tenure    Balance  NumOfProducts  EstimatedSalary  \\\n",
       "0          619   42       2       0.00              1        101348.88   \n",
       "1          608   41       1   83807.86              1        112542.58   \n",
       "2          502   42       8  159660.80              3        113931.57   \n",
       "3          699   39       1       0.00              2         93826.63   \n",
       "4          850   43       2  125510.82              1         79084.10   \n",
       "\n",
       "   Geography_France  Geography_Germany  Geography_Spain  Gender_Female  \\\n",
       "0                 1                  0                0              1   \n",
       "1                 0                  0                1              1   \n",
       "2                 1                  0                0              1   \n",
       "3                 1                  0                0              1   \n",
       "4                 0                  0                1              1   \n",
       "\n",
       "   Gender_Male  HasCrCard_No  HasCrCard_Si  IsActiveMember_No  \\\n",
       "0            0             0             1                  0   \n",
       "1            0             1             0                  0   \n",
       "2            0             0             1                  1   \n",
       "3            0             1             0                  1   \n",
       "4            0             0             1                  0   \n",
       "\n",
       "   IsActiveMember_Si  \n",
       "0                  1  \n",
       "1                  1  \n",
       "2                  0  \n",
       "3                  0  \n",
       "4                  1  "
      ]
     },
     "execution_count": 310,
     "metadata": {},
     "output_type": "execute_result"
    }
   ],
   "source": [
    "# Leemos los datos\n",
    "\n",
    "df_clientes = pd.read_csv(\"abandono_clientes.csv\")\n",
    "df_clientes = df_clientes.drop(['Unnamed: 0'], axis=1)\n",
    "\n",
    "# Convierte las variables a categórica\n",
    "columnas_cat= [col for col in df_clientes.columns if str(df_clientes.dtypes[col]) =='object' and col!='Exited' ] ### Columnas predictivas y string\n",
    "for col in columnas_cat:\n",
    "    df_clientes[col] = df_clientes[col].astype('category')\n",
    "    \n",
    "# Variable a predecir\n",
    "y = df_clientes[\"Exited\"].ravel()\n",
    "\n",
    "#Convertimos a Dummy algunas de las variables predictoras\n",
    "X = pd.get_dummies(df_clientes.drop(columns=[\"Exited\"]), columns=columnas_cat)\n",
    "\n",
    "X.head()"
   ]
  },
  {
   "cell_type": "code",
   "execution_count": 311,
   "id": "21473f59-92cf-4fae-9d93-22307dc088f8",
   "metadata": {},
   "outputs": [],
   "source": [
    "X_train, X_test, y_train, y_test = train_test_split(X, y, train_size=0.75)"
   ]
  },
  {
   "cell_type": "code",
   "execution_count": 312,
   "id": "7c493b33-3dc0-4450-91e1-784b2d1bf72c",
   "metadata": {},
   "outputs": [
    {
     "data": {
      "text/html": [
       "<div>\n",
       "<style scoped>\n",
       "    .dataframe tbody tr th:only-of-type {\n",
       "        vertical-align: middle;\n",
       "    }\n",
       "\n",
       "    .dataframe tbody tr th {\n",
       "        vertical-align: top;\n",
       "    }\n",
       "\n",
       "    .dataframe thead th {\n",
       "        text-align: right;\n",
       "    }\n",
       "</style>\n",
       "<table border=\"1\" class=\"dataframe\">\n",
       "  <thead>\n",
       "    <tr style=\"text-align: right;\">\n",
       "      <th></th>\n",
       "      <th>CreditScore</th>\n",
       "      <th>Age</th>\n",
       "      <th>Tenure</th>\n",
       "      <th>Balance</th>\n",
       "      <th>NumOfProducts</th>\n",
       "      <th>EstimatedSalary</th>\n",
       "      <th>Geography_France</th>\n",
       "      <th>Geography_Germany</th>\n",
       "      <th>Geography_Spain</th>\n",
       "      <th>Gender_Female</th>\n",
       "      <th>Gender_Male</th>\n",
       "      <th>HasCrCard_No</th>\n",
       "      <th>HasCrCard_Si</th>\n",
       "      <th>IsActiveMember_No</th>\n",
       "      <th>IsActiveMember_Si</th>\n",
       "    </tr>\n",
       "  </thead>\n",
       "  <tbody>\n",
       "    <tr>\n",
       "      <th>901</th>\n",
       "      <td>684</td>\n",
       "      <td>29</td>\n",
       "      <td>8</td>\n",
       "      <td>127269.75</td>\n",
       "      <td>1</td>\n",
       "      <td>79495.01</td>\n",
       "      <td>0</td>\n",
       "      <td>1</td>\n",
       "      <td>0</td>\n",
       "      <td>0</td>\n",
       "      <td>1</td>\n",
       "      <td>1</td>\n",
       "      <td>0</td>\n",
       "      <td>0</td>\n",
       "      <td>1</td>\n",
       "    </tr>\n",
       "    <tr>\n",
       "      <th>3205</th>\n",
       "      <td>827</td>\n",
       "      <td>35</td>\n",
       "      <td>0</td>\n",
       "      <td>0.00</td>\n",
       "      <td>2</td>\n",
       "      <td>184514.01</td>\n",
       "      <td>0</td>\n",
       "      <td>0</td>\n",
       "      <td>1</td>\n",
       "      <td>1</td>\n",
       "      <td>0</td>\n",
       "      <td>1</td>\n",
       "      <td>0</td>\n",
       "      <td>0</td>\n",
       "      <td>1</td>\n",
       "    </tr>\n",
       "    <tr>\n",
       "      <th>1665</th>\n",
       "      <td>643</td>\n",
       "      <td>31</td>\n",
       "      <td>3</td>\n",
       "      <td>167949.48</td>\n",
       "      <td>1</td>\n",
       "      <td>143162.34</td>\n",
       "      <td>1</td>\n",
       "      <td>0</td>\n",
       "      <td>0</td>\n",
       "      <td>1</td>\n",
       "      <td>0</td>\n",
       "      <td>0</td>\n",
       "      <td>1</td>\n",
       "      <td>1</td>\n",
       "      <td>0</td>\n",
       "    </tr>\n",
       "    <tr>\n",
       "      <th>421</th>\n",
       "      <td>599</td>\n",
       "      <td>39</td>\n",
       "      <td>4</td>\n",
       "      <td>0.00</td>\n",
       "      <td>1</td>\n",
       "      <td>194273.20</td>\n",
       "      <td>0</td>\n",
       "      <td>0</td>\n",
       "      <td>1</td>\n",
       "      <td>1</td>\n",
       "      <td>0</td>\n",
       "      <td>0</td>\n",
       "      <td>1</td>\n",
       "      <td>1</td>\n",
       "      <td>0</td>\n",
       "    </tr>\n",
       "    <tr>\n",
       "      <th>2325</th>\n",
       "      <td>671</td>\n",
       "      <td>51</td>\n",
       "      <td>3</td>\n",
       "      <td>96891.46</td>\n",
       "      <td>1</td>\n",
       "      <td>176403.33</td>\n",
       "      <td>0</td>\n",
       "      <td>1</td>\n",
       "      <td>0</td>\n",
       "      <td>0</td>\n",
       "      <td>1</td>\n",
       "      <td>0</td>\n",
       "      <td>1</td>\n",
       "      <td>1</td>\n",
       "      <td>0</td>\n",
       "    </tr>\n",
       "  </tbody>\n",
       "</table>\n",
       "</div>"
      ],
      "text/plain": [
       "      CreditScore  Age  Tenure    Balance  NumOfProducts  EstimatedSalary  \\\n",
       "901           684   29       8  127269.75              1         79495.01   \n",
       "3205          827   35       0       0.00              2        184514.01   \n",
       "1665          643   31       3  167949.48              1        143162.34   \n",
       "421           599   39       4       0.00              1        194273.20   \n",
       "2325          671   51       3   96891.46              1        176403.33   \n",
       "\n",
       "      Geography_France  Geography_Germany  Geography_Spain  Gender_Female  \\\n",
       "901                  0                  1                0              0   \n",
       "3205                 0                  0                1              1   \n",
       "1665                 1                  0                0              1   \n",
       "421                  0                  0                1              1   \n",
       "2325                 0                  1                0              0   \n",
       "\n",
       "      Gender_Male  HasCrCard_No  HasCrCard_Si  IsActiveMember_No  \\\n",
       "901             1             1             0                  0   \n",
       "3205            0             1             0                  0   \n",
       "1665            0             0             1                  1   \n",
       "421             0             0             1                  1   \n",
       "2325            1             0             1                  1   \n",
       "\n",
       "      IsActiveMember_Si  \n",
       "901                   1  \n",
       "3205                  1  \n",
       "1665                  0  \n",
       "421                   0  \n",
       "2325                  0  "
      ]
     },
     "execution_count": 312,
     "metadata": {},
     "output_type": "execute_result"
    }
   ],
   "source": [
    "X_train.head()"
   ]
  },
  {
   "cell_type": "markdown",
   "id": "03bd9d3d-d7a6-4d18-94d7-ec0959e03345",
   "metadata": {},
   "source": [
    "Hacemos lo mismo que en la pregunta anterior, para determinar los mejores hiperparámetros para cada modelo"
   ]
  },
  {
   "cell_type": "code",
   "execution_count": 313,
   "id": "df9da11a-4b50-4e8a-b8eb-4c64e0598a78",
   "metadata": {},
   "outputs": [
    {
     "name": "stdout",
     "output_type": "stream",
     "text": [
      "Esta búsqueda de hiperparámetros para bosques aleatorios tomó 134.47562265396118 segundos.\n"
     ]
    }
   ],
   "source": [
    "df_bosques=pd.DataFrame({})\n",
    "\n",
    "n_arboles=list(range(10,200,5))\n",
    "min_sample_splits=list(range(5,25,5))\n",
    "\n",
    "start=time.time()\n",
    "for n in n_arboles:\n",
    "    for m in min_sample_splits:\n",
    "        instancia_bosques = RandomForestClassifier(n_estimators = n, criterion = \"gini\", min_samples_split = m)\n",
    "        instancia_bosques.fit(X_train.values,y_train)\n",
    "        prediccion_bosques = instancia_bosques.predict(X_test.values)\n",
    "        MC_bosques = confusion_matrix(y_test, prediccion_bosques, labels=list(np.unique(y_train)))\n",
    "        medidas_este_bosque=MatConf(MC_bosques).dict_medidas\n",
    "        df_este_bosque=pd.DataFrame({'n_arboles':[n], 'min_samples_split':[m]})\n",
    "        for key in list(medidas_este_bosque.keys()):\n",
    "            df_este_bosque[key]=[medidas_este_bosque[key]]\n",
    "        df_bosques= df_bosques.append(df_este_bosque,ignore_index=True)\n",
    "end=time.time()\n",
    "print(f\"Esta búsqueda de hiperparámetros para bosques aleatorios tomó {end-start} segundos.\")"
   ]
  },
  {
   "cell_type": "code",
   "execution_count": 314,
   "id": "451b28e1-649b-495e-b18a-0e52f34c931f",
   "metadata": {},
   "outputs": [
    {
     "data": {
      "text/html": [
       "<div>\n",
       "<style scoped>\n",
       "    .dataframe tbody tr th:only-of-type {\n",
       "        vertical-align: middle;\n",
       "    }\n",
       "\n",
       "    .dataframe tbody tr th {\n",
       "        vertical-align: top;\n",
       "    }\n",
       "\n",
       "    .dataframe thead th {\n",
       "        text-align: right;\n",
       "    }\n",
       "</style>\n",
       "<table border=\"1\" class=\"dataframe\">\n",
       "  <thead>\n",
       "    <tr style=\"text-align: right;\">\n",
       "      <th></th>\n",
       "      <th>n_arboles</th>\n",
       "      <th>min_samples_split</th>\n",
       "      <th>Precisión Global</th>\n",
       "      <th>Error Global</th>\n",
       "      <th>Precisión Positiva (PP)</th>\n",
       "      <th>Precisión Negativa (PN)</th>\n",
       "      <th>Proporción de Falsos Positivos (PFP)</th>\n",
       "      <th>Proporción de Falsos Negativos (PFN)</th>\n",
       "      <th>Asertividad Positiva (AP)</th>\n",
       "      <th>Asertividad Negativa (AN)</th>\n",
       "    </tr>\n",
       "  </thead>\n",
       "  <tbody>\n",
       "    <tr>\n",
       "      <th>21</th>\n",
       "      <td>35</td>\n",
       "      <td>10</td>\n",
       "      <td>0.855598</td>\n",
       "      <td>0.144402</td>\n",
       "      <td>0.423664</td>\n",
       "      <td>0.96515</td>\n",
       "      <td>0.03485</td>\n",
       "      <td>0.576336</td>\n",
       "      <td>0.755102</td>\n",
       "      <td>0.868467</td>\n",
       "    </tr>\n",
       "  </tbody>\n",
       "</table>\n",
       "</div>"
      ],
      "text/plain": [
       "    n_arboles  min_samples_split  Precisión Global  Error Global  \\\n",
       "21         35                 10          0.855598      0.144402   \n",
       "\n",
       "    Precisión Positiva (PP)  Precisión Negativa (PN)  \\\n",
       "21                 0.423664                  0.96515   \n",
       "\n",
       "    Proporción de Falsos Positivos (PFP)  \\\n",
       "21                               0.03485   \n",
       "\n",
       "    Proporción de Falsos Negativos (PFN)  Asertividad Positiva (AP)  \\\n",
       "21                              0.576336                   0.755102   \n",
       "\n",
       "    Asertividad Negativa (AN)  \n",
       "21                   0.868467  "
      ]
     },
     "execution_count": 314,
     "metadata": {},
     "output_type": "execute_result"
    }
   ],
   "source": [
    "df_bosques=df_bosques.sort_values(by=['Precisión Global'],ascending=False)\n",
    "df_bosques.head(1)"
   ]
  },
  {
   "cell_type": "markdown",
   "id": "3aab9b48-f938-415e-bd0c-bbd4d40a99f8",
   "metadata": {},
   "source": [
    "El mejor modelo de Bosques Aleatorios para estos datos se obtuvo con $35$ árboles con un mínimo de $10$ variables en cada split. Veamos la matriz de confusión para este modelo:"
   ]
  },
  {
   "cell_type": "code",
   "execution_count": 315,
   "id": "ddd8b7ed-b593-4b6f-abdf-9366fbad6bf2",
   "metadata": {},
   "outputs": [
    {
     "data": {
      "text/plain": [
       "array([[1003,   30],\n",
       "       [ 161,  101]], dtype=int64)"
      ]
     },
     "execution_count": 315,
     "metadata": {},
     "output_type": "execute_result"
    }
   ],
   "source": [
    "instancia_bosques = RandomForestClassifier(n_estimators = 55, criterion = \"gini\", min_samples_split = 15)\n",
    "instancia_bosques.fit(X_train.values,y_train)\n",
    "prediccion_bosques = instancia_bosques.predict(X_test.values)\n",
    "MC_bosques = confusion_matrix(y_test, prediccion_bosques, labels=list(np.unique(y_train))) ### Puede variar un poco con respecto al resultado anterior.\n",
    "MC_bosques"
   ]
  },
  {
   "cell_type": "markdown",
   "id": "f5f71278-b2ba-4ca5-8e3e-debfd81dfd7d",
   "metadata": {},
   "source": [
    "Vea que nuestra precisión global es de 0.85, pero la precisión positiva es de 0.42. Claramente en la clase Negativa la predicción es mucho mejor, pero esto se debe al desbalance de las clases, que ya hemos visto en este conjunto de datos."
   ]
  },
  {
   "cell_type": "markdown",
   "id": "bd75bf3c-12cc-49d8-a736-fb4973d22e20",
   "metadata": {},
   "source": [
    "Antes de seguir con los otros modelos, vamos a ajustar un modelo de Bosques Aleatorios pero utilizando una selección de variables predictoras. El enunciado de la tarea no especifica cómo seleccionarlas así que, para variar, voy a seleccionar las variables más importantes del modelo anterior. (En la tarea pasada hicimos esto viendo los gráficos de poder predictivo, pero usar los bosques aleatorios es otra opción para hacer selección de variables también)"
   ]
  },
  {
   "cell_type": "code",
   "execution_count": 316,
   "id": "adc879f5-7234-406f-aa82-cd53565e8156",
   "metadata": {},
   "outputs": [
    {
     "data": {
      "image/png": "[encoded data removed]",
      "text/plain": [
       "<Figure size 2400x1200 with 1 Axes>"
      ]
     },
     "metadata": {
      "needs_background": "light"
     },
     "output_type": "display_data"
    }
   ],
   "source": [
    "etiquetas=np.array(X_train.columns.tolist())\n",
    "importancia_bosques = np.array(instancia_bosques.feature_importances_)\n",
    "orden = np.argsort(importancia_bosques)\n",
    "importancia_bosques = importancia_bosques[orden]\n",
    "etiquetas = etiquetas[orden]\n",
    "fig, ax = plt.subplots(1,1, figsize = (12,6), dpi = 200)\n",
    "ax.barh(etiquetas, importancia_bosques)\n",
    "plt.show()"
   ]
  },
  {
   "cell_type": "markdown",
   "id": "5f9b2c08-fab5-455f-a231-106f82556142",
   "metadata": {},
   "source": [
    "Seleccionamos entonces las siguientes variables."
   ]
  },
  {
   "cell_type": "code",
   "execution_count": 332,
   "id": "9d60df93-6916-4275-9fa4-deeb52d634a1",
   "metadata": {},
   "outputs": [
    {
     "name": "stdout",
     "output_type": "stream",
     "text": [
      "Esta búsqueda de hiperparámetros para bosques aleatorios tomó 161.82599306106567 segundos.\n"
     ]
    }
   ],
   "source": [
    "vars_select=['Age','NumOfProducts','Balance','CreditScore','EstimatedSalary','Tenure']\n",
    "\n",
    "X_train_6=X_train[vars_select]\n",
    "X_test_6=X_test[vars_select]\n",
    "\n",
    "### Volvemos a realizar la búsqueda de hiperparámetros:\n",
    "\n",
    "df_bosques_6=pd.DataFrame({})\n",
    "\n",
    "n_arboles=list(range(10,200,5))\n",
    "min_sample_splits=list(range(5,25,5))\n",
    "\n",
    "start=time.time()\n",
    "for n in n_arboles:\n",
    "    for m in min_sample_splits:\n",
    "        instancia_bosques = RandomForestClassifier(n_estimators = n, criterion = \"gini\", min_samples_split = m)\n",
    "        instancia_bosques.fit(X_train_6.values,y_train)\n",
    "        prediccion_bosques = instancia_bosques.predict(X_test_6.values)\n",
    "        MC_bosques = confusion_matrix(y_test, prediccion_bosques, labels=list(np.unique(y_train)))\n",
    "        medidas_este_bosque=MatConf(MC_bosques).dict_medidas\n",
    "        df_este_bosque=pd.DataFrame({'n_arboles':[n], 'min_samples_split':[m]})\n",
    "        for key in list(medidas_este_bosque.keys()):\n",
    "            df_este_bosque[key]=[medidas_este_bosque[key]]\n",
    "        df_bosques_6= df_bosques_6.append(df_este_bosque,ignore_index=True)\n",
    "end=time.time()\n",
    "print(f\"Esta búsqueda de hiperparámetros para bosques aleatorios tomó {end-start} segundos.\")"
   ]
  },
  {
   "cell_type": "code",
   "execution_count": 334,
   "id": "3b6a4f0e-c6cf-4e0c-99dd-08ecd78aaca2",
   "metadata": {},
   "outputs": [
    {
     "data": {
      "text/html": [
       "<div>\n",
       "<style scoped>\n",
       "    .dataframe tbody tr th:only-of-type {\n",
       "        vertical-align: middle;\n",
       "    }\n",
       "\n",
       "    .dataframe tbody tr th {\n",
       "        vertical-align: top;\n",
       "    }\n",
       "\n",
       "    .dataframe thead th {\n",
       "        text-align: right;\n",
       "    }\n",
       "</style>\n",
       "<table border=\"1\" class=\"dataframe\">\n",
       "  <thead>\n",
       "    <tr style=\"text-align: right;\">\n",
       "      <th></th>\n",
       "      <th>n_arboles</th>\n",
       "      <th>min_samples_split</th>\n",
       "      <th>Precisión Global</th>\n",
       "      <th>Error Global</th>\n",
       "      <th>Precisión Positiva (PP)</th>\n",
       "      <th>Precisión Negativa (PN)</th>\n",
       "      <th>Proporción de Falsos Positivos (PFP)</th>\n",
       "      <th>Proporción de Falsos Negativos (PFN)</th>\n",
       "      <th>Asertividad Positiva (AP)</th>\n",
       "      <th>Asertividad Negativa (AN)</th>\n",
       "    </tr>\n",
       "  </thead>\n",
       "  <tbody>\n",
       "    <tr>\n",
       "      <th>136</th>\n",
       "      <td>180</td>\n",
       "      <td>5</td>\n",
       "      <td>0.835521</td>\n",
       "      <td>0.164479</td>\n",
       "      <td>0.343511</td>\n",
       "      <td>0.96031</td>\n",
       "      <td>0.03969</td>\n",
       "      <td>0.656489</td>\n",
       "      <td>0.687023</td>\n",
       "      <td>0.852234</td>\n",
       "    </tr>\n",
       "  </tbody>\n",
       "</table>\n",
       "</div>"
      ],
      "text/plain": [
       "     n_arboles  min_samples_split  Precisión Global  Error Global  \\\n",
       "136        180                  5          0.835521      0.164479   \n",
       "\n",
       "     Precisión Positiva (PP)  Precisión Negativa (PN)  \\\n",
       "136                 0.343511                  0.96031   \n",
       "\n",
       "     Proporción de Falsos Positivos (PFP)  \\\n",
       "136                               0.03969   \n",
       "\n",
       "     Proporción de Falsos Negativos (PFN)  Asertividad Positiva (AP)  \\\n",
       "136                              0.656489                   0.687023   \n",
       "\n",
       "     Asertividad Negativa (AN)  \n",
       "136                   0.852234  "
      ]
     },
     "execution_count": 334,
     "metadata": {},
     "output_type": "execute_result"
    }
   ],
   "source": [
    "df_bosques_6=df_bosques_6.sort_values(by=['Precisión Global'],ascending=False)\n",
    "df_bosques_6.head(1)"
   ]
  },
  {
   "cell_type": "markdown",
   "id": "92ed0d55-d71b-47f5-b38c-c2d0c06ddbc6",
   "metadata": {},
   "source": [
    "Reduciendo a 6 variables no mejoró significativamente el modelo."
   ]
  },
  {
   "cell_type": "markdown",
   "id": "4b0a864d-7ac3-49ea-a0a0-99bf3145d23c",
   "metadata": {},
   "source": [
    "Procedemos a hacer lo mismo con `ADA Boost`."
   ]
  },
  {
   "cell_type": "code",
   "execution_count": 277,
   "id": "8d52f148-acfe-4095-abc7-139c811e8248",
   "metadata": {},
   "outputs": [
    {
     "name": "stdout",
     "output_type": "stream",
     "text": [
      "Esta búsqueda de hiperparámetros para ADA Boost's tomó 1.281977891921997 segundos.\n"
     ]
    }
   ],
   "source": [
    "df_ada=pd.DataFrame({})\n",
    "\n",
    "# Instancia Árboles de decisión\n",
    "instancia_tree = DecisionTreeClassifier(criterion=\"gini\")\n",
    "n_est=list(range(10,200,5))\n",
    "\n",
    "start=time.time()\n",
    "for n in n_est:\n",
    "    instancia_ada = AdaBoostClassifier(base_estimator=instancia_tree,n_estimators=n)\n",
    "    instancia_ada.fit(X_train.values,y_train)\n",
    "    prediccion_ada = instancia_ada.predict(X_test.values)\n",
    "    MC_ada = confusion_matrix(y_test, prediccion_ada, labels=list(np.unique(y_train)))\n",
    "    medidas_este_ada=MatConf(MC_ada).dict_medidas\n",
    "    df_este_ada=pd.DataFrame({'n_estimadores':[n]})\n",
    "    for key in list(medidas_este_ada.keys()):\n",
    "        df_este_ada[key]=[medidas_este_ada[key]]\n",
    "    df_ada= df_ada.append(df_este_ada,ignore_index=True)\n",
    "    \n",
    "end=time.time()\n",
    "print(f\"Esta búsqueda de hiperparámetros para ADA Boost's tomó {end-start} segundos.\")"
   ]
  },
  {
   "cell_type": "code",
   "execution_count": 278,
   "id": "33c4c675-9268-4e81-96c9-b09014c4de85",
   "metadata": {},
   "outputs": [
    {
     "data": {
      "text/html": [
       "<div>\n",
       "<style scoped>\n",
       "    .dataframe tbody tr th:only-of-type {\n",
       "        vertical-align: middle;\n",
       "    }\n",
       "\n",
       "    .dataframe tbody tr th {\n",
       "        vertical-align: top;\n",
       "    }\n",
       "\n",
       "    .dataframe thead th {\n",
       "        text-align: right;\n",
       "    }\n",
       "</style>\n",
       "<table border=\"1\" class=\"dataframe\">\n",
       "  <thead>\n",
       "    <tr style=\"text-align: right;\">\n",
       "      <th></th>\n",
       "      <th>n_estimadores</th>\n",
       "      <th>Precisión Global</th>\n",
       "      <th>Error Global</th>\n",
       "      <th>Precisión Positiva (PP)</th>\n",
       "      <th>Precisión Negativa (PN)</th>\n",
       "      <th>Proporción de Falsos Positivos (PFP)</th>\n",
       "      <th>Proporción de Falsos Negativos (PFN)</th>\n",
       "      <th>Asertividad Positiva (AP)</th>\n",
       "      <th>Asertividad Negativa (AN)</th>\n",
       "    </tr>\n",
       "  </thead>\n",
       "  <tbody>\n",
       "    <tr>\n",
       "      <th>10</th>\n",
       "      <td>60</td>\n",
       "      <td>0.811583</td>\n",
       "      <td>0.188417</td>\n",
       "      <td>0.526718</td>\n",
       "      <td>0.883833</td>\n",
       "      <td>0.116167</td>\n",
       "      <td>0.473282</td>\n",
       "      <td>0.534884</td>\n",
       "      <td>0.880424</td>\n",
       "    </tr>\n",
       "  </tbody>\n",
       "</table>\n",
       "</div>"
      ],
      "text/plain": [
       "    n_estimadores  Precisión Global  Error Global  Precisión Positiva (PP)  \\\n",
       "10             60          0.811583      0.188417                 0.526718   \n",
       "\n",
       "    Precisión Negativa (PN)  Proporción de Falsos Positivos (PFP)  \\\n",
       "10                 0.883833                              0.116167   \n",
       "\n",
       "    Proporción de Falsos Negativos (PFN)  Asertividad Positiva (AP)  \\\n",
       "10                              0.473282                   0.534884   \n",
       "\n",
       "    Asertividad Negativa (AN)  \n",
       "10                   0.880424  "
      ]
     },
     "execution_count": 278,
     "metadata": {},
     "output_type": "execute_result"
    }
   ],
   "source": [
    "df_ada=df_ada.sort_values(by=['Precisión Global'],ascending=False)\n",
    "df_ada.head(1)"
   ]
  },
  {
   "cell_type": "markdown",
   "id": "1734e172-a2af-4409-81fe-a9b68752b68c",
   "metadata": {},
   "source": [
    "El mejor ADA Boost se obtuvo con $60$ estimadores. Veamos la matriz de confusión de este modelo."
   ]
  },
  {
   "cell_type": "code",
   "execution_count": 280,
   "id": "5d9661bf-2997-403c-bd39-862ca0754690",
   "metadata": {},
   "outputs": [
    {
     "data": {
      "text/plain": [
       "array([[896, 137],\n",
       "       [130, 132]], dtype=int64)"
      ]
     },
     "execution_count": 280,
     "metadata": {},
     "output_type": "execute_result"
    }
   ],
   "source": [
    "instancia_tree = DecisionTreeClassifier(criterion=\"gini\")\n",
    "instancia_ada = AdaBoostClassifier(base_estimator=instancia_tree,n_estimators=60)\n",
    "instancia_ada.fit(X_train.values,y_train)\n",
    "prediccion_ada = instancia_ada.predict(X_test.values)\n",
    "MC_ada = confusion_matrix(y_test, prediccion_ada, labels=list(np.unique(y_train))) ### Puede variar un poco con respecto al resultado anterior.\n",
    "MC_ada"
   ]
  },
  {
   "cell_type": "markdown",
   "id": "a4e202bf-96c5-4add-bc7e-193ce56246e7",
   "metadata": {},
   "source": [
    "En este caso la calidad de la predicción bajó en general. Veamos qué pasa con XGBoost, para eso volvemos a hacer la búsqueda de hiperparámetros."
   ]
  },
  {
   "cell_type": "code",
   "execution_count": 281,
   "id": "eaef2d32-24f7-4232-a9c5-2b465a69e851",
   "metadata": {},
   "outputs": [
    {
     "name": "stdout",
     "output_type": "stream",
     "text": [
      "Esta búsqueda de hiperparámetros para XG Boost's tomó 201.09970498085022 segundos.\n"
     ]
    }
   ],
   "source": [
    "df_xgb=pd.DataFrame({})\n",
    "\n",
    "n_est=list(range(10,200,5))\n",
    "min_sample_splits=list(range(5,50,5))\n",
    "\n",
    "start=time.time()\n",
    "for n in n_est:\n",
    "    for m in min_sample_splits:\n",
    "        instancia_xgb = GradientBoostingClassifier(n_estimators=n, min_samples_split=m)\n",
    "        instancia_xgb.fit(X_train.values,y_train)\n",
    "        prediccion_xgb = instancia_xgb.predict(X_test.values)\n",
    "        MC_xgb = confusion_matrix(y_test, prediccion_xgb, labels=list(np.unique(y_train)))\n",
    "        medidas_este_xgb=MatConf(MC_xgb).dict_medidas\n",
    "        df_este_xgb=pd.DataFrame({'n_estimadores':[n], 'min_samples_split':[m]})\n",
    "        for key in list(medidas_este_xgb.keys()):\n",
    "            df_este_xgb[key]=[medidas_este_xgb[key]]\n",
    "        df_xgb= df_xgb.append(df_este_xgb,ignore_index=True)\n",
    "    \n",
    "end=time.time()\n",
    "print(f\"Esta búsqueda de hiperparámetros para XG Boost's tomó {end-start} segundos.\")"
   ]
  },
  {
   "cell_type": "code",
   "execution_count": 282,
   "id": "6d5d13a5-a771-4245-b111-4aa0ae607394",
   "metadata": {},
   "outputs": [
    {
     "data": {
      "text/html": [
       "<div>\n",
       "<style scoped>\n",
       "    .dataframe tbody tr th:only-of-type {\n",
       "        vertical-align: middle;\n",
       "    }\n",
       "\n",
       "    .dataframe tbody tr th {\n",
       "        vertical-align: top;\n",
       "    }\n",
       "\n",
       "    .dataframe thead th {\n",
       "        text-align: right;\n",
       "    }\n",
       "</style>\n",
       "<table border=\"1\" class=\"dataframe\">\n",
       "  <thead>\n",
       "    <tr style=\"text-align: right;\">\n",
       "      <th></th>\n",
       "      <th>n_estimadores</th>\n",
       "      <th>min_samples_split</th>\n",
       "      <th>Precisión Global</th>\n",
       "      <th>Error Global</th>\n",
       "      <th>Precisión Positiva (PP)</th>\n",
       "      <th>Precisión Negativa (PN)</th>\n",
       "      <th>Proporción de Falsos Positivos (PFP)</th>\n",
       "      <th>Proporción de Falsos Negativos (PFN)</th>\n",
       "      <th>Asertividad Positiva (AP)</th>\n",
       "      <th>Asertividad Negativa (AN)</th>\n",
       "    </tr>\n",
       "  </thead>\n",
       "  <tbody>\n",
       "    <tr>\n",
       "      <th>119</th>\n",
       "      <td>75</td>\n",
       "      <td>15</td>\n",
       "      <td>0.864865</td>\n",
       "      <td>0.135135</td>\n",
       "      <td>0.450382</td>\n",
       "      <td>0.96999</td>\n",
       "      <td>0.03001</td>\n",
       "      <td>0.549618</td>\n",
       "      <td>0.791946</td>\n",
       "      <td>0.874346</td>\n",
       "    </tr>\n",
       "  </tbody>\n",
       "</table>\n",
       "</div>"
      ],
      "text/plain": [
       "     n_estimadores  min_samples_split  Precisión Global  Error Global  \\\n",
       "119             75                 15          0.864865      0.135135   \n",
       "\n",
       "     Precisión Positiva (PP)  Precisión Negativa (PN)  \\\n",
       "119                 0.450382                  0.96999   \n",
       "\n",
       "     Proporción de Falsos Positivos (PFP)  \\\n",
       "119                               0.03001   \n",
       "\n",
       "     Proporción de Falsos Negativos (PFN)  Asertividad Positiva (AP)  \\\n",
       "119                              0.549618                   0.791946   \n",
       "\n",
       "     Asertividad Negativa (AN)  \n",
       "119                   0.874346  "
      ]
     },
     "execution_count": 282,
     "metadata": {},
     "output_type": "execute_result"
    }
   ],
   "source": [
    "df_xgb=df_xgb.sort_values(by=['Precisión Global'],ascending=False)\n",
    "df_xgb.head(1)"
   ]
  },
  {
   "cell_type": "markdown",
   "id": "3eec5fa3-fee2-4aa3-b63d-ca297cf2d3a7",
   "metadata": {},
   "source": [
    "El mejor XG Boost se obtuvo con 75 estimadores y un `min_sample_split` de 15. Veamos la matriz de confusión de este modelo."
   ]
  },
  {
   "cell_type": "code",
   "execution_count": 326,
   "id": "b6b62f69-28d7-423a-9ba0-844e3acc78fe",
   "metadata": {},
   "outputs": [
    {
     "data": {
      "text/plain": [
       "array([[1000,   33],\n",
       "       [ 164,   98]], dtype=int64)"
      ]
     },
     "execution_count": 326,
     "metadata": {},
     "output_type": "execute_result"
    }
   ],
   "source": [
    "instancia_xgb = RandomForestClassifier(n_estimators = 75, criterion = \"gini\", min_samples_split = 15)\n",
    "instancia_xgb.fit(X_train.values,y_train)\n",
    "prediccion_xgb = instancia_xgb.predict(X_test.values)\n",
    "MC_xgb = confusion_matrix(y_test, prediccion_xgb, labels=list(np.unique(y_train))) ### Puede variar un poco con respecto al resultado anterior.\n",
    "MC_xgb"
   ]
  },
  {
   "cell_type": "markdown",
   "id": "2752a854-9fce-4af9-b525-0324d6c532ed",
   "metadata": {},
   "source": [
    "Este es el mejor modelo de los tres, en términos de precisión global. Montamos un DataFrame que compara los modelos de esta pregunta."
   ]
  },
  {
   "cell_type": "code",
   "execution_count": 330,
   "id": "4915b949-475b-4c38-b2bb-f2e1c9989ce7",
   "metadata": {},
   "outputs": [
    {
     "data": {
      "text/html": [
       "<div>\n",
       "<style scoped>\n",
       "    .dataframe tbody tr th:only-of-type {\n",
       "        vertical-align: middle;\n",
       "    }\n",
       "\n",
       "    .dataframe tbody tr th {\n",
       "        vertical-align: top;\n",
       "    }\n",
       "\n",
       "    .dataframe thead th {\n",
       "        text-align: right;\n",
       "    }\n",
       "</style>\n",
       "<table border=\"1\" class=\"dataframe\">\n",
       "  <thead>\n",
       "    <tr style=\"text-align: right;\">\n",
       "      <th></th>\n",
       "      <th>Precisión Global</th>\n",
       "      <th>Error Global</th>\n",
       "      <th>Precisión Positiva (PP)</th>\n",
       "      <th>Precisión Negativa (PN)</th>\n",
       "      <th>Proporción de Falsos Positivos (PFP)</th>\n",
       "      <th>Proporción de Falsos Negativos (PFN)</th>\n",
       "      <th>Asertividad Positiva (AP)</th>\n",
       "      <th>Asertividad Negativa (AN)</th>\n",
       "    </tr>\n",
       "  </thead>\n",
       "  <tbody>\n",
       "    <tr>\n",
       "      <th>Bosque Aleatorio</th>\n",
       "      <td>0.855598</td>\n",
       "      <td>0.144402</td>\n",
       "      <td>0.423664</td>\n",
       "      <td>0.965150</td>\n",
       "      <td>0.034850</td>\n",
       "      <td>0.576336</td>\n",
       "      <td>0.755102</td>\n",
       "      <td>0.868467</td>\n",
       "    </tr>\n",
       "    <tr>\n",
       "      <th>Bosque Aleatorio 6 Var</th>\n",
       "      <td>0.855598</td>\n",
       "      <td>0.144402</td>\n",
       "      <td>0.423664</td>\n",
       "      <td>0.965150</td>\n",
       "      <td>0.034850</td>\n",
       "      <td>0.576336</td>\n",
       "      <td>0.755102</td>\n",
       "      <td>0.868467</td>\n",
       "    </tr>\n",
       "    <tr>\n",
       "      <th>ADA Boost</th>\n",
       "      <td>0.811583</td>\n",
       "      <td>0.188417</td>\n",
       "      <td>0.526718</td>\n",
       "      <td>0.883833</td>\n",
       "      <td>0.116167</td>\n",
       "      <td>0.473282</td>\n",
       "      <td>0.534884</td>\n",
       "      <td>0.880424</td>\n",
       "    </tr>\n",
       "    <tr>\n",
       "      <th>XG Boost</th>\n",
       "      <td>0.864865</td>\n",
       "      <td>0.135135</td>\n",
       "      <td>0.450382</td>\n",
       "      <td>0.969990</td>\n",
       "      <td>0.030010</td>\n",
       "      <td>0.549618</td>\n",
       "      <td>0.791946</td>\n",
       "      <td>0.874346</td>\n",
       "    </tr>\n",
       "  </tbody>\n",
       "</table>\n",
       "</div>"
      ],
      "text/plain": [
       "                        Precisión Global  Error Global  \\\n",
       "Bosque Aleatorio                0.855598      0.144402   \n",
       "Bosque Aleatorio 6 Var          0.855598      0.144402   \n",
       "ADA Boost                       0.811583      0.188417   \n",
       "XG Boost                        0.864865      0.135135   \n",
       "\n",
       "                        Precisión Positiva (PP)  Precisión Negativa (PN)  \\\n",
       "Bosque Aleatorio                       0.423664                 0.965150   \n",
       "Bosque Aleatorio 6 Var                 0.423664                 0.965150   \n",
       "ADA Boost                              0.526718                 0.883833   \n",
       "XG Boost                               0.450382                 0.969990   \n",
       "\n",
       "                        Proporción de Falsos Positivos (PFP)  \\\n",
       "Bosque Aleatorio                                    0.034850   \n",
       "Bosque Aleatorio 6 Var                              0.034850   \n",
       "ADA Boost                                           0.116167   \n",
       "XG Boost                                            0.030010   \n",
       "\n",
       "                        Proporción de Falsos Negativos (PFN)  \\\n",
       "Bosque Aleatorio                                    0.576336   \n",
       "Bosque Aleatorio 6 Var                              0.576336   \n",
       "ADA Boost                                           0.473282   \n",
       "XG Boost                                            0.549618   \n",
       "\n",
       "                        Asertividad Positiva (AP)  Asertividad Negativa (AN)  \n",
       "Bosque Aleatorio                         0.755102                   0.868467  \n",
       "Bosque Aleatorio 6 Var                   0.755102                   0.868467  \n",
       "ADA Boost                                0.534884                   0.880424  \n",
       "XG Boost                                 0.791946                   0.874346  "
      ]
     },
     "execution_count": 330,
     "metadata": {},
     "output_type": "execute_result"
    }
   ],
   "source": [
    "comp_preg2=pd.DataFrame({})\n",
    "comp_preg2=comp_preg2.append(df_bosques.head(1).drop(['n_arboles','min_samples_split'],axis=1))\n",
    "comp_preg2=comp_preg2.append(df_bosques_6.head(1).drop(['n_arboles','min_samples_split'],axis=1))\n",
    "comp_preg2=comp_preg2.append(df_ada.head(1).drop(['n_estimadores'],axis=1))\n",
    "comp_preg2=comp_preg2.append(df_xgb.head(1).drop(['n_estimadores','min_samples_split'],axis=1))\n",
    "comp_preg2.index=['Bosque Aleatorio','Bosque Aleatorio 6 Var','ADA Boost','XG Boost']\n",
    "comp_preg2.to_csv(\"Comp_Abandono_Clientes_T5.csv\")\n",
    "comp_preg2"
   ]
  },
  {
   "cell_type": "markdown",
   "id": "d8031c4b-081d-49a2-b0c9-ca24b307e168",
   "metadata": {
    "tags": []
   },
   "source": [
    "<div class='question_container'>\n",
    "    <h2> Pregunta 3 </h2>\n",
    "    <p>La idea de este ejercicio es programar una Clase en <code>Python</code> para un nuevo método de Consenso Propio, esto basado en los métodos K-vecinos más cercanos, árbo- les de Decisión, Método de Potenciación (XGBoosting) y Método de Potenciación (ADABoosting), para esto realice los siguiente: </p>\n",
    "    <ol>\n",
    "        <li> Programe una Clase en <code>Python</code> denominada <code>ConsensoPropio</code> que tiene, además del constructor, al menos los siguientes métodos: <code>fit(X_train, y_train, ...)</code> que recibe la tabla de entrenamiento y genera 4 muestras aleatorias con reemplazo (Boostraps) de los datos de aprendizaje y luego aplica en cada una de estas muestras uno de los métodos predictivos mencionados arriba. Este método debe generar un nuevo modelo predictivo que es un atributo de clase, tipo diccionario, que incluya los 4 modelos generados (todos los métodos usarán todas las variables) y las 4 de precisiones globales, respectivamente de cada modelo1, que denotamos por $(PG_1, PG_2, \\cdots, PG_4)$, donde $0 \\leq PG_j \\leq 1$ para $j = 1, 2, \\cdots, 4$. </li>\n",
    "        <li> Programe una función <code>predict(X_test)</code> que recibe la tabla de testing. Luego, para predecir aplica en cada una de las filas de la tabla de testing los 4 modelos predictivos que están almacenados dentro de la Clase en el atributo incluido para este efecto; y se establece un consenso de todos los resultados. Se debe programar una fórmula en <code>Python</code> que le dé mayor importancia a los métodos con mejor precisión global. Si denotamos por $M_j(h, i)$ la probabilidad que retorna el $j$-ésimo modelo en el individuo $i$-ésimo para la categoría $h$ de variable a predecir, donde $j$ varía de $1$ hasta $4$, $h$ varía desde $1$ hasta $p$=número de categorías de la variable a predecir e $i$ varía de $1$ hasta $s$ = cantidad de individuos en la tabla de testing, esta fórmula de define como sigue: \n",
    "        $$C(i) = m,$$ \n",
    "        donde $m$ es el valor que toma $h$ cuando se alcanza el valor máximo en la siguiente fórmula:\n",
    "        $$\n",
    "        \\max_{h=1,\\cdots,p}\\left\\{\\sum_{j=1}^4 p_jM_j(h,i)\\right\\}\n",
    "        $$\n",
    "        y $p_k=\\frac{PG_k}{\\sum_{j=1}^4 PG_j}$ para $j=1,\\cdots,4$, note que $\\sum_{j=1}^4p_j=1$ pues son pesos. La función <code>predict(X_test)</code> debe retornar un vector con las predicciones para todas las filas de la tabla de testing usando la función $C(i)$. </li> \n",
    "        <li> Usando la tabla de datos datos raisin.csv genere al azar una tabla de testing con un 20% de los datos y con el resto de los datos construya una tabla de aprendizaje. </li>\n",
    "        <li> Genere modelos predictivos usando la Clase <code>ConsensoPropio</code> y el método fit de la clase <code>RandomForestClassifier</code> (con solamente 4 árboles, es decir, 4 boostraps), luego para la tabla de testing calcule, para ambos métodos, calcule la precisión global, el error global y la precisión por clases. ¿Cuál método es mejor? </li>\n",
    "    </ol>\n",
    "</div>"
   ]
  },
  {
   "cell_type": "code",
   "execution_count": 139,
   "id": "ab1fb2b6-85e9-407a-9690-3b2b6f6b5e5a",
   "metadata": {},
   "outputs": [],
   "source": [
    "class ConsensoPropio:\n",
    "    \n",
    "    def __init__(self):\n",
    "        \n",
    "        \"\"\"\n",
    "        El init de la clase ConsensoPropio creará un vector de instancias\n",
    "        de los 4 modelos que usaremos para hacer el consenso\n",
    "        \"\"\"\n",
    "        \n",
    "        instancia_knn = KNeighborsClassifier()\n",
    "        instancia_tree = DecisionTreeClassifier()\n",
    "        instancia_gbc = GradientBoostingClassifier()\n",
    "        instancia_ada = AdaBoostClassifier(base_estimator=instancia_tree)\n",
    "        \n",
    "        self.modelos=[instancia_knn,instancia_tree,instancia_gbc,instancia_ada]\n",
    "    \n",
    "    def fit(self, X_train:pd.DataFrame, y_train:np.ndarray):\n",
    "    \n",
    "        self.nombres=list(np.unique(y_train))\n",
    "        \n",
    "        ### Creamos una tabla de aprendizaje y otra de testing sobre X_train y y_train\n",
    "        \n",
    "        X_train_train, X_train_test, y_train_train, y_train_test = train_test_split(X_train, y_train, train_size=0.8)\n",
    "        \n",
    "        ### Hacemos cuatro muestras bootstrap sobre X_train_train\n",
    "        X_train_boots=[]\n",
    "        y_train_boots=[]\n",
    "        \n",
    "        for i in range(len(self.modelos)):\n",
    "            bootstrap_index=np.random.randint(X_train_train.shape[0], size=X_train_train.shape[0])  \n",
    "            X_train_boots.append(X_train_train.iloc[bootstrap_index])\n",
    "            y_train_boots.append(y_train_train[bootstrap_index])\n",
    "            \n",
    "        ### Sobre cada una de las cuatro muestras bootstraps ajustamos uno de los modelos de esta clase.    \n",
    "        for i in range(len(self.modelos)):\n",
    "            self.modelos[i].fit(X_train_boots[i].values,y_train_boots[i])\n",
    "            \n",
    "        ### Calculamos la precisión global de cada modelo sobre los datos de prueba (los del split sobre los datos de entrenamiento).\n",
    "        PGs=[]\n",
    "            \n",
    "        for i in range(len(self.modelos)):\n",
    "            \n",
    "            prediccion = self.modelos[i].predict(X_train_test.values)\n",
    "            MC = confusion_matrix(y_train_test, prediccion, labels= self.nombres)\n",
    "            indices = indices_general(MC,self.nombres)\n",
    "            PGs.append(indices['Precisión Global'])\n",
    "            \n",
    "        self.PGs=PGs\n",
    "        \n",
    "        ### Regresamos un diccionario con la información de cada modelo.\n",
    "        return {\n",
    "            'modelo_knn': {\n",
    "                'modelo': self.modelos[0],\n",
    "                'precision_global': PGs[0]\n",
    "            },\n",
    "            'modelo_tree': {\n",
    "                'modelo': self.modelos[1],\n",
    "                'precision_global': PGs[1]\n",
    "            },\n",
    "            'modelo_xgb': {\n",
    "                'modelo': self.modelos[2],\n",
    "                'precision_global': PGs[2]\n",
    "            },\n",
    "            'modelo_ada': {\n",
    "                'modelo': self.modelos[3],\n",
    "                'precision_global': PGs[3]\n",
    "            }\n",
    "        }\n",
    "    \n",
    "    def predict(self,X_test):\n",
    "        \n",
    "        predict_probs=pd.DataFrame({})\n",
    "        \n",
    "        for j in range(len(self.modelos)):\n",
    "            \n",
    "            ### Queremos las probabilidades de predicción para cada clase, así que usamos predict_proba\n",
    "            prediccion = self.modelos[j].predict_proba(X_test.values)\n",
    "            \"\"\"\n",
    "            predict_probs es un Data Frame cuyas columnas son las categorias 1,2,...,p de la variable de respuesta\n",
    "            y tiene las filas de X_test, donde la entrada en la fila i y columna h es M_j(h,i)\n",
    "            \"\"\"\n",
    "            predict_probs_j=pd.DataFrame(prediccion)\n",
    "            predict_probs_j.columns=[f\"M_{j}({val},.)\" for val in self.nombres]\n",
    "            predict_probs=pd.concat([predict_probs,predict_probs_j], axis=1)\n",
    "        \n",
    "        self.predict_probs=predict_probs\n",
    "        \n",
    "        prediccion_final=[]\n",
    "        \n",
    "        for i in range(predict_probs.shape[0]):\n",
    "            \n",
    "            ### Estamos en Fila i de X_test\n",
    "            row=predict_probs.iloc[i]\n",
    "            \n",
    "            ### Calcular suma_j M_j(h,i) para cada h en nombres\n",
    "            vals_Mi_nombres=[]\n",
    "            \n",
    "            for nombre in self.nombres:\n",
    "                suma_Mi_nombre_j=(1/sum(cp.PGs))*(sum([cp.PGs[j]*row[f'M_{j}({nombre},.)'] for j in range(len(self.modelos))]))\n",
    "                vals_Mi_nombres.append(suma_Mi_nombre_j)\n",
    "             \n",
    "            ### Calculamos el nombre (etiqueta) que maximiza esta suma, esto es C(i)\n",
    "            prediccion_fila=self.nombres[vals_Mi_nombres.index(max(vals_Mi_nombres))]\n",
    "            \n",
    "            ### Agregamos esto al vector de predicciones finales.\n",
    "            prediccion_final.append(prediccion_fila)\n",
    "        \n",
    "        return prediccion_final\n",
    "    \n",
    "    def __str__(self):\n",
    "        return \"\""
   ]
  },
  {
   "cell_type": "markdown",
   "id": "915d78db-08f6-45e1-be8d-f26627250977",
   "metadata": {},
   "source": [
    "Probamos la clase anterior con la tabla `raisin.csv`"
   ]
  },
  {
   "cell_type": "code",
   "execution_count": 175,
   "id": "0dc86549-8b83-4e0d-b7fe-9ecf9f7d9551",
   "metadata": {},
   "outputs": [],
   "source": [
    "### Leer datos\n",
    "df_raisin = pd.read_csv('raisin.csv')\n",
    "### Training-Testing\n",
    "\n",
    "# Variable a predecir\n",
    "y = df_raisin[\"Class\"].ravel()\n",
    "\n",
    "#Convertimos a Dummy algunas de las variables predictoras\n",
    "df_raisin_num = df_raisin.drop(['Class'],axis=1)\n",
    "X = df_raisin_num\n",
    "\n",
    "#Partimos los datos en training-testing\n",
    "X_train, X_test, y_train, y_test = train_test_split(X, y, train_size=0.8)"
   ]
  },
  {
   "cell_type": "code",
   "execution_count": 176,
   "id": "19b62bfa-0ed3-4787-8816-f2e2a41d1b48",
   "metadata": {},
   "outputs": [
    {
     "data": {
      "text/plain": [
       "{'modelo_knn': {'modelo': KNeighborsClassifier(),\n",
       "  'precision_global': 0.8333333333333334},\n",
       " 'modelo_tree': {'modelo': DecisionTreeClassifier(),\n",
       "  'precision_global': 0.8194444444444444},\n",
       " 'modelo_xgb': {'modelo': GradientBoostingClassifier(),\n",
       "  'precision_global': 0.8958333333333334},\n",
       " 'modelo_ada': {'modelo': AdaBoostClassifier(base_estimator=DecisionTreeClassifier()),\n",
       "  'precision_global': 0.8125}}"
      ]
     },
     "execution_count": 176,
     "metadata": {},
     "output_type": "execute_result"
    }
   ],
   "source": [
    "cp=ConsensoPropio()\n",
    "cp.fit(X_train,y_train)"
   ]
  },
  {
   "cell_type": "code",
   "execution_count": 177,
   "id": "bb1414e0-6fc4-482d-bd61-655136ead6e6",
   "metadata": {},
   "outputs": [
    {
     "data": {
      "text/plain": [
       "array([[84, 12],\n",
       "       [13, 71]], dtype=int64)"
      ]
     },
     "execution_count": 177,
     "metadata": {},
     "output_type": "execute_result"
    }
   ],
   "source": [
    "prediccion_consenso=cp.predict(X_test)\n",
    "MC_consenso = confusion_matrix(y_test, prediccion_consenso, labels= cp.nombres)\n",
    "MC_consenso"
   ]
  },
  {
   "cell_type": "code",
   "execution_count": 178,
   "id": "4aad433b-358b-4691-a0c6-e14a8052ab80",
   "metadata": {},
   "outputs": [
    {
     "data": {
      "text/plain": [
       "{'Matriz de Confusión': array([[82, 19],\n",
       "        [ 6, 73]], dtype=int64),\n",
       " 'Precisión Global': 0.8611111111111112,\n",
       " 'Error Global': 0.13888888888888884,\n",
       " 'Precisión por categoría':       Besni   Kecimen\n",
       " 0  0.811881  0.924051}"
      ]
     },
     "execution_count": 178,
     "metadata": {},
     "output_type": "execute_result"
    }
   ],
   "source": [
    "indices = indices_general(MC,cp.nombres)\n",
    "indices"
   ]
  },
  {
   "cell_type": "markdown",
   "id": "6a721a73-d98d-437f-90b2-3b7d853aec3d",
   "metadata": {},
   "source": [
    "Comparamos con el método de bosques aleatorios que utiliza $4$ árboles"
   ]
  },
  {
   "cell_type": "code",
   "execution_count": null,
   "id": "c56cec19-c86f-4c9a-beed-32d2c15e0f27",
   "metadata": {},
   "outputs": [],
   "source": [
    "instancia_bosques = RandomForestClassifier(n_estimators = 4, criterion = \"gini\", min_samples_split = 9)\n",
    "instancia_bosques.fit(X_train,y_train)\n",
    "prediccion_bosques=instancia_bosques.predict(X_test)\n",
    "MC_bosques = confusion_matrix(y_test, prediccion_bosques, labels=list(np.unique(y_train)))\n",
    "\n",
    "medidas_consenso=MatConf(MC_consenso).dict_medidas\n",
    "medidas_bosques=MatConf(MC_bosques).dict_medidas\n",
    "\n",
    "df_bosq=pd.DataFrame({'Modelo':['Bosques Aleatorios']})\n",
    "for key in list(medidas_bosques.keys()):\n",
    "    df_bosq[key]=medidas_bosques[key]\n",
    "\n",
    "df_consenso=pd.DataFrame({'Modelo':['Consenso Propio']})\n",
    "for key in list(medidas_consenso.keys()):\n",
    "    df_consenso[key]=medidas_consenso[key]\n",
    "\n",
    "df_consenso = df_consenso.append(medidas_bosq,ignore_index=True)"
   ]
  },
  {
   "cell_type": "code",
   "execution_count": 180,
   "id": "aece4736-93ff-4960-9924-8858554d1e0a",
   "metadata": {},
   "outputs": [
    {
     "data": {
      "text/html": [
       "<div>\n",
       "<style scoped>\n",
       "    .dataframe tbody tr th:only-of-type {\n",
       "        vertical-align: middle;\n",
       "    }\n",
       "\n",
       "    .dataframe tbody tr th {\n",
       "        vertical-align: top;\n",
       "    }\n",
       "\n",
       "    .dataframe thead th {\n",
       "        text-align: right;\n",
       "    }\n",
       "</style>\n",
       "<table border=\"1\" class=\"dataframe\">\n",
       "  <thead>\n",
       "    <tr style=\"text-align: right;\">\n",
       "      <th></th>\n",
       "      <th>Modelo</th>\n",
       "      <th>Precisión Global</th>\n",
       "      <th>Error Global</th>\n",
       "      <th>Precisión Positiva (PP)</th>\n",
       "      <th>Precisión Negativa (PN)</th>\n",
       "      <th>Proporción de Falsos Positivos (PFP)</th>\n",
       "      <th>Proporción de Falsos Negativos (PFN)</th>\n",
       "      <th>Asertividad Positiva (AP)</th>\n",
       "      <th>Asertividad Negativa (AN)</th>\n",
       "    </tr>\n",
       "  </thead>\n",
       "  <tbody>\n",
       "    <tr>\n",
       "      <th>0</th>\n",
       "      <td>Consenso Propio</td>\n",
       "      <td>0.861111</td>\n",
       "      <td>0.138889</td>\n",
       "      <td>0.845238</td>\n",
       "      <td>0.875000</td>\n",
       "      <td>0.125000</td>\n",
       "      <td>0.154762</td>\n",
       "      <td>0.855422</td>\n",
       "      <td>0.865979</td>\n",
       "    </tr>\n",
       "    <tr>\n",
       "      <th>1</th>\n",
       "      <td>Bosques Aleatorios</td>\n",
       "      <td>0.855556</td>\n",
       "      <td>0.144444</td>\n",
       "      <td>0.898734</td>\n",
       "      <td>0.821782</td>\n",
       "      <td>0.178218</td>\n",
       "      <td>0.101266</td>\n",
       "      <td>0.797753</td>\n",
       "      <td>0.912088</td>\n",
       "    </tr>\n",
       "  </tbody>\n",
       "</table>\n",
       "</div>"
      ],
      "text/plain": [
       "               Modelo  Precisión Global  Error Global  \\\n",
       "0     Consenso Propio          0.861111      0.138889   \n",
       "1  Bosques Aleatorios          0.855556      0.144444   \n",
       "\n",
       "   Precisión Positiva (PP)  Precisión Negativa (PN)  \\\n",
       "0                 0.845238                 0.875000   \n",
       "1                 0.898734                 0.821782   \n",
       "\n",
       "   Proporción de Falsos Positivos (PFP)  Proporción de Falsos Negativos (PFN)  \\\n",
       "0                              0.125000                              0.154762   \n",
       "1                              0.178218                              0.101266   \n",
       "\n",
       "   Asertividad Positiva (AP)  Asertividad Negativa (AN)  \n",
       "0                   0.855422                   0.865979  \n",
       "1                   0.797753                   0.912088  "
      ]
     },
     "execution_count": 180,
     "metadata": {},
     "output_type": "execute_result"
    }
   ],
   "source": [
    "df_consenso"
   ]
  },
  {
   "cell_type": "markdown",
   "id": "c2385473-506a-4e07-894d-f7dcbfbf1d8b",
   "metadata": {},
   "source": [
    "Note que la mayoría de indicadores han mejorado con el método de Consenso Propio, en lugar de utilizar 4 bootstraps en los que se hacen árboles de decisión. Sin embargo la precisión mejoró en una categoría y en la otra se mantuvo similar."
   ]
  },
  {
   "cell_type": "markdown",
   "id": "cf6510a2-9042-4686-ade1-a59ce9a25013",
   "metadata": {},
   "source": [
    "Comparamos con los métodos de las tareas anteriores. Este fue el Dataframe que teníamos en la Tarea 4:"
   ]
  },
  {
   "cell_type": "code",
   "execution_count": 181,
   "id": "bd7d652b-a983-4f01-9321-2d66f3f8f52a",
   "metadata": {},
   "outputs": [
    {
     "data": {
      "text/html": [
       "<div>\n",
       "<style scoped>\n",
       "    .dataframe tbody tr th:only-of-type {\n",
       "        vertical-align: middle;\n",
       "    }\n",
       "\n",
       "    .dataframe tbody tr th {\n",
       "        vertical-align: top;\n",
       "    }\n",
       "\n",
       "    .dataframe thead th {\n",
       "        text-align: right;\n",
       "    }\n",
       "</style>\n",
       "<table border=\"1\" class=\"dataframe\">\n",
       "  <thead>\n",
       "    <tr style=\"text-align: right;\">\n",
       "      <th></th>\n",
       "      <th>Modelo</th>\n",
       "      <th>Precisión Global</th>\n",
       "      <th>Error Global</th>\n",
       "      <th>Precisión Positiva (PP)</th>\n",
       "      <th>Precisión Negativa (PN)</th>\n",
       "      <th>Proporción de Falsos Positivos (PFP)</th>\n",
       "      <th>Proporción de Falsos Negativos (PFN)</th>\n",
       "      <th>Asertividad Positiva (AP)</th>\n",
       "      <th>Asertividad Negativa (AN)</th>\n",
       "    </tr>\n",
       "  </thead>\n",
       "  <tbody>\n",
       "    <tr>\n",
       "      <th>0</th>\n",
       "      <td>Mejor KNN</td>\n",
       "      <td>0.875556</td>\n",
       "      <td>0.124444</td>\n",
       "      <td>0.842975</td>\n",
       "      <td>0.913462</td>\n",
       "      <td>0.086538</td>\n",
       "      <td>0.157025</td>\n",
       "      <td>0.918919</td>\n",
       "      <td>0.833333</td>\n",
       "    </tr>\n",
       "    <tr>\n",
       "      <th>1</th>\n",
       "      <td>Mejor AD</td>\n",
       "      <td>0.861111</td>\n",
       "      <td>0.138889</td>\n",
       "      <td>0.908163</td>\n",
       "      <td>0.804878</td>\n",
       "      <td>0.195122</td>\n",
       "      <td>0.091837</td>\n",
       "      <td>0.847619</td>\n",
       "      <td>0.880000</td>\n",
       "    </tr>\n",
       "  </tbody>\n",
       "</table>\n",
       "</div>"
      ],
      "text/plain": [
       "      Modelo  Precisión Global  Error Global  Precisión Positiva (PP)  \\\n",
       "0  Mejor KNN          0.875556      0.124444                 0.842975   \n",
       "1   Mejor AD          0.861111      0.138889                 0.908163   \n",
       "\n",
       "   Precisión Negativa (PN)  Proporción de Falsos Positivos (PFP)  \\\n",
       "0                 0.913462                              0.086538   \n",
       "1                 0.804878                              0.195122   \n",
       "\n",
       "   Proporción de Falsos Negativos (PFN)  Asertividad Positiva (AP)  \\\n",
       "0                              0.157025                   0.918919   \n",
       "1                              0.091837                   0.847619   \n",
       "\n",
       "   Asertividad Negativa (AN)  \n",
       "0                   0.833333  \n",
       "1                   0.880000  "
      ]
     },
     "execution_count": 181,
     "metadata": {},
     "output_type": "execute_result"
    }
   ],
   "source": [
    "comparacion=pd.DataFrame({\n",
    "    'Modelo':['Mejor KNN','Mejor AD'],\n",
    "    'Precisión Global': [0.875556,0.861111],\n",
    "    'Error Global':[0.124444,0.138889],\n",
    "    'Precisión Positiva (PP)':[0.842975,0.908163],\n",
    "    'Precisión Negativa (PN)':[0.913462,0.804878],\n",
    "    'Proporción de Falsos Positivos (PFP)':[0.086538,0.195122],\n",
    "    'Proporción de Falsos Negativos (PFN)':[0.157025,0.091837],\n",
    "    'Asertividad Positiva (AP)':[0.918919,0.847619],\n",
    "    'Asertividad Negativa (AN)':[0.833333,0.880000]\n",
    "})\n",
    "comparacion"
   ]
  },
  {
   "cell_type": "markdown",
   "id": "adb9a15f-d140-405c-9010-f5518abe9947",
   "metadata": {},
   "source": [
    "Agregamos ahora el modelo con Consenso Propio que hicimos acá."
   ]
  },
  {
   "cell_type": "code",
   "execution_count": 182,
   "id": "6472fe4f-501b-4c01-809e-96ca7a06b61a",
   "metadata": {},
   "outputs": [
    {
     "data": {
      "text/html": [
       "<div>\n",
       "<style scoped>\n",
       "    .dataframe tbody tr th:only-of-type {\n",
       "        vertical-align: middle;\n",
       "    }\n",
       "\n",
       "    .dataframe tbody tr th {\n",
       "        vertical-align: top;\n",
       "    }\n",
       "\n",
       "    .dataframe thead th {\n",
       "        text-align: right;\n",
       "    }\n",
       "</style>\n",
       "<table border=\"1\" class=\"dataframe\">\n",
       "  <thead>\n",
       "    <tr style=\"text-align: right;\">\n",
       "      <th></th>\n",
       "      <th>Modelo</th>\n",
       "      <th>Precisión Global</th>\n",
       "      <th>Error Global</th>\n",
       "      <th>Precisión Positiva (PP)</th>\n",
       "      <th>Precisión Negativa (PN)</th>\n",
       "      <th>Proporción de Falsos Positivos (PFP)</th>\n",
       "      <th>Proporción de Falsos Negativos (PFN)</th>\n",
       "      <th>Asertividad Positiva (AP)</th>\n",
       "      <th>Asertividad Negativa (AN)</th>\n",
       "    </tr>\n",
       "  </thead>\n",
       "  <tbody>\n",
       "    <tr>\n",
       "      <th>0</th>\n",
       "      <td>Mejor KNN</td>\n",
       "      <td>0.875556</td>\n",
       "      <td>0.124444</td>\n",
       "      <td>0.842975</td>\n",
       "      <td>0.913462</td>\n",
       "      <td>0.086538</td>\n",
       "      <td>0.157025</td>\n",
       "      <td>0.918919</td>\n",
       "      <td>0.833333</td>\n",
       "    </tr>\n",
       "    <tr>\n",
       "      <th>1</th>\n",
       "      <td>Mejor AD</td>\n",
       "      <td>0.861111</td>\n",
       "      <td>0.138889</td>\n",
       "      <td>0.908163</td>\n",
       "      <td>0.804878</td>\n",
       "      <td>0.195122</td>\n",
       "      <td>0.091837</td>\n",
       "      <td>0.847619</td>\n",
       "      <td>0.880000</td>\n",
       "    </tr>\n",
       "    <tr>\n",
       "      <th>2</th>\n",
       "      <td>Consenso Propio</td>\n",
       "      <td>0.861111</td>\n",
       "      <td>0.138889</td>\n",
       "      <td>0.845238</td>\n",
       "      <td>0.875000</td>\n",
       "      <td>0.125000</td>\n",
       "      <td>0.154762</td>\n",
       "      <td>0.855422</td>\n",
       "      <td>0.865979</td>\n",
       "    </tr>\n",
       "    <tr>\n",
       "      <th>3</th>\n",
       "      <td>Bosques Aleatorios</td>\n",
       "      <td>0.855556</td>\n",
       "      <td>0.144444</td>\n",
       "      <td>0.898734</td>\n",
       "      <td>0.821782</td>\n",
       "      <td>0.178218</td>\n",
       "      <td>0.101266</td>\n",
       "      <td>0.797753</td>\n",
       "      <td>0.912088</td>\n",
       "    </tr>\n",
       "  </tbody>\n",
       "</table>\n",
       "</div>"
      ],
      "text/plain": [
       "               Modelo  Precisión Global  Error Global  \\\n",
       "0           Mejor KNN          0.875556      0.124444   \n",
       "1            Mejor AD          0.861111      0.138889   \n",
       "2     Consenso Propio          0.861111      0.138889   \n",
       "3  Bosques Aleatorios          0.855556      0.144444   \n",
       "\n",
       "   Precisión Positiva (PP)  Precisión Negativa (PN)  \\\n",
       "0                 0.842975                 0.913462   \n",
       "1                 0.908163                 0.804878   \n",
       "2                 0.845238                 0.875000   \n",
       "3                 0.898734                 0.821782   \n",
       "\n",
       "   Proporción de Falsos Positivos (PFP)  Proporción de Falsos Negativos (PFN)  \\\n",
       "0                              0.086538                              0.157025   \n",
       "1                              0.195122                              0.091837   \n",
       "2                              0.125000                              0.154762   \n",
       "3                              0.178218                              0.101266   \n",
       "\n",
       "   Asertividad Positiva (AP)  Asertividad Negativa (AN)  \n",
       "0                   0.918919                   0.833333  \n",
       "1                   0.847619                   0.880000  \n",
       "2                   0.855422                   0.865979  \n",
       "3                   0.797753                   0.912088  "
      ]
     },
     "execution_count": 182,
     "metadata": {},
     "output_type": "execute_result"
    }
   ],
   "source": [
    "comparacion=comparacion.append(df_consenso,ignore_index=True)\n",
    "comparacion"
   ]
  },
  {
   "cell_type": "code",
   "execution_count": 168,
   "id": "e66f454a-027c-4373-983d-bfb85dc4df21",
   "metadata": {},
   "outputs": [],
   "source": [
    "comparacion.to_csv(\"comparacion_raisin_T5.csv\") ### Lo guardo para la siguiente tarea! :)"
   ]
  },
  {
   "cell_type": "markdown",
   "id": "8c2d31a1-3967-4ad7-a4ec-86bdc0ffe0b1",
   "metadata": {},
   "source": [
    "Tenemos un mejor comportamiento del método de `KNN` con respecto a los demás en términos de precisión global. \n",
    "El método de consenso da una precisión negativa que queda en segundo lugar, con respecto a la de `KNN`, pero arroja una mejor asertividad negativa por su parte. Sin embargo hay que tener cuidado con esto porque no en todos se utilizó el mismo train-test split. Lo ideal habría sido guardar estos splits desde el inicio en dataframes fijos. Lo haré para la siguiente tarea."
   ]
  },
  {
   "cell_type": "code",
   "execution_count": 183,
   "id": "36926264-dbac-4699-96fd-4b9c80c162e5",
   "metadata": {},
   "outputs": [],
   "source": [
    "pd.concat([X_train,pd.DataFrame(y_train)], axis=1).to_csv(\"X_train_raisin_T5.csv\")\n",
    "pd.concat([X_test,pd.DataFrame(y_test)], axis=1).to_csv(\"X_test_raisin_T5.csv\")"
   ]
  },
  {
   "cell_type": "markdown",
   "id": "e951e471-5d77-40f7-8af3-25c83dfcee72",
   "metadata": {},
   "source": [
    "Para finalizar, explicamos el código que hicimos para obtener la predicción usando la función $C(i)$. En primer lugar vea que tenemos guardadas las precisiones globales $PG_j$ para $j=0,1,2,3$."
   ]
  },
  {
   "cell_type": "code",
   "execution_count": 184,
   "id": "ed925804-1507-4f41-90ef-32a1d7bab2bd",
   "metadata": {},
   "outputs": [
    {
     "data": {
      "text/plain": [
       "[0.8333333333333334, 0.8194444444444444, 0.8958333333333334, 0.8125]"
      ]
     },
     "execution_count": 184,
     "metadata": {},
     "output_type": "execute_result"
    }
   ],
   "source": [
    "cp.PGs"
   ]
  },
  {
   "cell_type": "markdown",
   "id": "d1395318-ea45-4dd3-b842-c1d9d921bbb0",
   "metadata": {},
   "source": [
    "El Dataframe `predict_probs` tiene los valores de $M_j(h,i)$ para cada fila $i$, cada nombre $h$ y cada $j=0,1,2,3$."
   ]
  },
  {
   "cell_type": "code",
   "execution_count": 185,
   "id": "0acd0fc7-e013-444a-b5ba-445c677dc766",
   "metadata": {},
   "outputs": [
    {
     "data": {
      "text/html": [
       "<div>\n",
       "<style scoped>\n",
       "    .dataframe tbody tr th:only-of-type {\n",
       "        vertical-align: middle;\n",
       "    }\n",
       "\n",
       "    .dataframe tbody tr th {\n",
       "        vertical-align: top;\n",
       "    }\n",
       "\n",
       "    .dataframe thead th {\n",
       "        text-align: right;\n",
       "    }\n",
       "</style>\n",
       "<table border=\"1\" class=\"dataframe\">\n",
       "  <thead>\n",
       "    <tr style=\"text-align: right;\">\n",
       "      <th></th>\n",
       "      <th>M_0(Besni,.)</th>\n",
       "      <th>M_0(Kecimen,.)</th>\n",
       "      <th>M_1(Besni,.)</th>\n",
       "      <th>M_1(Kecimen,.)</th>\n",
       "      <th>M_2(Besni,.)</th>\n",
       "      <th>M_2(Kecimen,.)</th>\n",
       "      <th>M_3(Besni,.)</th>\n",
       "      <th>M_3(Kecimen,.)</th>\n",
       "    </tr>\n",
       "  </thead>\n",
       "  <tbody>\n",
       "    <tr>\n",
       "      <th>0</th>\n",
       "      <td>0.6</td>\n",
       "      <td>0.4</td>\n",
       "      <td>1.0</td>\n",
       "      <td>0.0</td>\n",
       "      <td>0.970586</td>\n",
       "      <td>0.029414</td>\n",
       "      <td>1.000000e+00</td>\n",
       "      <td>2.220446e-16</td>\n",
       "    </tr>\n",
       "    <tr>\n",
       "      <th>1</th>\n",
       "      <td>0.2</td>\n",
       "      <td>0.8</td>\n",
       "      <td>0.0</td>\n",
       "      <td>1.0</td>\n",
       "      <td>0.003155</td>\n",
       "      <td>0.996845</td>\n",
       "      <td>2.220446e-16</td>\n",
       "      <td>1.000000e+00</td>\n",
       "    </tr>\n",
       "    <tr>\n",
       "      <th>2</th>\n",
       "      <td>0.6</td>\n",
       "      <td>0.4</td>\n",
       "      <td>1.0</td>\n",
       "      <td>0.0</td>\n",
       "      <td>0.413902</td>\n",
       "      <td>0.586098</td>\n",
       "      <td>2.220446e-16</td>\n",
       "      <td>1.000000e+00</td>\n",
       "    </tr>\n",
       "    <tr>\n",
       "      <th>3</th>\n",
       "      <td>0.8</td>\n",
       "      <td>0.2</td>\n",
       "      <td>0.0</td>\n",
       "      <td>1.0</td>\n",
       "      <td>0.058999</td>\n",
       "      <td>0.941001</td>\n",
       "      <td>2.220446e-16</td>\n",
       "      <td>1.000000e+00</td>\n",
       "    </tr>\n",
       "    <tr>\n",
       "      <th>4</th>\n",
       "      <td>1.0</td>\n",
       "      <td>0.0</td>\n",
       "      <td>1.0</td>\n",
       "      <td>0.0</td>\n",
       "      <td>0.991867</td>\n",
       "      <td>0.008133</td>\n",
       "      <td>1.000000e+00</td>\n",
       "      <td>2.220446e-16</td>\n",
       "    </tr>\n",
       "    <tr>\n",
       "      <th>...</th>\n",
       "      <td>...</td>\n",
       "      <td>...</td>\n",
       "      <td>...</td>\n",
       "      <td>...</td>\n",
       "      <td>...</td>\n",
       "      <td>...</td>\n",
       "      <td>...</td>\n",
       "      <td>...</td>\n",
       "    </tr>\n",
       "    <tr>\n",
       "      <th>175</th>\n",
       "      <td>1.0</td>\n",
       "      <td>0.0</td>\n",
       "      <td>1.0</td>\n",
       "      <td>0.0</td>\n",
       "      <td>0.990876</td>\n",
       "      <td>0.009124</td>\n",
       "      <td>1.000000e+00</td>\n",
       "      <td>2.220446e-16</td>\n",
       "    </tr>\n",
       "    <tr>\n",
       "      <th>176</th>\n",
       "      <td>1.0</td>\n",
       "      <td>0.0</td>\n",
       "      <td>1.0</td>\n",
       "      <td>0.0</td>\n",
       "      <td>0.989383</td>\n",
       "      <td>0.010617</td>\n",
       "      <td>1.000000e+00</td>\n",
       "      <td>2.220446e-16</td>\n",
       "    </tr>\n",
       "    <tr>\n",
       "      <th>177</th>\n",
       "      <td>1.0</td>\n",
       "      <td>0.0</td>\n",
       "      <td>1.0</td>\n",
       "      <td>0.0</td>\n",
       "      <td>0.988598</td>\n",
       "      <td>0.011402</td>\n",
       "      <td>1.000000e+00</td>\n",
       "      <td>2.220446e-16</td>\n",
       "    </tr>\n",
       "    <tr>\n",
       "      <th>178</th>\n",
       "      <td>0.8</td>\n",
       "      <td>0.2</td>\n",
       "      <td>1.0</td>\n",
       "      <td>0.0</td>\n",
       "      <td>0.991686</td>\n",
       "      <td>0.008314</td>\n",
       "      <td>1.000000e+00</td>\n",
       "      <td>2.220446e-16</td>\n",
       "    </tr>\n",
       "    <tr>\n",
       "      <th>179</th>\n",
       "      <td>1.0</td>\n",
       "      <td>0.0</td>\n",
       "      <td>1.0</td>\n",
       "      <td>0.0</td>\n",
       "      <td>0.991867</td>\n",
       "      <td>0.008133</td>\n",
       "      <td>1.000000e+00</td>\n",
       "      <td>2.220446e-16</td>\n",
       "    </tr>\n",
       "  </tbody>\n",
       "</table>\n",
       "<p>180 rows × 8 columns</p>\n",
       "</div>"
      ],
      "text/plain": [
       "     M_0(Besni,.)  M_0(Kecimen,.)  M_1(Besni,.)  M_1(Kecimen,.)  M_2(Besni,.)  \\\n",
       "0             0.6             0.4           1.0             0.0      0.970586   \n",
       "1             0.2             0.8           0.0             1.0      0.003155   \n",
       "2             0.6             0.4           1.0             0.0      0.413902   \n",
       "3             0.8             0.2           0.0             1.0      0.058999   \n",
       "4             1.0             0.0           1.0             0.0      0.991867   \n",
       "..            ...             ...           ...             ...           ...   \n",
       "175           1.0             0.0           1.0             0.0      0.990876   \n",
       "176           1.0             0.0           1.0             0.0      0.989383   \n",
       "177           1.0             0.0           1.0             0.0      0.988598   \n",
       "178           0.8             0.2           1.0             0.0      0.991686   \n",
       "179           1.0             0.0           1.0             0.0      0.991867   \n",
       "\n",
       "     M_2(Kecimen,.)  M_3(Besni,.)  M_3(Kecimen,.)  \n",
       "0          0.029414  1.000000e+00    2.220446e-16  \n",
       "1          0.996845  2.220446e-16    1.000000e+00  \n",
       "2          0.586098  2.220446e-16    1.000000e+00  \n",
       "3          0.941001  2.220446e-16    1.000000e+00  \n",
       "4          0.008133  1.000000e+00    2.220446e-16  \n",
       "..              ...           ...             ...  \n",
       "175        0.009124  1.000000e+00    2.220446e-16  \n",
       "176        0.010617  1.000000e+00    2.220446e-16  \n",
       "177        0.011402  1.000000e+00    2.220446e-16  \n",
       "178        0.008314  1.000000e+00    2.220446e-16  \n",
       "179        0.008133  1.000000e+00    2.220446e-16  \n",
       "\n",
       "[180 rows x 8 columns]"
      ]
     },
     "execution_count": 185,
     "metadata": {},
     "output_type": "execute_result"
    }
   ],
   "source": [
    "cp.predict_probs"
   ]
  },
  {
   "cell_type": "markdown",
   "id": "251eb58a-d9e5-4ffe-9686-2c87ae8a192e",
   "metadata": {},
   "source": [
    "Claramente, ahora lo que tenemos que hacer es ir sobre cada fila $i$, calcular $\\sum_{j=0}^3 p_jM_j(h,i)$ para cada nombre $h$ y luego ver cuál es el nombre $h$ que maximiza esta suma. Veamos el ejemplo con la fila $0$."
   ]
  },
  {
   "cell_type": "code",
   "execution_count": 186,
   "id": "02f215a4-5d11-4fb4-a006-87273db8c5ce",
   "metadata": {},
   "outputs": [
    {
     "data": {
      "text/plain": [
       "M_0(Besni,.)      6.000000e-01\n",
       "M_0(Kecimen,.)    4.000000e-01\n",
       "M_1(Besni,.)      1.000000e+00\n",
       "M_1(Kecimen,.)    0.000000e+00\n",
       "M_2(Besni,.)      9.705858e-01\n",
       "M_2(Kecimen,.)    2.941421e-02\n",
       "M_3(Besni,.)      1.000000e+00\n",
       "M_3(Kecimen,.)    2.220446e-16\n",
       "Name: 0, dtype: float64"
      ]
     },
     "execution_count": 186,
     "metadata": {},
     "output_type": "execute_result"
    }
   ],
   "source": [
    "row=cp.predict_probs.iloc[0]\n",
    "row"
   ]
  },
  {
   "cell_type": "code",
   "execution_count": 187,
   "id": "71ba40d7-79db-4259-bb65-16b4615d02c1",
   "metadata": {},
   "outputs": [
    {
     "name": "stdout",
     "output_type": "stream",
     "text": [
      "['Besni', 'Kecimen']\n",
      "Los valores de la suma para cada nombre fueron: [0.8929867077531465, 0.10701329224685358].\n",
      "Por tanto al final la predicción para esta fila es 'Besni'.\n"
     ]
    }
   ],
   "source": [
    "nombres=cp.nombres\n",
    "print(nombres)\n",
    "vals=[]\n",
    "for nombre in nombres:\n",
    "    vals.append((1/sum(cp.PGs))*(sum([cp.PGs[i]*row[f'M_{i}({nombre},.)'] for i in range(0,4)])))\n",
    "print(f\"Los valores de la suma para cada nombre fueron: {vals}.\")\n",
    "print(f\"Por tanto al final la predicción para esta fila es '{nombres[vals.index(max(vals))]}'.\")"
   ]
  },
  {
   "cell_type": "markdown",
   "id": "11fc7a4b-04fd-4c7d-866f-92aa5b3ec793",
   "metadata": {},
   "source": [
    "Por tanto esta fila será clasificada como 'Besni'."
   ]
  }
 ],
 "metadata": {
  "kernelspec": {
   "display_name": "Python 3 (ipykernel)",
   "language": "python",
   "name": "python3"
  },
  "language_info": {
   "codemirror_mode": {
    "name": "ipython",
    "version": 3
   },
   "file_extension": ".py",
   "mimetype": "text/x-python",
   "name": "python",
   "nbconvert_exporter": "python",
   "pygments_lexer": "ipython3",
   "version": "3.9.8"
  }
 },
 "nbformat": 4,
 "nbformat_minor": 5
}
